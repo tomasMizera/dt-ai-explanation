{
 "cells": [
  {
   "cell_type": "markdown",
   "metadata": {},
   "source": [
    "Prototype of model explanation via LIME with help of extractive summary\n",
    "---\n",
    "\n",
    "---"
   ]
  },
  {
   "cell_type": "code",
   "execution_count": 1,
   "metadata": {},
   "outputs": [],
   "source": [
    "import numpy as np\n",
    "\n",
    "import tensorflow_datasets as tfds\n",
    "import tensorflow as tf\n",
    "from tensorflow import keras\n",
    "\n",
    "import time\n",
    "\n",
    "tfds.disable_progress_bar()"
   ]
  },
  {
   "cell_type": "code",
   "execution_count": 2,
   "metadata": {},
   "outputs": [],
   "source": [
    "now = time.strftime(\"%Y-%m-%d_%H:%M\")"
   ]
  },
  {
   "cell_type": "code",
   "execution_count": 3,
   "metadata": {},
   "outputs": [
    {
     "name": "stdout",
     "output_type": "stream",
     "text": [
      "[{<ipython-input-3-d59e77e64a5c>:14} CRITICAL - Logging LIME with new TF model\n"
     ]
    }
   ],
   "source": [
    "import logging\n",
    "import sys\n",
    "\n",
    "logging.basicConfig(\n",
    "    level=logging.DEBUG, \n",
    "    format='[{%(filename)s:%(lineno)d} %(levelname)s - %(message)s',\n",
    "    handlers=[\n",
    "        logging.FileHandler(filename=f'../../data/logs/v1-{now}.log'),\n",
    "        logging.StreamHandler(sys.stdout)\n",
    "    ]\n",
    ")\n",
    "\n",
    "l = logging.getLogger('prototype')\n",
    "l.critical(\"Logging LIME with new TF model\")"
   ]
  },
  {
   "cell_type": "markdown",
   "metadata": {},
   "source": [
    "---"
   ]
  },
  {
   "cell_type": "markdown",
   "metadata": {},
   "source": [
    "Model-related\n",
    "---"
   ]
  },
  {
   "cell_type": "code",
   "execution_count": 4,
   "metadata": {},
   "outputs": [],
   "source": [
    "def load_model():\n",
    "    \"\"\"\n",
    "    Define a function that loads a model to be explained and returns its instance\n",
    "    \"\"\"\n",
    "    \n",
    "    return keras.models.load_model(\"../../raw-data/lstm-model-sigmoid\")    "
   ]
  },
  {
   "cell_type": "code",
   "execution_count": 5,
   "metadata": {},
   "outputs": [
    {
     "name": "stdout",
     "output_type": "stream",
     "text": [
      "[{<ipython-input-5-b2e056f55d37>:2} INFO - Model loaded\n"
     ]
    }
   ],
   "source": [
    "model = load_model()\n",
    "l.info(\"Model loaded\")"
   ]
  },
  {
   "cell_type": "code",
   "execution_count": 6,
   "metadata": {},
   "outputs": [
    {
     "data": {
      "text/plain": [
       "array([[0.0706619]], dtype=float32)"
      ]
     },
     "execution_count": 6,
     "metadata": {},
     "output_type": "execute_result"
    }
   ],
   "source": [
    "model.predict([\"hahahahahahahahahaha this is the most boring film I have ever seen\"])"
   ]
  },
  {
   "cell_type": "code",
   "execution_count": 7,
   "metadata": {},
   "outputs": [
    {
     "name": "stdout",
     "output_type": "stream",
     "text": [
      "WARNING:tensorflow:From <ipython-input-7-598b0595b113>:1: Sequential.predict_proba (from tensorflow.python.keras.engine.sequential) is deprecated and will be removed after 2021-01-01.\n",
      "Instructions for updating:\n",
      "Please use `model.predict()` instead.\n",
      "[{deprecation.py:317} WARNING - From <ipython-input-7-598b0595b113>:1: Sequential.predict_proba (from tensorflow.python.keras.engine.sequential) is deprecated and will be removed after 2021-01-01.\n",
      "Instructions for updating:\n",
      "Please use `model.predict()` instead.\n"
     ]
    },
    {
     "data": {
      "text/plain": [
       "array([[0.948632]], dtype=float32)"
      ]
     },
     "execution_count": 7,
     "metadata": {},
     "output_type": "execute_result"
    }
   ],
   "source": [
    "model.predict_proba([\"hahahahahahahahahaha this is the funniest film I have ever seen\"])\n",
    "# Even though model has function `predict_proba`, it is not sufficient for LIME\n",
    "# LIME expects this predict_proba function to return probability for each of the predicted classes"
   ]
  },
  {
   "cell_type": "markdown",
   "metadata": {},
   "source": [
    "---"
   ]
  },
  {
   "cell_type": "markdown",
   "metadata": {},
   "source": [
    "Explanation\n",
    "---"
   ]
  },
  {
   "cell_type": "markdown",
   "metadata": {},
   "source": [
    "#### 1. Preparation"
   ]
  },
  {
   "cell_type": "code",
   "execution_count": 8,
   "metadata": {},
   "outputs": [],
   "source": [
    "from lime import lime_text\n",
    "\n",
    "from sumy.parsers.plaintext import PlaintextParser\n",
    "from sumy.nlp.tokenizers import Tokenizer\n",
    "from sumy.nlp.stemmers import Stemmer\n",
    "from sumy.utils import get_stop_words\n",
    "from sumy.summarizers.text_rank import TextRankSummarizer\n",
    "\n",
    "import os\n",
    "\n",
    "from functools import reduce"
   ]
  },
  {
   "cell_type": "code",
   "execution_count": 39,
   "metadata": {},
   "outputs": [],
   "source": [
    "INPUT_DIR = \"/home/tomasmizera/school/diploma/src/data/reviews\"\n",
    "\n",
    "LANGUAGE = \"english\"\n",
    "SENTENCES_COUNT = 6\n",
    "TOP_FEATURES_COUNT = 100\n",
    "\n",
    "EXPL_IX = 1\n",
    "SUMMARY_IX = 0"
   ]
  },
  {
   "cell_type": "code",
   "execution_count": 10,
   "metadata": {},
   "outputs": [],
   "source": [
    "summarizer = TextRankSummarizer(Stemmer(LANGUAGE))\n",
    "summarizer.stop_words = get_stop_words('english')"
   ]
  },
  {
   "cell_type": "code",
   "execution_count": 11,
   "metadata": {},
   "outputs": [],
   "source": [
    "explanator = lime_text.LimeTextExplainer(class_names=['positive', 'negative'])"
   ]
  },
  {
   "cell_type": "markdown",
   "metadata": {},
   "source": [
    "---"
   ]
  },
  {
   "cell_type": "markdown",
   "metadata": {},
   "source": [
    "### 2. Execution"
   ]
  },
  {
   "cell_type": "code",
   "execution_count": 12,
   "metadata": {},
   "outputs": [
    {
     "name": "stdout",
     "output_type": "stream",
     "text": [
      "[{<ipython-input-12-9e84a1d64b6b>:1} INFO - Starting an algorithm\n"
     ]
    }
   ],
   "source": [
    "l.info(\"Starting an algorithm\")"
   ]
  },
  {
   "cell_type": "code",
   "execution_count": 13,
   "metadata": {},
   "outputs": [],
   "source": [
    "# define a decorator to log execusion time\n",
    "# inspired by https://medium.com/pythonhive/python-decorator-to-measure-the-execution-time-of-methods-fa04cb6bb36d\n",
    "\n",
    "def timeit(method):\n",
    "    def timed(*args, **kw):\n",
    "        timed.calls += 1\n",
    "        ts = time.time()\n",
    "        result = method(*args, **kw)\n",
    "        te = time.time()\n",
    "        timed.time_taken += (te - ts) * 1000\n",
    "        return result\n",
    "    timed.calls = 0\n",
    "    timed.time_taken = 0\n",
    "    return timed"
   ]
  },
  {
   "cell_type": "code",
   "execution_count": 14,
   "metadata": {},
   "outputs": [],
   "source": [
    "# @timeit # for LIME it is called once and for this model takes around 150ms with logging\n",
    "def _predict_proba(_input):\n",
    "    \"\"\"\n",
    "    Define a function that accepts array of instances and returns a probability for each class \n",
    "    _input - 1d array of instances\n",
    "    Returns 2d array of [num of instances] x [num of classes] with probabilities\n",
    "    \"\"\"\n",
    "    prediction = model.predict( _input )\n",
    "    \n",
    "    return np.append(prediction, 1 - prediction, axis=1)"
   ]
  },
  {
   "cell_type": "code",
   "execution_count": 15,
   "metadata": {},
   "outputs": [],
   "source": [
    "def _explain_instance(_file, _explanator):\n",
    "    explanation = _explanator.explain_instance(_file, _predict_proba, num_features=TOP_FEATURES_COUNT)\n",
    "#     l.info('_predict_proba took:  %2.2f ms' % \\\n",
    "#                   (_predict_proba.time_taken))\n",
    "#     l.info(f'_predict_proba called {_predict_proba.calls} times')\n",
    "#     _predict_proba.calls = 0\n",
    "#     _predict_proba.time_taken = 0\n",
    "    \n",
    "    return explanation"
   ]
  },
  {
   "cell_type": "markdown",
   "metadata": {},
   "source": [
    "**Some examples of perturbed text**: \\[ ..., ' great hm', ' great ', ' great hm', '  hm', '  ', '  hm', '  ', '  ', '  ', '  ', 'not great ', '  ', '  hm', '  ', '  ', 'not great ', '  ', ' great ', ' great ', '  hm', '  ', ' great ', 'not  hm', ' great hm', ' great ', ' great hm', '  hm', 'not  ', '  hm', 'not  ', ' great hm', 'not great ', ' great ', '  ', '  ', '  hm', '  ', '  ', '  ', 'not  hm', 'not  ', 'not great ', 'not  hm', 'not  hm', 'not great ', 'not  hm', '  ', ' great ', '  ', '  hm', 'not  hm', '  ', '  ', ' great ', '  ', '  ', ' great ', 'not  ', 'not  hm', ' great ', 'not  ', 'not  ', 'not  hm', 'not  ', '  ', 'not great ', '  hm', ' great hm', '  hm', '  ', '  ', 'not  hm', '  hm', 'not  ', '  ', ' great hm', 'not  ', ' great hm', 'not  hm', 'not  ', 'not  hm', '  ', ' great ', '  hm', ' great ', 'not  hm', 'not  ', 'not  ', ' great hm', 'not  hm', '  hm', '  hm', ' great ', '  ', 'not great ', '  hm', 'not great ', '  ', '  ', 'not  hm', 'not great ', '  ', '  ', ' great hm', 'not  hm', 'not  hm', ' great ', ' great hm', '  ', 'not  hm', ' great ', '  hm', ' great ', 'not great ', '  ', '  ', ' great hm', ' great hm', '  ', ' great ', 'not  hm', ' great ', 'not  ', ' great ', 'not great ', ' great ', 'not  ', 'not great ', '  ', '  ', '  ', 'not  ', ' great hm', ' great hm', '  ', '  ', 'not great ', '  ', '  ', 'not  ', ' great ', ' great ', 'not great ', '  ', '  ', '  ', '  ', '  ', '  ', '  hm', '  hm', 'not  ', 'not  hm', 'not  ', '  ', ' great ', '  hm', ' great hm', '  ', '  ', '  ', ' great hm', '  ', '  ', 'not  hm', '  ', ' great hm', ' great hm', ' great ', '  ', '  ', 'not  ', '  ', 'not  ', ' great hm', 'not great ', ' great hm', 'not  hm', 'not great ', 'not  ', 'not great ', '  ', 'not great ', '  hm', 'not  ', ' great ', '  ', '  ', ' great ', '  hm', 'not  ', 'not  ', 'not  ', '  ', ' great hm', ' great hm', ' great ', ' great ', 'not great ', ' great ', '  ', 'not great ', 'not great ', '  ', 'not  ', ' great ', ' great ', '  ', '  ', ' great ', 'not  ', ' great ', '  ', '  ', ' great ', 'not  hm', 'not  ', '  ', 'not great ', '  ', '  ', '  ', 'not great ', 'not great ', '  ', '  hm', '  hm', 'not  hm', 'not great ', ' great ', 'not  ', '  ', 'not  hm', 'not great ', 'not  ', 'not great ', 'not  hm', 'not  ', 'not  hm', ' great hm', ' great ', '  hm', '  ', '  hm', '  ', 'not  ', ' great ', '  ', '  hm', 'not  hm', 'not great ', '  ', '  ', ' great ', '  ', '  ', 'not  ', 'not  ', ' great ', '  ', 'not  hm', '  ', ' great hm', '  ', '  ', '  ', ' great ', ' great ', ' great ', ' great ', ' great ', '  hm', 'not  ', ' great ', 'not  hm', '  ', ' great hm', 'not great ', '  hm', '  hm', 'not  hm', 'not  ', 'not great ', '  ', '  ', '  ', 'not  ', '  ', ' great ', '  ', 'not great ', '  ', 'not  ', '  ', '  hm', ' great ', '  ', 'not  ', ' great hm', '  ', ' great ', 'not great ', '  ']"
   ]
  },
  {
   "cell_type": "code",
   "execution_count": 16,
   "metadata": {},
   "outputs": [],
   "source": [
    "def input_from_files(path_to_files):\n",
    "    \"\"\"\n",
    "    Loads all readable files in path_to_files directory\n",
    "    Returns np.array with each files content as a separate element\n",
    "    \"\"\"\n",
    "    \n",
    "    def _read_text_file(filepath):\n",
    "        with open(filepath, 'r') as f:\n",
    "            return reduce(lambda a, b: a + b, f.readlines())\n",
    "    \n",
    "    files_it = os.scandir(path_to_files)\n",
    "    files_contents = {}\n",
    "    \n",
    "    for file in files_it:\n",
    "        if file.is_file(): \n",
    "            files_contents[file.name] = _read_text_file(file.path)\n",
    "        \n",
    "    return files_contents"
   ]
  },
  {
   "cell_type": "code",
   "execution_count": 17,
   "metadata": {},
   "outputs": [],
   "source": [
    "npInput = input_from_files(INPUT_DIR)"
   ]
  },
  {
   "cell_type": "code",
   "execution_count": 18,
   "metadata": {},
   "outputs": [],
   "source": [
    "def _summarize_doc_custom(_summarizer, _instance, _explanation):\n",
    "    \"\"\"\n",
    "    Returns summary with altered weights based on explanation\n",
    "    _summarizer - summy summarizer instance\n",
    "    _instance - instance content string\n",
    "    _explanation - LIME explanation\n",
    "    \"\"\"\n",
    "    \n",
    "    def _create_weight_graph(_summarizer, _instance_doc):\n",
    "        return _summarizer.rate_sentences(_instance_doc)\n",
    "    \n",
    "    def _count_factor(_sentence, _explanation_words_weight) -> float: # returns boosting factor for sentence\n",
    "        factor = 1.0\n",
    "        exp_words = list(map(lambda x: x[0], _explanation_words_weight))\n",
    "        for word in _sentence.words:\n",
    "            if word in exp_words:\n",
    "                factor += abs(_explanation_words_weight[exp_words.index(word)][1]) # TODO: apply factor scaling rather HERE than when returning! \n",
    "        return factor, 10 ** factor # factor * 3 if factor != 1 else factor # TODO: Parameter tuning for factor scale\n",
    "    \n",
    "    parser = PlaintextParser.from_string(_instance, Tokenizer(LANGUAGE))\n",
    "    graph = _create_weight_graph(_summarizer, parser.document)\n",
    "    \n",
    "    for sentence in graph.keys():\n",
    "        basic, factor = _count_factor(sentence, _explanation.as_list())\n",
    "#         l.info(\"IX: Sentence \" + str(sentence)[:20] + \" previous weight: \" + str(graph[sentence]) + \" bf: \" + str(basic) + \" cf: \" + str(factor) + \" new weight: \" + str(graph[sentence] * factor))\n",
    "        graph[sentence] = graph[sentence] * factor \n",
    "        \n",
    "    resulting_summary = _summarizer._get_best_sentences(parser.document.sentences, SENTENCES_COUNT, graph)\n",
    "    \n",
    "    return resulting_summary"
   ]
  },
  {
   "cell_type": "code",
   "execution_count": 19,
   "metadata": {},
   "outputs": [],
   "source": [
    "def _summary_to_string(_summary):\n",
    "    if len(_summary) <= 0:\n",
    "        return \"\"\n",
    "    \n",
    "    summary_str = str(_summary[0])\n",
    "    i = 1\n",
    "    \n",
    "    while(i < len(_summary)):\n",
    "        summary_str += ' ' + str(_summary[i])\n",
    "        i += 1\n",
    "        \n",
    "    return summary_str"
   ]
  },
  {
   "cell_type": "code",
   "execution_count": 20,
   "metadata": {},
   "outputs": [],
   "source": [
    "def create_explanation_summaries(_instance_map, _explanator, _summarizer):\n",
    "    \"\"\"\n",
    "    Returns summaries for all input elements\n",
    "    _instance_map - map containing instance name and its content\n",
    "    _explanator - LIME explanator instance\n",
    "    _summarizer - summy summarizer instance\n",
    "    \"\"\"\n",
    "    \n",
    "    summaries = {}\n",
    "    \n",
    "    for instance in _instance_map.keys():\n",
    "        explanation = _explain_instance(_instance_map[instance], _explanator)\n",
    "        summary = _summarize_doc_custom(_summarizer, _instance_map[instance], explanation)\n",
    "        summaries[instance] = (_summary_to_string(summary), explanation.as_list())\n",
    "\n",
    "    return summaries"
   ]
  },
  {
   "cell_type": "code",
   "execution_count": 21,
   "metadata": {},
   "outputs": [],
   "source": [
    "def create_simple_summaries(_instance_map, _summarizer):\n",
    "    \"\"\"\n",
    "    Returns summaries for all input instances\n",
    "    _instance_map - map containing instance name and its content\n",
    "    _summarizer - summy summarizer instance\n",
    "    \"\"\"\n",
    "    \n",
    "    summaries = {}\n",
    "    \n",
    "    for instance in _instance_map.keys():\n",
    "        _parser = PlaintextParser.from_string(_instance_map[instance], Tokenizer(LANGUAGE))\n",
    "        summaries[instance] = _summary_to_string(_summarizer(_parser.document, SENTENCES_COUNT))\n",
    "    \n",
    "    return summaries"
   ]
  },
  {
   "cell_type": "code",
   "execution_count": 22,
   "metadata": {},
   "outputs": [],
   "source": [
    "explanation_sums = create_explanation_summaries(npInput, explanator, summarizer);"
   ]
  },
  {
   "cell_type": "code",
   "execution_count": 23,
   "metadata": {},
   "outputs": [],
   "source": [
    "simple_sums = create_simple_summaries(npInput, summarizer);"
   ]
  },
  {
   "cell_type": "markdown",
   "metadata": {},
   "source": [
    "Summary visualization\n",
    "---\n",
    "\n",
    "---"
   ]
  },
  {
   "cell_type": "code",
   "execution_count": 162,
   "metadata": {},
   "outputs": [],
   "source": [
    "import re\n",
    "import matplotlib.pyplot as plt\n",
    "from IPython.core.display import display, HTML\n",
    "\n",
    "def highlight_summary(_summary, _class_names = None, _title = None):\n",
    "    \"\"\"\n",
    "    Highlights important words from LIME explanation\n",
    "    Display content immediately and do not return anything\n",
    "    \"\"\"\n",
    "\n",
    "    colors = {}\n",
    "    colors[0] = '16,171,232' # blue\n",
    "    colors[1] = '199,175,16' # yellow-ish\n",
    "    \n",
    "    start_highlight_tag = lambda col, a: f'<mark style=\"background-color:rgba({colors[col]},{a})\">'\n",
    "    end_highlight_tag = '</mark>'\n",
    "    \n",
    "    raw_text = _summary[SUMMARY_IX]\n",
    "    important_words_weights = _summary[EXPL_IX]\n",
    "    important_words = list(map(lambda x: x[0], important_words_weights))\n",
    "    maxv = round(abs(important_words_weights[0][1]), 5)\n",
    "    minv = round(abs(important_words_weights[-1][1]), 5) # Here take abs for alpha calculations\n",
    "    \n",
    "    weights = list(map(lambda x: x[1], important_words_weights))\n",
    "    max_positive = round(abs(max(weights)), 5)\n",
    "    max_negative = round(abs(min(weights)), 5)\n",
    "    \n",
    "    title = \"<h2>Summary</h2>\"\n",
    "    if _title is not None:\n",
    "        title = f'<h2>Summary: {_title}</h2>'\n",
    "\n",
    "    legend = \"\"\n",
    "    if _class_names is not None:\n",
    "        legend = \"<h4>Legend</h4>\"\n",
    "        legend += f'<span style=\"color:rgb({colors[0]});font-weight:bold\">' + _class_names[0] + \"</span><br>\"\n",
    "        legend += f'{max_positive} <canvas width=\"200\" height=\"10\" style=\"border:1px solid #000000; background-image: linear-gradient(to left, rgba({colors[0]},0), rgba({colors[0]},1));\"></canvas> 0.00'\n",
    "        legend += \"<br>\"\n",
    "        legend += f'<span style=\"color:rgb({colors[1]});font-weight:bold\">' + _class_names[1] + \"</span><br>\"\n",
    "        legend += f'{max_negative} <canvas width=\"200\" height=\"10\" style=\"border:1px solid #000000; background-image: linear-gradient(to left, rgba({colors[1]},0), rgba({colors[1]},1));\"></canvas> 0.00'\n",
    "        legend += \"\"\n",
    "    \n",
    "    # TODO: maybe ignore words that has way too low weight?\n",
    "    \n",
    "    for ix, word in enumerate(important_words):\n",
    "        # normalize alpha to 0, 1\n",
    "        wx = important_words_weights[ix][1]\n",
    "        col = 0 if wx >= 0 else 1\n",
    "        alpha = (abs(wx) - minv) / (maxv - minv) # consider weights as positive due to alpha\n",
    "        \n",
    "        # https://regex101.com/r/nNu7Rs/1\n",
    "        pattern = r'(?<![><(=\")\\/])\\b(' + word + r')\\b(?!(:rgba)|(=\"back))'\n",
    "        \n",
    "        if word.isnumeric():\n",
    "            # https://regex101.com/r/ZP4VV1/1\n",
    "            pattern = r'(?<!\\(|,)\\b' + word + r'\\b(?!\\)|,)'\n",
    "            \n",
    "        \n",
    "        raw_text = re.sub(pattern, start_highlight_tag(col, alpha) + word + end_highlight_tag, raw_text, flags=re.I)\n",
    "    \n",
    "        \n",
    "    result = title + legend + '<h3>Text</h3>' + raw_text + '<p style=\"margin-bottom:1cm;\"></p>'\n",
    "    # add legend\n",
    "    display(HTML(result))\n",
    "    print(important_words_weights)"
   ]
  },
  {
   "cell_type": "code",
   "execution_count": 168,
   "metadata": {},
   "outputs": [
    {
     "data": {
      "text/html": [
       "<h2>Summary: review-top.txt</h2><h4>Legend</h4><span style=\"color:rgb(16,171,232);font-weight:bold\">Positive</span><br>0.19129 <canvas width=\"200\" height=\"10\" style=\"border:1px solid #000000; background-image: linear-gradient(to left, rgba(16,171,232,0), rgba(16,171,232,1));\"></canvas> 0.00<br><span style=\"color:rgb(199,175,16);font-weight:bold\">Negative</span><br>0.12105 <canvas width=\"200\" height=\"10\" style=\"border:1px solid #000000; background-image: linear-gradient(to left, rgba(199,175,16,0), rgba(199,175,16,1));\"></canvas> 0.00<h3>Text</h3>“<mark style=\"background-color:rgba(199,175,16,0.6211920149628439)\">Ma</mark> <mark style=\"background-color:rgba(16,171,232,0.2594584300532687)\">Rainey</mark>’<mark style=\"background-color:rgba(16,171,232,0.4200261441768318)\">s</mark> <mark style=\"background-color:rgba(199,175,16,0.07072473856071547)\">Black</mark> <mark style=\"background-color:rgba(16,171,232,0.34740346804770295)\">Bottom</mark>” <mark style=\"background-color:rgba(199,175,16,0.21093007396426067)\">is</mark> <mark style=\"background-color:rgba(199,175,16,0.0036230090366307)\">a</mark> <mark style=\"background-color:rgba(199,175,16,0.3448261819331741)\">celebration</mark> <mark style=\"background-color:rgba(16,171,232,0.053741192809984344)\">of</mark> <mark style=\"background-color:rgba(16,171,232,0.14031643855678685)\">three</mark> <mark style=\"background-color:rgba(16,171,232,0.01825039977701876)\">real</mark>-<mark style=\"background-color:rgba(199,175,16,0.4502736629615165)\">life</mark> <mark style=\"background-color:rgba(199,175,16,0.07072473856071547)\">Black</mark> <mark style=\"background-color:rgba(16,171,232,0.01050371181791009)\">artists</mark> <mark style=\"background-color:rgba(199,175,16,0.39768214477356617)\">and</mark> <mark style=\"background-color:rgba(16,171,232,0.08746628354117393)\">legends</mark>. <mark style=\"background-color:rgba(199,175,16,0.13548320513743795)\">There</mark>’<mark style=\"background-color:rgba(16,171,232,0.4200261441768318)\">s</mark> <mark style=\"background-color:rgba(199,175,16,0.1769162277210862)\">the</mark> <mark style=\"background-color:rgba(199,175,16,0.2879811717561693)\">Blues</mark> <mark style=\"background-color:rgba(199,175,16,0.17051901646526588)\">singer</mark>, <mark style=\"background-color:rgba(199,175,16,0.3117924518390826)\">often</mark> <mark style=\"background-color:rgba(199,175,16,0.49169104049403956)\">referred</mark> <mark style=\"background-color:rgba(16,171,232,0.1639605793944563)\">to</mark> <mark style=\"background-color:rgba(199,175,16,0.10868791168535984)\">as</mark> <mark style=\"background-color:rgba(199,175,16,0.1769162277210862)\">the</mark> “<mark style=\"background-color:rgba(199,175,16,0.2867451460046232)\">Mother</mark> <mark style=\"background-color:rgba(16,171,232,0.053741192809984344)\">of</mark> <mark style=\"background-color:rgba(199,175,16,0.1769162277210862)\">the</mark> <mark style=\"background-color:rgba(199,175,16,0.2879811717561693)\">Blues</mark>,” <mark style=\"background-color:rgba(199,175,16,0.18155309201748243)\">whose</mark> <mark style=\"background-color:rgba(16,171,232,0.2350791174507408)\">name</mark> <mark style=\"background-color:rgba(199,175,16,0.39768214477356617)\">and</mark> <mark style=\"background-color:rgba(16,171,232,0.15980622266047467)\">song</mark> <mark style=\"background-color:rgba(199,175,16,0.11400503667235076)\">give</mark> <mark style=\"background-color:rgba(199,175,16,0.1769162277210862)\">the</mark> <mark style=\"background-color:rgba(199,175,16,0.034915777508126807)\">film</mark> <mark style=\"background-color:rgba(199,175,16,0.048364193546334235)\">its</mark> <mark style=\"background-color:rgba(16,171,232,0.019504443104560548)\">title</mark>. <mark style=\"background-color:rgba(199,175,16,0.13548320513743795)\">There</mark>’<mark style=\"background-color:rgba(16,171,232,0.4200261441768318)\">s</mark> <mark style=\"background-color:rgba(199,175,16,0.1769162277210862)\">the</mark> <mark style=\"background-color:rgba(16,171,232,0.04379194812018768)\">author</mark>, <mark style=\"background-color:rgba(199,175,16,0.00027077670621087187)\">August</mark> <mark style=\"background-color:rgba(16,171,232,0.1228835754451043)\">Wilson</mark> <mark style=\"background-color:rgba(199,175,16,0.022971452909868736)\">who</mark>, <mark style=\"background-color:rgba(199,175,16,0.5179199357124734)\">inspired</mark> by <mark style=\"background-color:rgba(16,171,232,0.2594584300532687)\">Rainey</mark> <mark style=\"background-color:rgba(199,175,16,0.39768214477356617)\">and</mark> <mark style=\"background-color:rgba(199,175,16,0.1769162277210862)\">the</mark> <mark style=\"background-color:rgba(199,175,16,0.15612786769447906)\">era</mark> <mark style=\"background-color:rgba(199,175,16,0.0031890176391129316)\">she</mark> <mark style=\"background-color:rgba(16,171,232,0.20853201176451747)\">found</mark> <mark style=\"background-color:rgba(16,171,232,0.01638847119293035)\">fame</mark> <mark style=\"background-color:rgba(199,175,16,0.12147119722233676)\">in</mark>, <mark style=\"background-color:rgba(199,175,16,0.21555690779013162)\">crafted</mark> <mark style=\"background-color:rgba(199,175,16,0.3475879410560384)\">His</mark> <mark style=\"background-color:rgba(199,175,16,0.06532151171856794)\">1984</mark> play <mark style=\"background-color:rgba(16,171,232,0.04156002826775999)\">around</mark> her <mark style=\"background-color:rgba(199,175,16,0.22602547747050192)\">larger</mark>-<mark style=\"background-color:rgba(199,175,16,0.016581322491095864)\">than</mark>-<mark style=\"background-color:rgba(199,175,16,0.4502736629615165)\">life</mark> persona. <mark style=\"background-color:rgba(199,175,16,0.39768214477356617)\">and</mark> <mark style=\"background-color:rgba(199,175,16,0.13548320513743795)\">There</mark>’<mark style=\"background-color:rgba(16,171,232,0.4200261441768318)\">s</mark> Chadwick <mark style=\"background-color:rgba(16,171,232,0.19749910103138096)\">Boseman</mark>, <mark style=\"background-color:rgba(16,171,232,4.257188539070714e-06)\">taken</mark> <mark style=\"background-color:rgba(199,175,16,0.007930094527356825)\">from</mark> <mark style=\"background-color:rgba(199,175,16,0.2061717161755636)\">us</mark> <mark style=\"background-color:rgba(16,171,232,0.04914718441849171)\">way</mark> <mark style=\"background-color:rgba(16,171,232,0.3699332488868589)\">too</mark> <mark style=\"background-color:rgba(16,171,232,0.017258097471488286)\">soon</mark>, <mark style=\"background-color:rgba(199,175,16,0.022971452909868736)\">who</mark> <mark style=\"background-color:rgba(16,171,232,0.08137942879073017)\">chose</mark> <mark style=\"background-color:rgba(16,171,232,0.09415404254107607)\">this</mark> <mark style=\"background-color:rgba(16,171,232,0.10441544432764197)\">difficult</mark> <mark style=\"background-color:rgba(16,171,232,0.511559654987943)\">material</mark> <mark style=\"background-color:rgba(16,171,232,0.1639605793944563)\">to</mark> play <mark style=\"background-color:rgba(199,175,16,0.16782642242719167)\">while</mark> <mark style=\"background-color:rgba(199,175,16,0.03530889313260232)\">living</mark> with <mark style=\"background-color:rgba(199,175,16,0.33992549751245626)\">cancer</mark>. We’<mark style=\"background-color:rgba(16,171,232,0.01388830413787449)\">ll</mark> <mark style=\"background-color:rgba(199,175,16,0.08923580318034353)\">never</mark> <mark style=\"background-color:rgba(199,175,16,0.1882446539951331)\">know</mark> <mark style=\"background-color:rgba(16,171,232,0.19309821318949585)\">if</mark> <mark style=\"background-color:rgba(16,171,232,0.19749910103138096)\">Boseman</mark> <mark style=\"background-color:rgba(199,175,16,0.05928090914115651)\">knew</mark> <mark style=\"background-color:rgba(16,171,232,0.09415404254107607)\">this</mark> <mark style=\"background-color:rgba(16,171,232,0.17934977419620796)\">would</mark> <mark style=\"background-color:rgba(16,171,232,0.20501436124725128)\">be</mark> <mark style=\"background-color:rgba(199,175,16,0.3475879410560384)\">His</mark> <mark style=\"background-color:rgba(16,171,232,0.013132517335167845)\">swan</mark> <mark style=\"background-color:rgba(16,171,232,0.15980622266047467)\">song</mark>; <mark style=\"background-color:rgba(199,175,16,0.1769162277210862)\">the</mark> <mark style=\"background-color:rgba(16,171,232,0.034243460455159434)\">fact</mark> that <mark style=\"background-color:rgba(16,171,232,0.28319631536490597)\">It</mark> <mark style=\"background-color:rgba(199,175,16,0.21093007396426067)\">is</mark> <mark style=\"background-color:rgba(199,175,16,0.20328610347523712)\">haunts</mark> <mark style=\"background-color:rgba(199,175,16,0.1769162277210862)\">the</mark> <mark style=\"background-color:rgba(199,175,16,0.28342417220197885)\">viewer</mark>, <mark style=\"background-color:rgba(199,175,16,0.3670272869234403)\">especially</mark> <mark style=\"background-color:rgba(199,175,16,0.11770318797081214)\">during</mark> <mark style=\"background-color:rgba(199,175,16,0.026527996793305298)\">one</mark> <mark style=\"background-color:rgba(199,175,16,0.3979497050514301)\">particular</mark> <mark style=\"background-color:rgba(199,175,16,0.044458303179593595)\">monologue</mark>. <mark style=\"background-color:rgba(16,171,232,0.28319631536490597)\">It</mark>’<mark style=\"background-color:rgba(16,171,232,0.4200261441768318)\">s</mark> <mark style=\"background-color:rgba(16,171,232,1.0000140494083285)\">no</mark> <mark style=\"background-color:rgba(16,171,232,0.17909798000611113)\">stretch</mark> <mark style=\"background-color:rgba(16,171,232,0.1639605793944563)\">to</mark> <mark style=\"background-color:rgba(16,171,232,0.0028469565354268746)\">say</mark> <mark style=\"background-color:rgba(199,175,16,0.3475879410560384)\">His</mark> <mark style=\"background-color:rgba(199,175,16,0.024324584170901817)\">last</mark> <mark style=\"background-color:rgba(199,175,16,0.21369292701546652)\">performance</mark> <mark style=\"background-color:rgba(199,175,16,0.3571048081861937)\">may</mark> <mark style=\"background-color:rgba(16,171,232,0.20501436124725128)\">be</mark> <mark style=\"background-color:rgba(199,175,16,0.3475879410560384)\">His</mark> <mark style=\"background-color:rgba(16,171,232,0.03992465925771841)\">finest</mark>.<p style=\"margin-bottom:1cm;\"></p>"
      ],
      "text/plain": [
       "<IPython.core.display.HTML object>"
      ]
     },
     "metadata": {},
     "output_type": "display_data"
    },
    {
     "name": "stdout",
     "output_type": "stream",
     "text": [
      "(('no', 0.19129260518178634), ('Ma', -0.12104763533456014), ('inspired', -0.10189789367916395), ('material', 0.10071850682441426), ('referred', -0.09703426963880975), ('life', -0.089354245322954), ('exception', 0.08835313621606011), ('s', 0.08374544791470992), ('particular', -0.07965181380768668), ('and', -0.07960220010536237), ('too', 0.07445672234109024), ('especially', -0.07391786981421353), ('may', -0.0720779445819659), ('His', -0.0703132319100212), ('Bottom', 0.07027902508008556), ('celebration', -0.06980111891586847), ('cancer', -0.06889238500373476), ('hundred', 0.06457676890820638), ('often', -0.06367567434452108), ('demanding', 0.061506572960090745), ('Blues', -0.05926034867874646), ('Mother', -0.05903115242363727), ('gave', 0.058510095891232655), ('viewer', -0.058415344251412926), ('It', 0.05837309275811451), ('blues', -0.057227859209517354), ('Rainey', 0.053971376684777604), ('trumpet', 0.053318644330414416), ('name', 0.04945072074889086), ('larger', -0.047771904287355164), ('crafted', -0.0458307174115241), ('performance', -0.04548507945647795), ('is', -0.04497276361519285), ('found', 0.044528090941494465), ('us', -0.044090421330434754), ('be', 0.0438758130060778), ('haunts', -0.04355534216741321), ('Boseman', 0.04248225830424897), ('if', 0.04166620167172821), ('know', -0.040766206190317525), ('roles', 0.04017601438836231), ('whose', -0.03952538985280176), ('would', 0.039116828629202835), ('stretch', 0.03907013843253318), ('player', -0.03895163515448273), ('the', -0.03866557610632101), ('singer', -0.037479341223154244), ('while', -0.03698005351067415), ('to', 0.03626321023711403), ('song', 0.035492867867931814), ('era', -0.03481079050658725), ('three', 0.031878877201584985), ('it', -0.03145607674419242), ('less', 0.03122112792622979), ('There', -0.030982650728635115), ('Wilson', 0.02864630139478569), ('in', -0.028384404100937906), ('during', -0.027685702145427694), ('give', -0.026999953950154), ('Levee', -0.026186487196222394), ('as', -0.026013999463816273), ('difficult', 0.02522175584167465), ('this', 0.023318984108391734), ('never', -0.0224069949837311), ('legends', 0.02207887295703988), ('chose', 0.020950187480665093), ('his', -0.02021380382141472), ('Black', -0.01897448827131347), ('And', -0.018736736852052974), ('1984', -0.017972567917974053), ('knew', -0.01685245898204465), ('of', 0.015825229382755397), ('here', 0.015622223336298587), ('way', 0.014973362406720918), ('its', -0.014828172409296755), ('monologue', -0.01410390315859204), ('author', 0.0139803409399264), ('around', 0.013566476041690733), ('finest', 0.013263229566158724), ('living', -0.012407328053578448), ('film', -0.012334432623331953), ('fact', 0.012209764872200213), ('one', -0.0107790864453826), ('work', -0.010527230351608697), ('last', -0.010370507642810323), ('who', -0.01011959651307696), ('title', 0.009476708884878662), ('real', 0.009244171630652588), ('soon', 0.009060169014138073), ('than', -0.008934674629523905), ('fame', 0.008898914213305074), ('ll', 0.008435308236286066), ('swan', 0.008295162689460173), ('artists', 0.0078077032823950674), ('from', -0.007330477428207776), ('a', -0.0065318145656624305), ('she', -0.006451339540820711), ('say', 0.006387911150364205), ('August', -0.005910210124632682), ('taken', 0.0058607894104708))\n"
     ]
    }
   ],
   "source": [
    "highlight_summary(explanation_sums['review-top.txt-test'], _class_names=['Positive', 'Negative'], _title=\"review-top.txt\")"
   ]
  },
  {
   "cell_type": "code",
   "execution_count": 79,
   "metadata": {},
   "outputs": [],
   "source": [
    "# longest instance from testing data\n",
    "longest = 'Match 1: Tag Team Table Match Bubba Ray and Spike Dudley vs Eddie Guerrero and Chris Benoit Bubba Ray and Spike Dudley started things off with a Tag Team Table Match against Eddie Guerrero and Chris Benoit. According to the rules of the match, both opponents have to go through tables in order to get the win. Benoit and Guerrero heated up early on by taking turns hammering first Spike and then Bubba Ray. A German suplex by Benoit to Bubba took the wind out of the Dudley brother. Spike tried to help his brother, but the referee restrained him while Benoit and Guerrero ganged up on him in the corner. With Benoit stomping away on Bubba, Guerrero set up a table outside. Spike dashed into the ring and somersaulted over the top rope onto Guerrero on the outside! After recovering and taking care of Spike, Guerrero slipped a table into the ring and helped the Wolverine set it up. The tandem then set up for a double superplex from the middle rope which would have put Bubba through the table, but Spike knocked the table over right before his brother came crashing down! Guerrero and Benoit propped another table in the corner and tried to Irish Whip Spike through it, but Bubba dashed in and blocked his brother. Bubba caught fire and lifted both opponents into back body drops! Bubba slammed Guerrero and Spike stomped on the Wolverine from off the top rope. Bubba held Benoit at bay for Spike to soar into the Wassup! headbutt! Shortly after, Benoit latched Spike in the Crossface, but the match continued even after Spike tapped out. Bubba came to his brother\\'s rescue and managed to sprawl Benoit on a table. Bubba leapt from the middle rope, but Benoit moved and sent Bubba crashing through the wood! But because his opponents didn\\'t force him through the table, Bubba was allowed to stay in the match. The first man was eliminated shortly after, though, as Spike put Eddie through a table with a Dudley Dawg from the ring apron to the outside! Benoit put Spike through a table moments later to even the score. Within seconds, Bubba nailed a Bubba Bomb that put Benoit through a table and gave the Dudleys the win! Winner: Bubba Ray and Spike Dudley<br /><br />Match 2: Cruiserweight Championship Jamie Noble vs Billy Kidman Billy Kidman challenged Jamie Noble, who brought Nidia with him to the ring, for the Cruiserweight Championship. Noble and Kidman locked up and tumbled over the ring, but raced back inside and grappled some more. When Kidman thwarted all Noble\\'s moves, Noble fled outside the ring where Nidia gave him some encouragement. The fight spread outside the ring and Noble threw his girlfriend into the challenger. Kidman tossed Nidia aside but was taken down with a modified arm bar. Noble continued to attack Kidman\\'s injured arm back in the ring. Kidman\\'s injured harm hampered his offense, but he continued to battle hard. Noble tried to put Kidman away with a powerbomb but the challenger countered into a facebuster. Kidman went to finish things with a Shooting Star Press, but Noble broke up the attempt. Kidman went for the Shooting Star Press again, but this time Noble just rolled out of harm\\'s way. Noble flipped Kidman into a power bomb soon after and got the pin to retain his WWE Cruiserweight Championship! Winner: Jamie Noble<br /><br />Match 3: European Championship William Regal vs Jeff Hardy William Regal took on Jeff Hardy next in an attempt to win back the European Championship. Jeff catapulted Regal over the top rope then took him down with a hurracanrana off the ring apron. Back in the ring, Jeff hit the Whisper in the wind to knock Regal for a loop. Jeff went for the Swanton Bomb, but Regal got his knees up to hit Jeff with a devastating shot. Jeff managed to surprise Regal with a quick rollup though and got the pin to keep the European Championship! Regal started bawling at seeing Hardy celebrate on his way back up the ramp. Winner: Jeff Hardy<br /><br />Match 4: Chris Jericho vs John Cena Chris Jericho had promised to end John Cena\\'s career in their match at Vengeance, which came up next. Jericho tried to teach Cena a lesson as their match began by suplexing him to the mat. Jericho continued to knock Cena around the ring until his cockiness got the better of him. While on the top rope, Jericho began to showboat and allowed Cena to grab him for a superplex! Cena followed with a tilt-a-whirl slam but was taken down with a nasty dropkick to the gut. The rookie recovered and hit a belly to belly suplex but couldn\\'t put Y2J away. Jericho launched into the Lionsault but Cena dodged the move. Jericho nailed a bulldog and then connected on the Lionsault, but did not go for the cover. He goaded Cena to his feet so he could put on the Walls of Jericho. Cena had other ideas, reversing the move into a pin attempt and getting the 1-2-3! Jericho went berserk after the match. Winner: John Cena<br /><br />Match 5: Intercontinental Championship RVD vs Brock Lesnar via disqualification The Next Big Thing and Mr. Pay-Per-View tangled with the Intercontinental Championship on the line. Brock grabbed the title from the ref and draped it over his shoulder momentarily while glaring at RVD. Van Dam \\'s quickness gave Brock fits early on. The big man rolled out of the ring and kicked the steel steps out of frustration. Brock pulled himself together and began to take charge. With Paul Heyman beaming at ringside, Brock slammed RVD to the hard floor outside the ring. From there, Brock began to overpower RVD, throwing him with ease over the top rope. RVD landed painfully on his back, then had to suffer from having his spine cracked against the steel ring steps. The fight returned to the ring with Brock squeezing RVD around the ribs. RVD broke away and soon after leveled Brock with a kick to the temple. RVD followed with the Rolling Thunder but Brock managed to kick out after a two-count. The fight looked like it might be over soon as RVD went for a Five-Star Frog Splash. Brock, though, hoisted Van Dam onto his shoulder and went for the F-5, but RVD whirled Brock into a DDT and followed with the Frog Splash! He went for the pin, but Heyman pulled the ref from the ring! The ref immediately called for a disqualification and soon traded blows with Heyman! After, RVD leapt onto Brock from the top rope and then threatened to hit the Van Terminator! Heyman grabbed RVD\\'s leg and Brock picked up the champ and this time connected with the F-5 onto a steel chair! Winner: RVD<br /><br />Match 6: Booker T vs the Big Show Booker T faced the Big Show one-on-one next. Show withstood Booker T\\'s kicks and punches and slapped Booker into the corner. After being thrown from the ring, Booker picked up a chair at ringside, but Big Show punched it back into Booker\\'s face. Booker tried to get back into the game by choking Show with a camera cable at ringside. Booker smashed a TV monitor from the Spanish announcers\\' position into Show\\'s skull, then delivered a scissors kick that put both men through the table! Booker crawled back into the ring and Big Show staggered in moments later. Show grabbed Booker\\'s throat but was met by a low blow and a kick to the face. Booker climbed the top rope and nailed a somersaulting leg drop to get the pin! Winner: Booker T<br /><br />Announcement: Triple H entered the ring to a thunderous ovation as fans hoped to learn where The Game would end up competing. Before he could speak, Eric Bishoff stopped The Game to apologize for getting involved in his personal business. If Triple H signed with RAW, Bischoff promised his personal life would never come into play again. Bischoff said he\\'s spent the past two years networking in Hollywood. He said everyone was looking for the next breakout WWE Superstar, and they were all talking about Triple H. Bischoff guaranteed that if Triple H signed with RAW, he\\'d be getting top opportunities coming his way. Stephanie McMahon stepped out to issue her own pitch. She said that because of her personal history with Triple H, the two of them know each other very well. She said the two of them were once unstoppable and they can be again. Bischoff cut her off and begged her to stop. Stephanie cited that Triple H once told her how Bischoff said Triple H had no talent and no charisma. Bischoff said he was young at the time and didn\\'t know what he had, but he still has a lot more experience that Stephanie. The two continued to bicker back and forth, until Triple H stepped up with his microphone. The Game said it would be easy to say \"screw you\" to either one of them. Triple H went to shake Bischoff\\'s hand, but pulled it away. He said he would rather go with the devil he knows, rather than the one he doesn\\'t know. Before he could go any further, though, Shawn Michaels came out to shake things up. HBK said the last thing he wanted to do was cause any trouble. He didn\\'t want to get involved, but he remembered pledging to bring Triple H to the nWo. HBK said there\\'s nobody in the world that Triple H is better friends with. HBK told his friend to imagine the two back together again, making Bischoff\\'s life a living hell. Triple H said that was a tempting offer. He then turned and hugged HBK, making official his switch to RAW! Triple H and HBK left, and Bischoff gloated over his victory. Bischoff said the difference between the two of them is that he\\'s got testicles and she doesn\\'t. Stephanie whacked Bischoff on the side of the head and left!<br /><br />Match 7: Tag Team Championship Match Christian and Lance Storm vs Hollywood Hogan and Edge The match started with loud \"USA\" chants and with Hogan shoving Christian through the ropes and out of the ring. The Canadians took over from there. But Edge scored a kick to Christian\\'s head and planted a facebuster on Storm to get the tag to Hogan. Hogan began to Hulk up and soon caught Christian with a big boot and a leg drop! Storm broke up the count and Christian tossed Hogan from the ring where Storm superkicked the icon. Edge tagged in soon after and dropped both opponents. He speared both of them into the corner turnbuckles, but missed a spear on Strom and hit the ref hard instead. Edge nailed a DDT, but the ref was down and could not count. Test raced down and took down Hogan then leveled Edge with a boot. Storm tried to get the pin, but Edge kicked out after two. Riksihi sprinted in to fend off Test, allowing Edge to recover and spear Storm. Christian distracted the ref, though, and Y2J dashed in and clocked Edge with the Tag Team Championship! Storm rolled over and got the pinfall to win the title! Winners and New Tag Team Champions: Christian and Lance Storm<br /><br />Match 8: WWE Undisputed Championship Triple Threat Match. The Rock vs Kurt Angle and the Undertaker Three of WWE\\'s most successful superstars lined up against each other in a Triple Threat Match with the Undisputed Championship hanging in the balance. Taker and The Rock got face to face with Kurt Angle begging for some attention off to the side. He got attention in the form of a beat down form the two other men. Soon after, Taker spilled out of the ring and The Rock brawled with Angle. Angle gave a series of suplexes that took down Rock, but the Great One countered with a DDT that managed a two-count. The fight continued outside the ring with Taker coming to life and clotheslining Angle and repeatedly smacking The Rock. Taker and Rock got into it back into the ring, and Taker dropped The Rock with a sidewalk slam to get a two-count. Rock rebounded, grabbed Taker by the throat and chokeslammed him! Angle broke up the pin attempt that likely would have given The Rock the title. The Rock retaliated by latching on the ankle lock to Kurt Angle. Angle reversed the move and Rock Bottomed the People\\'s Champion. Soon after, The Rock disposed of Angle and hit the People\\'s Elbow on the Undertaker. Angle tried to take advantage by disabling the Great One outside the ring and covering Taker, who kicked out after a two count. Outside the ring, Rock took a big swig from a nearby water bottle and spewed the liquid into Taker\\'s face to blind the champion. Taker didn\\'t stay disabled for long, and managed to overpower Rock and turn his attention to Angle. Taker landed a guillotine leg drop onto Angle, laying on the ring apron. The Rock picked himself up just in time to break up a pin attempt on Kurt Angle. Taker nailed Rock with a DDT and set him up for a chokeslam. ANgle tried sneaking up with a steel chair, but Taker caught on to that tomfoolery and smacked it out of his hands. The referee got caught in the ensuing fire and didn\\'t see Angle knock Taker silly with a steel chair. Angle went to cover Taker as The Rock lay prone, but the Dead Man somehow got his shoulder up. Angle tried to pin Rock, but he too kicked out. The Rock got up and landed Angle in the sharpshooter! Angle looked like he was about to tap, but Taker kicked The Rock out of the submission hold. Taker picked Rock up and crashed him with the Last Ride. While the Dead Man covered him for the win, Angle raced in and picked Taker up in the ankle lock! Taker went delirious with pain, but managed to counter. He picked Angle up for the last ride, but Angle put on a triangle choke! It looked like Taker was about to pass out, but The Rock broke Angle\\'s hold only to find himself caught in the ankle lock. Rock got out of the hold and watched Taker chokeslam Angle. Rocky hit the Rock Bottom, but Taker refused to go down and kicked out. Angle whirled Taker up into the Angle Slam but was Rock Bottomed by the Great One and pinned! Winner and New WWE Champion: The Rock<br /><br />~Finally there is a decent PPV! Lately the PPV weren\\'t very good, but this one was a winner. I give this PPV a A-<br /><br />'"
   ]
  },
  {
   "cell_type": "markdown",
   "metadata": {},
   "source": [
    "TODO:\n",
    "- [x] find a good pytorch/tf LSTM text classification model ~ maybe check datasets in LIME paper\n",
    "- [x] create predict_proba based on the type of the framework\n",
    "- [ ] predict on created summaries ~ automatically -> (possible: save summaries to files and then load and pass them just as normal instance) \n",
    "- [ ] refactor process to not store everything in RAM, rather put intermediate results to files\n",
    "- [x] highlighting of important words from any summary (maybe save both, str summary and Sentence type summary - from sumy)\n",
    "- [ ] extract it to separate script\n",
    "- [ ] add better logging (more logs in this version)\n",
    "- [ ] build and test quantitative experiment pipeline\n",
    "- [ ] maybe find better dataset (longer texts) for data and train another model for it\n",
    "- [ ] run quantitative experiment on all instances\n",
    "- [ ] pick several (~6) explanations for user-study"
   ]
  }
 ],
 "metadata": {
  "kernelspec": {
   "display_name": "Python 3",
   "language": "python",
   "name": "python3"
  },
  "language_info": {
   "codemirror_mode": {
    "name": "ipython",
    "version": 3
   },
   "file_extension": ".py",
   "mimetype": "text/x-python",
   "name": "python",
   "nbconvert_exporter": "python",
   "pygments_lexer": "ipython3",
   "version": "3.8.5"
  }
 },
 "nbformat": 4,
 "nbformat_minor": 4
}
