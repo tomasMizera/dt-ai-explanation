{
 "cells": [
  {
   "cell_type": "markdown",
   "metadata": {},
   "source": [
    "## SVM with religion articles"
   ]
  },
  {
   "cell_type": "markdown",
   "metadata": {},
   "source": [
    "Data and model from https://github.com/marcotcr/lime-experiments, Author Marco T. Ribeiro, et al. in article *\"Why Should I Trust You?\" Explaining the Predictions of Any Classifier*"
   ]
  },
  {
   "cell_type": "markdown",
   "metadata": {},
   "source": [
    "---"
   ]
  },
  {
   "cell_type": "code",
   "execution_count": 8,
   "metadata": {},
   "outputs": [],
   "source": [
    "import os\n",
    "import pandas as pd\n",
    "from pathlib import Path"
   ]
  },
  {
   "cell_type": "code",
   "execution_count": 5,
   "metadata": {},
   "outputs": [],
   "source": [
    "datapath = \"../../data/lime-religion/\"  # add religion or christianity to path respondingly"
   ]
  },
  {
   "cell_type": "code",
   "execution_count": 9,
   "metadata": {},
   "outputs": [],
   "source": [
    "def load_files(path_to_files):\n",
    "    \n",
    "    files_it = os.scandir(path_to_files)\n",
    "    files_contents = []\n",
    "    \n",
    "    for file in files_it:\n",
    "        if file.is_file() and file.name.endswith('.txt'):\n",
    "            content = Path(file.path).read_text()\n",
    "            content = content.replace('\\n', ' ')\n",
    "            files_contents.append(content)\n",
    "\n",
    "    del content\n",
    "    return files_contents"
   ]
  },
  {
   "cell_type": "code",
   "execution_count": 10,
   "metadata": {},
   "outputs": [],
   "source": [
    "data_christianity = load_files(os.path.join(datapath, \"christianity\"))\n",
    "data_atheism = load_files(os.path.join(datapath, \"atheism\"))"
   ]
  },
  {
   "cell_type": "code",
   "execution_count": 11,
   "metadata": {},
   "outputs": [
    {
     "data": {
      "text/plain": [
       "'[wpb85347a5]  Home * The Bible * BibleGod * Contradictions * Foundation of Sand * Jesus: False Prophet * Resurrection Claims * Churchiantiy * Hazardous to Your Health * Christian Morality * Evangelical Atheism * Christian Cults * For Christians *  Creationism * Politics * Contra Craig * Misc Topics * Humor [wpa04becf5] [wp3875ea95]  JCnot4me.com    “Am I therefore become your enemy for telling you the truth?”  The Apostle Paul   Galatians 4:16  dedicated to setting Christians free  via the Bible & common sense.    ----------------------------------     [wp3abc8bf7] [wpa7a62905] [wpf5c3ba5d]  Below} New “Business Card” tracts to hand out to people, leave at the gas pump, leave in rest rooms, hide in restaurant sugar pack holders, leave by cash registers etc. The front is the upper graphic, and the back the lower. Print out your own supply with these JPEG’s at VistaPrint.com if you wish. They can walk you thru the process over the phone. Prices as of Dec 2015, including shipping/handling would be as follows: $31  for 100 // $38 for 250 // $43 for 500 // $67 for 1,000   Enjoy & Spread the Word!!!  [wp97f298c1] [wp5c1c5e45] '"
      ]
     },
     "execution_count": 11,
     "metadata": {},
     "output_type": "execute_result"
    }
   ],
   "source": [
    "data_atheism[80]"
   ]
  },
  {
   "cell_type": "code",
   "execution_count": 12,
   "metadata": {},
   "outputs": [
    {
     "data": {
      "text/plain": [
       "\"Grigny organ  Grigny: Hymns     Bernard Coudurier, Ensemble Alternatim     BNL Productions 112813  Contents:   1. Veni creator  2. Pange lingua  3. Verbum supernum  4. Ave maris stella  5. A solis ortus  Playing time: 67'  Recording date: May & September 1991  Instrument: Orgue historique de Cintegabelle, Moucherel c.1600; restored 1989, Boisseau and Cattiaux  Nicolas de Grigny (1672-1703), despite his regrettably short life, was one of the leading organ composers of his generation. His output consists of one large publication, the Organ Book of 1699. Among its admirers is known to be J. S. Bach, who recopied it in 1703. Grigny's organ music is the most densely contrapuntal of any French music of that era, and this has ensured its fame.  Despite incorporating many Baroque ideas, the Organ Book looks back to the older, more rigorous style of Jehan Titelouze (c.1563-1633), who published the first attributed collection of organ music in France: Hymns de l'Eglise pour toucher sur l'orgue, avec les fugues et recherches sur leur plain-chant (1623). A recording:  Titelouze: Hymns et Magnificat     Sylvain Ciaravolo     Adda 581305  Unfortunately, this recording is currently unavailable (mentioned with hope).  In keeping with the style of the times, Grigny set only alternate verses for organ, the others to be chanted. For the present recording, the Ensemble Alternatim provides the chant verses in a re-constructed Baroque style. The resulting integrity is admirable, and the Baroque ornaments and tempi are convincing. The fine organ of Cintegabelle, recorded with a wonderful acoustic and played eloquently by Bernard Coudurier, is also a feature of this performance.  Grigny's Organ Book consists of two parts: the first is a setting of the mass (including offertory), while the second is a setting of five hymns. The present recording is devoted to the hymns. Many other recordings are available, most excellent, but this one is of high merit in all aspects.  Other recordings of Grigny's Livre d'Orgue:  Grigny: Livre d'Orgue, I: Mass     Pierre Bardon     Pierre Ve'rany 790031 Grigny: Livre d'Orgue, II: Hymns     Pierre Bardon     Pierre Ve'rany 790041 Grigny: Premier Livre d'Orgue     Olivier Vernet / Ensemble Jacques Moderne     Ligia Digital 010 4125-03 (2 CDs) Grigny: Livre d'Orgue     Boyer     Stil 2604 san 79 (2 CDs) Grigny: Livre d'orgue     L'inte'grale en deux disques     John Grew     Atma 22169/70 (2 CDs) Grigny: Les cinq hymnes     Jean-Pieere Lecaudey     Pavane 7451  To purchasing information for this disc.  To FAQ references to this recording.  To FAQ CD index page.   Todd M. McComb \""
      ]
     },
     "execution_count": 12,
     "metadata": {},
     "output_type": "execute_result"
    }
   ],
   "source": [
    "data_christianity[80]"
   ]
  },
  {
   "cell_type": "code",
   "execution_count": 13,
   "metadata": {},
   "outputs": [
    {
     "data": {
      "text/plain": [
       "999"
      ]
     },
     "execution_count": 13,
     "metadata": {},
     "output_type": "execute_result"
    }
   ],
   "source": [
    "len(data_christianity)"
   ]
  },
  {
   "cell_type": "code",
   "execution_count": 14,
   "metadata": {},
   "outputs": [
    {
     "data": {
      "text/plain": [
       "819"
      ]
     },
     "execution_count": 14,
     "metadata": {},
     "output_type": "execute_result"
    }
   ],
   "source": [
    "len(data_atheism)"
   ]
  },
  {
   "cell_type": "code",
   "execution_count": 15,
   "metadata": {},
   "outputs": [],
   "source": [
    "pda = pd.DataFrame(data_atheism, columns=['text'])\n",
    "pdc = pd.DataFrame(data_christianity, columns=['text'])"
   ]
  },
  {
   "cell_type": "code",
   "execution_count": 16,
   "metadata": {},
   "outputs": [],
   "source": [
    "pdc['len'] = pdc.text.str.len()\n",
    "pda['len'] = pda.text.str.len()"
   ]
  },
  {
   "cell_type": "code",
   "execution_count": 17,
   "metadata": {},
   "outputs": [
    {
     "data": {
      "text/plain": [
       "count       819.000000\n",
       "mean      13248.686203\n",
       "std       22789.573938\n",
       "min         594.000000\n",
       "25%        3514.000000\n",
       "50%        6624.000000\n",
       "75%       11827.500000\n",
       "max      306401.000000\n",
       "Name: len, dtype: float64"
      ]
     },
     "execution_count": 17,
     "metadata": {},
     "output_type": "execute_result"
    }
   ],
   "source": [
    "pda.len.describe()"
   ]
  },
  {
   "cell_type": "code",
   "execution_count": 18,
   "metadata": {},
   "outputs": [
    {
     "data": {
      "text/plain": [
       "count       999.000000\n",
       "mean       7861.626627\n",
       "std       28980.048524\n",
       "min         489.000000\n",
       "25%        1861.000000\n",
       "50%        3167.000000\n",
       "75%        5595.500000\n",
       "max      753522.000000\n",
       "Name: len, dtype: float64"
      ]
     },
     "execution_count": 18,
     "metadata": {},
     "output_type": "execute_result"
    }
   ],
   "source": [
    "pdc.len.describe()"
   ]
  },
  {
   "cell_type": "code",
   "execution_count": 19,
   "metadata": {},
   "outputs": [
    {
     "data": {
      "text/plain": [
       "<AxesSubplot:>"
      ]
     },
     "execution_count": 19,
     "metadata": {},
     "output_type": "execute_result"
    },
    {
     "data": {
      "image/png": "[encoded data removed]",
      "text/plain": [
       "<Figure size 432x288 with 1 Axes>"
      ]
     },
     "metadata": {
      "needs_background": "light"
     },
     "output_type": "display_data"
    }
   ],
   "source": [
    "pdc.len.hist()"
   ]
  },
  {
   "cell_type": "code",
   "execution_count": 20,
   "metadata": {},
   "outputs": [
    {
     "data": {
      "text/plain": [
       "<AxesSubplot:>"
      ]
     },
     "execution_count": 20,
     "metadata": {},
     "output_type": "execute_result"
    },
    {
     "data": {
      "image/png": "[encoded data removed]",
      "text/plain": [
       "<Figure size 432x288 with 1 Axes>"
      ]
     },
     "metadata": {
      "needs_background": "light"
     },
     "output_type": "display_data"
    }
   ],
   "source": [
    "pda.len.hist()"
   ]
  },
  {
   "cell_type": "code",
   "execution_count": 21,
   "metadata": {},
   "outputs": [
    {
     "data": {
      "text/plain": [
       "<AxesSubplot:>"
      ]
     },
     "execution_count": 21,
     "metadata": {},
     "output_type": "execute_result"
    },
    {
     "data": {
      "image/png": "[encoded data removed]",
      "text/plain": [
       "<Figure size 432x288 with 1 Axes>"
      ]
     },
     "metadata": {
      "needs_background": "light"
     },
     "output_type": "display_data"
    }
   ],
   "source": [
    "pda.len.plot.box()"
   ]
  },
  {
   "cell_type": "code",
   "execution_count": 22,
   "metadata": {},
   "outputs": [
    {
     "data": {
      "text/plain": [
       "<AxesSubplot:>"
      ]
     },
     "execution_count": 22,
     "metadata": {},
     "output_type": "execute_result"
    },
    {
     "data": {
      "image/png": "[encoded data removed]",
      "text/plain": [
       "<Figure size 432x288 with 1 Axes>"
      ]
     },
     "metadata": {
      "needs_background": "light"
     },
     "output_type": "display_data"
    }
   ],
   "source": [
    "pdc.len.plot.box()"
   ]
  },
  {
   "cell_type": "code",
   "execution_count": 23,
   "metadata": {},
   "outputs": [],
   "source": [
    "pdc = pdc.sort_values(by=\"text\", key=lambda x: x.str.len(), ascending=False).reset_index(drop=True)"
   ]
  },
  {
   "cell_type": "code",
   "execution_count": 24,
   "metadata": {},
   "outputs": [],
   "source": [
    "pda = pda.sort_values(by=\"text\", key=lambda x: x.str.len(), ascending=False).reset_index(drop=True)"
   ]
  },
  {
   "cell_type": "code",
   "execution_count": null,
   "metadata": {},
   "outputs": [],
   "source": []
  }
 ],
 "metadata": {
  "kernelspec": {
   "display_name": "Python 3",
   "language": "python",
   "name": "python3"
  },
  "language_info": {
   "codemirror_mode": {
    "name": "ipython",
    "version": 3
   },
   "file_extension": ".py",
   "mimetype": "text/x-python",
   "name": "python",
   "nbconvert_exporter": "python",
   "pygments_lexer": "ipython3",
   "version": "3.8.5"
  }
 },
 "nbformat": 4,
 "nbformat_minor": 4
}
