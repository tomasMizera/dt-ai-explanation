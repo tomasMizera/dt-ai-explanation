{
 "cells": [
  {
   "cell_type": "markdown",
   "metadata": {},
   "source": [
    "### Visualize how factor is applied"
   ]
  },
  {
   "cell_type": "code",
   "execution_count": 1,
   "metadata": {},
   "outputs": [],
   "source": [
    "import pandas as pd\n",
    "import numpy as np\n",
    "import os\n",
    "from io import StringIO\n",
    "from functools import reduce\n",
    "\n",
    "import matplotlib.pyplot as plt"
   ]
  },
  {
   "cell_type": "code",
   "execution_count": 2,
   "metadata": {},
   "outputs": [],
   "source": [
    "LOGS_DIR = \"/home/tomasmizera/school/diploma/src/data/experiments/fp-precomputed-v3/latest/csv/\"\n",
    "LOGS2_DIR = \"/home/tomasmizera/school/diploma/src/data/experiments/fp-precomputed-v3continue/latest/csv/\""
   ]
  },
  {
   "cell_type": "code",
   "execution_count": 3,
   "metadata": {},
   "outputs": [],
   "source": [
    "def _read_text_file(filepath):\n",
    "    with open(filepath, 'r') as f:\n",
    "        lines = f.readlines()\n",
    "        return reduce(lambda a, b: a+b, lines, '')\n",
    "\n",
    "def load_files(path_to_files):\n",
    "    \n",
    "    files_it = os.scandir(path_to_files)\n",
    "    files_contents = {}\n",
    "    \n",
    "    for file in files_it:\n",
    "        if file.is_file() and file.name.startswith('fm-'):\n",
    "            factor = file.name.replace('fm-', '')\n",
    "            factor = factor.replace('.csv', '')\n",
    "            files_contents[int(factor)] = _read_text_file(file.path)\n",
    "        \n",
    "    return dict(sorted(files_contents.items()))"
   ]
  },
  {
   "cell_type": "code",
   "execution_count": 4,
   "metadata": {},
   "outputs": [],
   "source": [
    "file_contents = load_files(LOGS_DIR)\n",
    "file_contents2 = load_files(LOGS2_DIR)"
   ]
  },
  {
   "cell_type": "code",
   "execution_count": 5,
   "metadata": {},
   "outputs": [],
   "source": [
    "content = {**file_contents, **file_contents2}"
   ]
  },
  {
   "cell_type": "code",
   "execution_count": 6,
   "metadata": {},
   "outputs": [],
   "source": [
    "# 1. build dataframe from each\n",
    "\n",
    "dfs = {}\n",
    "\n",
    "for item in content.items():\n",
    "    factor = item[0]\n",
    "    c = StringIO(item[1])\n",
    "    df = pd.read_csv(c, delimiter=',')\n",
    "    dfs[factor] = df"
   ]
  },
  {
   "cell_type": "code",
   "execution_count": 11,
   "metadata": {},
   "outputs": [],
   "source": [
    "def process(df):\n",
    "    df = df.reset_index(drop=True)\n",
    "    \n",
    "    df['difSimple'] = df.originalP - df.simpleSP\n",
    "    df['difCustom'] = df.originalP - df.customSP\n",
    "    # normalize to (-1, 1)\n",
    "    # square\n",
    "    # subtract\n",
    "    # squareroot\n",
    "    # mean of that\n",
    "    return df.difCustom.mean(), df.difSimple.mean()\n",
    "\n",
    "def process_arr(dfs):\n",
    "    data = {}\n",
    "    for d in dfs.items():\n",
    "        ix = d[0]\n",
    "        data[int(ix)] = process(d[1])\n",
    "    return data\n"
   ]
  },
  {
   "cell_type": "code",
   "execution_count": 10,
   "metadata": {},
   "outputs": [
    {
     "data": {
      "text/plain": [
       "dict_keys([0, 1, 2, 3, 4, 5, 6, 7, 8, 9, 10, 12, 14, 16, 18, 20, 23, 26, 29, 32, 36, 40, 45, 50, 56, 62, 69, 76, 84, 93, 103, 114, 126, 139, 153, 169, 186, 205, 226, 249, 274, 302, 333, 367, 404, 445, 490, 540, 595, 655, 721, 794, 962, 1411, 3031, 1553, 1709, 1880, 2069, 2276, 2504, 2755, 3335, 3669, 4036, 4440, 4885, 5374, 5912, 6504, 7155, 7871, 8659, 9525])"
      ]
     },
     "execution_count": 10,
     "metadata": {},
     "output_type": "execute_result"
    }
   ],
   "source": [
    "dfs.keys()"
   ]
  },
  {
   "cell_type": "code",
   "execution_count": 12,
   "metadata": {},
   "outputs": [],
   "source": [
    "processed = process_arr(dfs)"
   ]
  },
  {
   "cell_type": "code",
   "execution_count": 13,
   "metadata": {},
   "outputs": [
    {
     "data": {
      "text/html": [
       "<div>\n",
       "<style scoped>\n",
       "    .dataframe tbody tr th:only-of-type {\n",
       "        vertical-align: middle;\n",
       "    }\n",
       "\n",
       "    .dataframe tbody tr th {\n",
       "        vertical-align: top;\n",
       "    }\n",
       "\n",
       "    .dataframe thead th {\n",
       "        text-align: right;\n",
       "    }\n",
       "</style>\n",
       "<table border=\"1\" class=\"dataframe\">\n",
       "  <thead>\n",
       "    <tr style=\"text-align: right;\">\n",
       "      <th></th>\n",
       "      <th>custom</th>\n",
       "      <th>textrank</th>\n",
       "    </tr>\n",
       "  </thead>\n",
       "  <tbody>\n",
       "    <tr>\n",
       "      <th>0</th>\n",
       "      <td>-0.005502</td>\n",
       "      <td>-0.005502</td>\n",
       "    </tr>\n",
       "    <tr>\n",
       "      <th>1</th>\n",
       "      <td>-0.005289</td>\n",
       "      <td>-0.005502</td>\n",
       "    </tr>\n",
       "    <tr>\n",
       "      <th>2</th>\n",
       "      <td>-0.000158</td>\n",
       "      <td>-0.005502</td>\n",
       "    </tr>\n",
       "    <tr>\n",
       "      <th>3</th>\n",
       "      <td>-0.001523</td>\n",
       "      <td>-0.005502</td>\n",
       "    </tr>\n",
       "    <tr>\n",
       "      <th>4</th>\n",
       "      <td>-0.000571</td>\n",
       "      <td>-0.005502</td>\n",
       "    </tr>\n",
       "    <tr>\n",
       "      <th>...</th>\n",
       "      <td>...</td>\n",
       "      <td>...</td>\n",
       "    </tr>\n",
       "    <tr>\n",
       "      <th>6504</th>\n",
       "      <td>-0.003525</td>\n",
       "      <td>-0.005502</td>\n",
       "    </tr>\n",
       "    <tr>\n",
       "      <th>7155</th>\n",
       "      <td>-0.003525</td>\n",
       "      <td>-0.005502</td>\n",
       "    </tr>\n",
       "    <tr>\n",
       "      <th>7871</th>\n",
       "      <td>-0.003525</td>\n",
       "      <td>-0.005502</td>\n",
       "    </tr>\n",
       "    <tr>\n",
       "      <th>8659</th>\n",
       "      <td>-0.003525</td>\n",
       "      <td>-0.005502</td>\n",
       "    </tr>\n",
       "    <tr>\n",
       "      <th>9525</th>\n",
       "      <td>-0.003525</td>\n",
       "      <td>-0.005502</td>\n",
       "    </tr>\n",
       "  </tbody>\n",
       "</table>\n",
       "<p>74 rows × 2 columns</p>\n",
       "</div>"
      ],
      "text/plain": [
       "        custom  textrank\n",
       "0    -0.005502 -0.005502\n",
       "1    -0.005289 -0.005502\n",
       "2    -0.000158 -0.005502\n",
       "3    -0.001523 -0.005502\n",
       "4    -0.000571 -0.005502\n",
       "...        ...       ...\n",
       "6504 -0.003525 -0.005502\n",
       "7155 -0.003525 -0.005502\n",
       "7871 -0.003525 -0.005502\n",
       "8659 -0.003525 -0.005502\n",
       "9525 -0.003525 -0.005502\n",
       "\n",
       "[74 rows x 2 columns]"
      ]
     },
     "execution_count": 13,
     "metadata": {},
     "output_type": "execute_result"
    }
   ],
   "source": [
    "pdf = pd.DataFrame(processed).T\n",
    "pdf = pdf.rename({0:'custom', 1:'textrank'}, axis=1)\n",
    "pdf = pdf.sort_index()\n",
    "pdf"
   ]
  },
  {
   "cell_type": "code",
   "execution_count": 14,
   "metadata": {},
   "outputs": [
    {
     "data": {
      "image/png": "[encoded data removed]",
      "text/plain": [
       "<Figure size 1080x576 with 1 Axes>"
      ]
     },
     "metadata": {
      "needs_background": "light"
     },
     "output_type": "display_data"
    }
   ],
   "source": [
    "ax = pdf.plot(\n",
    "    figsize=(15,8), \n",
    "    xlabel=\"Factor\", \n",
    "    ylabel=\"Difference from original prediction\", \n",
    "    fontsize=10, \n",
    "    title=\"Difference from original prediction using various factors (the smaller the best)\"\n",
    ");\n",
    "\n",
    "ax.axhline(y=0, color='r', linestyle='--', label='vline1.5custom');\n",
    "\n",
    "plt.show()"
   ]
  },
  {
   "cell_type": "code",
   "execution_count": 15,
   "metadata": {},
   "outputs": [
    {
     "data": {
      "image/png": "[encoded data removed]",
      "text/plain": [
       "<Figure size 1080x576 with 1 Axes>"
      ]
     },
     "metadata": {
      "needs_background": "light"
     },
     "output_type": "display_data"
    }
   ],
   "source": [
    "pdf.T.plot.box(\n",
    "    figsize=(15,8), \n",
    "    xlabel=\"Factor\", \n",
    "    ylabel=\"Difference from original prediction\", \n",
    "    fontsize=10, \n",
    "    title=\"Difference from original prediction using various factors (the smaller the best)\"\n",
    ");"
   ]
  },
  {
   "cell_type": "code",
   "execution_count": 16,
   "metadata": {},
   "outputs": [
    {
     "data": {
      "text/plain": [
       "<AxesSubplot:>"
      ]
     },
     "execution_count": 16,
     "metadata": {},
     "output_type": "execute_result"
    },
    {
     "data": {
      "image/png": "[encoded data removed]",
      "text/plain": [
       "<Figure size 432x288 with 1 Axes>"
      ]
     },
     "metadata": {
      "needs_background": "light"
     },
     "output_type": "display_data"
    }
   ],
   "source": [
    "pdf.plot.box()"
   ]
  },
  {
   "cell_type": "code",
   "execution_count": 17,
   "metadata": {},
   "outputs": [
    {
     "data": {
      "text/html": [
       "<div>\n",
       "<style scoped>\n",
       "    .dataframe tbody tr th:only-of-type {\n",
       "        vertical-align: middle;\n",
       "    }\n",
       "\n",
       "    .dataframe tbody tr th {\n",
       "        vertical-align: top;\n",
       "    }\n",
       "\n",
       "    .dataframe thead th {\n",
       "        text-align: right;\n",
       "    }\n",
       "</style>\n",
       "<table border=\"1\" class=\"dataframe\">\n",
       "  <thead>\n",
       "    <tr style=\"text-align: right;\">\n",
       "      <th></th>\n",
       "      <th>custom</th>\n",
       "      <th>textrank</th>\n",
       "    </tr>\n",
       "  </thead>\n",
       "  <tbody>\n",
       "    <tr>\n",
       "      <th>count</th>\n",
       "      <td>74.000000</td>\n",
       "      <td>74.000000</td>\n",
       "    </tr>\n",
       "    <tr>\n",
       "      <th>mean</th>\n",
       "      <td>-0.003195</td>\n",
       "      <td>-0.005502</td>\n",
       "    </tr>\n",
       "    <tr>\n",
       "      <th>std</th>\n",
       "      <td>0.000836</td>\n",
       "      <td>0.000000</td>\n",
       "    </tr>\n",
       "    <tr>\n",
       "      <th>min</th>\n",
       "      <td>-0.005502</td>\n",
       "      <td>-0.005502</td>\n",
       "    </tr>\n",
       "    <tr>\n",
       "      <th>25%</th>\n",
       "      <td>-0.003522</td>\n",
       "      <td>-0.005502</td>\n",
       "    </tr>\n",
       "    <tr>\n",
       "      <th>50%</th>\n",
       "      <td>-0.003480</td>\n",
       "      <td>-0.005502</td>\n",
       "    </tr>\n",
       "    <tr>\n",
       "      <th>75%</th>\n",
       "      <td>-0.003273</td>\n",
       "      <td>-0.005502</td>\n",
       "    </tr>\n",
       "    <tr>\n",
       "      <th>max</th>\n",
       "      <td>-0.000158</td>\n",
       "      <td>-0.005502</td>\n",
       "    </tr>\n",
       "  </tbody>\n",
       "</table>\n",
       "</div>"
      ],
      "text/plain": [
       "          custom   textrank\n",
       "count  74.000000  74.000000\n",
       "mean   -0.003195  -0.005502\n",
       "std     0.000836   0.000000\n",
       "min    -0.005502  -0.005502\n",
       "25%    -0.003522  -0.005502\n",
       "50%    -0.003480  -0.005502\n",
       "75%    -0.003273  -0.005502\n",
       "max    -0.000158  -0.005502"
      ]
     },
     "execution_count": 17,
     "metadata": {},
     "output_type": "execute_result"
    }
   ],
   "source": [
    "pdf.describe()"
   ]
  }
 ],
 "metadata": {
  "kernelspec": {
   "display_name": "Python 3",
   "language": "python",
   "name": "python3"
  },
  "language_info": {
   "codemirror_mode": {
    "name": "ipython",
    "version": 3
   },
   "file_extension": ".py",
   "mimetype": "text/x-python",
   "name": "python",
   "nbconvert_exporter": "python",
   "pygments_lexer": "ipython3",
   "version": "3.8.5"
  }
 },
 "nbformat": 4,
 "nbformat_minor": 4
}
