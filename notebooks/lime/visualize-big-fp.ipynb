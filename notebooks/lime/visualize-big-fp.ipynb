{
 "cells": [
  {
   "cell_type": "markdown",
   "metadata": {},
   "source": [
    "### Visualize how factor is applied"
   ]
  },
  {
   "cell_type": "code",
   "execution_count": 1,
   "metadata": {},
   "outputs": [],
   "source": [
    "import pandas as pd\n",
    "import numpy as np\n",
    "import os\n",
    "from io import StringIO\n",
    "from functools import reduce\n",
    "\n",
    "import matplotlib.pyplot as plt"
   ]
  },
  {
   "cell_type": "code",
   "execution_count": null,
   "metadata": {},
   "outputs": [],
   "source": [
    "LOGS_DIR = \"/home/tomasmizera/school/diploma/src/data/experiments/fp-precomputed-v3/latest/csv/\"\n",
    "LOGS2_DIR = \"/home/tomasmizera/school/diploma/src/data/experiments/fp-precomputed-v3continue/latest/csv/\""
   ]
  },
  {
   "cell_type": "code",
   "execution_count": null,
   "metadata": {},
   "outputs": [],
   "source": [
    "def _read_text_file(filepath):\n",
    "    with open(filepath, 'r') as f:\n",
    "        lines = f.readlines()\n",
    "        return reduce(lambda a, b: a+b, lines, '')\n",
    "\n",
    "def load_files(path_to_files):\n",
    "    \n",
    "    files_it = os.scandir(path_to_files)\n",
    "    files_contents = {}\n",
    "    \n",
    "    for file in files_it:\n",
    "        if file.is_file() and file.name.startswith('fm-'):\n",
    "            factor = file.name.replace('fm-', '')\n",
    "            factor = factor.replace('.csv', '')\n",
    "            files_contents[int(factor)] = _read_text_file(file.path)\n",
    "        \n",
    "    return dict(sorted(files_contents.items()))"
   ]
  },
  {
   "cell_type": "code",
   "execution_count": null,
   "metadata": {},
   "outputs": [],
   "source": [
    "file_contents = load_files(LOGS_DIR)\n",
    "file_contents2 = load_files(LOGS2_DIR)"
   ]
  },
  {
   "cell_type": "code",
   "execution_count": null,
   "metadata": {},
   "outputs": [],
   "source": [
    "content = {**file_contents, **file_contents2}"
   ]
  },
  {
   "cell_type": "code",
   "execution_count": null,
   "metadata": {},
   "outputs": [],
   "source": [
    "# 1. build dataframe from each\n",
    "\n",
    "dfs = {}\n",
    "\n",
    "for item in content.items():\n",
    "    factor = item[0]\n",
    "    c = StringIO(item[1])\n",
    "    df = pd.read_csv(c, delimiter=',')\n",
    "    dfs[factor] = df"
   ]
  },
  {
   "cell_type": "code",
   "execution_count": null,
   "metadata": {},
   "outputs": [],
   "source": [
    "# Normalize values to custom bounds https://stackoverflow.com/a/48109733/7875594\n",
    "def normalize(values, bounds):\n",
    "    if bounds['actual']['upper'] == bounds['actual']['lower']:\n",
    "        return values\n",
    "    return [bounds['desired']['lower'] + (abs(x) - bounds['actual']['lower']) * (bounds['desired']['upper'] - bounds['desired']['lower']) / \n",
    "            (bounds['actual']['upper'] - bounds['actual']['lower']) for x in values]\n",
    "\n",
    "\n",
    "def process_mean(df):\n",
    "    df = df.reset_index(drop=True)\n",
    "    \n",
    "    df['difSimple'] = df.originalP - df.simpleSP\n",
    "    df['difCustom'] = df.originalP - df.customSP\n",
    "    return df.difCustom.mean(), df.difSimple.mean()\n",
    "\n",
    "\n",
    "def process_mse(df, maxval, minval):\n",
    "    \"\"\"\n",
    "    From input dataframe returns 2 MSE errors: (1) error from custom summaries, (2) error from simple summaries\n",
    "    \"\"\"\n",
    "    \n",
    "    df = df.reset_index(drop=True)\n",
    "    \n",
    "    # 1. normalize to (-1, 1)\n",
    "    bounds = {'actual': {'lower':minval, 'upper':maxval}, 'desired':{'lower':-1, 'upper':1}}\n",
    "    df['normOriginal'] = normalize(df.originalP, bounds)\n",
    "    df['normCustom'] = normalize(df.customSP, bounds)\n",
    "    df['normTextRank'] = normalize(df.simpleSP, bounds)\n",
    "    \n",
    "    # 2. subtract textrank and custom predictions from model prediction on entire instance to get errors\n",
    "    df['errorTextRank'] = df.normOriginal - df.normTextRank\n",
    "    df['errorCustom'] = df.normOriginal - df.normCustom\n",
    "    \n",
    "    # 3. square errors\n",
    "    df['errorTextRank'] = df.errorTextRank ** 2\n",
    "    df['errorCustom'] = df.errorCustom ** 2\n",
    "    \n",
    "    # 4. find mean\n",
    "    arr = np.array([df.errorCustom.mean(), df.errorTextRank.mean()])\n",
    "    \n",
    "    # 5. square root errors\n",
    "    arr = np.sqrt(arr)\n",
    "    \n",
    "    return arr[0], arr[1]\n",
    "    \n",
    "    # squareroot\n",
    "    # mean of that\n",
    "    return df.difCustom.mean(), df.difSimple.mean()\n",
    "\n",
    "def process_arr(dfs, error_func):\n",
    "    data = {}\n",
    "    \n",
    "    mmin = 1\n",
    "    mmax = 0\n",
    "    # first max and min prediction across all predictions\n",
    "    for d in dfs.items():\n",
    "        ma = max(d[1].originalP.max(),\n",
    "                 d[1].customSP.max(),\n",
    "                 d[1].simpleSP.max()\n",
    "                )\n",
    "        mi = min(d[1].originalP.min(),\n",
    "                 d[1].customSP.min(),\n",
    "                 d[1].simpleSP.min()\n",
    "                )\n",
    "        if mi < mmin:\n",
    "            mmin = mi\n",
    "        if ma > mmax:\n",
    "            mmax = ma\n",
    "    \n",
    "    \n",
    "    for d in dfs.items():\n",
    "        ix = d[0]\n",
    "        if error_func == 'mse':\n",
    "            data[int(ix)] = process_mse(d[1], mmax, mmin)\n",
    "        elif error_func == 'mean':\n",
    "            data[int(ix)] = process_mean(d[1])\n",
    "    return data\n"
   ]
  },
  {
   "cell_type": "code",
   "execution_count": null,
   "metadata": {},
   "outputs": [],
   "source": [
    "processed_mean = process_arr(dfs, 'mean')\n",
    "processed_mse = process_arr(dfs, 'mse')"
   ]
  },
  {
   "cell_type": "markdown",
   "metadata": {},
   "source": [
    "### MSE"
   ]
  },
  {
   "cell_type": "code",
   "execution_count": null,
   "metadata": {},
   "outputs": [],
   "source": [
    "pdf = pd.DataFrame(processed_mse).T\n",
    "pdf = pdf.rename({0:'custom', 1:'textrank'}, axis=1)\n",
    "pdf = pdf.sort_index()\n",
    "pdf.tail()"
   ]
  },
  {
   "cell_type": "code",
   "execution_count": null,
   "metadata": {},
   "outputs": [],
   "source": [
    "last_change_fm = pdf.loc[np.isclose(pdf.custom,pdf.custom.unique()[-1])].index[0]"
   ]
  },
  {
   "cell_type": "code",
   "execution_count": null,
   "metadata": {},
   "outputs": [],
   "source": [
    "ax = pdf.plot(\n",
    "    figsize=(15,8), \n",
    "    xlabel=\"Factor\", \n",
    "    ylabel=\"Difference from original prediction\", \n",
    "    fontsize=10, \n",
    "    title=\"Difference from original prediction using various factors (the smaller the best)\"\n",
    ");\n",
    "\n",
    "ax.axhline(y=0, color='r', linestyle='--', label='original instance');\n",
    "ax.axvline(x=last_change_fm, color='g', linestyle='--', label='last change in error, fm: ' + str(last_change_fm));\n",
    "\n",
    "plt.legend()\n",
    "plt.show()"
   ]
  },
  {
   "cell_type": "code",
   "execution_count": null,
   "metadata": {},
   "outputs": [],
   "source": [
    "ax = pdf[:55].plot(\n",
    "    figsize=(15,8), \n",
    "    xlabel=\"Factor\", \n",
    "    ylabel=\"Difference from original prediction\", \n",
    "    fontsize=10, \n",
    "    title=\"Difference from original prediction using various factors (the smaller the best) cropped to first 55 multipliers (without printing zero line)\"\n",
    ");\n",
    "\n",
    "# ax.axhline(y=0, color='r', linestyle='--', label='vline1.5custom');\n",
    "ax.axvline(x=last_change_fm, color='g', linestyle='--', label='last change in error, fm: ' + str(last_change_fm));\n",
    "\n",
    "plt.legend()\n",
    "plt.show()"
   ]
  },
  {
   "cell_type": "code",
   "execution_count": null,
   "metadata": {},
   "outputs": [],
   "source": [
    "ax = pdf[:50].plot(\n",
    "    figsize=(15,8), \n",
    "    xlabel=\"Factor\", \n",
    "    ylabel=\"Difference from original prediction\", \n",
    "    fontsize=10, \n",
    "    title=\"Distribution of factors through range of numbers\"\n",
    ");\n",
    "\n",
    "for i in range(50):\n",
    "    l = ax.axvline(x=pdf.iloc[i].name, color='orange', linestyle='--');\n",
    "\n",
    "l.set_label('computed factor multiplier values')\n",
    "plt.legend()\n",
    "plt.show()"
   ]
  },
  {
   "cell_type": "code",
   "execution_count": null,
   "metadata": {},
   "outputs": [],
   "source": [
    "pdf.T.plot.box(\n",
    "    figsize=(15,8), \n",
    "    xlabel=\"Factor\", \n",
    "    ylabel=\"Difference from original prediction\", \n",
    "    fontsize=8, \n",
    "    title=\"Difference from original prediction using various factors (the smaller the best)\"\n",
    ");"
   ]
  },
  {
   "cell_type": "code",
   "execution_count": null,
   "metadata": {},
   "outputs": [],
   "source": [
    "pdf.plot.box()"
   ]
  },
  {
   "cell_type": "code",
   "execution_count": null,
   "metadata": {},
   "outputs": [],
   "source": [
    "pdf.describe()"
   ]
  },
  {
   "cell_type": "markdown",
   "metadata": {},
   "source": [
    "### Mean"
   ]
  },
  {
   "cell_type": "code",
   "execution_count": null,
   "metadata": {},
   "outputs": [],
   "source": [
    "pdfm = pd.DataFrame(processed_mean).T\n",
    "pdfm = pdfm.rename({0:'custom', 1:'textrank'}, axis=1)\n",
    "pdfm = pdfm.sort_index()\n",
    "pdfm.tail()"
   ]
  },
  {
   "cell_type": "code",
   "execution_count": null,
   "metadata": {},
   "outputs": [],
   "source": [
    "last_change_fm = pdfm.loc[np.isclose(pdfm.custom,pdfm.custom.unique()[-1])].index[0]"
   ]
  },
  {
   "cell_type": "code",
   "execution_count": null,
   "metadata": {},
   "outputs": [],
   "source": [
    "ax = pdfm.plot(\n",
    "    figsize=(15,8), \n",
    "    xlabel=\"Factor\", \n",
    "    ylabel=\"Difference from original prediction\", \n",
    "    fontsize=10, \n",
    "    title=\"Difference from original prediction using various factors (the smaller the best)\"\n",
    ");\n",
    "\n",
    "ax.axhline(y=0, color='r', linestyle='--', label='original instance');\n",
    "ax.axvline(x=last_change_fm, color='g', linestyle='--', label='last change in error, fm: ' + str(last_change_fm));\n",
    "\n",
    "plt.legend()\n",
    "plt.show()"
   ]
  },
  {
   "cell_type": "code",
   "execution_count": null,
   "metadata": {},
   "outputs": [],
   "source": [
    "ax = pdfm[:50].plot(\n",
    "    figsize=(15,8), \n",
    "    xlabel=\"Factor\", \n",
    "    ylabel=\"Difference from original prediction\", \n",
    "    fontsize=10, \n",
    "    title=\"Difference from original prediction using various factors (the smaller the best) cropped to first 50 multipliers (without printing zero line)\"\n",
    ");\n",
    "\n",
    "# ax.axhline(y=0, color='r', linestyle='--', label='vline1.5custom');\n",
    "# ax.axvline(x=last_change_fm, color='g', linestyle='--', label='last change in error, fm: ' + str(last_change_fm));\n",
    "\n",
    "plt.legend()\n",
    "plt.show()"
   ]
  },
  {
   "cell_type": "code",
   "execution_count": null,
   "metadata": {},
   "outputs": [],
   "source": [
    "ax = pdfm[:50].plot(\n",
    "    figsize=(15,8), \n",
    "    xlabel=\"Factor\", \n",
    "    ylabel=\"Difference from original prediction\", \n",
    "    fontsize=10, \n",
    "    title=\"Distribution of factors through range of numbers\"\n",
    ");\n",
    "\n",
    "for i in range(50):\n",
    "    l = ax.axvline(x=pdfm.iloc[i].name, color='orange', linestyle='--');\n",
    "\n",
    "l.set_label('computed factor multiplier values')\n",
    "plt.legend()\n",
    "plt.show()"
   ]
  },
  {
   "cell_type": "code",
   "execution_count": null,
   "metadata": {},
   "outputs": [],
   "source": [
    "pdfm.T.plot.box(\n",
    "    figsize=(15,8), \n",
    "    xlabel=\"Factor\", \n",
    "    ylabel=\"Difference from original prediction\", \n",
    "    fontsize=10, \n",
    "    title=\"Difference from original prediction using various factors (the smaller the best)\"\n",
    ");"
   ]
  },
  {
   "cell_type": "code",
   "execution_count": null,
   "metadata": {},
   "outputs": [],
   "source": [
    "pdfm.plot.box()"
   ]
  },
  {
   "cell_type": "code",
   "execution_count": null,
   "metadata": {},
   "outputs": [],
   "source": [
    "pdfm.describe()"
   ]
  },
  {
   "cell_type": "markdown",
   "metadata": {},
   "source": [
    "---\n",
    "---\n",
    "---"
   ]
  },
  {
   "cell_type": "markdown",
   "metadata": {},
   "source": [
    "**Final factor: 595**"
   ]
  }
 ],
 "metadata": {
  "kernelspec": {
   "display_name": "Python 3",
   "language": "python",
   "name": "python3"
  },
  "language_info": {
   "codemirror_mode": {
    "name": "ipython",
    "version": 3
   },
   "file_extension": ".py",
   "mimetype": "text/x-python",
   "name": "python",
   "nbconvert_exporter": "python",
   "pygments_lexer": "ipython3",
   "version": "3.8.5"
  }
 },
 "nbformat": 4,
 "nbformat_minor": 4
}
