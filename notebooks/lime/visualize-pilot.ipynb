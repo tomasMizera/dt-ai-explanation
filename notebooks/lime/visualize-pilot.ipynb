{
 "cells": [
  {
   "cell_type": "markdown",
   "metadata": {},
   "source": [
    "### Visualize how factor is applied"
   ]
  },
  {
   "cell_type": "code",
   "execution_count": null,
   "metadata": {},
   "outputs": [],
   "source": [
    "import pandas as pd\n",
    "import numpy as np\n",
    "import os\n",
    "from io import StringIO\n",
    "from functools import reduce\n",
    "\n",
    "import matplotlib.pyplot as plt"
   ]
  },
  {
   "cell_type": "markdown",
   "metadata": {},
   "source": [
    "INPUT_DIR = \"/home/tomasmizera/school/diploma/src/data/reviews/only-long\""
   ]
  },
  {
   "cell_type": "markdown",
   "metadata": {},
   "source": [
    "files_order = list(filter(lambda x: x, (map(lambda x: x.name if x.is_file() else '', os.scandir(INPUT_DIR)))))\n",
    "files_order"
   ]
  },
  {
   "cell_type": "code",
   "execution_count": null,
   "metadata": {},
   "outputs": [],
   "source": [
    "LOGS_DIR = \"/home/tomasmizera/school/diploma/src/data/logs/experiment/v3-fix/\""
   ]
  },
  {
   "cell_type": "code",
   "execution_count": null,
   "metadata": {},
   "outputs": [],
   "source": [
    "def load_files(path_to_files):\n",
    "    \n",
    "    def _read_text_file(filepath):\n",
    "        with open(filepath, 'r') as f:\n",
    "            lines = f.readlines()\n",
    "            lines[0] = lines[0][2:] # remove leading hashtag\n",
    "            lines[0] = lines[0].replace(',', ' ')\n",
    "            return reduce(lambda a, b: a + b, lines)\n",
    "    \n",
    "    files_it = os.scandir(path_to_files)\n",
    "    files_contents = {}\n",
    "    \n",
    "    for file in files_it:\n",
    "        if file.is_file() and file.name.startswith('fp-'):\n",
    "            factor = file.name.replace('fp-', '')\n",
    "            factor = factor.replace('.csv', '')\n",
    "            files_contents[factor] = _read_text_file(file.path)\n",
    "        \n",
    "    return dict(sorted(files_contents.items()))"
   ]
  },
  {
   "cell_type": "code",
   "execution_count": null,
   "metadata": {},
   "outputs": [],
   "source": [
    "file_contents = load_files(LOGS_DIR)"
   ]
  },
  {
   "cell_type": "code",
   "execution_count": null,
   "metadata": {},
   "outputs": [],
   "source": [
    "# 1. build dataframe from each\n",
    "\n",
    "dfs = {}\n",
    "\n",
    "for item in file_contents.items():\n",
    "    factor = item[0]\n",
    "    content = StringIO(item[1])\n",
    "    df = pd.read_csv(content, delimiter=' ')\n",
    "    dfs[factor] = df"
   ]
  },
  {
   "cell_type": "markdown",
   "metadata": {},
   "source": [
    "# 2. filter silly examples\n",
    "\n",
    "silly_files_mask = [\n",
    "    files_order.index(\"review-low.txt-test-setup\"),\n",
    "    files_order.index(\"review-med.txt-test-setup\"),\n",
    "    files_order.index(\"review-top.txt-test-setup\"),\n",
    "    files_order.index(\"review-low.txt-test\"),\n",
    "    files_order.index(\"review-med.txt-test\"),\n",
    "    files_order.index(\"review-top.txt-test\") \n",
    "]\n",
    "silly_files_mask"
   ]
  },
  {
   "cell_type": "code",
   "execution_count": null,
   "metadata": {},
   "outputs": [],
   "source": [
    "def process(df):\n",
    "#     df = df.drop(silly_files_mask, errors='ignore')\n",
    "    df = df.reset_index(drop=True)\n",
    "    \n",
    "    df['difSimple'] = df.originalP - df.simpleSP\n",
    "    df['difCustom'] = df.originalP - df.customSP\n",
    "    return df.difCustom.mean(), df.difSimple.mean()\n",
    "\n",
    "def process_arr(dfs):\n",
    "    data = {}\n",
    "    for d in dfs.items():\n",
    "        ix = d[0]\n",
    "        data[int(ix)] = process(d[1])\n",
    "    return data\n"
   ]
  },
  {
   "cell_type": "code",
   "execution_count": null,
   "metadata": {},
   "outputs": [],
   "source": [
    "processed = process_arr(dfs)"
   ]
  },
  {
   "cell_type": "code",
   "execution_count": null,
   "metadata": {},
   "outputs": [],
   "source": [
    "pdf = pd.DataFrame(processed).T\n",
    "pdf = pdf.rename({0:'custom', 1:'textrank'}, axis=1)\n",
    "pdf = pdf.sort_index()\n",
    "pdf"
   ]
  },
  {
   "cell_type": "code",
   "execution_count": null,
   "metadata": {},
   "outputs": [],
   "source": [
    "ax = pdf.plot(\n",
    "    figsize=(15,8), \n",
    "    xlabel=\"Factor\", \n",
    "    ylabel=\"Difference from original prediction\", \n",
    "    fontsize=10, \n",
    "    title=\"Difference from original prediction using various factors (the smaller the best)\"\n",
    ");\n",
    "\n",
    "ax.axhline(y=0, color='r', linestyle='--', label='vline1.5custom');\n",
    "\n",
    "plt.show()"
   ]
  },
  {
   "cell_type": "code",
   "execution_count": null,
   "metadata": {},
   "outputs": [],
   "source": [
    "pdf.T.plot.box(\n",
    "    figsize=(15,8), \n",
    "    xlabel=\"Factor\", \n",
    "    ylabel=\"Difference from original prediction\", \n",
    "    fontsize=10, \n",
    "    title=\"Difference from original prediction using various factors (the smaller the best)\"\n",
    ");"
   ]
  },
  {
   "cell_type": "code",
   "execution_count": null,
   "metadata": {},
   "outputs": [],
   "source": [
    "pdf.plot.box()"
   ]
  },
  {
   "cell_type": "code",
   "execution_count": null,
   "metadata": {},
   "outputs": [],
   "source": [
    "pdf.describe()"
   ]
  },
  {
   "cell_type": "markdown",
   "metadata": {},
   "source": [
    "**OUTCOME: For our method I choose factor of size 5!**"
   ]
  }
 ],
 "metadata": {
  "kernelspec": {
   "display_name": "Python 3",
   "language": "python",
   "name": "python3"
  },
  "language_info": {
   "codemirror_mode": {
    "name": "ipython",
    "version": 3
   },
   "file_extension": ".py",
   "mimetype": "text/x-python",
   "name": "python",
   "nbconvert_exporter": "python",
   "pygments_lexer": "ipython3",
   "version": "3.8.5"
  }
 },
 "nbformat": 4,
 "nbformat_minor": 4
}
