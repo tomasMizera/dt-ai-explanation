{
 "cells": [
  {
   "cell_type": "markdown",
   "metadata": {},
   "source": [
    "### IMDB DATASET ANALYSIS"
   ]
  },
  {
   "cell_type": "code",
   "execution_count": 1,
   "metadata": {},
   "outputs": [],
   "source": [
    "import sys\n",
    "sys.path.append('../../python/tme/')"
   ]
  },
  {
   "cell_type": "code",
   "execution_count": 2,
   "metadata": {},
   "outputs": [],
   "source": [
    "from tme.experiments import experiment_helper as eh"
   ]
  },
  {
   "cell_type": "code",
   "execution_count": 3,
   "metadata": {},
   "outputs": [],
   "source": [
    "from nltk import sent_tokenize"
   ]
  },
  {
   "cell_type": "code",
   "execution_count": 24,
   "metadata": {},
   "outputs": [],
   "source": [
    "dt = eh.load_imdb_dataset('train+test')"
   ]
  },
  {
   "cell_type": "code",
   "execution_count": 22,
   "metadata": {},
   "outputs": [
    {
     "data": {
      "text/plain": [
       "1076"
      ]
     },
     "execution_count": 22,
     "metadata": {},
     "output_type": "execute_result"
    }
   ],
   "source": [
    "560 # 40 and more sentences\n",
    "1600 # 30 and more sentences\n",
    "963 # 35 and more sentences\n",
    "860 # 36 and more sentences\n",
    "1076 # 34 and more sentences"
   ]
  },
  {
   "cell_type": "markdown",
   "metadata": {},
   "source": [
    "**1076 instances has 34 and more sentences**"
   ]
  },
  {
   "cell_type": "code",
   "execution_count": 34,
   "metadata": {},
   "outputs": [
    {
     "name": "stdout",
     "output_type": "stream",
     "text": [
      "\n",
      "\n",
      "\n",
      "\n",
      "\n",
      "\n",
      "\n",
      "\n",
      "\n",
      "\n",
      "\n",
      "\n",
      "\n",
      "\n",
      "\n",
      "\n",
      "\n",
      "\n",
      "\n",
      "\n",
      "\n",
      "\n",
      "\n",
      "\n",
      "\n",
      "\n",
      "\n",
      "\n",
      "\n",
      "\n",
      "\n",
      "\n",
      "\n",
      "\n",
      "\n",
      "\n",
      "\n",
      "\n",
      "\n",
      "\n",
      "\n",
      "\n",
      "\n",
      "\n",
      "\n",
      "\n",
      "\n",
      "\n",
      "\n",
      "\n",
      "\n",
      "\n",
      "\n",
      "\n",
      "\n",
      "\n",
      "\n",
      "\n",
      "\n",
      "\n",
      "\n",
      "\n",
      "\n",
      "\n",
      "\n",
      "\n",
      "\n",
      "\n",
      "\n",
      "\n",
      "\n",
      "\n",
      "\n",
      "\n",
      "\n",
      "\n",
      "\n",
      "\n",
      "\n",
      "\n",
      "\n",
      "\n",
      "\n",
      "\n",
      "\n",
      "\n",
      "\n",
      "\n",
      "\n",
      "\n",
      "\n",
      "\n",
      "\n",
      "\n",
      "\n",
      "\n",
      "\n",
      "\n",
      "\n",
      "\n"
     ]
    }
   ],
   "source": [
    "counts = {}\n",
    "for i in range(100):\n",
    "    count = 0\n",
    "    g = eh.prepare_dataset_v2(dt, i, 1000)\n",
    "    \n",
    "    while True:\n",
    "        try:\n",
    "            dat = next(g)\n",
    "        except Exception as e:\n",
    "            print(e)\n",
    "            break\n",
    "\n",
    "        count += len(dat)\n",
    "        \n",
    "    counts[i] = count"
   ]
  },
  {
   "cell_type": "code",
   "execution_count": 35,
   "metadata": {},
   "outputs": [
    {
     "data": {
      "text/plain": [
       "{0: 50000,\n",
       " 1: 50000,\n",
       " 2: 49247,\n",
       " 3: 48124,\n",
       " 4: 46060,\n",
       " 5: 42923,\n",
       " 6: 39057,\n",
       " 7: 34777,\n",
       " 8: 30433,\n",
       " 9: 26177,\n",
       " 10: 22218,\n",
       " 11: 18854,\n",
       " 12: 15977,\n",
       " 13: 13706,\n",
       " 14: 11720,\n",
       " 15: 10110,\n",
       " 16: 8762,\n",
       " 17: 7648,\n",
       " 18: 6731,\n",
       " 19: 5866,\n",
       " 20: 5204,\n",
       " 21: 4583,\n",
       " 22: 4064,\n",
       " 23: 3598,\n",
       " 24: 3174,\n",
       " 25: 2832,\n",
       " 26: 2534,\n",
       " 27: 2276,\n",
       " 28: 2035,\n",
       " 29: 1842,\n",
       " 30: 1659,\n",
       " 31: 1479,\n",
       " 32: 1330,\n",
       " 33: 1206,\n",
       " 34: 1076,\n",
       " 35: 963,\n",
       " 36: 860,\n",
       " 37: 775,\n",
       " 38: 695,\n",
       " 39: 626,\n",
       " 40: 567,\n",
       " 41: 491,\n",
       " 42: 421,\n",
       " 43: 381,\n",
       " 44: 323,\n",
       " 45: 292,\n",
       " 46: 267,\n",
       " 47: 233,\n",
       " 48: 203,\n",
       " 49: 176,\n",
       " 50: 158,\n",
       " 51: 144,\n",
       " 52: 130,\n",
       " 53: 111,\n",
       " 54: 99,\n",
       " 55: 88,\n",
       " 56: 78,\n",
       " 57: 68,\n",
       " 58: 64,\n",
       " 59: 61,\n",
       " 60: 53,\n",
       " 61: 48,\n",
       " 62: 45,\n",
       " 63: 42,\n",
       " 64: 37,\n",
       " 65: 34,\n",
       " 66: 31,\n",
       " 67: 26,\n",
       " 68: 25,\n",
       " 69: 25,\n",
       " 70: 24,\n",
       " 71: 22,\n",
       " 72: 20,\n",
       " 73: 19,\n",
       " 74: 18,\n",
       " 75: 16,\n",
       " 76: 13,\n",
       " 77: 13,\n",
       " 78: 12,\n",
       " 79: 11,\n",
       " 80: 11,\n",
       " 81: 10,\n",
       " 82: 10,\n",
       " 83: 8,\n",
       " 84: 8,\n",
       " 85: 7,\n",
       " 86: 7,\n",
       " 87: 5,\n",
       " 88: 5,\n",
       " 89: 5,\n",
       " 90: 5,\n",
       " 91: 5,\n",
       " 92: 4,\n",
       " 93: 4,\n",
       " 94: 4,\n",
       " 95: 4,\n",
       " 96: 4,\n",
       " 97: 4,\n",
       " 98: 4,\n",
       " 99: 4}"
      ]
     },
     "execution_count": 35,
     "metadata": {},
     "output_type": "execute_result"
    }
   ],
   "source": [
    "counts # save as counts-imdb in data/experiments "
   ]
  }
 ],
 "metadata": {
  "kernelspec": {
   "display_name": "Python 3",
   "language": "python",
   "name": "python3"
  },
  "language_info": {
   "codemirror_mode": {
    "name": "ipython",
    "version": 3
   },
   "file_extension": ".py",
   "mimetype": "text/x-python",
   "name": "python",
   "nbconvert_exporter": "python",
   "pygments_lexer": "ipython3",
   "version": "3.8.5"
  }
 },
 "nbformat": 4,
 "nbformat_minor": 4
}
