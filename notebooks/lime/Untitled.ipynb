{
 "cells": [
  {
   "cell_type": "code",
   "execution_count": null,
   "metadata": {},
   "outputs": [],
   "source": [
    "from lime import lime_text\n",
    "\n",
    "import os\n",
    "import pickle\n",
    "import sys\n",
    "from functools import reduce\n",
    "from pathlib import Path\n",
    "import numpy as np\n",
    "import pandas as pd\n",
    "\n",
    "from IPython.display import clear_output\n",
    "\n",
    "sys.path.append(\"../../python/tme/\")\n",
    "\n",
    "\n",
    "from tme.src.helper import highlight_summary\n",
    "from tme.src import tme"
   ]
  },
  {
   "cell_type": "code",
   "execution_count": null,
   "metadata": {},
   "outputs": [],
   "source": [
    "with open('../../data/experiments/saved-instances.pickle', 'rb') as f:\n",
    "    saved = pickle.load(f)"
   ]
  },
  {
   "cell_type": "code",
   "execution_count": null,
   "metadata": {},
   "outputs": [],
   "source": [
    "def explanation_sample(sample, i, category):\n",
    "    sample_vec = vectorizer.transform([sample])\n",
    "    \n",
    "    exl = ex.explain_instance(sample, pred, num_features=10)\n",
    "    ext = tm.explanation_summaries([sample], precomputed_explanations=[exl.as_list()], fm=1411)[0]\n",
    "    \n",
    "    dec = model.predict(sample_vec)[0]\n",
    "\n",
    "    exl.show_in_notebook()\n",
    "    highlight_summary(ext, summary_name=str(i), decision=dec, class_names=class_names)\n",
    "    response = input(prompt=\"Keep?\")\n",
    "    if response:\n",
    "        saved_instances.append((category, i, sample))"
   ]
  },
  {
   "cell_type": "code",
   "execution_count": null,
   "metadata": {},
   "outputs": [],
   "source": [
    "for i in range"
   ]
  }
 ],
 "metadata": {
  "kernelspec": {
   "display_name": "Python 3",
   "language": "python",
   "name": "python3"
  },
  "language_info": {
   "codemirror_mode": {
    "name": "ipython",
    "version": 3
   },
   "file_extension": ".py",
   "mimetype": "text/x-python",
   "name": "python",
   "nbconvert_exporter": "python",
   "pygments_lexer": "ipython3",
   "version": "3.8.5"
  }
 },
 "nbformat": 4,
 "nbformat_minor": 4
}
