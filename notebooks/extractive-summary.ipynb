{
 "cells": [
  {
   "cell_type": "markdown",
   "metadata": {},
   "source": [
    "## Text summarizer"
   ]
  },
  {
   "cell_type": "markdown",
   "metadata": {},
   "source": [
    "**Sumy - automatic text summarizer** \n",
    "\n",
    "https://pypi.org/project/sumy/\n",
    "\n",
    "Python package but also CLI"
   ]
  },
  {
   "cell_type": "code",
   "execution_count": 3,
   "metadata": {},
   "outputs": [],
   "source": [
    "import sumy"
   ]
  },
  {
   "cell_type": "code",
   "execution_count": 7,
   "metadata": {},
   "outputs": [
    {
     "name": "stdout",
     "output_type": "stream",
     "text": [
      "Usage:\n",
      "    sumy (luhn | edmundson | lsa | text-rank | lex-rank | sum-basic | kl) [--length=<length>] [--language=<lang>] [--stopwords=<file_path>] [--format=<format>]\n",
      "    sumy (luhn | edmundson | lsa | text-rank | lex-rank | sum-basic | kl) [--length=<length>] [--language=<lang>] [--stopwords=<file_path>] [--format=<format>] --url=<url>\n",
      "    sumy (luhn | edmundson | lsa | text-rank | lex-rank | sum-basic | kl) [--length=<length>] [--language=<lang>] [--stopwords=<file_path>] [--format=<format>] --file=<file_path>\n",
      "    sumy (luhn | edmundson | lsa | text-rank | lex-rank | sum-basic | kl) [--length=<length>] [--language=<lang>] [--stopwords=<file_path>] [--format=<format>] --text=<text>\n",
      "    sumy --version\n",
      "    sumy --help\n"
     ]
    }
   ],
   "source": [
    "!sumy"
   ]
  },
  {
   "cell_type": "code",
   "execution_count": 9,
   "metadata": {},
   "outputs": [
    {
     "name": "stdout",
     "output_type": "stream",
     "text": [
      "Sumy - automatic text summarizer.\n",
      "\n",
      "Usage:\n",
      "    sumy (luhn | edmundson | lsa | text-rank | lex-rank | sum-basic | kl) [--length=<length>] [--language=<lang>] [--stopwords=<file_path>] [--format=<format>]\n",
      "    sumy (luhn | edmundson | lsa | text-rank | lex-rank | sum-basic | kl) [--length=<length>] [--language=<lang>] [--stopwords=<file_path>] [--format=<format>] --url=<url>\n",
      "    sumy (luhn | edmundson | lsa | text-rank | lex-rank | sum-basic | kl) [--length=<length>] [--language=<lang>] [--stopwords=<file_path>] [--format=<format>] --file=<file_path>\n",
      "    sumy (luhn | edmundson | lsa | text-rank | lex-rank | sum-basic | kl) [--length=<length>] [--language=<lang>] [--stopwords=<file_path>] [--format=<format>] --text=<text>\n",
      "    sumy --version\n",
      "    sumy --help\n",
      "\n",
      "Options:\n",
      "    --length=<length>        Length of summarized text. It may be count of sentences\n",
      "                             or percentage of input text. [default: 20%]\n",
      "    --language=<lang>        Natural language of summarized text. [default: english]\n",
      "    --stopwords=<file_path>  Path to a file containing a list of stopwords. One word per line in UTF-8 encoding.\n",
      "                             If it's not provided default list of stop-words is used according to chosen language.\n",
      "    --format=<format>        Format of input document. Possible values: html, plaintext\n",
      "    --url=<url>              URL address of the web page to summarize.\n",
      "    --file=<file_path>       Path to the text file to summarize.\n",
      "    --text=<text>            Raw text to summarize\n",
      "    --version                Displays current application version.\n",
      "    --help                   Displays this text.\n"
     ]
    }
   ],
   "source": [
    "!sumy --help"
   ]
  },
  {
   "cell_type": "markdown",
   "metadata": {},
   "source": [
    "---\n",
    "**Example article**: Matovic chce nove kriterium, nie klzavy median https://dennikn.sk/2083278/hoci-matovic-chcel-nove-kriterium-vratili-sme-sa-ku-klzavemu-medianu-preco-to-nie-je-dobry-napad/?ref=tit"
   ]
  },
  {
   "cell_type": "markdown",
   "metadata": {},
   "source": [
    "**Luhn:**"
   ]
  },
  {
   "cell_type": "code",
   "execution_count": 14,
   "metadata": {},
   "outputs": [
    {
     "name": "stdout",
     "output_type": "stream",
     "text": [
      "Premiér Igor Matovič na tlačovej konferencii po zasadnutí krízového štábu oznámil, že opatrenia skončia, keď sedemdňový kĺzavý medián denných prírastkov pozitívne testovaných klesne pod 500.\n",
      "Napríklad malé množstvo extrémne vysokých hodnôt.\n",
      "Ak štyri dni po sebe pribudne 150 a viac prípadov, znova zatvárame Príklad: ak drvivá väčšina ľudí zarába 500 eur a málé množstvo ľudí zarába desaťtisíce eur, tak priemerná mzda bude ovplyvnená tými extrémne vysokými mzdami.\n",
      "Lenže v druhej vlne testujeme tak veľa a máme tak veľa pozitívnych prípadov, že nie je dôvod, prečo by sme mali očakávať extrémne vychyľujúce sa denné prírastky od bežných prírastkov.\n",
      "Ak by sme z nejakého dôvodu mali v párne dni 499 nových prípadov a v nepárne dni 10-tisíc nových prípadov, tak by sa kĺzavý medián skokovito menil každý deň.\n",
      "To, koľko za deň pribudne nových pozitívnych, nezávisí totiž len od samotnej epidémie, ale napríklad aj od kapacity testovania.\n",
      "Aj v tieto dni, keď pozitivita testovania prekročila 10 percent a ďalej rastie, sú denné prírastky pozitívne testovaných každým dňom vzdialenejšie od reality.\n",
      "Ešte koncom septembra pritom aj sám premiér na tlačovej konferencii povedal, že by sa malo zadefinovať presnejšie kritérium.\n",
      "„Ten ukazuje obraz, kto sa nakazil pred dvomi týždňami, ale omnoho dôležitejšie je, koľko ľudí vám skončí v nemocniciach, koľko ľudí zomiera a koľko je na pľúcnych ventiláciách,“ povedal koncom septembra Matovič.\n",
      "„Očakávam od pána ministra, že príde s takouto odpoveďou, že to nebude môcť byť len o kĺzavom mediáne, ale že to bude kombinácia troch parametrov – kĺzavý medián, počet pacientov v nemocniciach a počet pacientov na pľúcnej ventilácii,“ hovoril Matovič pred dvomi týždňami.\n"
     ]
    }
   ],
   "source": [
    "!sumy luhn --language=slovak --file=../example-data/dennikn-article.txt"
   ]
  },
  {
   "cell_type": "markdown",
   "metadata": {},
   "source": [
    "**Text-rank:**"
   ]
  },
  {
   "cell_type": "code",
   "execution_count": 16,
   "metadata": {},
   "outputs": [
    {
     "name": "stdout",
     "output_type": "stream",
     "text": [
      "Premiér Igor Matovič na tlačovej konferencii po zasadnutí krízového štábu oznámil, že opatrenia skončia, keď sedemdňový kĺzavý medián denných prírastkov pozitívne testovaných klesne pod 500.\n",
      "Kĺzavý medián si verejnosť pamätá z prvej vlny.\n",
      "Medián je preto vhodný pre taký súbor hodnôt, v ktorom sa vyskytujú extrémne hodnoty len na jednej strane.\n",
      "Ak štyri dni po sebe pribudne 150 a viac prípadov, znova zatvárame Príklad: ak drvivá väčšina ľudí zarába 500 eur a málé množstvo ľudí zarába desaťtisíce eur, tak priemerná mzda bude ovplyvnená tými extrémne vysokými mzdami.\n",
      "Lenže v druhej vlne testujeme tak veľa a máme tak veľa pozitívnych prípadov, že nie je dôvod, prečo by sme mali očakávať extrémne vychyľujúce sa denné prírastky od bežných prírastkov.\n",
      "Preto sa mení skokovito, nie plynule a o tom, akú bude mať kĺzavý medián hodnotu, nerozhodujú len čísla samotné, ale aj to, či sa nízkym alebo vysokým hodnotám podarí vyskytnúť sa štyrikrát v súbore siedmich čísel.\n",
      "Ak by sme z nejakého dôvodu mali v párne dni 499 nových prípadov a v nepárne dni 10-tisíc nových prípadov, tak by sa kĺzavý medián skokovito menil každý deň.\n",
      "Jeden deň by sme uvoľňovali a druhý deň by sme rýchlo zatvárali a desili sa z vysokého mediánu.\n",
      "Minister Krajčí mu mal povedať, že nie všetko je kĺzavý medián.\n",
      "„Očakávam od pána ministra, že príde s takouto odpoveďou, že to nebude môcť byť len o kĺzavom mediáne, ale že to bude kombinácia troch parametrov – kĺzavý medián, počet pacientov v nemocniciach a počet pacientov na pľúcnej ventilácii,“ hovoril Matovič pred dvomi týždňami.\n"
     ]
    }
   ],
   "source": [
    "!sumy text-rank --language=slovak --file=../example-data/dennikn-article.txt"
   ]
  },
  {
   "cell_type": "markdown",
   "metadata": {},
   "source": [
    "**Kl:**"
   ]
  },
  {
   "cell_type": "code",
   "execution_count": 17,
   "metadata": {},
   "outputs": [
    {
     "name": "stdout",
     "output_type": "stream",
     "text": [
      "Prečo to nie je dobrý nápad\n",
      "Preto sa často hovorí, že ak sa bavíme o mzdách Slovákov, mali by sme sa baviť o mediánovej mzde, nie priemernej.\n",
      "Ak štyri dni po sebe pribudne 150 a viac prípadov, znova zatvárame Príklad: ak drvivá väčšina ľudí zarába 500 eur a málé množstvo ľudí zarába desaťtisíce eur, tak priemerná mzda bude ovplyvnená tými extrémne vysokými mzdami.\n",
      "Mediánová mzda by však bola 500 eur.\n",
      "Samozrejme, v praxi je výpočet priemernej mzdy komplexnejší a extrémne vysoké mzdy sa z výpočtu vylučujú.\n",
      "V prvej vlne sa mohlo stávať, že pri bežnom testovaní sa odhalilo len málo prípadov a potom pri cielenom testovaní nejakého ohniska sa nárazovo objavilo extrémne vysoké číslo.\n",
      "Lenže v druhej vlne testujeme tak veľa a máme tak veľa pozitívnych prípadov, že nie je dôvod, prečo by sme mali očakávať extrémne vychyľujúce sa denné prírastky od bežných prírastkov.\n",
      "V realite by sa však nič nemenilo.\n",
      "Aj v tieto dni, keď pozitivita testovania prekročila 10 percent a ďalej rastie, sú denné prírastky pozitívne testovaných každým dňom vzdialenejšie od reality.\n",
      "„Ten ukazuje obraz, kto sa nakazil pred dvomi týždňami, ale omnoho dôležitejšie je, koľko ľudí vám skončí v nemocniciach, koľko ľudí zomiera a koľko je na pľúcnych ventiláciách,“ povedal koncom septembra Matovič.\n"
     ]
    }
   ],
   "source": [
    "!sumy kl --language=slovak --file=../example-data/dennikn-article.txt"
   ]
  },
  {
   "cell_type": "markdown",
   "metadata": {},
   "source": [
    "**Official example:**"
   ]
  },
  {
   "cell_type": "code",
   "execution_count": 20,
   "metadata": {},
   "outputs": [
    {
     "name": "stdout",
     "output_type": "stream",
     "text": [
      "Automatic summarization is the process of shortening a set of data computationally, to create a subset (a summary ) that represents the most important or relevant information within the original content.\n",
      "Some techniques and algorithms which naturally model summarization problems are TextRank and PageRank, Submodular set function , Determinantal point process , maximal marginal relevance (MMR) etc.\n",
      "\"The Army Corps of Engineers, rushing to meet President Bush's promise to protect New Orleans by the start of the 2006 hurricane season, installed defective flood-control pumps last year despite warnings from its own expert that the equipment would fail during a storm, according to documents obtained by The Associated Press\".\n",
      "Although the system exhibited good results, the researchers wanted to explore the effectiveness of a maximum entropy (ME) classifier for the meeting summarization task, as ME is known to be robust against feature dependencies.\n",
      "Automatic summaries present information extracted from multiple sources algorithmically, without any editorial touch or subjective human intervention, thus making it completely unbiased.\n",
      "LexRank deals with diversity as a heuristic final stage using CSIS, and other systems have used similar methods, such as Maximal Marginal Relevance (MMR), [12] in trying to eliminate redundancy in information retrieval results.\n",
      "There is a general purpose graph-based ranking algorithm like Page/Lex/TextRank that handles both \"centrality\" and \"diversity\" in a unified mathematical framework based on absorbing Markov chain random walks.\n",
      "^ Rada Mihalcea and Paul Tarau, 2004: TextRank: Bringing Order into Texts , Department of Computer Science University of North Texas \"Archived copy\" (PDF) .\n",
      "^ Sebastian Tschiatschek, Rishabh Iyer, Hoachen Wei and Jeff Bilmes, Learning Mixtures of Submodular Functions for Image Collection Summarization , In Advances of Neural Information Processing Systems (NIPS), Montreal, Canada, December - 2014.\n",
      ", Published in Proceeding RIAO'10 Adaptivity, Personalization and Fusion of Heterogeneous Information, CID Paris, France Xiaojin, Zhu, Andrew Goldberg, Jurgen Van Gael, and David Andrzejewski (2007).\n"
     ]
    }
   ],
   "source": [
    "from __future__ import absolute_import\n",
    "from __future__ import division, print_function, unicode_literals\n",
    "\n",
    "from sumy.parsers.html import HtmlParser\n",
    "from sumy.parsers.plaintext import PlaintextParser\n",
    "from sumy.nlp.tokenizers import Tokenizer\n",
    "from sumy.summarizers.lsa import LsaSummarizer as Summarizer\n",
    "from sumy.nlp.stemmers import Stemmer\n",
    "from sumy.utils import get_stop_words\n",
    "\n",
    "\n",
    "LANGUAGE = \"english\"\n",
    "SENTENCES_COUNT = 10\n",
    "\n",
    "\n",
    "if __name__ == \"__main__\":\n",
    "    url = \"https://en.wikipedia.org/wiki/Automatic_summarization\"\n",
    "    parser = HtmlParser.from_url(url, Tokenizer(LANGUAGE))\n",
    "    # or for plain text files\n",
    "    # parser = PlaintextParser.from_file(\"document.txt\", Tokenizer(LANGUAGE))\n",
    "    # parser = PlaintextParser.from_string(\"Check this out.\", Tokenizer(LANGUAGE))\n",
    "    stemmer = Stemmer(LANGUAGE)\n",
    "\n",
    "    summarizer = Summarizer(stemmer)\n",
    "    summarizer.stop_words = get_stop_words(LANGUAGE)\n",
    "\n",
    "    for sentence in summarizer(parser.document, SENTENCES_COUNT):\n",
    "        print(sentence)"
   ]
  },
  {
   "cell_type": "markdown",
   "metadata": {},
   "source": [
    "---"
   ]
  }
 ],
 "metadata": {
  "kernelspec": {
   "display_name": "Python 3",
   "language": "python",
   "name": "python3"
  },
  "language_info": {
   "codemirror_mode": {
    "name": "ipython",
    "version": 3
   },
   "file_extension": ".py",
   "mimetype": "text/x-python",
   "name": "python",
   "nbconvert_exporter": "python",
   "pygments_lexer": "ipython3",
   "version": "3.8.2"
  }
 },
 "nbformat": 4,
 "nbformat_minor": 4
}
