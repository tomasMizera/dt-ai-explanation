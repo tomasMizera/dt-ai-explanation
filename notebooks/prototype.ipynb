{
 "cells": [
  {
   "cell_type": "markdown",
   "metadata": {},
   "source": [
    "Prototype of model explanation via Anchors with help of extractive summary\n",
    "---"
   ]
  },
  {
   "cell_type": "code",
   "execution_count": 1,
   "metadata": {},
   "outputs": [],
   "source": [
    "import numpy as np\n",
    "\n",
    "import tensorflow_datasets as tfds\n",
    "import tensorflow as tf\n",
    "\n",
    "import time\n",
    "\n",
    "tfds.disable_progress_bar()"
   ]
  },
  {
   "cell_type": "code",
   "execution_count": 2,
   "metadata": {},
   "outputs": [],
   "source": [
    "now = time.strftime(\"%Y-%m-%d_%H:%M\")"
   ]
  },
  {
   "cell_type": "code",
   "execution_count": 3,
   "metadata": {},
   "outputs": [
    {
     "name": "stdout",
     "output_type": "stream",
     "text": [
      "[{<ipython-input-3-280961de8cbb>:14} CRITICAL - Logging prototype v1 with TF model\n"
     ]
    }
   ],
   "source": [
    "import logging\n",
    "import sys\n",
    "\n",
    "logging.basicConfig(\n",
    "    level=logging.DEBUG, \n",
    "    format='[{%(filename)s:%(lineno)d} %(levelname)s - %(message)s',\n",
    "    handlers=[\n",
    "        logging.FileHandler(filename=f'../data/logs/v1-{now}.log'),\n",
    "        logging.StreamHandler(sys.stdout)\n",
    "    ]\n",
    ")\n",
    "\n",
    "l = logging.getLogger('prototype')\n",
    "l.critical(\"Logging prototype v1 with TF model\")"
   ]
  },
  {
   "cell_type": "markdown",
   "metadata": {},
   "source": [
    "---"
   ]
  },
  {
   "cell_type": "code",
   "execution_count": 4,
   "metadata": {},
   "outputs": [],
   "source": [
    "def _load_model():\n",
    "    \"\"\"\n",
    "    Define a function that loads a model to be explained and returns its instance\n",
    "    \"\"\"\n",
    "    \n",
    "    dataset, info = tfds.load('imdb_reviews', with_info=True,\n",
    "                          as_supervised=True)\n",
    "    train_dataset, test_dataset = dataset['train'], dataset['test']\n",
    "    train_dataset.element_spec\n",
    "    BUFFER_SIZE = 10000\n",
    "    BATCH_SIZE = 64\n",
    "    train_dataset = train_dataset.shuffle(BUFFER_SIZE).batch(BATCH_SIZE).prefetch(tf.data.experimental.AUTOTUNE)\n",
    "    test_dataset = test_dataset.batch(BATCH_SIZE).prefetch(tf.data.experimental.AUTOTUNE)\n",
    "    \n",
    "    VOCAB_SIZE=1000\n",
    "    encoder = tf.keras.layers.experimental.preprocessing.TextVectorization(max_tokens=VOCAB_SIZE)\n",
    "    encoder.adapt(train_dataset.map(lambda text, label: text))\n",
    "    \n",
    "    model = tf.keras.Sequential([\n",
    "        encoder,\n",
    "        tf.keras.layers.Embedding(\n",
    "            input_dim=len(encoder.get_vocabulary()),\n",
    "            output_dim=64,\n",
    "            # Use masking to handle the variable sequence lengths\n",
    "            mask_zero=True),\n",
    "        tf.keras.layers.Bidirectional(tf.keras.layers.LSTM(64)),\n",
    "        tf.keras.layers.Dense(64, activation='relu'),\n",
    "        tf.keras.layers.Dense(1)\n",
    "    ])\n",
    "    \n",
    "    model.compile(loss=tf.keras.losses.BinaryCrossentropy(from_logits=True),\n",
    "              optimizer=tf.keras.optimizers.Adam(1e-4),\n",
    "              metrics=['accuracy'])\n",
    "    model.load_weights('../raw-data/lstm-model-v1')\n",
    "    \n",
    "    return model    "
   ]
  },
  {
   "cell_type": "code",
   "execution_count": 5,
   "metadata": {},
   "outputs": [
    {
     "name": "stdout",
     "output_type": "stream",
     "text": [
      "[{dataset_builder.py:840} INFO - No config specified, defaulting to first: imdb_reviews/plain_text\n",
      "[{dataset_info.py:362} INFO - Load dataset info from /home/tomasmizera/tensorflow_datasets/imdb_reviews/plain_text/1.0.0\n",
      "[{dataset_builder.py:323} INFO - Reusing dataset imdb_reviews (/home/tomasmizera/tensorflow_datasets/imdb_reviews/plain_text/1.0.0)\n",
      "[{dataset_builder.py:528} INFO - Constructing tf.data.Dataset for split None, from /home/tomasmizera/tensorflow_datasets/imdb_reviews/plain_text/1.0.0\n",
      "[{<ipython-input-5-619c90ce7f16>:2} INFO - Model loaded\n"
     ]
    }
   ],
   "source": [
    "model = _load_model()\n",
    "l.info(\"Model loaded\")"
   ]
  },
  {
   "cell_type": "code",
   "execution_count": 6,
   "metadata": {},
   "outputs": [
    {
     "data": {
      "text/plain": [
       "array([[1.201608]], dtype=float32)"
      ]
     },
     "execution_count": 6,
     "metadata": {},
     "output_type": "execute_result"
    }
   ],
   "source": [
    "model.predict([\"hahahahahahahahahaha this is the most funny film I have ever seen\"])"
   ]
  },
  {
   "cell_type": "code",
   "execution_count": 7,
   "metadata": {},
   "outputs": [
    {
     "name": "stdout",
     "output_type": "stream",
     "text": [
      "WARNING:tensorflow:From <ipython-input-7-a7e6831c0071>:1: Sequential.predict_proba (from tensorflow.python.keras.engine.sequential) is deprecated and will be removed after 2021-01-01.\n",
      "Instructions for updating:\n",
      "Please use `model.predict()` instead.\n",
      "[{deprecation.py:317} WARNING - From <ipython-input-7-a7e6831c0071>:1: Sequential.predict_proba (from tensorflow.python.keras.engine.sequential) is deprecated and will be removed after 2021-01-01.\n",
      "Instructions for updating:\n",
      "Please use `model.predict()` instead.\n",
      "WARNING:tensorflow:Network returning invalid probability values. The last layer might not normalize predictions into probabilities (like softmax or sigmoid would).\n",
      "[{sequential.py:425} WARNING - Network returning invalid probability values. The last layer might not normalize predictions into probabilities (like softmax or sigmoid would).\n"
     ]
    },
    {
     "data": {
      "text/plain": [
       "array([[1.201608]], dtype=float32)"
      ]
     },
     "execution_count": 7,
     "metadata": {},
     "output_type": "execute_result"
    }
   ],
   "source": [
    "model.predict_proba([\"hahahahahahahahahaha this is the most funny film I have ever seen\"])"
   ]
  },
  {
   "cell_type": "markdown",
   "metadata": {},
   "source": [
    "---"
   ]
  },
  {
   "cell_type": "markdown",
   "metadata": {},
   "source": [
    "Explanation\n",
    "---"
   ]
  },
  {
   "cell_type": "markdown",
   "metadata": {},
   "source": [
    "### 1. Preparation"
   ]
  },
  {
   "cell_type": "code",
   "execution_count": 7,
   "metadata": {},
   "outputs": [],
   "source": [
    "from anchor import anchor_text\n",
    "import spacy\n",
    "\n",
    "from __future__ import absolute_import\n",
    "from __future__ import division, print_function, unicode_literals\n",
    "\n",
    "from sumy.parsers.html import HtmlParser\n",
    "from sumy.parsers.plaintext import PlaintextParser\n",
    "from sumy.nlp.tokenizers import Tokenizer\n",
    "from sumy.nlp.stemmers import Stemmer\n",
    "from sumy.utils import get_stop_words\n",
    "from sumy.summarizers.text_rank import TextRankSummarizer\n",
    "from sumy.summarizers import _summarizer\n",
    "\n",
    "import os"
   ]
  },
  {
   "cell_type": "code",
   "execution_count": 8,
   "metadata": {},
   "outputs": [],
   "source": [
    "LANGUAGE = \"english\"\n",
    "SENTENCES_COUNT = 6\n",
    "nlp = spacy.load(\"en_core_web_lg\")"
   ]
  },
  {
   "cell_type": "code",
   "execution_count": 97,
   "metadata": {},
   "outputs": [],
   "source": [
    "in_file = \"../data/reviews/review-top.txt\"\n",
    "in_files = [\"review-top.txt\", \"review-med.txt\", \"review-low.txt\"]\n",
    "in_files_path = list(map(lambda x: os.path.join(\"../data/reviews\", x), in_files))\n",
    "\n",
    "test_input = \"hahahahahahahahahaha this is the most funny film I have ever seen\""
   ]
  },
  {
   "cell_type": "code",
   "execution_count": 10,
   "metadata": {},
   "outputs": [],
   "source": [
    "file_data = None\n",
    "\n",
    "with open(in_file, 'r') as f:\n",
    "    file_data = f.read()"
   ]
  },
  {
   "cell_type": "code",
   "execution_count": 11,
   "metadata": {},
   "outputs": [],
   "source": [
    "parser = PlaintextParser.from_file(in_file, Tokenizer(LANGUAGE))\n",
    "\n",
    "summarizer = TextRankSummarizer(Stemmer(LANGUAGE))\n",
    "summarizer.stop_words = get_stop_words('slovak')\n",
    "\n",
    "helper = _summarizer.AbstractSummarizer()"
   ]
  },
  {
   "cell_type": "code",
   "execution_count": 120,
   "metadata": {},
   "outputs": [],
   "source": [
    "explanator = anchor_text.AnchorText(nlp, ['negative', 'positive'], use_unk_distribution=True)"
   ]
  },
  {
   "cell_type": "code",
   "execution_count": 118,
   "metadata": {},
   "outputs": [
    {
     "data": {
      "text/plain": [
       "('self', 'nlp', 'class_names', 'use_unk_distribution', 'mask_string')"
      ]
     },
     "execution_count": 118,
     "metadata": {},
     "output_type": "execute_result"
    }
   ],
   "source": [
    "anchor_text.AnchorText.__init__.__code__.co_varnames"
   ]
  },
  {
   "cell_type": "code",
   "execution_count": 13,
   "metadata": {},
   "outputs": [],
   "source": [
    "# define a decorator to log execusion time\n",
    "# inspired by https://medium.com/pythonhive/python-decorator-to-measure-the-execution-time-of-methods-fa04cb6bb36d\n",
    "\n",
    "def timeit(method):\n",
    "    def timed(*args, **kw):\n",
    "        timed.calls += 1\n",
    "        ts = time.time()\n",
    "        result = method(*args, **kw)\n",
    "        te = time.time()\n",
    "        timed.time_taken += (te - ts) * 1000\n",
    "        return result\n",
    "    timed.calls = 0\n",
    "    timed.time_taken = 0\n",
    "    return timed"
   ]
  },
  {
   "cell_type": "markdown",
   "metadata": {},
   "source": [
    "---"
   ]
  },
  {
   "cell_type": "markdown",
   "metadata": {},
   "source": [
    "### 2. Execution\n",
    "\n",
    "> Example for positive review"
   ]
  },
  {
   "cell_type": "code",
   "execution_count": 14,
   "metadata": {},
   "outputs": [
    {
     "name": "stdout",
     "output_type": "stream",
     "text": [
      "[{<ipython-input-14-9e84a1d64b6b>:1} INFO - Starting an algorithm\n"
     ]
    }
   ],
   "source": [
    "l.info(\"Starting an algorithm\")"
   ]
  },
  {
   "cell_type": "markdown",
   "metadata": {},
   "source": [
    "**2.1 Model prediction**"
   ]
  },
  {
   "cell_type": "code",
   "execution_count": 15,
   "metadata": {},
   "outputs": [],
   "source": [
    "@timeit\n",
    "def _predict(_input):\n",
    "    \"\"\"\n",
    "    Define a function that takes in a model input (1d array) and returns a prediction (1d array)\n",
    "    \"\"\"\n",
    "    \n",
    "    return model.predict(_input)[0]"
   ]
  },
  {
   "cell_type": "code",
   "execution_count": 16,
   "metadata": {},
   "outputs": [
    {
     "data": {
      "text/plain": [
       "array([1.201608], dtype=float32)"
      ]
     },
     "execution_count": 16,
     "metadata": {},
     "output_type": "execute_result"
    }
   ],
   "source": [
    "_predict([test_input])"
   ]
  },
  {
   "cell_type": "markdown",
   "metadata": {},
   "source": [
    "**2.2 Instance explanation**"
   ]
  },
  {
   "cell_type": "code",
   "execution_count": 37,
   "metadata": {},
   "outputs": [],
   "source": [
    "def _explain_instance(file):\n",
    "    explanation = explanator.explain_instance(file, _predict, threshold=0.95, verbose=False, use_proba=True)\n",
    "    l.info('Took:  %2.2f ms' % \\\n",
    "                  (_predict.time_taken))\n",
    "    l.info(f'Called {_predict.calls} times')\n",
    "    l.info(' AND '.join(explanation.names()))\n",
    "    l.info(f'Precision: {explanation.precision()}')\n",
    "    l.info(f'Coverage: {explanation.coverage()}')\n",
    "    _predict.calls = 0\n",
    "    _predict.time_taken = 0\n",
    "    \n",
    "    return explanation"
   ]
  },
  {
   "cell_type": "code",
   "execution_count": 45,
   "metadata": {},
   "outputs": [
    {
     "name": "stdout",
     "output_type": "stream",
     "text": [
      "[{<ipython-input-37-55ec315d8548>:3} INFO - Took:  1618.88 ms\n",
      "[{<ipython-input-37-55ec315d8548>:5} INFO - Called 49 times\n",
      "[{<ipython-input-37-55ec315d8548>:6} INFO - not\n",
      "[{<ipython-input-37-55ec315d8548>:7} INFO - Precision: 0.00847457627118644\n",
      "[{<ipython-input-37-55ec315d8548>:8} INFO - Coverage: 0.0\n"
     ]
    }
   ],
   "source": [
    "expl = _explain_instance(\"not great hm\")"
   ]
  },
  {
   "cell_type": "markdown",
   "metadata": {},
   "source": [
    "**2.3 Calculate importance**"
   ]
  },
  {
   "cell_type": "code",
   "execution_count": 103,
   "metadata": {},
   "outputs": [],
   "source": [
    "def _calc_importance(explanation):\n",
    "    cov = explanation.coverage()\n",
    "    prec = explanation.precision()\n",
    "    \n",
    "    if max(cov, prec) == 0:\n",
    "        l.debug(\"Importance denominator is 0, thus importancy is 1\")\n",
    "        return 1\n",
    "    \n",
    "    # updated relative change\n",
    "    importancy = 1 + abs((prec - cov)/max(cov, prec))\n",
    "    \n",
    "    l.info(f'Importance: {importancy}')\n",
    "    return importancy"
   ]
  },
  {
   "cell_type": "code",
   "execution_count": 104,
   "metadata": {},
   "outputs": [
    {
     "name": "stdout",
     "output_type": "stream",
     "text": [
      "[{<ipython-input-103-bd2caefbfc97>:6} DEBUG - Importance denominator is 0, thus importancy is 1\n"
     ]
    },
    {
     "data": {
      "text/plain": [
       "1"
      ]
     },
     "execution_count": 104,
     "metadata": {},
     "output_type": "execute_result"
    }
   ],
   "source": [
    "_calc_importance(expl)"
   ]
  },
  {
   "cell_type": "markdown",
   "metadata": {},
   "source": [
    "**2.4 Summarization of document**"
   ]
  },
  {
   "cell_type": "code",
   "execution_count": 81,
   "metadata": {},
   "outputs": [
    {
     "data": {
      "text/plain": [
       "(<Sentence: Cinematographer Tobias A. Schliessler makes an early contrast between the outside world and the dank basement of the studio by bathing a shot of Cutler, Slow Drag and Toledo crossing the street in a preternatural beauty that calls attention to its fakery.>,\n",
       " <Sentence: This is the bitter irony of the play, a tragic commentary on the realities facing Black musicians of the day.>)"
      ]
     },
     "execution_count": 81,
     "metadata": {},
     "output_type": "execute_result"
    }
   ],
   "source": [
    "# example how to override sumy\n",
    "helper._get_best_sentences(parser.document.sentences, 2, summarizer.rate_sentences(parser.document))"
   ]
  },
  {
   "cell_type": "code",
   "execution_count": 85,
   "metadata": {},
   "outputs": [],
   "source": [
    "def _summarize_doc_basic():\n",
    "    return summarizer(parser.document, SENTENCES_COUNT)\n",
    "\n",
    "\n",
    "def _summarize_doc_custom(explanation, importance):\n",
    "    rates = summarizer.rate_sentences(parser.document)\n",
    "    \n",
    "    for sentence in rates.keys():\n",
    "        # iterate over sentences and if any word from anchor matches a word in sentence, bigger sentences importancy\n",
    "        if any([anchor_word in str(sentence) for anchor_word in explanation.names()]):\n",
    "            l.debug(\"Changing importancy of sentence: \" + str(sentence) + \" from: \" + str(rates[sentence]))\n",
    "            rates[sentence] = rates[sentence] * importance\n",
    "            l.debug(\"to: \" + str(rates[sentence]))\n",
    "    \n",
    "    resulting_summary = helper._get_best_sentences(parser.document.sentences, SENTENCES_COUNT, rates)\n",
    "    \n",
    "    l.info(\"Resulting summary:\")\n",
    "    l.info(str(resulting_summary))\n",
    "    \n",
    "    return resulting_summary\n"
   ]
  },
  {
   "cell_type": "markdown",
   "metadata": {},
   "source": [
    "**2.5 Predict summarized text**"
   ]
  },
  {
   "cell_type": "code",
   "execution_count": 115,
   "metadata": {},
   "outputs": [],
   "source": [
    "# helper function to join summary\n",
    "def _get_data_from_summary(summary):\n",
    "    return ' '.join(list(map(lambda sentence: str(sentence), summary)))"
   ]
  },
  {
   "cell_type": "markdown",
   "metadata": {},
   "source": [
    "**Running all**"
   ]
  },
  {
   "cell_type": "code",
   "execution_count": 98,
   "metadata": {},
   "outputs": [],
   "source": [
    "in_files_path_test = list(map(lambda x: x + \"-test\", in_files_path))\n",
    "in_files_path_test_setup = list(map(lambda x: x + \"-test-setup\", in_files_path))"
   ]
  },
  {
   "cell_type": "code",
   "execution_count": 116,
   "metadata": {},
   "outputs": [
    {
     "name": "stdout",
     "output_type": "stream",
     "text": [
      "[{<ipython-input-116-4b965dba8105>:2} INFO - Processing: ../data/reviews/review-top.txt-test-setup\n",
      "[{<ipython-input-116-4b965dba8105>:8} INFO - Model decision on instance: [0.16594736]\n",
      "[{<ipython-input-37-55ec315d8548>:3} INFO - Took:  146.39 ms\n",
      "[{<ipython-input-37-55ec315d8548>:5} INFO - Called 4 times\n",
      "[{<ipython-input-37-55ec315d8548>:6} INFO - Ma\n",
      "[{<ipython-input-37-55ec315d8548>:7} INFO - Precision: 0.0\n",
      "[{<ipython-input-37-55ec315d8548>:8} INFO - Coverage: 0.0\n",
      "[{<ipython-input-103-bd2caefbfc97>:6} DEBUG - Importance denominator is 0, thus importancy is 1\n",
      "[{<ipython-input-85-d1928ce456c2>:11} DEBUG - Changing importancy of sentence: “Ma Rainey’s Black Bottom” is a celebration of three real-life Black artists and legends. from: 0.007970186531502338\n",
      "[{<ipython-input-85-d1928ce456c2>:13} DEBUG - to: 0.007970186531502338\n",
      "[{<ipython-input-85-d1928ce456c2>:11} DEBUG - Changing importancy of sentence: Levee has loftier goals than his current job as a member of the backing band of Ma Rainey (Viola Davis). from: 0.012543835102542969\n",
      "[{<ipython-input-85-d1928ce456c2>:13} DEBUG - to: 0.012543835102542969\n",
      "[{<ipython-input-85-d1928ce456c2>:11} DEBUG - Changing importancy of sentence: This is bound to cause dissent, because as Cutler (Colman Domingo), the trombonist points out, Ma ultimately calls all the shots, not Levee. from: 0.012852365128731055\n",
      "[{<ipython-input-85-d1928ce456c2>:13} DEBUG - to: 0.012852365128731055\n",
      "[{<ipython-input-85-d1928ce456c2>:11} DEBUG - Changing importancy of sentence: Levee and Ma are the live wires, but the rest of the band is more pragmatic, either due to age, wisdom or merely wanting to get in and out as quickly as possible. from: 0.020938224451366706\n",
      "[{<ipython-input-85-d1928ce456c2>:13} DEBUG - to: 0.020938224451366706\n",
      "[{<ipython-input-85-d1928ce456c2>:11} DEBUG - Changing importancy of sentence: They’re the first three to arrive, meeting Ma’s agent Irvin (Jeremy Shamos) at the rather rundown recording studio where they are to record an album of Ma’s biggest numbers (and a Bessie Smith cover or two, which is sure to ruffle Ma’s feathers). from: 0.01464627663953815\n",
      "[{<ipython-input-85-d1928ce456c2>:13} DEBUG - to: 0.01464627663953815\n",
      "[{<ipython-input-85-d1928ce456c2>:11} DEBUG - Changing importancy of sentence: This is the same spot where we’ll meet Ma Rainey, though under far more realistic-looking circumstances. from: 0.008647055202100485\n",
      "[{<ipython-input-85-d1928ce456c2>:13} DEBUG - to: 0.008647055202100485\n",
      "[{<ipython-input-85-d1928ce456c2>:11} DEBUG - Changing importancy of sentence: Eventually, Ma arrives, covered in greasepaint, pissed off about her car and lugging along Dussie Mae (Taylour Paige), her latest side piece. from: 0.006396475404928514\n",
      "[{<ipython-input-85-d1928ce456c2>:13} DEBUG - to: 0.006396475404928514\n",
      "[{<ipython-input-85-d1928ce456c2>:11} DEBUG - Changing importancy of sentence: It must have been women, cuz I don’t like no mens.” Though Dussie Mae is way too flirty, the band members know she’s off limits. from: 0.009715002847913535\n",
      "[{<ipython-input-85-d1928ce456c2>:13} DEBUG - to: 0.009715002847913535\n",
      "[{<ipython-input-85-d1928ce456c2>:11} DEBUG - Changing importancy of sentence: Unlike the guy in that Satanic story, Ma doesn’t need to sell her soul to have power to throw around. from: 0.009074498724978617\n",
      "[{<ipython-input-85-d1928ce456c2>:13} DEBUG - to: 0.009074498724978617\n",
      "[{<ipython-input-85-d1928ce456c2>:11} DEBUG - Changing importancy of sentence: “All they care about is my voice,” says Ma. from: 0.004659325385630616\n",
      "[{<ipython-input-85-d1928ce456c2>:13} DEBUG - to: 0.004659325385630616\n",
      "[{<ipython-input-85-d1928ce456c2>:11} DEBUG - Changing importancy of sentence: One of Ma’s requirements before she records “Ma Rainey’s Black Bottom” is to have her nephew Sylvester (Dusan Brown) do the spoken introduction to the song. from: 0.014865174513532059\n",
      "[{<ipython-input-85-d1928ce456c2>:13} DEBUG - to: 0.014865174513532059\n",
      "[{<ipython-input-85-d1928ce456c2>:11} DEBUG - Changing importancy of sentence: Levee’s arrangement doesn’t have this feature—it’s a faster, more swingy number that correctly hints at the musical trends that will follow—but Ma predictably vetoes his input. from: 0.011048832017789256\n",
      "[{<ipython-input-85-d1928ce456c2>:13} DEBUG - to: 0.011048832017789256\n",
      "[{<ipython-input-85-d1928ce456c2>:11} DEBUG - Changing importancy of sentence: Even in the quieter moments, her Ma Rainey fills up the room. from: 0.012233369170322488\n",
      "[{<ipython-input-85-d1928ce456c2>:13} DEBUG - to: 0.012233369170322488\n",
      "[{<ipython-input-85-d1928ce456c2>:11} DEBUG - Changing importancy of sentence: “Ma Rainey’s Black Bottom” has several, and Hudson keeps the author’s generosity in dispensing them to all the main characters. from: 0.01326698906766745\n",
      "[{<ipython-input-85-d1928ce456c2>:13} DEBUG - to: 0.01326698906766745\n",
      "[{<ipython-input-85-d1928ce456c2>:11} DEBUG - Changing importancy of sentence: “Ma Rainey’s Black Bottom” saves its most emotional moments for Levee, however, and Boseman devours them with a ferocity that sears the screen. from: 0.012487158740841098\n",
      "[{<ipython-input-85-d1928ce456c2>:13} DEBUG - to: 0.012487158740841098\n",
      "[{<ipython-input-85-d1928ce456c2>:11} DEBUG - Changing importancy of sentence: Both plays end with the sound of trumpets, but in “Fences,” Gabriel’s horn opens the gates of Heaven for Troy Maxson. from: 0.01525981338014976\n",
      "[{<ipython-input-85-d1928ce456c2>:13} DEBUG - to: 0.01525981338014976\n",
      "[{<ipython-input-85-d1928ce456c2>:11} DEBUG - Changing importancy of sentence: In “Ma Rainey’s Black Bottom,” the fruits of Levee’s horn blow him in the other direction. from: 0.0152260599594915\n",
      "[{<ipython-input-85-d1928ce456c2>:13} DEBUG - to: 0.0152260599594915\n",
      "[{<ipython-input-85-d1928ce456c2>:17} INFO - Resulting summary:\n",
      "[{<ipython-input-85-d1928ce456c2>:18} INFO - (<Sentence: Levee and Ma are the live wires, but the rest of the band is more pragmatic, either due to age, wisdom or merely wanting to get in and out as quickly as possible.>, <Sentence: Cinematographer Tobias A. Schliessler makes an early contrast between the outside world and the dank basement of the studio by bathing a shot of Cutler, Slow Drag and Toledo crossing the street in a preternatural beauty that calls attention to its fakery.>, <Sentence: The men shoot the breeze, often with a bit of tension, and at one point, the wind blows toward a story about a colored man who sold his soul to the Devil.>, <Sentence: It’s in this moment that the distance between actor, viewer and role fractures: Boseman knew he was dying when he performed this monologue, and some of the things he’s saying as Levee sound like questions one would ask oneself if facing one’s own mortality.>, <Sentence: This is the bitter irony of the play, a tragic commentary on the realities facing Black musicians of the day.>, <Sentence: The parallels between this outcome and the earlier deal with the Devil story are evident, except the guy in that tale sold his soul willingly.>)\n",
      "[{<ipython-input-116-4b965dba8105>:18} INFO - Model decision on summarized instance: [1.7030114]\n",
      "[{<ipython-input-116-4b965dba8105>:20} INFO - Done processing: ../data/reviews/review-top.txt-test-setup\n",
      " ===== \n",
      "[{<ipython-input-116-4b965dba8105>:2} INFO - Processing: ../data/reviews/review-med.txt-test-setup\n",
      "[{<ipython-input-116-4b965dba8105>:8} INFO - Model decision on instance: [-0.15916954]\n",
      "[{<ipython-input-37-55ec315d8548>:3} INFO - Took:  203.02 ms\n",
      "[{<ipython-input-37-55ec315d8548>:5} INFO - Called 5 times\n",
      "[{<ipython-input-37-55ec315d8548>:6} INFO - Even\n",
      "[{<ipython-input-37-55ec315d8548>:7} INFO - Precision: 0.2\n",
      "[{<ipython-input-37-55ec315d8548>:8} INFO - Coverage: 1.0\n",
      "[{<ipython-input-103-bd2caefbfc97>:12} INFO - Importance: 1.8\n",
      "[{<ipython-input-85-d1928ce456c2>:11} DEBUG - Changing importancy of sentence: Eventually, Ma arrives, covered in greasepaint, pissed off about her car and lugging along Dussie Mae (Taylour Paige), her latest side piece. from: 0.006396475404928514\n",
      "[{<ipython-input-85-d1928ce456c2>:13} DEBUG - to: 0.011513655728871326\n",
      "[{<ipython-input-85-d1928ce456c2>:11} DEBUG - Changing importancy of sentence: Even in the quieter moments, her Ma Rainey fills up the room. from: 0.012233369170322488\n",
      "[{<ipython-input-85-d1928ce456c2>:13} DEBUG - to: 0.022020064506580478\n",
      "[{<ipython-input-85-d1928ce456c2>:17} INFO - Resulting summary:\n",
      "[{<ipython-input-85-d1928ce456c2>:18} INFO - (<Sentence: Cinematographer Tobias A. Schliessler makes an early contrast between the outside world and the dank basement of the studio by bathing a shot of Cutler, Slow Drag and Toledo crossing the street in a preternatural beauty that calls attention to its fakery.>, <Sentence: The men shoot the breeze, often with a bit of tension, and at one point, the wind blows toward a story about a colored man who sold his soul to the Devil.>, <Sentence: Even in the quieter moments, her Ma Rainey fills up the room.>, <Sentence: It’s in this moment that the distance between actor, viewer and role fractures: Boseman knew he was dying when he performed this monologue, and some of the things he’s saying as Levee sound like questions one would ask oneself if facing one’s own mortality.>, <Sentence: This is the bitter irony of the play, a tragic commentary on the realities facing Black musicians of the day.>, <Sentence: The parallels between this outcome and the earlier deal with the Devil story are evident, except the guy in that tale sold his soul willingly.>)\n",
      "[{<ipython-input-116-4b965dba8105>:18} INFO - Model decision on summarized instance: [1.5783658]\n",
      "[{<ipython-input-116-4b965dba8105>:20} INFO - Done processing: ../data/reviews/review-med.txt-test-setup\n",
      " ===== \n",
      "[{<ipython-input-116-4b965dba8105>:2} INFO - Processing: ../data/reviews/review-low.txt-test-setup\n",
      "[{<ipython-input-116-4b965dba8105>:8} INFO - Model decision on instance: [0.23031433]\n",
      "[{<ipython-input-37-55ec315d8548>:3} INFO - Took:  249.73 ms\n",
      "[{<ipython-input-37-55ec315d8548>:5} INFO - Called 5 times\n",
      "[{<ipython-input-37-55ec315d8548>:6} INFO - One\n",
      "[{<ipython-input-37-55ec315d8548>:7} INFO - Precision: 0.14285714285714285\n",
      "[{<ipython-input-37-55ec315d8548>:8} INFO - Coverage: 1.0\n",
      "[{<ipython-input-103-bd2caefbfc97>:12} INFO - Importance: 1.8571428571428572\n",
      "[{<ipython-input-85-d1928ce456c2>:11} DEBUG - Changing importancy of sentence: One of Ma’s requirements before she records “Ma Rainey’s Black Bottom” is to have her nephew Sylvester (Dusan Brown) do the spoken introduction to the song. from: 0.014865174513532059\n",
      "[{<ipython-input-85-d1928ce456c2>:13} DEBUG - to: 0.02760675266798811\n",
      "[{<ipython-input-85-d1928ce456c2>:11} DEBUG - Changing importancy of sentence: One of them shows up in producer Denzel Washington’s own adaptation, “Fences,” and his main character here is a guy who hopes his trumpet is his ticket to the big time. from: 0.017507388524336875\n",
      "[{<ipython-input-85-d1928ce456c2>:13} DEBUG - to: 0.03251372154519706\n",
      "[{<ipython-input-85-d1928ce456c2>:17} INFO - Resulting summary:\n",
      "[{<ipython-input-85-d1928ce456c2>:18} INFO - (<Sentence: Cinematographer Tobias A. Schliessler makes an early contrast between the outside world and the dank basement of the studio by bathing a shot of Cutler, Slow Drag and Toledo crossing the street in a preternatural beauty that calls attention to its fakery.>, <Sentence: One of Ma’s requirements before she records “Ma Rainey’s Black Bottom” is to have her nephew Sylvester (Dusan Brown) do the spoken introduction to the song.>, <Sentence: It’s in this moment that the distance between actor, viewer and role fractures: Boseman knew he was dying when he performed this monologue, and some of the things he’s saying as Levee sound like questions one would ask oneself if facing one’s own mortality.>, <Sentence: One of them shows up in producer Denzel Washington’s own adaptation, “Fences,” and his main character here is a guy who hopes his trumpet is his ticket to the big time.>, <Sentence: This is the bitter irony of the play, a tragic commentary on the realities facing Black musicians of the day.>, <Sentence: The parallels between this outcome and the earlier deal with the Devil story are evident, except the guy in that tale sold his soul willingly.>)\n",
      "[{<ipython-input-116-4b965dba8105>:18} INFO - Model decision on summarized instance: [1.5956739]\n",
      "[{<ipython-input-116-4b965dba8105>:20} INFO - Done processing: ../data/reviews/review-low.txt-test-setup\n",
      " ===== \n"
     ]
    }
   ],
   "source": [
    "for file in in_files_path_test_setup:\n",
    "    l.info(\"Processing: \" + file)\n",
    "    \n",
    "    file_data = None\n",
    "    with open(file, 'r') as f:\n",
    "        file_data = f.read()\n",
    "        \n",
    "    l.info(f'Model decision on instance: {_predict([file_data])}')\n",
    "    \n",
    "    explanation = _explain_instance(file_data)\n",
    "    \n",
    "    # process explanation\n",
    "    importance = _calc_importance(explanation)\n",
    "    \n",
    "    summary = _summarize_doc_custom(explanation, importance)\n",
    "    \n",
    "    summarized_data = _get_data_from_summary(summary)\n",
    "    l.info(f'Model decision on summarized instance: {_predict([summarized_data])}')\n",
    "    \n",
    "    l.info('Done processing: ' + file + '\\n ===== ')"
   ]
  }
 ],
 "metadata": {
  "kernelspec": {
   "display_name": "Python 3",
   "language": "python",
   "name": "python3"
  },
  "language_info": {
   "codemirror_mode": {
    "name": "ipython",
    "version": 3
   },
   "file_extension": ".py",
   "mimetype": "text/x-python",
   "name": "python",
   "nbconvert_exporter": "python",
   "pygments_lexer": "ipython3",
   "version": "3.8.5"
  }
 },
 "nbformat": 4,
 "nbformat_minor": 4
}
