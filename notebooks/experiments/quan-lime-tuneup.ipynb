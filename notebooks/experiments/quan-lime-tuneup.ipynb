{
 "cells": [
  {
   "cell_type": "markdown",
   "metadata": {},
   "source": [
    "# Quantitaive Experiment Evaluation of Religion Dataset with hyperparameter tuning"
   ]
  },
  {
   "cell_type": "markdown",
   "metadata": {},
   "source": [
    "To get some inspiration, e.g. seaborn, plotly and brokeh looks great https://mode.com/blog/python-data-visualization-libraries/"
   ]
  },
  {
   "cell_type": "markdown",
   "metadata": {},
   "source": [
    "---"
   ]
  },
  {
   "cell_type": "markdown",
   "metadata": {},
   "source": [
    "**1st Hypothesis: With use of an Importance factor in an extractive summary,we get a closer/shorter, more precise, representation of input text regard-ing to a model than without use of an IF. A number of changed predictions on these two summarization approaches will be statistically significant.**"
   ]
  },
  {
   "cell_type": "markdown",
   "metadata": {},
   "source": [
    "---"
   ]
  },
  {
   "cell_type": "code",
   "execution_count": 1,
   "metadata": {},
   "outputs": [],
   "source": [
    "import numpy as np\n",
    "import pandas as pd\n",
    "import matplotlib.pyplot as plt\n",
    "import seaborn as sns\n",
    "\n",
    "import scipy.stats as st\n",
    "\n",
    "import os\n",
    "import sys\n",
    "import pickle\n",
    "\n",
    "%matplotlib inline"
   ]
  },
  {
   "cell_type": "markdown",
   "metadata": {},
   "source": [
    "---\n",
    "\n",
    "#### Load data from experiment"
   ]
  },
  {
   "cell_type": "code",
   "execution_count": 2,
   "metadata": {},
   "outputs": [],
   "source": [
    "DATA_PATHS = {f'e{k}': f'../../data/experiments/quan-f-e{k}/latest/csv/' for k in [5, 10, 15, 20, 30, 50, 100, 1000]}"
   ]
  },
  {
   "cell_type": "code",
   "execution_count": 3,
   "metadata": {},
   "outputs": [],
   "source": [
    "FACTOR = 962  # constant"
   ]
  },
  {
   "cell_type": "code",
   "execution_count": 4,
   "metadata": {},
   "outputs": [],
   "source": [
    "def load_files(path_to_files):\n",
    "    files_it = os.scandir(path_to_files)\n",
    "    frames = {}\n",
    "    \n",
    "    for file in files_it:\n",
    "        if file.is_file() and file.name.startswith('fm:') and file.name.endswith('.csv'):\n",
    "            frame = pd.read_csv(file.path)\n",
    "            \n",
    "            version = file.name\\\n",
    "                .replace('fm:', '')\\\n",
    "                .replace('sen:', '')\\\n",
    "                .replace('part:', '')\\\n",
    "                .replace('.csv', '')\n",
    "\n",
    "            _, senlen, _ = version.split('-')\n",
    "            \n",
    "            senlen = int(senlen)\n",
    "            \n",
    "            if senlen in frames:\n",
    "                frames[senlen] = pd.concat([frames[senlen], frame], ignore_index=True)\n",
    "            else:\n",
    "                frames[senlen] = frame\n",
    "        \n",
    "    return dict(sorted(frames.items()))\n",
    "\n",
    "def load_more_files(folders):\n",
    "    \n",
    "    ret = {}\n",
    "    for folder in folders:\n",
    "        ret[folder] = load_files(folders[folder])\n",
    "    \n",
    "    return ret"
   ]
  },
  {
   "cell_type": "code",
   "execution_count": 5,
   "metadata": {},
   "outputs": [],
   "source": [
    "data = load_more_files(DATA_PATHS)"
   ]
  },
  {
   "cell_type": "markdown",
   "metadata": {},
   "source": [
    "---"
   ]
  },
  {
   "cell_type": "code",
   "execution_count": 6,
   "metadata": {},
   "outputs": [
    {
     "data": {
      "text/plain": [
       "dict_keys(['e5', 'e10', 'e15', 'e20', 'e30', 'e50', 'e100', 'e1000'])"
      ]
     },
     "execution_count": 6,
     "metadata": {},
     "output_type": "execute_result"
    }
   ],
   "source": [
    "data.keys()"
   ]
  },
  {
   "cell_type": "code",
   "execution_count": 7,
   "metadata": {},
   "outputs": [
    {
     "data": {
      "text/plain": [
       "8"
      ]
     },
     "execution_count": 7,
     "metadata": {},
     "output_type": "execute_result"
    }
   ],
   "source": [
    "len(data)"
   ]
  },
  {
   "cell_type": "code",
   "execution_count": 8,
   "metadata": {},
   "outputs": [
    {
     "data": {
      "text/plain": [
       "dict_keys([4, 6, 8, 10, 12])"
      ]
     },
     "execution_count": 8,
     "metadata": {},
     "output_type": "execute_result"
    }
   ],
   "source": [
    "data['e5'].keys()"
   ]
  },
  {
   "cell_type": "markdown",
   "metadata": {},
   "source": [
    "Data is a dict in dicts that have different number of top features count (LIME, from 5 to 1000) and summaries (sentences) length (SUMY, from 4 to 12)"
   ]
  },
  {
   "cell_type": "markdown",
   "metadata": {},
   "source": [
    "---\n",
    "\n",
    "#### Describe"
   ]
  },
  {
   "cell_type": "code",
   "execution_count": 9,
   "metadata": {},
   "outputs": [
    {
     "data": {
      "text/plain": [
       "Index(['original-0', 'original-1', 'custom-0', 'custom-1', 'simple-0',\n",
       "       'simple-1', 'trueClass'],\n",
       "      dtype='object')"
      ]
     },
     "execution_count": 9,
     "metadata": {},
     "output_type": "execute_result"
    }
   ],
   "source": [
    "data['e5'][4].columns"
   ]
  },
  {
   "cell_type": "markdown",
   "metadata": {},
   "source": [
    "Columns:\n",
    " - **original[0/1]**: prediction of the examined model on the entire instance\n",
    " - **custom[0/1]**: prediction of the examined model on the custom (explanation) summaries\n",
    " - **simple[0/1]**: prediction of the examined model on the simple (TextRank) summaries without altering weights\n",
    " - **trueClass**: true class of the original instance, **(0 = atheism, 1 = christianity)**"
   ]
  },
  {
   "cell_type": "markdown",
   "metadata": {},
   "source": [
    "From two predictions we are going to look at the distance between model predictions on entire texts and summaries. We narrow down predictions only for the model predicted class."
   ]
  },
  {
   "cell_type": "markdown",
   "metadata": {},
   "source": [
    "---\n",
    "\n",
    "#### Predictions"
   ]
  },
  {
   "cell_type": "code",
   "execution_count": 10,
   "metadata": {},
   "outputs": [],
   "source": [
    "def convert_to_predicted(df):\n",
    "    a = df[df['original-0'] > df['original-1']][['original-0', 'custom-0', 'simple-0']].rename(columns={\n",
    "        'original-0': 'original',\n",
    "        'custom-0': 'custom',\n",
    "        'simple-0': 'simple'\n",
    "    })\n",
    "    b = df[df['original-0'] < df['original-1']][['original-1', 'simple-1', 'custom-1']].rename(columns={\n",
    "        'original-1': 'original',\n",
    "        'custom-1': 'custom',\n",
    "        'simple-1': 'simple'\n",
    "    })\n",
    "    return pd.concat([a, b]).reset_index(drop=True)\n",
    "\n",
    "def convert_to_class(df, cl):\n",
    "    a = df[[f'original-{cl}', f'custom-{cl}', f'simple-{cl}']].rename(columns={\n",
    "        f'original-{cl}': 'original',\n",
    "        f'custom-{cl}': 'custom',\n",
    "        f'simple-{cl}': 'simple'\n",
    "    })\n",
    "    return a"
   ]
  },
  {
   "cell_type": "markdown",
   "metadata": {},
   "source": [
    "Here, maybe it would be interesting to compare predictions for both classes, whether there is not a bias somewhere to one class"
   ]
  },
  {
   "cell_type": "code",
   "execution_count": 11,
   "metadata": {},
   "outputs": [],
   "source": [
    "df = pd.DataFrame()\n",
    "for e in data:\n",
    "    for s in data[e]:\n",
    "        f = convert_to_class(data[e][s], 1)\n",
    "        f['featfilter'] = int(e.replace('e', ''))\n",
    "        f['senlen'] = int(s)\n",
    "        df = pd.concat([df, f])"
   ]
  },
  {
   "cell_type": "code",
   "execution_count": 12,
   "metadata": {},
   "outputs": [],
   "source": [
    "df = df.reset_index(drop=True)"
   ]
  },
  {
   "cell_type": "code",
   "execution_count": 13,
   "metadata": {},
   "outputs": [
    {
     "data": {
      "text/html": [
       "<div>\n",
       "<style scoped>\n",
       "    .dataframe tbody tr th:only-of-type {\n",
       "        vertical-align: middle;\n",
       "    }\n",
       "\n",
       "    .dataframe tbody tr th {\n",
       "        vertical-align: top;\n",
       "    }\n",
       "\n",
       "    .dataframe thead th {\n",
       "        text-align: right;\n",
       "    }\n",
       "</style>\n",
       "<table border=\"1\" class=\"dataframe\">\n",
       "  <thead>\n",
       "    <tr style=\"text-align: right;\">\n",
       "      <th></th>\n",
       "      <th>original</th>\n",
       "      <th>custom</th>\n",
       "      <th>simple</th>\n",
       "      <th>featfilter</th>\n",
       "      <th>senlen</th>\n",
       "    </tr>\n",
       "  </thead>\n",
       "  <tbody>\n",
       "    <tr>\n",
       "      <th>31168</th>\n",
       "      <td>0.99399</td>\n",
       "      <td>0.99230</td>\n",
       "      <td>0.97808</td>\n",
       "      <td>20</td>\n",
       "      <td>8</td>\n",
       "    </tr>\n",
       "    <tr>\n",
       "      <th>44049</th>\n",
       "      <td>0.99532</td>\n",
       "      <td>0.99606</td>\n",
       "      <td>0.99574</td>\n",
       "      <td>30</td>\n",
       "      <td>12</td>\n",
       "    </tr>\n",
       "    <tr>\n",
       "      <th>18942</th>\n",
       "      <td>1.00000</td>\n",
       "      <td>0.99999</td>\n",
       "      <td>1.00000</td>\n",
       "      <td>15</td>\n",
       "      <td>4</td>\n",
       "    </tr>\n",
       "  </tbody>\n",
       "</table>\n",
       "</div>"
      ],
      "text/plain": [
       "       original   custom   simple  featfilter  senlen\n",
       "31168   0.99399  0.99230  0.97808          20       8\n",
       "44049   0.99532  0.99606  0.99574          30      12\n",
       "18942   1.00000  0.99999  1.00000          15       4"
      ]
     },
     "execution_count": 13,
     "metadata": {},
     "output_type": "execute_result"
    }
   ],
   "source": [
    "df.sample(3)"
   ]
  },
  {
   "cell_type": "code",
   "execution_count": 14,
   "metadata": {},
   "outputs": [
    {
     "data": {
      "text/plain": [
       "72720"
      ]
     },
     "execution_count": 14,
     "metadata": {},
     "output_type": "execute_result"
    }
   ],
   "source": [
    "df.shape[0]"
   ]
  },
  {
   "cell_type": "code",
   "execution_count": 15,
   "metadata": {},
   "outputs": [
    {
     "data": {
      "text/plain": [
       "original      float64\n",
       "custom        float64\n",
       "simple        float64\n",
       "featfilter      int64\n",
       "senlen          int64\n",
       "dtype: object"
      ]
     },
     "execution_count": 15,
     "metadata": {},
     "output_type": "execute_result"
    }
   ],
   "source": [
    "df.dtypes"
   ]
  },
  {
   "cell_type": "code",
   "execution_count": 16,
   "metadata": {},
   "outputs": [
    {
     "data": {
      "text/plain": [
       "original      0\n",
       "custom        0\n",
       "simple        0\n",
       "featfilter    0\n",
       "senlen        0\n",
       "dtype: int64"
      ]
     },
     "execution_count": 16,
     "metadata": {},
     "output_type": "execute_result"
    }
   ],
   "source": [
    "df.isna().sum()"
   ]
  },
  {
   "cell_type": "code",
   "execution_count": 17,
   "metadata": {},
   "outputs": [
    {
     "data": {
      "text/plain": [
       "45450"
      ]
     },
     "execution_count": 17,
     "metadata": {},
     "output_type": "execute_result"
    }
   ],
   "source": [
    "df[df.featfilter==10].size"
   ]
  },
  {
   "cell_type": "markdown",
   "metadata": {},
   "source": [
    "45450 per each **top features count** parameter"
   ]
  },
  {
   "cell_type": "code",
   "execution_count": 18,
   "metadata": {},
   "outputs": [],
   "source": [
    "# Normalize values to custom bounds https://stackoverflow.com/a/48109733/7875594\n",
    "def normalize(values, bounds):\n",
    "    if bounds['actual']['upper'] == bounds['actual']['lower']:\n",
    "        return values\n",
    "    return [bounds['desired']['lower'] + (abs(x) - bounds['actual']['lower']) * (bounds['desired']['upper'] - bounds['desired']['lower']) / \n",
    "            (bounds['actual']['upper'] - bounds['actual']['lower']) for x in values]\n",
    "\n",
    "\n",
    "def process_mean(df):\n",
    "    df = df.reset_index(drop=True)\n",
    "    \n",
    "    df['difSimple'] = df.original - df.simple\n",
    "    df['difCustom'] = df.original - df.custom\n",
    "    return df.difCustom.mean(), df.difSimple.mean()\n",
    "\n",
    "\n",
    "def process_mse(frame):\n",
    "    \"\"\"\n",
    "    From input dataframe returns 2 MSE errors: (1) error from custom summaries, (2) error from simple summaries\n",
    "    \"\"\"\n",
    "    df = frame.copy(deep=True)\n",
    "    \n",
    "    # 1. normalize to (-1, 1)\n",
    "    bounds = {\n",
    "        'actual': {\n",
    "            'lower':df[['original','custom','simple']].min().min(), \n",
    "            'upper':df[['original','custom','simple']].max().max()\n",
    "        }, \n",
    "        'desired':{\n",
    "            'lower':-1,\n",
    "            'upper':1\n",
    "        }\n",
    "    }\n",
    "    \n",
    "    df['normOriginal'] = normalize(df.original, bounds)\n",
    "    df['normCustom'] = normalize(df.custom, bounds)\n",
    "    df['normSimple'] = normalize(df.simple, bounds)\n",
    "    \n",
    "    # 2. subtract textrank and custom predictions from model prediction on entire instance to get errors\n",
    "    df['errorSimple'] = df.normOriginal - df.normSimple\n",
    "    df['errorCustom'] = df.normOriginal - df.normCustom\n",
    "    \n",
    "    # 3. square errors\n",
    "    df['errorSimple'] = df.errorSimple ** 2\n",
    "    df['errorCustom'] = df.errorCustom ** 2\n",
    "    \n",
    "    # 4. find mean\n",
    "    # 5. square root errors    \n",
    "    return df.groupby(by=['featfilter','senlen'])[['errorSimple', 'errorCustom']].mean().apply(np.sqrt)\n",
    "\n",
    "\n",
    "def process_arr(dfs, error_func):\n",
    "    data = {}\n",
    "    \n",
    "    for d in dfs.items():\n",
    "        ix = d[0]\n",
    "        if error_func == 'mse':\n",
    "            data[int(ix)] = process_mse(d[1])\n",
    "        elif error_func == 'mean':\n",
    "            data[int(ix)] = process_mean(d[1])\n",
    "    return data"
   ]
  },
  {
   "cell_type": "code",
   "execution_count": 19,
   "metadata": {},
   "outputs": [],
   "source": [
    "res_combinations = process_mse(df).reset_index()"
   ]
  },
  {
   "cell_type": "code",
   "execution_count": 20,
   "metadata": {},
   "outputs": [
    {
     "data": {
      "text/html": [
       "<div>\n",
       "<style scoped>\n",
       "    .dataframe tbody tr th:only-of-type {\n",
       "        vertical-align: middle;\n",
       "    }\n",
       "\n",
       "    .dataframe tbody tr th {\n",
       "        vertical-align: top;\n",
       "    }\n",
       "\n",
       "    .dataframe thead th {\n",
       "        text-align: right;\n",
       "    }\n",
       "</style>\n",
       "<table border=\"1\" class=\"dataframe\">\n",
       "  <thead>\n",
       "    <tr style=\"text-align: right;\">\n",
       "      <th></th>\n",
       "      <th>featfilter</th>\n",
       "      <th>senlen</th>\n",
       "      <th>errorSimple</th>\n",
       "      <th>errorCustom</th>\n",
       "    </tr>\n",
       "  </thead>\n",
       "  <tbody>\n",
       "    <tr>\n",
       "      <th>0</th>\n",
       "      <td>5</td>\n",
       "      <td>4</td>\n",
       "      <td>0.529790</td>\n",
       "      <td>0.325671</td>\n",
       "    </tr>\n",
       "    <tr>\n",
       "      <th>38</th>\n",
       "      <td>1000</td>\n",
       "      <td>10</td>\n",
       "      <td>0.358959</td>\n",
       "      <td>0.236340</td>\n",
       "    </tr>\n",
       "  </tbody>\n",
       "</table>\n",
       "</div>"
      ],
      "text/plain": [
       "    featfilter  senlen  errorSimple  errorCustom\n",
       "0            5       4     0.529790     0.325671\n",
       "38        1000      10     0.358959     0.236340"
      ]
     },
     "execution_count": 20,
     "metadata": {},
     "output_type": "execute_result"
    }
   ],
   "source": [
    "res_combinations.sample(2)"
   ]
  },
  {
   "cell_type": "code",
   "execution_count": 21,
   "metadata": {},
   "outputs": [],
   "source": [
    "res_combinations=res_combinations.melt(id_vars=['senlen', 'featfilter'], value_vars=['errorSimple', 'errorCustom'], value_name='error').rename(columns={'variable': 'summary_type'})"
   ]
  },
  {
   "cell_type": "code",
   "execution_count": 22,
   "metadata": {},
   "outputs": [
    {
     "data": {
      "text/html": [
       "<div>\n",
       "<style scoped>\n",
       "    .dataframe tbody tr th:only-of-type {\n",
       "        vertical-align: middle;\n",
       "    }\n",
       "\n",
       "    .dataframe tbody tr th {\n",
       "        vertical-align: top;\n",
       "    }\n",
       "\n",
       "    .dataframe thead th {\n",
       "        text-align: right;\n",
       "    }\n",
       "</style>\n",
       "<table border=\"1\" class=\"dataframe\">\n",
       "  <thead>\n",
       "    <tr style=\"text-align: right;\">\n",
       "      <th></th>\n",
       "      <th>senlen</th>\n",
       "      <th>featfilter</th>\n",
       "      <th>summary_type</th>\n",
       "      <th>error</th>\n",
       "    </tr>\n",
       "  </thead>\n",
       "  <tbody>\n",
       "    <tr>\n",
       "      <th>53</th>\n",
       "      <td>10</td>\n",
       "      <td>15</td>\n",
       "      <td>errorCustom</td>\n",
       "      <td>0.192202</td>\n",
       "    </tr>\n",
       "    <tr>\n",
       "      <th>70</th>\n",
       "      <td>4</td>\n",
       "      <td>100</td>\n",
       "      <td>errorCustom</td>\n",
       "      <td>0.396155</td>\n",
       "    </tr>\n",
       "  </tbody>\n",
       "</table>\n",
       "</div>"
      ],
      "text/plain": [
       "    senlen  featfilter summary_type     error\n",
       "53      10          15  errorCustom  0.192202\n",
       "70       4         100  errorCustom  0.396155"
      ]
     },
     "execution_count": 22,
     "metadata": {},
     "output_type": "execute_result"
    }
   ],
   "source": [
    "res_combinations.sample(2)"
   ]
  },
  {
   "cell_type": "code",
   "execution_count": 23,
   "metadata": {},
   "outputs": [],
   "source": [
    "res_combinations = res_combinations.replace(\"errorCustom\", \"explanation\").replace(\"errorSimple\", \"simple\")"
   ]
  },
  {
   "cell_type": "code",
   "execution_count": 24,
   "metadata": {},
   "outputs": [
    {
     "data": {
      "text/plain": [
       "<AxesSubplot:xlabel='senlen', ylabel='error'>"
      ]
     },
     "execution_count": 24,
     "metadata": {},
     "output_type": "execute_result"
    },
    {
     "data": {
      "image/png": "[encoded data removed]",
      "text/plain": [
       "<Figure size 1152x432 with 1 Axes>"
      ]
     },
     "metadata": {
      "needs_background": "light"
     },
     "output_type": "display_data"
    }
   ],
   "source": [
    "plt.figure(figsize=(16, 6))\n",
    "sns.barplot(data=res_combinations, x=\"senlen\", y=\"error\", hue=\"featfilter\")"
   ]
  },
  {
   "cell_type": "code",
   "execution_count": 25,
   "metadata": {},
   "outputs": [
    {
     "data": {
      "image/png": "[encoded data removed]",
      "text/plain": [
       "<Figure size 1152x432 with 2 Axes>"
      ]
     },
     "metadata": {
      "needs_background": "light"
     },
     "output_type": "display_data"
    }
   ],
   "source": [
    "g = sns.catplot(data=res_combinations, x=\"featfilter\", y=\"error\", hue=\"senlen\", kind=\"bar\", col=\"summary_type\");\n",
    "g.fig.set_figwidth(16)\n",
    "g.fig.set_figheight(6)\n",
    "g.set_xlabels(\"Top features count\")\n",
    "g.set_ylabels(\"MSE\")\n",
    "# g.set_titles()\n",
    "\n",
    "# plt.legend(['Explanation summaries', 'TextRank summaries', 'Entire instances', 'Selected omega'])\n",
    "g._legend.set_title(\"Sentences count\")\n",
    "params = {'legend.fontsize': 'x-large',\n",
    "          'legend.title_fontsize': 'x-large',\n",
    "          'figure.figsize': (15, 5),\n",
    "         'axes.labelsize': 'x-large',\n",
    "         'axes.titlesize':'x-large',\n",
    "         'xtick.labelsize':'x-large',\n",
    "         'ytick.labelsize':'x-large'}\n",
    "plt.rcParams.update(params)"
   ]
  },
  {
   "cell_type": "code",
   "execution_count": 27,
   "metadata": {},
   "outputs": [
    {
     "data": {
      "image/png": "[encoded data removed]",
      "text/plain": [
       "<Figure size 1152x432 with 2 Axes>"
      ]
     },
     "metadata": {
      "needs_background": "light"
     },
     "output_type": "display_data"
    }
   ],
   "source": [
    "g = sns.catplot(data=res_combinations, x=\"senlen\", y=\"error\", hue=\"featfilter\", kind=\"bar\", col=\"summary_type\");\n",
    "g.fig.set_figwidth(16)\n",
    "g.fig.set_figheight(6)"
   ]
  },
  {
   "cell_type": "markdown",
   "metadata": {},
   "source": [
    "For user study we chosed summaries of 6 sentences, however, for the sake of quantitative experiment, we could choose summaries with at least 8 sentences."
   ]
  },
  {
   "cell_type": "markdown",
   "metadata": {},
   "source": [
    "---"
   ]
  },
  {
   "cell_type": "markdown",
   "metadata": {},
   "source": [
    "### Statistical comparison"
   ]
  },
  {
   "cell_type": "markdown",
   "metadata": {},
   "source": [
    "**1st Hypothesis: With use of an Importance factor in an extractive summary,we get a closer/shorter, more precise, representation of input text regard-ing to a model than without use of an IF. A number of changed predictions on these two summarization approaches will be statistically significant.**"
   ]
  },
  {
   "cell_type": "code",
   "execution_count": 28,
   "metadata": {},
   "outputs": [],
   "source": [
    "alpha = 0.05"
   ]
  },
  {
   "cell_type": "markdown",
   "metadata": {},
   "source": [
    "**6 sentences, 100 features** ~ setup from questionnaire survey"
   ]
  },
  {
   "cell_type": "code",
   "execution_count": 29,
   "metadata": {},
   "outputs": [],
   "source": [
    "# get the data\n",
    "\n",
    "dat = df[(df.senlen == 6) & (df.featfilter == 100)]"
   ]
  },
  {
   "cell_type": "code",
   "execution_count": 37,
   "metadata": {},
   "outputs": [
    {
     "data": {
      "text/html": [
       "<div>\n",
       "<style scoped>\n",
       "    .dataframe tbody tr th:only-of-type {\n",
       "        vertical-align: middle;\n",
       "    }\n",
       "\n",
       "    .dataframe tbody tr th {\n",
       "        vertical-align: top;\n",
       "    }\n",
       "\n",
       "    .dataframe thead th {\n",
       "        text-align: right;\n",
       "    }\n",
       "</style>\n",
       "<table border=\"1\" class=\"dataframe\">\n",
       "  <thead>\n",
       "    <tr style=\"text-align: right;\">\n",
       "      <th></th>\n",
       "      <th>original</th>\n",
       "      <th>custom</th>\n",
       "      <th>simple</th>\n",
       "      <th>featfilter</th>\n",
       "      <th>senlen</th>\n",
       "    </tr>\n",
       "  </thead>\n",
       "  <tbody>\n",
       "    <tr>\n",
       "      <th>56814</th>\n",
       "      <td>0.99999</td>\n",
       "      <td>0.99999</td>\n",
       "      <td>0.99666</td>\n",
       "      <td>100</td>\n",
       "      <td>6</td>\n",
       "    </tr>\n",
       "  </tbody>\n",
       "</table>\n",
       "</div>"
      ],
      "text/plain": [
       "       original   custom   simple  featfilter  senlen\n",
       "56814   0.99999  0.99999  0.99666         100       6"
      ]
     },
     "execution_count": 37,
     "metadata": {},
     "output_type": "execute_result"
    }
   ],
   "source": [
    "dat.sample()"
   ]
  },
  {
   "cell_type": "code",
   "execution_count": 31,
   "metadata": {},
   "outputs": [
    {
     "data": {
      "text/plain": [
       "<seaborn.axisgrid.FacetGrid at 0x7fa43b9d46d0>"
      ]
     },
     "execution_count": 31,
     "metadata": {},
     "output_type": "execute_result"
    },
    {
     "data": {
      "image/png": "[encoded data removed]",
      "text/plain": [
       "<Figure size 465.84x360 with 1 Axes>"
      ]
     },
     "metadata": {
      "needs_background": "light"
     },
     "output_type": "display_data"
    }
   ],
   "source": [
    "sns.displot(data=dat[['original', 'custom', 'simple']], kde=True)"
   ]
  },
  {
   "cell_type": "code",
   "execution_count": 32,
   "metadata": {},
   "outputs": [],
   "source": [
    "dat1 = dat.melt(id_vars=['featfilter', 'senlen'], value_vars=['original', 'custom', 'simple'], var_name='type', value_name='prediction')"
   ]
  },
  {
   "cell_type": "code",
   "execution_count": 33,
   "metadata": {},
   "outputs": [
    {
     "data": {
      "text/html": [
       "<div>\n",
       "<style scoped>\n",
       "    .dataframe tbody tr th:only-of-type {\n",
       "        vertical-align: middle;\n",
       "    }\n",
       "\n",
       "    .dataframe tbody tr th {\n",
       "        vertical-align: top;\n",
       "    }\n",
       "\n",
       "    .dataframe thead th {\n",
       "        text-align: right;\n",
       "    }\n",
       "</style>\n",
       "<table border=\"1\" class=\"dataframe\">\n",
       "  <thead>\n",
       "    <tr style=\"text-align: right;\">\n",
       "      <th></th>\n",
       "      <th>featfilter</th>\n",
       "      <th>senlen</th>\n",
       "      <th>type</th>\n",
       "      <th>prediction</th>\n",
       "    </tr>\n",
       "  </thead>\n",
       "  <tbody>\n",
       "    <tr>\n",
       "      <th>5273</th>\n",
       "      <td>100</td>\n",
       "      <td>6</td>\n",
       "      <td>simple</td>\n",
       "      <td>0.05813</td>\n",
       "    </tr>\n",
       "  </tbody>\n",
       "</table>\n",
       "</div>"
      ],
      "text/plain": [
       "      featfilter  senlen    type  prediction\n",
       "5273         100       6  simple     0.05813"
      ]
     },
     "execution_count": 33,
     "metadata": {},
     "output_type": "execute_result"
    }
   ],
   "source": [
    "dat1.sample()"
   ]
  },
  {
   "cell_type": "code",
   "execution_count": 34,
   "metadata": {},
   "outputs": [
    {
     "data": {
      "image/png": "[encoded data removed]",
      "text/plain": [
       "<Figure size 1080x360 with 3 Axes>"
      ]
     },
     "metadata": {
      "needs_background": "light"
     },
     "output_type": "display_data"
    }
   ],
   "source": [
    "sns.displot(data=dat1, kde=True, col=\"type\", x=\"prediction\");"
   ]
  },
  {
   "cell_type": "markdown",
   "metadata": {},
   "source": [
    "Lets check the differences in predictions"
   ]
  },
  {
   "cell_type": "code",
   "execution_count": 38,
   "metadata": {},
   "outputs": [
    {
     "data": {
      "image/png": "[encoded data removed]",
      "text/plain": [
       "<Figure size 1080x360 with 1 Axes>"
      ]
     },
     "metadata": {
      "needs_background": "light"
     },
     "output_type": "display_data"
    }
   ],
   "source": [
    "sns.histplot(data=(dat.original - dat.custom), bins=200, kde=True);"
   ]
  },
  {
   "cell_type": "code",
   "execution_count": 40,
   "metadata": {},
   "outputs": [
    {
     "data": {
      "image/png": "[encoded data removed]",
      "text/plain": [
       "<Figure size 1080x360 with 1 Axes>"
      ]
     },
     "metadata": {
      "needs_background": "light"
     },
     "output_type": "display_data"
    }
   ],
   "source": [
    "sns.histplot(data=(dat.original - dat.simple), bins=50, kde=True);"
   ]
  },
  {
   "cell_type": "code",
   "execution_count": 41,
   "metadata": {},
   "outputs": [
    {
     "data": {
      "image/png": "[encoded data removed]",
      "text/plain": [
       "<Figure size 720x288 with 2 Axes>"
      ]
     },
     "metadata": {
      "needs_background": "light"
     },
     "output_type": "display_data"
    }
   ],
   "source": [
    "# for i, column in enumerate(df.columns, 1):\n",
    "#     plt.subplot(3,3,i)\n",
    "#     sns.histplot(df[column])\n",
    "plt.figure(figsize=(10, 4));\n",
    "\n",
    "f = plt.subplot(1, 2, 1)\n",
    "g = sns.histplot(data=(dat.original - dat.custom), bins=200, kde=True);\n",
    "g.title.set_text(\"Explanation\")\n",
    "plt.subplot(1, 2, 2)\n",
    "g = sns.histplot(data=(dat.original - dat.simple), bins=50, kde=True);\n",
    "g.title.set_text(\"Simple\")\n",
    "plt.subplots_adjust(wspace=0.4)\n",
    "\n",
    "# plt.savefig('dist-plots.png')\n",
    "# plt.savefig(\"dist-plots.svg\", format = 'svg', dpi=300)"
   ]
  },
  {
   "cell_type": "markdown",
   "metadata": {},
   "source": [
    "We clearly see that there is Gaussian distribution in both cases, however, let's use shapiro to test it "
   ]
  },
  {
   "cell_type": "code",
   "execution_count": 42,
   "metadata": {},
   "outputs": [],
   "source": [
    "custom = dat.original - dat.custom\n",
    "simple = dat.original - dat.simple"
   ]
  },
  {
   "cell_type": "code",
   "execution_count": 43,
   "metadata": {},
   "outputs": [],
   "source": [
    "a = pd.DataFrame({\"value\": np.append(custom, simple), \"type\": [\"explanation\" for _ in range(1818)] + [\"simple\" for _ in range(1818)]})"
   ]
  },
  {
   "cell_type": "code",
   "execution_count": 44,
   "metadata": {},
   "outputs": [
    {
     "data": {
      "text/plain": [
       "<AxesSubplot:ylabel='Count'>"
      ]
     },
     "execution_count": 44,
     "metadata": {},
     "output_type": "execute_result"
    },
    {
     "data": {
      "image/png": "[encoded data removed]",
      "text/plain": [
       "<Figure size 1080x360 with 1 Axes>"
      ]
     },
     "metadata": {
      "needs_background": "light"
     },
     "output_type": "display_data"
    }
   ],
   "source": [
    "sns.histplot(data=a, )"
   ]
  },
  {
   "cell_type": "code",
   "execution_count": 45,
   "metadata": {},
   "outputs": [],
   "source": [
    "alpha = 0.05"
   ]
  },
  {
   "cell_type": "code",
   "execution_count": 46,
   "metadata": {},
   "outputs": [],
   "source": [
    "# H0 (for both test), data come from Gaussian distribution\n",
    "# H1 not H0\n",
    "\n",
    "_, pc = st.shapiro(custom)\n",
    "_, ps = st.shapiro(simple)"
   ]
  },
  {
   "cell_type": "code",
   "execution_count": 47,
   "metadata": {},
   "outputs": [
    {
     "data": {
      "text/plain": [
       "0.0"
      ]
     },
     "execution_count": 47,
     "metadata": {},
     "output_type": "execute_result"
    }
   ],
   "source": [
    "pc"
   ]
  },
  {
   "cell_type": "code",
   "execution_count": 48,
   "metadata": {},
   "outputs": [
    {
     "data": {
      "text/plain": [
       "False"
      ]
     },
     "execution_count": 48,
     "metadata": {},
     "output_type": "execute_result"
    }
   ],
   "source": [
    "pc > alpha"
   ]
  },
  {
   "cell_type": "markdown",
   "metadata": {},
   "source": [
    "We reject H0, not gaussian distribution"
   ]
  },
  {
   "cell_type": "code",
   "execution_count": 49,
   "metadata": {},
   "outputs": [
    {
     "data": {
      "text/plain": [
       "1.401298464324817e-45"
      ]
     },
     "execution_count": 49,
     "metadata": {},
     "output_type": "execute_result"
    }
   ],
   "source": [
    "ps"
   ]
  },
  {
   "cell_type": "code",
   "execution_count": 50,
   "metadata": {},
   "outputs": [
    {
     "data": {
      "text/plain": [
       "False"
      ]
     },
     "execution_count": 50,
     "metadata": {},
     "output_type": "execute_result"
    }
   ],
   "source": [
    "ps > alpha"
   ]
  },
  {
   "cell_type": "markdown",
   "metadata": {},
   "source": [
    "The same for simple summaries"
   ]
  },
  {
   "cell_type": "markdown",
   "metadata": {},
   "source": [
    "Continuing with levene test of variances in two groups"
   ]
  },
  {
   "cell_type": "code",
   "execution_count": 51,
   "metadata": {},
   "outputs": [
    {
     "data": {
      "text/plain": [
       "(85.6623764670511, 3.5493830607463034e-20)"
      ]
     },
     "execution_count": 51,
     "metadata": {},
     "output_type": "execute_result"
    }
   ],
   "source": [
    "# H0: variance of data in two groups are the same\n",
    "# H1: not H0\n",
    "\n",
    "s, p = st.levene(custom, simple)\n",
    "s, p"
   ]
  },
  {
   "cell_type": "code",
   "execution_count": 52,
   "metadata": {},
   "outputs": [
    {
     "data": {
      "text/plain": [
       "False"
      ]
     },
     "execution_count": 52,
     "metadata": {},
     "output_type": "execute_result"
    }
   ],
   "source": [
    "p > alpha"
   ]
  },
  {
   "cell_type": "code",
   "execution_count": 53,
   "metadata": {},
   "outputs": [],
   "source": [
    "import statsmodels.api as sm\n",
    "import pylab"
   ]
  },
  {
   "cell_type": "code",
   "execution_count": 54,
   "metadata": {},
   "outputs": [
    {
     "data": {
      "image/png": "[encoded data removed]",
      "text/plain": [
       "<Figure size 1080x360 with 1 Axes>"
      ]
     },
     "metadata": {
      "needs_background": "light"
     },
     "output_type": "display_data"
    }
   ],
   "source": [
    "sm.qqplot(simple, line='45')\n",
    "pylab.show()"
   ]
  },
  {
   "cell_type": "code",
   "execution_count": 55,
   "metadata": {},
   "outputs": [
    {
     "data": {
      "image/png": "[encoded data removed]",
      "text/plain": [
       "<Figure size 1080x360 with 1 Axes>"
      ]
     },
     "metadata": {
      "needs_background": "light"
     },
     "output_type": "display_data"
    }
   ],
   "source": [
    "sm.qqplot(custom, line='45')\n",
    "pylab.show()"
   ]
  },
  {
   "cell_type": "markdown",
   "metadata": {},
   "source": [
    "We must use non-parametric test Mann-Whitney U test"
   ]
  },
  {
   "cell_type": "code",
   "execution_count": 56,
   "metadata": {},
   "outputs": [],
   "source": [
    "# H0: data from two groups come from the same distribution\n",
    "# H1: not H0\n",
    "\n",
    "s, p = st.mannwhitneyu(custom, simple)"
   ]
  },
  {
   "cell_type": "code",
   "execution_count": 57,
   "metadata": {},
   "outputs": [
    {
     "data": {
      "text/plain": [
       "True"
      ]
     },
     "execution_count": 57,
     "metadata": {},
     "output_type": "execute_result"
    }
   ],
   "source": [
    "p > alpha"
   ]
  },
  {
   "cell_type": "code",
   "execution_count": 58,
   "metadata": {},
   "outputs": [
    {
     "data": {
      "text/plain": [
       "0.3255931892289944"
      ]
     },
     "execution_count": 58,
     "metadata": {},
     "output_type": "execute_result"
    }
   ],
   "source": [
    "p"
   ]
  },
  {
   "cell_type": "code",
   "execution_count": 59,
   "metadata": {},
   "outputs": [
    {
     "name": "stdout",
     "output_type": "stream",
     "text": [
      "Same distribution (fail to reject H0)\n"
     ]
    }
   ],
   "source": [
    "print('Same distribution (fail to reject H0)')"
   ]
  },
  {
   "cell_type": "markdown",
   "metadata": {},
   "source": [
    "**8 sentences, 20 features** ~ compromise between mse error and summary length (people in questionnaire wanted longer sentences, we see that we could get even better results)"
   ]
  },
  {
   "cell_type": "code",
   "execution_count": 60,
   "metadata": {},
   "outputs": [],
   "source": [
    "# get the data\n",
    "\n",
    "dat = df[(df.senlen == 8) & (df.featfilter == 20)]"
   ]
  },
  {
   "cell_type": "code",
   "execution_count": 61,
   "metadata": {},
   "outputs": [
    {
     "data": {
      "text/html": [
       "<div>\n",
       "<style scoped>\n",
       "    .dataframe tbody tr th:only-of-type {\n",
       "        vertical-align: middle;\n",
       "    }\n",
       "\n",
       "    .dataframe tbody tr th {\n",
       "        vertical-align: top;\n",
       "    }\n",
       "\n",
       "    .dataframe thead th {\n",
       "        text-align: right;\n",
       "    }\n",
       "</style>\n",
       "<table border=\"1\" class=\"dataframe\">\n",
       "  <thead>\n",
       "    <tr style=\"text-align: right;\">\n",
       "      <th></th>\n",
       "      <th>original</th>\n",
       "      <th>custom</th>\n",
       "      <th>simple</th>\n",
       "      <th>featfilter</th>\n",
       "      <th>senlen</th>\n",
       "    </tr>\n",
       "  </thead>\n",
       "  <tbody>\n",
       "    <tr>\n",
       "      <th>32695</th>\n",
       "      <td>1.0</td>\n",
       "      <td>1.0</td>\n",
       "      <td>1.0</td>\n",
       "      <td>20</td>\n",
       "      <td>8</td>\n",
       "    </tr>\n",
       "  </tbody>\n",
       "</table>\n",
       "</div>"
      ],
      "text/plain": [
       "       original  custom  simple  featfilter  senlen\n",
       "32695       1.0     1.0     1.0          20       8"
      ]
     },
     "execution_count": 61,
     "metadata": {},
     "output_type": "execute_result"
    }
   ],
   "source": [
    "dat.sample()"
   ]
  },
  {
   "cell_type": "code",
   "execution_count": 62,
   "metadata": {},
   "outputs": [
    {
     "data": {
      "text/plain": [
       "<seaborn.axisgrid.FacetGrid at 0x7fa438ee5430>"
      ]
     },
     "execution_count": 62,
     "metadata": {},
     "output_type": "execute_result"
    },
    {
     "data": {
      "image/png": "[encoded data removed]",
      "text/plain": [
       "<Figure size 465.84x360 with 1 Axes>"
      ]
     },
     "metadata": {
      "needs_background": "light"
     },
     "output_type": "display_data"
    }
   ],
   "source": [
    "sns.displot(data=dat[['original', 'custom', 'simple']], kde=True)"
   ]
  },
  {
   "cell_type": "code",
   "execution_count": 63,
   "metadata": {},
   "outputs": [],
   "source": [
    "dat1 = dat.melt(id_vars=['featfilter', 'senlen'], value_vars=['original', 'custom', 'simple'], var_name='type', value_name='prediction')"
   ]
  },
  {
   "cell_type": "code",
   "execution_count": 64,
   "metadata": {},
   "outputs": [
    {
     "data": {
      "text/html": [
       "<div>\n",
       "<style scoped>\n",
       "    .dataframe tbody tr th:only-of-type {\n",
       "        vertical-align: middle;\n",
       "    }\n",
       "\n",
       "    .dataframe tbody tr th {\n",
       "        vertical-align: top;\n",
       "    }\n",
       "\n",
       "    .dataframe thead th {\n",
       "        text-align: right;\n",
       "    }\n",
       "</style>\n",
       "<table border=\"1\" class=\"dataframe\">\n",
       "  <thead>\n",
       "    <tr style=\"text-align: right;\">\n",
       "      <th></th>\n",
       "      <th>featfilter</th>\n",
       "      <th>senlen</th>\n",
       "      <th>type</th>\n",
       "      <th>prediction</th>\n",
       "    </tr>\n",
       "  </thead>\n",
       "  <tbody>\n",
       "    <tr>\n",
       "      <th>5190</th>\n",
       "      <td>20</td>\n",
       "      <td>8</td>\n",
       "      <td>simple</td>\n",
       "      <td>0.00792</td>\n",
       "    </tr>\n",
       "  </tbody>\n",
       "</table>\n",
       "</div>"
      ],
      "text/plain": [
       "      featfilter  senlen    type  prediction\n",
       "5190          20       8  simple     0.00792"
      ]
     },
     "execution_count": 64,
     "metadata": {},
     "output_type": "execute_result"
    }
   ],
   "source": [
    "dat1.sample()"
   ]
  },
  {
   "cell_type": "code",
   "execution_count": 65,
   "metadata": {},
   "outputs": [
    {
     "data": {
      "image/png": "[encoded data removed]",
      "text/plain": [
       "<Figure size 1080x360 with 3 Axes>"
      ]
     },
     "metadata": {
      "needs_background": "light"
     },
     "output_type": "display_data"
    }
   ],
   "source": [
    "sns.displot(data=dat1, kde=True, col=\"type\", x=\"prediction\");"
   ]
  },
  {
   "cell_type": "markdown",
   "metadata": {},
   "source": [
    "Lets check the differences in predictions"
   ]
  },
  {
   "cell_type": "code",
   "execution_count": 66,
   "metadata": {},
   "outputs": [
    {
     "data": {
      "image/png": "[encoded data removed]",
      "text/plain": [
       "<Figure size 1080x360 with 1 Axes>"
      ]
     },
     "metadata": {
      "needs_background": "light"
     },
     "output_type": "display_data"
    }
   ],
   "source": [
    "sns.histplot(data=(dat.original - dat.custom), bins=200, kde=True);"
   ]
  },
  {
   "cell_type": "code",
   "execution_count": 68,
   "metadata": {},
   "outputs": [
    {
     "data": {
      "image/png": "[encoded data removed]",
      "text/plain": [
       "<Figure size 1080x360 with 1 Axes>"
      ]
     },
     "metadata": {
      "needs_background": "light"
     },
     "output_type": "display_data"
    }
   ],
   "source": [
    "sns.histplot(data=(dat.original - dat.simple), bins=50, kde=True);"
   ]
  },
  {
   "cell_type": "markdown",
   "metadata": {},
   "source": [
    "We clearly see that there is Gaussian distribution in both cases, however, let's use shapiro to test it "
   ]
  },
  {
   "cell_type": "code",
   "execution_count": 69,
   "metadata": {},
   "outputs": [],
   "source": [
    "custom = dat.original - dat.custom\n",
    "simple = dat.original - dat.simple"
   ]
  },
  {
   "cell_type": "code",
   "execution_count": 70,
   "metadata": {},
   "outputs": [
    {
     "data": {
      "image/png": "[encoded data removed]",
      "text/plain": [
       "<Figure size 720x288 with 2 Axes>"
      ]
     },
     "metadata": {
      "needs_background": "light"
     },
     "output_type": "display_data"
    }
   ],
   "source": [
    "# for i, column in enumerate(df.columns, 1):\n",
    "#     plt.subplot(3,3,i)\n",
    "#     sns.histplot(df[column])\n",
    "plt.figure(figsize=(10, 4));\n",
    "\n",
    "f = plt.subplot(1, 2, 1)\n",
    "g = sns.histplot(data=(dat.original - dat.custom), bins=200, kde=True);\n",
    "g.title.set_text(\"Explanation\")\n",
    "plt.subplot(1, 2, 2)\n",
    "g = sns.histplot(data=(dat.original - dat.simple), bins=50, kde=True);\n",
    "g.title.set_text(\"Simple\")\n",
    "plt.subplots_adjust(wspace=0.4)\n",
    "\n",
    "# plt.savefig('dist-plots.png')\n",
    "# plt.savefig(\"dist-plots.svg\", format = 'svg', dpi=300)"
   ]
  },
  {
   "cell_type": "code",
   "execution_count": 71,
   "metadata": {},
   "outputs": [],
   "source": [
    "# H0 (for both test), data come from Gaussian distribution\n",
    "# H1 not H0\n",
    "\n",
    "_, pc = st.shapiro(custom)\n",
    "_, ps = st.shapiro(simple)"
   ]
  },
  {
   "cell_type": "code",
   "execution_count": 72,
   "metadata": {},
   "outputs": [
    {
     "name": "stdout",
     "output_type": "stream",
     "text": [
      "0.0\n"
     ]
    },
    {
     "data": {
      "text/plain": [
       "False"
      ]
     },
     "execution_count": 72,
     "metadata": {},
     "output_type": "execute_result"
    }
   ],
   "source": [
    "print(pc)\n",
    "pc > alpha"
   ]
  },
  {
   "cell_type": "markdown",
   "metadata": {},
   "source": [
    "We reject H0, not gaussian distribution"
   ]
  },
  {
   "cell_type": "code",
   "execution_count": 73,
   "metadata": {},
   "outputs": [
    {
     "name": "stdout",
     "output_type": "stream",
     "text": [
      "0.0\n"
     ]
    },
    {
     "data": {
      "text/plain": [
       "False"
      ]
     },
     "execution_count": 73,
     "metadata": {},
     "output_type": "execute_result"
    }
   ],
   "source": [
    "print(ps)\n",
    "ps > alpha"
   ]
  },
  {
   "cell_type": "markdown",
   "metadata": {},
   "source": [
    "The same for simple summaries"
   ]
  },
  {
   "cell_type": "markdown",
   "metadata": {},
   "source": [
    "Continuing with levene test of variances in two groups"
   ]
  },
  {
   "cell_type": "code",
   "execution_count": 74,
   "metadata": {},
   "outputs": [
    {
     "data": {
      "text/plain": [
       "(164.45728556673131, 7.480516112718899e-37)"
      ]
     },
     "execution_count": 74,
     "metadata": {},
     "output_type": "execute_result"
    }
   ],
   "source": [
    "# H0: variance of data in two groups are the same\n",
    "# H1: not H0\n",
    "\n",
    "s, p = st.levene(custom, simple)\n",
    "s, p"
   ]
  },
  {
   "cell_type": "code",
   "execution_count": 75,
   "metadata": {},
   "outputs": [
    {
     "data": {
      "text/plain": [
       "False"
      ]
     },
     "execution_count": 75,
     "metadata": {},
     "output_type": "execute_result"
    }
   ],
   "source": [
    "p > alpha"
   ]
  },
  {
   "cell_type": "code",
   "execution_count": 76,
   "metadata": {},
   "outputs": [],
   "source": [
    "import statsmodels.api as sm\n",
    "import pylab"
   ]
  },
  {
   "cell_type": "code",
   "execution_count": 77,
   "metadata": {},
   "outputs": [
    {
     "data": {
      "image/png": "[encoded data removed]",
      "text/plain": [
       "<Figure size 1080x360 with 1 Axes>"
      ]
     },
     "metadata": {
      "needs_background": "light"
     },
     "output_type": "display_data"
    }
   ],
   "source": [
    "sm.qqplot(simple, line='45')\n",
    "pylab.show()"
   ]
  },
  {
   "cell_type": "code",
   "execution_count": 78,
   "metadata": {},
   "outputs": [
    {
     "data": {
      "image/png": "[encoded data removed]",
      "text/plain": [
       "<Figure size 1080x360 with 1 Axes>"
      ]
     },
     "metadata": {
      "needs_background": "light"
     },
     "output_type": "display_data"
    }
   ],
   "source": [
    "sm.qqplot(custom, line='45')\n",
    "pylab.show()"
   ]
  },
  {
   "cell_type": "markdown",
   "metadata": {},
   "source": [
    "We must use non-parametric test Mann-Whitney U test"
   ]
  },
  {
   "cell_type": "code",
   "execution_count": 79,
   "metadata": {},
   "outputs": [],
   "source": [
    "# H0: data from two groups come from the same distribution\n",
    "# H1: not H0\n",
    "\n",
    "s, p = st.mannwhitneyu(custom, simple)"
   ]
  },
  {
   "cell_type": "code",
   "execution_count": 80,
   "metadata": {},
   "outputs": [
    {
     "data": {
      "text/plain": [
       "0.18603838595548827"
      ]
     },
     "execution_count": 80,
     "metadata": {},
     "output_type": "execute_result"
    }
   ],
   "source": [
    "p"
   ]
  },
  {
   "cell_type": "code",
   "execution_count": 81,
   "metadata": {},
   "outputs": [
    {
     "name": "stdout",
     "output_type": "stream",
     "text": [
      "Same distribution (fail to reject H0)\n"
     ]
    }
   ],
   "source": [
    "if p > alpha:\n",
    "    print('Same distribution (fail to reject H0)')\n",
    "else:\n",
    "    print('Different distribution (reject H0)')"
   ]
  },
  {
   "cell_type": "markdown",
   "metadata": {},
   "source": [
    "---\n",
    "\n",
    "**One more experiment (experimental), with MSE**"
   ]
  },
  {
   "cell_type": "code",
   "execution_count": 82,
   "metadata": {},
   "outputs": [],
   "source": [
    "def process_mse_per_row(frame):\n",
    "    \"\"\"\n",
    "    From input dataframe returns 2 MSE errors: (1) error from custom summaries, (2) error from simple summaries\n",
    "    \"\"\"\n",
    "    df = frame.copy(deep=True)\n",
    "    \n",
    "    # 1. normalize to (-1, 1)\n",
    "    bounds = {\n",
    "        'actual': {\n",
    "            'lower':df[['original','custom','simple']].min().min(), \n",
    "            'upper':df[['original','custom','simple']].max().max()\n",
    "        }, \n",
    "        'desired':{\n",
    "            'lower':-1,\n",
    "            'upper':1\n",
    "        }\n",
    "    }\n",
    "    \n",
    "    df['normOriginal'] = normalize(df.original, bounds)\n",
    "    df['normCustom'] = normalize(df.custom, bounds)\n",
    "    df['normSimple'] = normalize(df.simple, bounds)\n",
    "    \n",
    "    # 2. subtract textrank and custom predictions from model prediction on entire instance to get errors\n",
    "    df['errorSimple'] = df.normOriginal - df.normSimple\n",
    "    df['errorCustom'] = df.normOriginal - df.normCustom\n",
    "    \n",
    "    # 3. square errors\n",
    "    df['errorSimple'] = df.errorSimple ** 2\n",
    "    df['errorCustom'] = df.errorCustom ** 2\n",
    "\n",
    "    return df[['original','custom','simple', 'errorSimple', 'errorCustom']]"
   ]
  },
  {
   "cell_type": "code",
   "execution_count": 83,
   "metadata": {},
   "outputs": [],
   "source": [
    "# get the data\n",
    "\n",
    "dat = df[(df.senlen == 8) & (df.featfilter == 20)]"
   ]
  },
  {
   "cell_type": "code",
   "execution_count": 84,
   "metadata": {},
   "outputs": [
    {
     "data": {
      "text/html": [
       "<div>\n",
       "<style scoped>\n",
       "    .dataframe tbody tr th:only-of-type {\n",
       "        vertical-align: middle;\n",
       "    }\n",
       "\n",
       "    .dataframe tbody tr th {\n",
       "        vertical-align: top;\n",
       "    }\n",
       "\n",
       "    .dataframe thead th {\n",
       "        text-align: right;\n",
       "    }\n",
       "</style>\n",
       "<table border=\"1\" class=\"dataframe\">\n",
       "  <thead>\n",
       "    <tr style=\"text-align: right;\">\n",
       "      <th></th>\n",
       "      <th>original</th>\n",
       "      <th>custom</th>\n",
       "      <th>simple</th>\n",
       "      <th>featfilter</th>\n",
       "      <th>senlen</th>\n",
       "    </tr>\n",
       "  </thead>\n",
       "  <tbody>\n",
       "    <tr>\n",
       "      <th>32099</th>\n",
       "      <td>0.00107</td>\n",
       "      <td>0.14586</td>\n",
       "      <td>0.41263</td>\n",
       "      <td>20</td>\n",
       "      <td>8</td>\n",
       "    </tr>\n",
       "  </tbody>\n",
       "</table>\n",
       "</div>"
      ],
      "text/plain": [
       "       original   custom   simple  featfilter  senlen\n",
       "32099   0.00107  0.14586  0.41263          20       8"
      ]
     },
     "execution_count": 84,
     "metadata": {},
     "output_type": "execute_result"
    }
   ],
   "source": [
    "dat.sample()"
   ]
  },
  {
   "cell_type": "code",
   "execution_count": 85,
   "metadata": {},
   "outputs": [
    {
     "data": {
      "text/plain": [
       "<seaborn.axisgrid.FacetGrid at 0x7fa433120e20>"
      ]
     },
     "execution_count": 85,
     "metadata": {},
     "output_type": "execute_result"
    },
    {
     "data": {
      "image/png": "[encoded data removed]",
      "text/plain": [
       "<Figure size 465.84x360 with 1 Axes>"
      ]
     },
     "metadata": {
      "needs_background": "light"
     },
     "output_type": "display_data"
    }
   ],
   "source": [
    "sns.displot(data=dat[['original', 'custom', 'simple']], kde=True)"
   ]
  },
  {
   "cell_type": "code",
   "execution_count": 86,
   "metadata": {},
   "outputs": [],
   "source": [
    "dat1 = dat.melt(id_vars=['featfilter', 'senlen'], value_vars=['original', 'custom', 'simple'], var_name='type', value_name='prediction')"
   ]
  },
  {
   "cell_type": "code",
   "execution_count": 87,
   "metadata": {},
   "outputs": [
    {
     "data": {
      "text/html": [
       "<div>\n",
       "<style scoped>\n",
       "    .dataframe tbody tr th:only-of-type {\n",
       "        vertical-align: middle;\n",
       "    }\n",
       "\n",
       "    .dataframe tbody tr th {\n",
       "        vertical-align: top;\n",
       "    }\n",
       "\n",
       "    .dataframe thead th {\n",
       "        text-align: right;\n",
       "    }\n",
       "</style>\n",
       "<table border=\"1\" class=\"dataframe\">\n",
       "  <thead>\n",
       "    <tr style=\"text-align: right;\">\n",
       "      <th></th>\n",
       "      <th>featfilter</th>\n",
       "      <th>senlen</th>\n",
       "      <th>type</th>\n",
       "      <th>prediction</th>\n",
       "    </tr>\n",
       "  </thead>\n",
       "  <tbody>\n",
       "    <tr>\n",
       "      <th>767</th>\n",
       "      <td>20</td>\n",
       "      <td>8</td>\n",
       "      <td>original</td>\n",
       "      <td>0.99456</td>\n",
       "    </tr>\n",
       "  </tbody>\n",
       "</table>\n",
       "</div>"
      ],
      "text/plain": [
       "     featfilter  senlen      type  prediction\n",
       "767          20       8  original     0.99456"
      ]
     },
     "execution_count": 87,
     "metadata": {},
     "output_type": "execute_result"
    }
   ],
   "source": [
    "dat1.sample()"
   ]
  },
  {
   "cell_type": "code",
   "execution_count": 88,
   "metadata": {},
   "outputs": [
    {
     "data": {
      "image/png": "[encoded data removed]",
      "text/plain": [
       "<Figure size 1080x360 with 3 Axes>"
      ]
     },
     "metadata": {
      "needs_background": "light"
     },
     "output_type": "display_data"
    }
   ],
   "source": [
    "sns.displot(data=dat1, kde=True, col=\"type\", x=\"prediction\");"
   ]
  },
  {
   "cell_type": "code",
   "execution_count": 89,
   "metadata": {},
   "outputs": [],
   "source": [
    "mse = process_mse_per_row(dat)"
   ]
  },
  {
   "cell_type": "code",
   "execution_count": 90,
   "metadata": {},
   "outputs": [
    {
     "data": {
      "text/html": [
       "<div>\n",
       "<style scoped>\n",
       "    .dataframe tbody tr th:only-of-type {\n",
       "        vertical-align: middle;\n",
       "    }\n",
       "\n",
       "    .dataframe tbody tr th {\n",
       "        vertical-align: top;\n",
       "    }\n",
       "\n",
       "    .dataframe thead th {\n",
       "        text-align: right;\n",
       "    }\n",
       "</style>\n",
       "<table border=\"1\" class=\"dataframe\">\n",
       "  <thead>\n",
       "    <tr style=\"text-align: right;\">\n",
       "      <th></th>\n",
       "      <th>original</th>\n",
       "      <th>custom</th>\n",
       "      <th>simple</th>\n",
       "      <th>errorSimple</th>\n",
       "      <th>errorCustom</th>\n",
       "    </tr>\n",
       "  </thead>\n",
       "  <tbody>\n",
       "    <tr>\n",
       "      <th>30906</th>\n",
       "      <td>0.00097</td>\n",
       "      <td>0.00433</td>\n",
       "      <td>0.09192</td>\n",
       "      <td>3.308761e-02</td>\n",
       "      <td>4.515840e-05</td>\n",
       "    </tr>\n",
       "    <tr>\n",
       "      <th>30907</th>\n",
       "      <td>0.00543</td>\n",
       "      <td>0.00800</td>\n",
       "      <td>0.00869</td>\n",
       "      <td>4.251040e-05</td>\n",
       "      <td>2.641960e-05</td>\n",
       "    </tr>\n",
       "    <tr>\n",
       "      <th>30908</th>\n",
       "      <td>0.00543</td>\n",
       "      <td>0.01036</td>\n",
       "      <td>0.04477</td>\n",
       "      <td>6.190542e-03</td>\n",
       "      <td>9.721960e-05</td>\n",
       "    </tr>\n",
       "    <tr>\n",
       "      <th>30909</th>\n",
       "      <td>0.00542</td>\n",
       "      <td>0.03503</td>\n",
       "      <td>0.16025</td>\n",
       "      <td>9.588932e-02</td>\n",
       "      <td>3.507008e-03</td>\n",
       "    </tr>\n",
       "    <tr>\n",
       "      <th>30910</th>\n",
       "      <td>0.00543</td>\n",
       "      <td>0.07217</td>\n",
       "      <td>0.52674</td>\n",
       "      <td>1.087056e+00</td>\n",
       "      <td>1.781691e-02</td>\n",
       "    </tr>\n",
       "    <tr>\n",
       "      <th>...</th>\n",
       "      <td>...</td>\n",
       "      <td>...</td>\n",
       "      <td>...</td>\n",
       "      <td>...</td>\n",
       "      <td>...</td>\n",
       "    </tr>\n",
       "    <tr>\n",
       "      <th>32719</th>\n",
       "      <td>0.99398</td>\n",
       "      <td>0.92264</td>\n",
       "      <td>0.94500</td>\n",
       "      <td>9.596162e-03</td>\n",
       "      <td>2.035758e-02</td>\n",
       "    </tr>\n",
       "    <tr>\n",
       "      <th>32720</th>\n",
       "      <td>0.99557</td>\n",
       "      <td>0.99668</td>\n",
       "      <td>0.99731</td>\n",
       "      <td>1.211040e-05</td>\n",
       "      <td>4.928400e-06</td>\n",
       "    </tr>\n",
       "    <tr>\n",
       "      <th>32721</th>\n",
       "      <td>0.99397</td>\n",
       "      <td>0.98433</td>\n",
       "      <td>0.96019</td>\n",
       "      <td>4.564354e-03</td>\n",
       "      <td>3.717184e-04</td>\n",
       "    </tr>\n",
       "    <tr>\n",
       "      <th>32722</th>\n",
       "      <td>0.99397</td>\n",
       "      <td>0.98729</td>\n",
       "      <td>0.98574</td>\n",
       "      <td>2.709316e-04</td>\n",
       "      <td>1.784896e-04</td>\n",
       "    </tr>\n",
       "    <tr>\n",
       "      <th>32723</th>\n",
       "      <td>1.00000</td>\n",
       "      <td>0.99998</td>\n",
       "      <td>0.99998</td>\n",
       "      <td>1.600000e-09</td>\n",
       "      <td>1.600000e-09</td>\n",
       "    </tr>\n",
       "  </tbody>\n",
       "</table>\n",
       "<p>1818 rows × 5 columns</p>\n",
       "</div>"
      ],
      "text/plain": [
       "       original   custom   simple   errorSimple   errorCustom\n",
       "30906   0.00097  0.00433  0.09192  3.308761e-02  4.515840e-05\n",
       "30907   0.00543  0.00800  0.00869  4.251040e-05  2.641960e-05\n",
       "30908   0.00543  0.01036  0.04477  6.190542e-03  9.721960e-05\n",
       "30909   0.00542  0.03503  0.16025  9.588932e-02  3.507008e-03\n",
       "30910   0.00543  0.07217  0.52674  1.087056e+00  1.781691e-02\n",
       "...         ...      ...      ...           ...           ...\n",
       "32719   0.99398  0.92264  0.94500  9.596162e-03  2.035758e-02\n",
       "32720   0.99557  0.99668  0.99731  1.211040e-05  4.928400e-06\n",
       "32721   0.99397  0.98433  0.96019  4.564354e-03  3.717184e-04\n",
       "32722   0.99397  0.98729  0.98574  2.709316e-04  1.784896e-04\n",
       "32723   1.00000  0.99998  0.99998  1.600000e-09  1.600000e-09\n",
       "\n",
       "[1818 rows x 5 columns]"
      ]
     },
     "execution_count": 90,
     "metadata": {},
     "output_type": "execute_result"
    }
   ],
   "source": [
    "mse"
   ]
  },
  {
   "cell_type": "code",
   "execution_count": 91,
   "metadata": {},
   "outputs": [],
   "source": [
    "# mse.melt(id_vars=['errorSimple', 'errorCustom'], value_vars=['original', 'custom', 'simple'], var_name='type', value_name='prediction')\n",
    "mse = mse.melt(value_vars=['errorSimple', 'errorCustom'], value_name='error', var_name='mse')"
   ]
  },
  {
   "cell_type": "code",
   "execution_count": 92,
   "metadata": {},
   "outputs": [
    {
     "data": {
      "text/html": [
       "<div>\n",
       "<style scoped>\n",
       "    .dataframe tbody tr th:only-of-type {\n",
       "        vertical-align: middle;\n",
       "    }\n",
       "\n",
       "    .dataframe tbody tr th {\n",
       "        vertical-align: top;\n",
       "    }\n",
       "\n",
       "    .dataframe thead th {\n",
       "        text-align: right;\n",
       "    }\n",
       "</style>\n",
       "<table border=\"1\" class=\"dataframe\">\n",
       "  <thead>\n",
       "    <tr style=\"text-align: right;\">\n",
       "      <th></th>\n",
       "      <th>mse</th>\n",
       "      <th>error</th>\n",
       "    </tr>\n",
       "  </thead>\n",
       "  <tbody>\n",
       "    <tr>\n",
       "      <th>252</th>\n",
       "      <td>errorSimple</td>\n",
       "      <td>0.005435</td>\n",
       "    </tr>\n",
       "    <tr>\n",
       "      <th>2484</th>\n",
       "      <td>errorCustom</td>\n",
       "      <td>0.000347</td>\n",
       "    </tr>\n",
       "  </tbody>\n",
       "</table>\n",
       "</div>"
      ],
      "text/plain": [
       "              mse     error\n",
       "252   errorSimple  0.005435\n",
       "2484  errorCustom  0.000347"
      ]
     },
     "execution_count": 92,
     "metadata": {},
     "output_type": "execute_result"
    }
   ],
   "source": [
    "mse.sample(2)"
   ]
  },
  {
   "cell_type": "code",
   "execution_count": 93,
   "metadata": {},
   "outputs": [
    {
     "data": {
      "text/plain": [
       "<AxesSubplot:xlabel='error', ylabel='Count'>"
      ]
     },
     "execution_count": 93,
     "metadata": {},
     "output_type": "execute_result"
    },
    {
     "data": {
      "image/png": "[encoded data removed]",
      "text/plain": [
       "<Figure size 1080x360 with 1 Axes>"
      ]
     },
     "metadata": {
      "needs_background": "light"
     },
     "output_type": "display_data"
    }
   ],
   "source": [
    "sns.histplot(data=mse.error[mse.mse=='errorCustom'], bins=50, kde=True)"
   ]
  },
  {
   "cell_type": "code",
   "execution_count": 94,
   "metadata": {},
   "outputs": [
    {
     "data": {
      "text/plain": [
       "<AxesSubplot:xlabel='error', ylabel='Count'>"
      ]
     },
     "execution_count": 94,
     "metadata": {},
     "output_type": "execute_result"
    },
    {
     "data": {
      "image/png": "[encoded data removed]",
      "text/plain": [
       "<Figure size 1080x360 with 1 Axes>"
      ]
     },
     "metadata": {
      "needs_background": "light"
     },
     "output_type": "display_data"
    }
   ],
   "source": [
    "sns.histplot(data=mse.error[mse.mse=='errorSimple'], bins=50, kde=True)"
   ]
  },
  {
   "cell_type": "code",
   "execution_count": 95,
   "metadata": {},
   "outputs": [],
   "source": [
    "mse = mse.rename(columns={'mse': 'type'})"
   ]
  },
  {
   "cell_type": "code",
   "execution_count": 96,
   "metadata": {},
   "outputs": [
    {
     "data": {
      "text/plain": [
       "<AxesSubplot:xlabel='error', ylabel='type'>"
      ]
     },
     "execution_count": 96,
     "metadata": {},
     "output_type": "execute_result"
    },
    {
     "data": {
      "image/png": "[encoded data removed]",
      "text/plain": [
       "<Figure size 1080x360 with 1 Axes>"
      ]
     },
     "metadata": {
      "needs_background": "light"
     },
     "output_type": "display_data"
    }
   ],
   "source": [
    "sns.boxplot(data=mse, x=\"error\", y=\"type\")"
   ]
  },
  {
   "cell_type": "code",
   "execution_count": 98,
   "metadata": {},
   "outputs": [
    {
     "data": {
      "text/plain": [
       "ShapiroResult(statistic=0.4149940609931946, pvalue=0.0)"
      ]
     },
     "execution_count": 98,
     "metadata": {},
     "output_type": "execute_result"
    }
   ],
   "source": [
    "st.shapiro(mse.error[mse.type=='errorSimple'])"
   ]
  },
  {
   "cell_type": "code",
   "execution_count": 99,
   "metadata": {},
   "outputs": [
    {
     "data": {
      "text/plain": [
       "ShapiroResult(statistic=0.20996099710464478, pvalue=0.0)"
      ]
     },
     "execution_count": 99,
     "metadata": {},
     "output_type": "execute_result"
    }
   ],
   "source": [
    "st.shapiro(mse.error[mse.type=='errorCustom'])"
   ]
  },
  {
   "cell_type": "markdown",
   "metadata": {},
   "source": [
    "Not even walked around Gaussian based on p"
   ]
  },
  {
   "cell_type": "code",
   "execution_count": 100,
   "metadata": {},
   "outputs": [
    {
     "data": {
      "text/plain": [
       "(1305560.5, 2.2849616374439415e-28)"
      ]
     },
     "execution_count": 100,
     "metadata": {},
     "output_type": "execute_result"
    }
   ],
   "source": [
    "s, p =st.mannwhitneyu(mse.error[mse.type=='errorSimple'], mse.error[mse.type=='errorCustom'])\n",
    "s, p"
   ]
  },
  {
   "cell_type": "code",
   "execution_count": 101,
   "metadata": {},
   "outputs": [
    {
     "data": {
      "text/plain": [
       "False"
      ]
     },
     "execution_count": 101,
     "metadata": {},
     "output_type": "execute_result"
    }
   ],
   "source": [
    "p > alpha"
   ]
  },
  {
   "cell_type": "code",
   "execution_count": 103,
   "metadata": {},
   "outputs": [
    {
     "name": "stdout",
     "output_type": "stream",
     "text": [
      "Different mean values (reject H0)\n"
     ]
    }
   ],
   "source": [
    "if p > alpha:\n",
    "    print('Same mean values (fail to reject H0)')\n",
    "else:\n",
    "    print('Different mean values (reject H0)')"
   ]
  }
 ],
 "metadata": {
  "kernelspec": {
   "display_name": "Python 3",
   "language": "python",
   "name": "python3"
  },
  "language_info": {
   "codemirror_mode": {
    "name": "ipython",
    "version": 3
   },
   "file_extension": ".py",
   "mimetype": "text/x-python",
   "name": "python",
   "nbconvert_exporter": "python",
   "pygments_lexer": "ipython3",
   "version": "3.8.5"
  }
 },
 "nbformat": 4,
 "nbformat_minor": 4
}
