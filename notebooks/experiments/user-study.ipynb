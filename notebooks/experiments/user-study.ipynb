{
 "cells": [
  {
   "cell_type": "markdown",
   "metadata": {},
   "source": [
    "# User-Study questionnaire results"
   ]
  },
  {
   "cell_type": "code",
   "execution_count": 1,
   "metadata": {},
   "outputs": [],
   "source": [
    "import pandas as pd\n",
    "import numpy as np\n",
    "import matplotlib.pyplot as plt\n",
    "import seaborn as sns\n",
    "\n",
    "%matplotlib inline\n",
    "\n",
    "import os\n",
    "import sys\n",
    "import datetime"
   ]
  },
  {
   "cell_type": "code",
   "execution_count": 2,
   "metadata": {},
   "outputs": [],
   "source": [
    "GROUP_A_PATH = \"/home/tomasmizera/d/data/user-study/results/XAI_Thesis_-_group_A2021-05-04_04_44_20.csv\"\n",
    "GROUP_B_PATH = \"/home/tomasmizera/d/data/user-study/results/XAI_Thesis_-_group_B2021-05-04_04_43_10.csv\"\n",
    "GROUP_C_PATH = \"/home/tomasmizera/d/data/user-study/results/XAI_Thesis_-_group_C2021-05-04_04_44_53.csv\""
   ]
  },
  {
   "cell_type": "code",
   "execution_count": 3,
   "metadata": {},
   "outputs": [],
   "source": [
    "pda = pd.read_csv(GROUP_A_PATH)\n",
    "pdb = pd.read_csv(GROUP_B_PATH)\n",
    "pdc = pd.read_csv(GROUP_C_PATH)"
   ]
  },
  {
   "cell_type": "code",
   "execution_count": 4,
   "metadata": {},
   "outputs": [
    {
     "data": {
      "text/plain": [
       "38"
      ]
     },
     "execution_count": 4,
     "metadata": {},
     "output_type": "execute_result"
    }
   ],
   "source": [
    "len(pda.columns)"
   ]
  },
  {
   "cell_type": "code",
   "execution_count": 5,
   "metadata": {},
   "outputs": [
    {
     "data": {
      "text/plain": [
       "False"
      ]
     },
     "execution_count": 5,
     "metadata": {},
     "output_type": "execute_result"
    }
   ],
   "source": [
    "all([len(pda.columns) == len(pdb.columns), len(pdb.columns) == len(pdc.columns)])"
   ]
  },
  {
   "cell_type": "code",
   "execution_count": 6,
   "metadata": {},
   "outputs": [
    {
     "data": {
      "text/plain": [
       "Index(['Submission Date', 't_a_before', 't_a_1', 't_a_2', 't_a_3', 't_a_4',\n",
       "       't_b_before', 't_b_1', 't_b_2', 't_b_3', 't_b_4', 't_c_before', 't_c_1',\n",
       "       't_c_2', 't_c_3', 't_c_4',\n",
       "       '(Q3) Which category do you think the model would predict?',\n",
       "       '(Q1) Which category do you think the model would predict?',\n",
       "       '(Q4) Which category do you think the model would predict?',\n",
       "       'Is this your first time filling up this questionnaire?',\n",
       "       'Do you think that you understand the model more after seeing explanations than before seeing them?',\n",
       "       'Have you looked differently at  texts after seeing explanations?  ',\n",
       "       '(Q9) Which category do you think the model would predict?',\n",
       "       'Place for your feedback',\n",
       "       '(Q12) Which category do you think the model would predict?',\n",
       "       'How much did the explanations affect your later predictions?',\n",
       "       '(Q10) Which category do you think the model would predict?',\n",
       "       'Have you spot some mistakes  of the model (places where it makes bad decisions)? If you did, try to describe them ',\n",
       "       'After seeing explanations, do you trust the model's decisions more or less?',\n",
       "       '(Q6) Which category do you think the model would predict?',\n",
       "       'To better understand the model, would you prefer shorter or longer texts than those provided?',\n",
       "       '(Q8) Which category do you think the model would predict?',\n",
       "       '(Q11) Which category do you think the model would predict?',\n",
       "       '(Q5) Which category do you think the model would predict?',\n",
       "       'Last Update Date',\n",
       "       '(Q7) Which category do you think the model would predict?',\n",
       "       '(Q2) Which category do you think the model would predict?',\n",
       "       'Are you familiar with AI (Artificial Intelligence) concepts such as \"model\", \"prediction\", \"cross validation\" and \"interpretability\"?'],\n",
       "      dtype='object')"
      ]
     },
     "execution_count": 6,
     "metadata": {},
     "output_type": "execute_result"
    }
   ],
   "source": [
    "pdb.columns"
   ]
  },
  {
   "cell_type": "code",
   "execution_count": 7,
   "metadata": {},
   "outputs": [
    {
     "data": {
      "text/plain": [
       "Index(['Submission Date',\n",
       "       'Are you familiar with AI (Artificial Intelligence) concepts such as \"model\", \"prediction\", \"cross validation\" and \"interpretability\"?',\n",
       "       'Is this your first time filling up this questionnaire?', 't_a_before',\n",
       "       '(Q1) Which category do you think the model would predict?', 't_a_1',\n",
       "       '(Q2) Which category do you think the model would predict?', 't_a_2',\n",
       "       '(Q3) Which category do you think the model would predict?', 't_a_3',\n",
       "       '(Q4) Which category do you think the model would predict?', 't_a_4',\n",
       "       't_b_before',\n",
       "       '(Q5) Which category do you think the model would predict?', 't_b_1',\n",
       "       '(Q6) Which category do you think the model would predict?', 't_b_2',\n",
       "       '(Q7) Which category do you think the model would predict?', 't_b_3',\n",
       "       '(Q8) Which category do you think the model would predict?', 't_b_4',\n",
       "       't_c_before',\n",
       "       '(Q9) Which category do you think the model would predict?', 't_c_1',\n",
       "       '(Q10) Which category do you think the model would predict?', 't_c_2',\n",
       "       '(Q11) Which category do you think the model would predict?', 't_c_3',\n",
       "       '(Q12) Which category do you think the model would predict?', 't_c_4',\n",
       "       'Have you looked differently at  texts after seeing explanations?  ',\n",
       "       'How much did the explanations affect your later predictions?',\n",
       "       'Do you think that you understand the model more after seeing explanations than before seeing them?',\n",
       "       'After seeing explanations, do you trust the model's decisions more or less?',\n",
       "       'To better understand the model, would you prefer shorter or longer texts than those provided?',\n",
       "       'Have you spot some mistakes  of the model (places where it makes bad decisions)? If you did, try to describe them ',\n",
       "       'Place for your feedback'],\n",
       "      dtype='object')"
      ]
     },
     "execution_count": 7,
     "metadata": {},
     "output_type": "execute_result"
    }
   ],
   "source": [
    "pdc.columns"
   ]
  },
  {
   "cell_type": "markdown",
   "metadata": {},
   "source": [
    "Remove _Last Update Date_ from group A and B"
   ]
  },
  {
   "cell_type": "code",
   "execution_count": 8,
   "metadata": {},
   "outputs": [],
   "source": [
    "pda = pda.drop(columns=[\"Last Update Date\", \"Submission Date\"])\n",
    "pdb = pdb.drop(columns=[\"Last Update Date\", \"Submission Date\"])\n",
    "pdc = pdc.drop(columns=\"Submission Date\")"
   ]
  },
  {
   "cell_type": "code",
   "execution_count": 9,
   "metadata": {},
   "outputs": [
    {
     "data": {
      "text/plain": [
       "True"
      ]
     },
     "execution_count": 9,
     "metadata": {},
     "output_type": "execute_result"
    }
   ],
   "source": [
    "all([len(pda.columns) == len(pdb.columns), len(pdb.columns) == len(pdc.columns)])"
   ]
  },
  {
   "cell_type": "markdown",
   "metadata": {},
   "source": [
    "Number of columns are now equal"
   ]
  },
  {
   "cell_type": "markdown",
   "metadata": {},
   "source": [
    "Let's convert column names to something easier to use"
   ]
  },
  {
   "cell_type": "code",
   "execution_count": 10,
   "metadata": {},
   "outputs": [],
   "source": [
    "colmap = { f'(Q{i}) Which category do you think the model would predict?': f'q{i}' for i in range(1, 13) }"
   ]
  },
  {
   "cell_type": "code",
   "execution_count": 11,
   "metadata": {},
   "outputs": [],
   "source": [
    "colmapadd = {\n",
    "    'Are you familiar with AI (Artificial Intelligence) concepts such as \"model\", \"prediction\", \"cross validation\" and \"interpretability\"?': 'technical_background',\n",
    "    'Is this your first time filling up this questionnaire?': 'first_time',\n",
    "}"
   ]
  },
  {
   "cell_type": "code",
   "execution_count": 12,
   "metadata": {},
   "outputs": [
    {
     "data": {
      "text/plain": [
       "{'(Q1) Which category do you think the model would predict?': 'q1',\n",
       " '(Q2) Which category do you think the model would predict?': 'q2',\n",
       " '(Q3) Which category do you think the model would predict?': 'q3',\n",
       " '(Q4) Which category do you think the model would predict?': 'q4',\n",
       " '(Q5) Which category do you think the model would predict?': 'q5',\n",
       " '(Q6) Which category do you think the model would predict?': 'q6',\n",
       " '(Q7) Which category do you think the model would predict?': 'q7',\n",
       " '(Q8) Which category do you think the model would predict?': 'q8',\n",
       " '(Q9) Which category do you think the model would predict?': 'q9',\n",
       " '(Q10) Which category do you think the model would predict?': 'q10',\n",
       " '(Q11) Which category do you think the model would predict?': 'q11',\n",
       " '(Q12) Which category do you think the model would predict?': 'q12',\n",
       " 'Are you familiar with AI (Artificial Intelligence) concepts such as \"model\", \"prediction\", \"cross validation\" and \"interpretability\"?': 'technical_background',\n",
       " 'Is this your first time filling up this questionnaire?': 'first_time'}"
      ]
     },
     "execution_count": 12,
     "metadata": {},
     "output_type": "execute_result"
    }
   ],
   "source": [
    "colmap = {**colmap, **colmapadd}\n",
    "colmap"
   ]
  },
  {
   "cell_type": "markdown",
   "metadata": {},
   "source": [
    "Keep questions in the end of questionnaire for later"
   ]
  },
  {
   "cell_type": "code",
   "execution_count": 13,
   "metadata": {},
   "outputs": [],
   "source": [
    "pda = pda.rename(columns=colmap)\n",
    "pdb = pdb.rename(columns=colmap)\n",
    "pdc = pdc.rename(columns=colmap)"
   ]
  },
  {
   "cell_type": "code",
   "execution_count": 14,
   "metadata": {},
   "outputs": [
    {
     "data": {
      "text/plain": [
       "Index(['technical_background', 'first_time', 't_a_before', 'q1', 't_a_1', 'q2',\n",
       "       't_a_2', 'q3', 't_a_3', 'q4', 't_a_4', 't_b_before', 'q5', 't_b_1',\n",
       "       'q6', 't_b_2', 'q7', 't_b_3', 'q8', 't_b_4', 't_c_before', 'q9',\n",
       "       't_c_1', 'q10', 't_c_2', 'q11', 't_c_3', 'q12', 't_c_4',\n",
       "       'Have you looked differently at  texts after seeing explanations?  ',\n",
       "       'How much did the explanations affect your later predictions?',\n",
       "       'Do you think that you understand the model more after seeing explanations than before seeing them?',\n",
       "       'After seeing explanations, do you trust the model's decisions more or less?',\n",
       "       'To better understand the model, would you prefer shorter or longer texts than those provided?',\n",
       "       'Have you spot some mistakes  of the model (places where it makes bad decisions)? If you did, try to describe them ',\n",
       "       'Place for your feedback'],\n",
       "      dtype='object')"
      ]
     },
     "execution_count": 14,
     "metadata": {},
     "output_type": "execute_result"
    }
   ],
   "source": [
    "pda.columns"
   ]
  },
  {
   "cell_type": "markdown",
   "metadata": {},
   "source": [
    "### Number of submissions"
   ]
  },
  {
   "cell_type": "code",
   "execution_count": 15,
   "metadata": {},
   "outputs": [
    {
     "data": {
      "text/plain": [
       "12"
      ]
     },
     "execution_count": 15,
     "metadata": {},
     "output_type": "execute_result"
    }
   ],
   "source": [
    "pda.shape[0]"
   ]
  },
  {
   "cell_type": "code",
   "execution_count": 16,
   "metadata": {},
   "outputs": [
    {
     "data": {
      "text/plain": [
       "12"
      ]
     },
     "execution_count": 16,
     "metadata": {},
     "output_type": "execute_result"
    }
   ],
   "source": [
    "pdb.shape[0]"
   ]
  },
  {
   "cell_type": "code",
   "execution_count": 17,
   "metadata": {},
   "outputs": [
    {
     "data": {
      "text/plain": [
       "14"
      ]
     },
     "execution_count": 17,
     "metadata": {},
     "output_type": "execute_result"
    }
   ],
   "source": [
    "pdc.shape[0]"
   ]
  },
  {
   "cell_type": "markdown",
   "metadata": {},
   "source": [
    "There are a total of **38 submissions**, from which\n",
    " - 12 in group A\n",
    " - 12 in group B\n",
    " - 14 in group C"
   ]
  },
  {
   "cell_type": "markdown",
   "metadata": {},
   "source": [
    "Let's check if it was everyone's first time filling up the questionnaire"
   ]
  },
  {
   "cell_type": "code",
   "execution_count": 157,
   "metadata": {},
   "outputs": [
    {
     "data": {
      "text/plain": [
       "Yes, this is my first time filling up this questionnaire    10\n",
       "No, I have already filled up this questionnaire before       2\n",
       "Name: first_time, dtype: int64"
      ]
     },
     "execution_count": 157,
     "metadata": {},
     "output_type": "execute_result"
    }
   ],
   "source": [
    "pda.first_time.value_counts()"
   ]
  },
  {
   "cell_type": "code",
   "execution_count": 156,
   "metadata": {},
   "outputs": [
    {
     "data": {
      "text/plain": [
       "Yes, this is my first time filling up this questionnaire    12\n",
       "Name: first_time, dtype: int64"
      ]
     },
     "execution_count": 156,
     "metadata": {},
     "output_type": "execute_result"
    }
   ],
   "source": [
    "pdb.first_time.value_counts()"
   ]
  },
  {
   "cell_type": "code",
   "execution_count": 158,
   "metadata": {},
   "outputs": [
    {
     "data": {
      "text/plain": [
       "Yes, this is my first time filling up this questionnaire    14\n",
       "Name: first_time, dtype: int64"
      ]
     },
     "execution_count": 158,
     "metadata": {},
     "output_type": "execute_result"
    }
   ],
   "source": [
    "pdc.first_time.value_counts()"
   ]
  },
  {
   "cell_type": "markdown",
   "metadata": {},
   "source": [
    "In group A there are 2 respondents that have already filled up the questionnaire. I know about one of them, he accidentaly closed the window and the second time filling it up he answered *No, I have already filled up..* However, we do not know anything about the other one, let's examine"
   ]
  },
  {
   "cell_type": "code",
   "execution_count": 159,
   "metadata": {},
   "outputs": [
    {
     "data": {
      "text/html": [
       "<div>\n",
       "<style scoped>\n",
       "    .dataframe tbody tr th:only-of-type {\n",
       "        vertical-align: middle;\n",
       "    }\n",
       "\n",
       "    .dataframe tbody tr th {\n",
       "        vertical-align: top;\n",
       "    }\n",
       "\n",
       "    .dataframe thead th {\n",
       "        text-align: right;\n",
       "    }\n",
       "</style>\n",
       "<table border=\"1\" class=\"dataframe\">\n",
       "  <thead>\n",
       "    <tr style=\"text-align: right;\">\n",
       "      <th></th>\n",
       "      <th>technical_background</th>\n",
       "      <th>first_time</th>\n",
       "      <th>t_a_before</th>\n",
       "      <th>q1</th>\n",
       "      <th>t_a_1</th>\n",
       "      <th>q2</th>\n",
       "      <th>t_a_2</th>\n",
       "      <th>q3</th>\n",
       "      <th>t_a_3</th>\n",
       "      <th>q4</th>\n",
       "      <th>...</th>\n",
       "      <th>t_c_3</th>\n",
       "      <th>q12</th>\n",
       "      <th>t_c_4</th>\n",
       "      <th>Have you looked differently at  texts after seeing explanations?</th>\n",
       "      <th>How much did the explanations affect your later predictions?</th>\n",
       "      <th>Do you think that you understand the model more after seeing explanations than before seeing them?</th>\n",
       "      <th>After seeing explanations, do you trust the model's decisions more or less?</th>\n",
       "      <th>To better understand the model, would you prefer shorter or longer texts than those provided?</th>\n",
       "      <th>Have you spot some mistakes  of the model (places where it makes bad decisions)? If you did, try to describe them</th>\n",
       "      <th>Place for your feedback</th>\n",
       "    </tr>\n",
       "  </thead>\n",
       "  <tbody>\n",
       "    <tr>\n",
       "      <th>2</th>\n",
       "      <td>No, I am not familiar</td>\n",
       "      <td>No, I have already filled up this questionnair...</td>\n",
       "      <td>Time taken to fill form: 00:11:09</td>\n",
       "      <td>Atheism</td>\n",
       "      <td>Time taken to fill form: 00:11:05</td>\n",
       "      <td>Christianity</td>\n",
       "      <td>Time taken to fill form: 00:09:37</td>\n",
       "      <td>Christianity</td>\n",
       "      <td>Time taken to fill form: 00:09:18</td>\n",
       "      <td>Christianity</td>\n",
       "      <td>...</td>\n",
       "      <td>Time taken to fill form: 00:02:12</td>\n",
       "      <td>Christianity</td>\n",
       "      <td>Time taken to fill form: 00:01:48</td>\n",
       "      <td>2</td>\n",
       "      <td>2</td>\n",
       "      <td>8</td>\n",
       "      <td>5</td>\n",
       "      <td>3</td>\n",
       "      <td>NaN</td>\n",
       "      <td>NaN</td>\n",
       "    </tr>\n",
       "    <tr>\n",
       "      <th>11</th>\n",
       "      <td>Yes, I am familiar</td>\n",
       "      <td>No, I have already filled up this questionnair...</td>\n",
       "      <td>Time taken to fill form: 00:06:13</td>\n",
       "      <td>Atheism</td>\n",
       "      <td>Time taken to fill form: 00:06:11</td>\n",
       "      <td>Christianity</td>\n",
       "      <td>Time taken to fill form: 00:05:54</td>\n",
       "      <td>Christianity</td>\n",
       "      <td>Time taken to fill form: 00:05:39</td>\n",
       "      <td>Christianity</td>\n",
       "      <td>...</td>\n",
       "      <td>Time taken to fill form: 00:03:26</td>\n",
       "      <td>Christianity</td>\n",
       "      <td>Time taken to fill form: 00:03:21</td>\n",
       "      <td>7</td>\n",
       "      <td>8</td>\n",
       "      <td>8</td>\n",
       "      <td>5</td>\n",
       "      <td>5</td>\n",
       "      <td>For example, I think testament don't have any ...</td>\n",
       "      <td>NaN</td>\n",
       "    </tr>\n",
       "  </tbody>\n",
       "</table>\n",
       "<p>2 rows × 36 columns</p>\n",
       "</div>"
      ],
      "text/plain": [
       "     technical_background                                         first_time  \\\n",
       "2   No, I am not familiar  No, I have already filled up this questionnair...   \n",
       "11     Yes, I am familiar  No, I have already filled up this questionnair...   \n",
       "\n",
       "                           t_a_before       q1  \\\n",
       "2   Time taken to fill form: 00:11:09  Atheism   \n",
       "11  Time taken to fill form: 00:06:13  Atheism   \n",
       "\n",
       "                                t_a_1            q2  \\\n",
       "2   Time taken to fill form: 00:11:05  Christianity   \n",
       "11  Time taken to fill form: 00:06:11  Christianity   \n",
       "\n",
       "                                t_a_2            q3  \\\n",
       "2   Time taken to fill form: 00:09:37  Christianity   \n",
       "11  Time taken to fill form: 00:05:54  Christianity   \n",
       "\n",
       "                                t_a_3            q4  ...  \\\n",
       "2   Time taken to fill form: 00:09:18  Christianity  ...   \n",
       "11  Time taken to fill form: 00:05:39  Christianity  ...   \n",
       "\n",
       "                                t_c_3           q12  \\\n",
       "2   Time taken to fill form: 00:02:12  Christianity   \n",
       "11  Time taken to fill form: 00:03:26  Christianity   \n",
       "\n",
       "                                t_c_4  \\\n",
       "2   Time taken to fill form: 00:01:48   \n",
       "11  Time taken to fill form: 00:03:21   \n",
       "\n",
       "   Have you looked differently at  texts after seeing explanations?    \\\n",
       "2                                                   2                   \n",
       "11                                                  7                   \n",
       "\n",
       "   How much did the explanations affect your later predictions?  \\\n",
       "2                                                   2             \n",
       "11                                                  8             \n",
       "\n",
       "   Do you think that you understand the model more after seeing explanations than before seeing them?  \\\n",
       "2                                                   8                                                   \n",
       "11                                                  8                                                   \n",
       "\n",
       "   After seeing explanations, do you trust the model's decisions more or less?  \\\n",
       "2                                                   5                            \n",
       "11                                                  5                            \n",
       "\n",
       "   To better understand the model, would you prefer shorter or longer texts than those provided?  \\\n",
       "2                                                   3                                              \n",
       "11                                                  5                                              \n",
       "\n",
       "   Have you spot some mistakes  of the model (places where it makes bad decisions)? If you did, try to describe them   \\\n",
       "2                                                 NaN                                                                   \n",
       "11  For example, I think testament don't have any ...                                                                   \n",
       "\n",
       "   Place for your feedback  \n",
       "2                      NaN  \n",
       "11                     NaN  \n",
       "\n",
       "[2 rows x 36 columns]"
      ]
     },
     "execution_count": 159,
     "metadata": {},
     "output_type": "execute_result"
    }
   ],
   "source": [
    "pda.loc[pda.first_time.str.startswith(\"No\")]"
   ]
  },
  {
   "cell_type": "markdown",
   "metadata": {},
   "source": [
    "Submission #11 is the known respondent."
   ]
  },
  {
   "cell_type": "code",
   "execution_count": 164,
   "metadata": {},
   "outputs": [
    {
     "data": {
      "text/plain": [
       "technical_background                                                                                                                              No, I am not familiar\n",
       "first_time                                                                                                            No, I have already filled up this questionnair...\n",
       "t_a_before                                                                                                                            Time taken to fill form: 00:11:09\n",
       "q1                                                                                                                                                              Atheism\n",
       "t_a_1                                                                                                                                 Time taken to fill form: 00:11:05\n",
       "q2                                                                                                                                                         Christianity\n",
       "t_a_2                                                                                                                                 Time taken to fill form: 00:09:37\n",
       "q3                                                                                                                                                         Christianity\n",
       "t_a_3                                                                                                                                 Time taken to fill form: 00:09:18\n",
       "q4                                                                                                                                                         Christianity\n",
       "t_a_4                                                                                                                                 Time taken to fill form: 00:08:41\n",
       "t_b_before                                                                                                                            Time taken to fill form: 00:07:35\n",
       "q5                                                                                                                                                         Christianity\n",
       "t_b_1                                                                                                                                 Time taken to fill form: 00:07:33\n",
       "q6                                                                                                                                                         Christianity\n",
       "t_b_2                                                                                                                                 Time taken to fill form: 00:07:22\n",
       "q7                                                                                                                                                              Atheism\n",
       "t_b_3                                                                                                                                 Time taken to fill form: 00:06:33\n",
       "q8                                                                                                                                                         Christianity\n",
       "t_b_4                                                                                                                                 Time taken to fill form: 00:06:12\n",
       "t_c_before                                                                                                                            Time taken to fill form: 00:04:09\n",
       "q9                                                                                                                                                         Christianity\n",
       "t_c_1                                                                                                                                 Time taken to fill form: 00:04:08\n",
       "q10                                                                                                                                                        Christianity\n",
       "t_c_2                                                                                                                                 Time taken to fill form: 00:02:57\n",
       "q11                                                                                                                                                             Atheism\n",
       "t_c_3                                                                                                                                 Time taken to fill form: 00:02:12\n",
       "q12                                                                                                                                                        Christianity\n",
       "t_c_4                                                                                                                                 Time taken to fill form: 00:01:48\n",
       "Have you looked differently at  texts after seeing explanations?                                                                                                      2\n",
       "How much did the explanations affect your later predictions?                                                                                                          2\n",
       "Do you think that you understand the model more after seeing explanations than before seeing them?                                                                    8\n",
       "After seeing explanations, do you trust the model's decisions more or less?                                                                                           5\n",
       "To better understand the model, would you prefer shorter or longer texts than those provided?                                                                         3\n",
       "Have you spot some mistakes  of the model (places where it makes bad decisions)? If you did, try to describe them                                                   NaN\n",
       "Place for your feedback                                                                                                                                             NaN\n",
       "Name: 2, dtype: object"
      ]
     },
     "execution_count": 164,
     "metadata": {},
     "output_type": "execute_result"
    }
   ],
   "source": [
    "pda.iloc[pda.loc[pda.first_time.str.startswith(\"No\")].index[0]]"
   ]
  },
  {
   "cell_type": "markdown",
   "metadata": {},
   "source": [
    "Throw away the other submission. Keep the known one, but do not count time for it."
   ]
  },
  {
   "cell_type": "code",
   "execution_count": 166,
   "metadata": {},
   "outputs": [],
   "source": [
    "pda = pda.drop(index=pda.loc[pda.first_time.str.startswith(\"No\")].index[0])"
   ]
  },
  {
   "cell_type": "markdown",
   "metadata": {},
   "source": [
    "---\n",
    "---"
   ]
  },
  {
   "cell_type": "markdown",
   "metadata": {},
   "source": [
    "## Compare times to fill"
   ]
  },
  {
   "cell_type": "markdown",
   "metadata": {},
   "source": [
    "**Description of time columns**\n",
    "if col starts with t_x -> this is a time column\n",
    " - t_a -> sector one, no explanations\n",
    " - t_b -> sector two, after showing one explanation\n",
    " - t_c -> sector three, after showing two explanations\n",
    " \n",
    "x_before -> timer on the start of the section, to be able to measure time of the section"
   ]
  },
  {
   "cell_type": "code",
   "execution_count": 167,
   "metadata": {},
   "outputs": [],
   "source": [
    "timecols = list(filter(lambda x: x.startswith('t_'), pda.columns))"
   ]
  },
  {
   "cell_type": "code",
   "execution_count": 168,
   "metadata": {},
   "outputs": [],
   "source": [
    "pdatimes = pda[timecols]\n",
    "pdbtimes = pdb[timecols]\n",
    "pdctimes = pdc[timecols]"
   ]
  },
  {
   "cell_type": "code",
   "execution_count": 169,
   "metadata": {},
   "outputs": [
    {
     "data": {
      "text/html": [
       "<div>\n",
       "<style scoped>\n",
       "    .dataframe tbody tr th:only-of-type {\n",
       "        vertical-align: middle;\n",
       "    }\n",
       "\n",
       "    .dataframe tbody tr th {\n",
       "        vertical-align: top;\n",
       "    }\n",
       "\n",
       "    .dataframe thead th {\n",
       "        text-align: right;\n",
       "    }\n",
       "</style>\n",
       "<table border=\"1\" class=\"dataframe\">\n",
       "  <thead>\n",
       "    <tr style=\"text-align: right;\">\n",
       "      <th></th>\n",
       "      <th>t_a_before</th>\n",
       "      <th>t_a_1</th>\n",
       "      <th>t_a_2</th>\n",
       "      <th>t_a_3</th>\n",
       "      <th>t_a_4</th>\n",
       "      <th>t_b_before</th>\n",
       "      <th>t_b_1</th>\n",
       "      <th>t_b_2</th>\n",
       "      <th>t_b_3</th>\n",
       "      <th>t_b_4</th>\n",
       "      <th>t_c_before</th>\n",
       "      <th>t_c_1</th>\n",
       "      <th>t_c_2</th>\n",
       "      <th>t_c_3</th>\n",
       "      <th>t_c_4</th>\n",
       "    </tr>\n",
       "  </thead>\n",
       "  <tbody>\n",
       "    <tr>\n",
       "      <th>0</th>\n",
       "      <td>Time taken to fill form: 00:23:07</td>\n",
       "      <td>Time taken to fill form: 00:22:36</td>\n",
       "      <td>Time taken to fill form: 00:21:06</td>\n",
       "      <td>Time taken to fill form: 00:20:54</td>\n",
       "      <td>Time taken to fill form: 00:20:42</td>\n",
       "      <td>Time taken to fill form: 00:18:44</td>\n",
       "      <td>Time taken to fill form: 00:18:15</td>\n",
       "      <td>Time taken to fill form: 00:17:59</td>\n",
       "      <td>Time taken to fill form: 00:17:07</td>\n",
       "      <td>Time taken to fill form: 00:16:56</td>\n",
       "      <td>Time taken to fill form: 00:12:40</td>\n",
       "      <td>Time taken to fill form: 00:12:38</td>\n",
       "      <td>Time taken to fill form: 00:12:21</td>\n",
       "      <td>Time taken to fill form: 00:08:45</td>\n",
       "      <td>Time taken to fill form: 00:08:08</td>\n",
       "    </tr>\n",
       "    <tr>\n",
       "      <th>1</th>\n",
       "      <td>Time taken to fill form: 00:06:41</td>\n",
       "      <td>Time taken to fill form: 00:06:19</td>\n",
       "      <td>Time taken to fill form: 00:06:02</td>\n",
       "      <td>Time taken to fill form: 00:05:54</td>\n",
       "      <td>Time taken to fill form: 00:05:32</td>\n",
       "      <td>Time taken to fill form: 00:04:43</td>\n",
       "      <td>Time taken to fill form: 00:04:41</td>\n",
       "      <td>Time taken to fill form: 00:04:28</td>\n",
       "      <td>Time taken to fill form: 00:04:08</td>\n",
       "      <td>Time taken to fill form: 00:03:51</td>\n",
       "      <td>Time taken to fill form: 00:02:16</td>\n",
       "      <td>Time taken to fill form: 00:02:12</td>\n",
       "      <td>Time taken to fill form: 00:01:54</td>\n",
       "      <td>Time taken to fill form: 00:01:46</td>\n",
       "      <td>Time taken to fill form: 00:01:32</td>\n",
       "    </tr>\n",
       "  </tbody>\n",
       "</table>\n",
       "</div>"
      ],
      "text/plain": [
       "                          t_a_before                              t_a_1  \\\n",
       "0  Time taken to fill form: 00:23:07  Time taken to fill form: 00:22:36   \n",
       "1  Time taken to fill form: 00:06:41  Time taken to fill form: 00:06:19   \n",
       "\n",
       "                               t_a_2                              t_a_3  \\\n",
       "0  Time taken to fill form: 00:21:06  Time taken to fill form: 00:20:54   \n",
       "1  Time taken to fill form: 00:06:02  Time taken to fill form: 00:05:54   \n",
       "\n",
       "                               t_a_4                         t_b_before  \\\n",
       "0  Time taken to fill form: 00:20:42  Time taken to fill form: 00:18:44   \n",
       "1  Time taken to fill form: 00:05:32  Time taken to fill form: 00:04:43   \n",
       "\n",
       "                               t_b_1                              t_b_2  \\\n",
       "0  Time taken to fill form: 00:18:15  Time taken to fill form: 00:17:59   \n",
       "1  Time taken to fill form: 00:04:41  Time taken to fill form: 00:04:28   \n",
       "\n",
       "                               t_b_3                              t_b_4  \\\n",
       "0  Time taken to fill form: 00:17:07  Time taken to fill form: 00:16:56   \n",
       "1  Time taken to fill form: 00:04:08  Time taken to fill form: 00:03:51   \n",
       "\n",
       "                          t_c_before                              t_c_1  \\\n",
       "0  Time taken to fill form: 00:12:40  Time taken to fill form: 00:12:38   \n",
       "1  Time taken to fill form: 00:02:16  Time taken to fill form: 00:02:12   \n",
       "\n",
       "                               t_c_2                              t_c_3  \\\n",
       "0  Time taken to fill form: 00:12:21  Time taken to fill form: 00:08:45   \n",
       "1  Time taken to fill form: 00:01:54  Time taken to fill form: 00:01:46   \n",
       "\n",
       "                               t_c_4  \n",
       "0  Time taken to fill form: 00:08:08  \n",
       "1  Time taken to fill form: 00:01:32  "
      ]
     },
     "execution_count": 169,
     "metadata": {},
     "output_type": "execute_result"
    }
   ],
   "source": [
    "pdctimes.head(2)"
   ]
  },
  {
   "cell_type": "code",
   "execution_count": 170,
   "metadata": {},
   "outputs": [],
   "source": [
    "pdatimes = pdatimes.replace(to_replace ='Time taken to fill form: ', value = '', regex = True)\n",
    "pdbtimes = pdbtimes.replace(to_replace ='Time taken to fill form: ', value = '', regex = True)\n",
    "pdctimes = pdctimes.replace(to_replace ='Time taken to fill form: ', value = '', regex = True)"
   ]
  },
  {
   "cell_type": "code",
   "execution_count": 171,
   "metadata": {},
   "outputs": [
    {
     "data": {
      "text/plain": [
       "t_a_before    object\n",
       "t_a_1         object\n",
       "t_a_2         object\n",
       "t_a_3         object\n",
       "t_a_4         object\n",
       "t_b_before    object\n",
       "t_b_1         object\n",
       "t_b_2         object\n",
       "t_b_3         object\n",
       "t_b_4         object\n",
       "t_c_before    object\n",
       "t_c_1         object\n",
       "t_c_2         object\n",
       "t_c_3         object\n",
       "t_c_4         object\n",
       "dtype: object"
      ]
     },
     "execution_count": 171,
     "metadata": {},
     "output_type": "execute_result"
    }
   ],
   "source": [
    "pdatimes.dtypes"
   ]
  },
  {
   "cell_type": "code",
   "execution_count": 172,
   "metadata": {},
   "outputs": [],
   "source": [
    "# convert to dates\n",
    "def to_dates(df):\n",
    "    cols = df.columns\n",
    "    for col in cols:\n",
    "        df[col] = pd.to_datetime(df[col], infer_datetime_format=True)\n",
    "    return df"
   ]
  },
  {
   "cell_type": "code",
   "execution_count": 173,
   "metadata": {},
   "outputs": [],
   "source": [
    "pdatimes = to_dates(pdatimes)\n",
    "pdbtimes = to_dates(pdbtimes)\n",
    "pdctimes = to_dates(pdctimes)"
   ]
  },
  {
   "cell_type": "code",
   "execution_count": 174,
   "metadata": {},
   "outputs": [
    {
     "data": {
      "text/plain": [
       "t_a_before    datetime64[ns]\n",
       "t_a_1         datetime64[ns]\n",
       "t_a_2         datetime64[ns]\n",
       "t_a_3         datetime64[ns]\n",
       "t_a_4         datetime64[ns]\n",
       "t_b_before    datetime64[ns]\n",
       "t_b_1         datetime64[ns]\n",
       "t_b_2         datetime64[ns]\n",
       "t_b_3         datetime64[ns]\n",
       "t_b_4         datetime64[ns]\n",
       "t_c_before    datetime64[ns]\n",
       "t_c_1         datetime64[ns]\n",
       "t_c_2         datetime64[ns]\n",
       "t_c_3         datetime64[ns]\n",
       "t_c_4         datetime64[ns]\n",
       "dtype: object"
      ]
     },
     "execution_count": 174,
     "metadata": {},
     "output_type": "execute_result"
    }
   ],
   "source": [
    "pdatimes.dtypes"
   ]
  },
  {
   "cell_type": "code",
   "execution_count": 178,
   "metadata": {},
   "outputs": [
    {
     "data": {
      "text/html": [
       "<style  type=\"text/css\" >\n",
       "#T_77fba300_b316_11eb_81d7_0d91cc225b64row0_col0{\n",
       "            background-color:  yellow;\n",
       "        }</style><table id=\"T_77fba300_b316_11eb_81d7_0d91cc225b64\" ><thead>    <tr>        <th class=\"blank level0\" ></th>        <th class=\"col_heading level0 col0\" >t_a_before</th>        <th class=\"col_heading level0 col1\" >t_a_1</th>        <th class=\"col_heading level0 col2\" >t_a_2</th>        <th class=\"col_heading level0 col3\" >t_a_3</th>        <th class=\"col_heading level0 col4\" >t_a_4</th>        <th class=\"col_heading level0 col5\" >t_b_before</th>        <th class=\"col_heading level0 col6\" >t_b_1</th>        <th class=\"col_heading level0 col7\" >t_b_2</th>        <th class=\"col_heading level0 col8\" >t_b_3</th>        <th class=\"col_heading level0 col9\" >t_b_4</th>        <th class=\"col_heading level0 col10\" >t_c_before</th>        <th class=\"col_heading level0 col11\" >t_c_1</th>        <th class=\"col_heading level0 col12\" >t_c_2</th>        <th class=\"col_heading level0 col13\" >t_c_3</th>        <th class=\"col_heading level0 col14\" >t_c_4</th>    </tr></thead><tbody>\n",
       "                <tr>\n",
       "                        <th id=\"T_77fba300_b316_11eb_81d7_0d91cc225b64level0_row0\" class=\"row_heading level0 row0\" >0</th>\n",
       "                        <td id=\"T_77fba300_b316_11eb_81d7_0d91cc225b64row0_col0\" class=\"data row0 col0\" >2021-05-12 00:32:19</td>\n",
       "                        <td id=\"T_77fba300_b316_11eb_81d7_0d91cc225b64row0_col1\" class=\"data row0 col1\" >2021-05-12 00:32:16</td>\n",
       "                        <td id=\"T_77fba300_b316_11eb_81d7_0d91cc225b64row0_col2\" class=\"data row0 col2\" >2021-05-12 00:31:29</td>\n",
       "                        <td id=\"T_77fba300_b316_11eb_81d7_0d91cc225b64row0_col3\" class=\"data row0 col3\" >2021-05-12 00:31:21</td>\n",
       "                        <td id=\"T_77fba300_b316_11eb_81d7_0d91cc225b64row0_col4\" class=\"data row0 col4\" >2021-05-12 00:31:09</td>\n",
       "                        <td id=\"T_77fba300_b316_11eb_81d7_0d91cc225b64row0_col5\" class=\"data row0 col5\" >2021-05-12 00:30:18</td>\n",
       "                        <td id=\"T_77fba300_b316_11eb_81d7_0d91cc225b64row0_col6\" class=\"data row0 col6\" >2021-05-12 00:30:15</td>\n",
       "                        <td id=\"T_77fba300_b316_11eb_81d7_0d91cc225b64row0_col7\" class=\"data row0 col7\" >2021-05-12 00:28:56</td>\n",
       "                        <td id=\"T_77fba300_b316_11eb_81d7_0d91cc225b64row0_col8\" class=\"data row0 col8\" >2021-05-12 00:28:45</td>\n",
       "                        <td id=\"T_77fba300_b316_11eb_81d7_0d91cc225b64row0_col9\" class=\"data row0 col9\" >2021-05-12 00:28:01</td>\n",
       "                        <td id=\"T_77fba300_b316_11eb_81d7_0d91cc225b64row0_col10\" class=\"data row0 col10\" >2021-05-12 00:25:28</td>\n",
       "                        <td id=\"T_77fba300_b316_11eb_81d7_0d91cc225b64row0_col11\" class=\"data row0 col11\" >2021-05-12 00:25:26</td>\n",
       "                        <td id=\"T_77fba300_b316_11eb_81d7_0d91cc225b64row0_col12\" class=\"data row0 col12\" >2021-05-12 00:24:07</td>\n",
       "                        <td id=\"T_77fba300_b316_11eb_81d7_0d91cc225b64row0_col13\" class=\"data row0 col13\" >2021-05-12 00:22:34</td>\n",
       "                        <td id=\"T_77fba300_b316_11eb_81d7_0d91cc225b64row0_col14\" class=\"data row0 col14\" >2021-05-12 00:21:31</td>\n",
       "            </tr>\n",
       "            <tr>\n",
       "                        <th id=\"T_77fba300_b316_11eb_81d7_0d91cc225b64level0_row1\" class=\"row_heading level0 row1\" >1</th>\n",
       "                        <td id=\"T_77fba300_b316_11eb_81d7_0d91cc225b64row1_col0\" class=\"data row1 col0\" >2021-05-12 00:28:36</td>\n",
       "                        <td id=\"T_77fba300_b316_11eb_81d7_0d91cc225b64row1_col1\" class=\"data row1 col1\" >2021-05-12 00:28:22</td>\n",
       "                        <td id=\"T_77fba300_b316_11eb_81d7_0d91cc225b64row1_col2\" class=\"data row1 col2\" >2021-05-12 00:25:36</td>\n",
       "                        <td id=\"T_77fba300_b316_11eb_81d7_0d91cc225b64row1_col3\" class=\"data row1 col3\" >2021-05-12 00:25:16</td>\n",
       "                        <td id=\"T_77fba300_b316_11eb_81d7_0d91cc225b64row1_col4\" class=\"data row1 col4\" >2021-05-12 00:24:45</td>\n",
       "                        <td id=\"T_77fba300_b316_11eb_81d7_0d91cc225b64row1_col5\" class=\"data row1 col5\" >2021-05-12 00:21:16</td>\n",
       "                        <td id=\"T_77fba300_b316_11eb_81d7_0d91cc225b64row1_col6\" class=\"data row1 col6\" >2021-05-12 00:21:13</td>\n",
       "                        <td id=\"T_77fba300_b316_11eb_81d7_0d91cc225b64row1_col7\" class=\"data row1 col7\" >2021-05-12 00:20:46</td>\n",
       "                        <td id=\"T_77fba300_b316_11eb_81d7_0d91cc225b64row1_col8\" class=\"data row1 col8\" >2021-05-12 00:19:19</td>\n",
       "                        <td id=\"T_77fba300_b316_11eb_81d7_0d91cc225b64row1_col9\" class=\"data row1 col9\" >2021-05-12 00:18:15</td>\n",
       "                        <td id=\"T_77fba300_b316_11eb_81d7_0d91cc225b64row1_col10\" class=\"data row1 col10\" >2021-05-12 00:15:25</td>\n",
       "                        <td id=\"T_77fba300_b316_11eb_81d7_0d91cc225b64row1_col11\" class=\"data row1 col11\" >2021-05-12 00:15:22</td>\n",
       "                        <td id=\"T_77fba300_b316_11eb_81d7_0d91cc225b64row1_col12\" class=\"data row1 col12\" >2021-05-12 00:12:03</td>\n",
       "                        <td id=\"T_77fba300_b316_11eb_81d7_0d91cc225b64row1_col13\" class=\"data row1 col13\" >2021-05-12 00:11:30</td>\n",
       "                        <td id=\"T_77fba300_b316_11eb_81d7_0d91cc225b64row1_col14\" class=\"data row1 col14\" >2021-05-12 00:09:19</td>\n",
       "            </tr>\n",
       "            <tr>\n",
       "                        <th id=\"T_77fba300_b316_11eb_81d7_0d91cc225b64level0_row2\" class=\"row_heading level0 row2\" >3</th>\n",
       "                        <td id=\"T_77fba300_b316_11eb_81d7_0d91cc225b64row2_col0\" class=\"data row2 col0\" >2021-05-12 00:08:49</td>\n",
       "                        <td id=\"T_77fba300_b316_11eb_81d7_0d91cc225b64row2_col1\" class=\"data row2 col1\" >2021-05-12 00:08:24</td>\n",
       "                        <td id=\"T_77fba300_b316_11eb_81d7_0d91cc225b64row2_col2\" class=\"data row2 col2\" >2021-05-12 00:07:28</td>\n",
       "                        <td id=\"T_77fba300_b316_11eb_81d7_0d91cc225b64row2_col3\" class=\"data row2 col3\" >2021-05-12 00:07:16</td>\n",
       "                        <td id=\"T_77fba300_b316_11eb_81d7_0d91cc225b64row2_col4\" class=\"data row2 col4\" >2021-05-12 00:07:05</td>\n",
       "                        <td id=\"T_77fba300_b316_11eb_81d7_0d91cc225b64row2_col5\" class=\"data row2 col5\" >2021-05-12 00:06:11</td>\n",
       "                        <td id=\"T_77fba300_b316_11eb_81d7_0d91cc225b64row2_col6\" class=\"data row2 col6\" >2021-05-12 00:06:09</td>\n",
       "                        <td id=\"T_77fba300_b316_11eb_81d7_0d91cc225b64row2_col7\" class=\"data row2 col7\" >2021-05-12 00:05:46</td>\n",
       "                        <td id=\"T_77fba300_b316_11eb_81d7_0d91cc225b64row2_col8\" class=\"data row2 col8\" >2021-05-12 00:04:57</td>\n",
       "                        <td id=\"T_77fba300_b316_11eb_81d7_0d91cc225b64row2_col9\" class=\"data row2 col9\" >2021-05-12 00:03:40</td>\n",
       "                        <td id=\"T_77fba300_b316_11eb_81d7_0d91cc225b64row2_col10\" class=\"data row2 col10\" >2021-05-12 00:02:59</td>\n",
       "                        <td id=\"T_77fba300_b316_11eb_81d7_0d91cc225b64row2_col11\" class=\"data row2 col11\" >2021-05-12 00:02:56</td>\n",
       "                        <td id=\"T_77fba300_b316_11eb_81d7_0d91cc225b64row2_col12\" class=\"data row2 col12\" >2021-05-12 00:02:44</td>\n",
       "                        <td id=\"T_77fba300_b316_11eb_81d7_0d91cc225b64row2_col13\" class=\"data row2 col13\" >2021-05-12 00:02:00</td>\n",
       "                        <td id=\"T_77fba300_b316_11eb_81d7_0d91cc225b64row2_col14\" class=\"data row2 col14\" >2021-05-12 00:01:13</td>\n",
       "            </tr>\n",
       "            <tr>\n",
       "                        <th id=\"T_77fba300_b316_11eb_81d7_0d91cc225b64level0_row3\" class=\"row_heading level0 row3\" >4</th>\n",
       "                        <td id=\"T_77fba300_b316_11eb_81d7_0d91cc225b64row3_col0\" class=\"data row3 col0\" >2021-05-12 00:21:29</td>\n",
       "                        <td id=\"T_77fba300_b316_11eb_81d7_0d91cc225b64row3_col1\" class=\"data row3 col1\" >2021-05-12 00:21:04</td>\n",
       "                        <td id=\"T_77fba300_b316_11eb_81d7_0d91cc225b64row3_col2\" class=\"data row3 col2\" >2021-05-12 00:19:21</td>\n",
       "                        <td id=\"T_77fba300_b316_11eb_81d7_0d91cc225b64row3_col3\" class=\"data row3 col3\" >2021-05-12 00:18:45</td>\n",
       "                        <td id=\"T_77fba300_b316_11eb_81d7_0d91cc225b64row3_col4\" class=\"data row3 col4\" >2021-05-12 00:18:17</td>\n",
       "                        <td id=\"T_77fba300_b316_11eb_81d7_0d91cc225b64row3_col5\" class=\"data row3 col5\" >2021-05-12 00:15:58</td>\n",
       "                        <td id=\"T_77fba300_b316_11eb_81d7_0d91cc225b64row3_col6\" class=\"data row3 col6\" >2021-05-12 00:15:53</td>\n",
       "                        <td id=\"T_77fba300_b316_11eb_81d7_0d91cc225b64row3_col7\" class=\"data row3 col7\" >2021-05-12 00:15:33</td>\n",
       "                        <td id=\"T_77fba300_b316_11eb_81d7_0d91cc225b64row3_col8\" class=\"data row3 col8\" >2021-05-12 00:15:05</td>\n",
       "                        <td id=\"T_77fba300_b316_11eb_81d7_0d91cc225b64row3_col9\" class=\"data row3 col9\" >2021-05-12 00:14:49</td>\n",
       "                        <td id=\"T_77fba300_b316_11eb_81d7_0d91cc225b64row3_col10\" class=\"data row3 col10\" >2021-05-12 00:12:25</td>\n",
       "                        <td id=\"T_77fba300_b316_11eb_81d7_0d91cc225b64row3_col11\" class=\"data row3 col11\" >2021-05-12 00:12:23</td>\n",
       "                        <td id=\"T_77fba300_b316_11eb_81d7_0d91cc225b64row3_col12\" class=\"data row3 col12\" >2021-05-12 00:11:34</td>\n",
       "                        <td id=\"T_77fba300_b316_11eb_81d7_0d91cc225b64row3_col13\" class=\"data row3 col13\" >2021-05-12 00:10:48</td>\n",
       "                        <td id=\"T_77fba300_b316_11eb_81d7_0d91cc225b64row3_col14\" class=\"data row3 col14\" >2021-05-12 00:10:18</td>\n",
       "            </tr>\n",
       "            <tr>\n",
       "                        <th id=\"T_77fba300_b316_11eb_81d7_0d91cc225b64level0_row4\" class=\"row_heading level0 row4\" >5</th>\n",
       "                        <td id=\"T_77fba300_b316_11eb_81d7_0d91cc225b64row4_col0\" class=\"data row4 col0\" >2021-05-12 00:07:26</td>\n",
       "                        <td id=\"T_77fba300_b316_11eb_81d7_0d91cc225b64row4_col1\" class=\"data row4 col1\" >2021-05-12 00:07:19</td>\n",
       "                        <td id=\"T_77fba300_b316_11eb_81d7_0d91cc225b64row4_col2\" class=\"data row4 col2\" >2021-05-12 00:03:49</td>\n",
       "                        <td id=\"T_77fba300_b316_11eb_81d7_0d91cc225b64row4_col3\" class=\"data row4 col3\" >2021-05-12 00:03:33</td>\n",
       "                        <td id=\"T_77fba300_b316_11eb_81d7_0d91cc225b64row4_col4\" class=\"data row4 col4\" >2021-05-12 00:03:08</td>\n",
       "                        <td id=\"T_77fba300_b316_11eb_81d7_0d91cc225b64row4_col5\" class=\"data row4 col5\" >2021-05-12 00:02:24</td>\n",
       "                        <td id=\"T_77fba300_b316_11eb_81d7_0d91cc225b64row4_col6\" class=\"data row4 col6\" >2021-05-12 00:02:22</td>\n",
       "                        <td id=\"T_77fba300_b316_11eb_81d7_0d91cc225b64row4_col7\" class=\"data row4 col7\" >2021-05-12 00:02:00</td>\n",
       "                        <td id=\"T_77fba300_b316_11eb_81d7_0d91cc225b64row4_col8\" class=\"data row4 col8\" >2021-05-12 00:01:45</td>\n",
       "                        <td id=\"T_77fba300_b316_11eb_81d7_0d91cc225b64row4_col9\" class=\"data row4 col9\" >2021-05-12 00:01:41</td>\n",
       "                        <td id=\"T_77fba300_b316_11eb_81d7_0d91cc225b64row4_col10\" class=\"data row4 col10\" >2021-05-12 00:01:22</td>\n",
       "                        <td id=\"T_77fba300_b316_11eb_81d7_0d91cc225b64row4_col11\" class=\"data row4 col11\" >2021-05-12 00:01:20</td>\n",
       "                        <td id=\"T_77fba300_b316_11eb_81d7_0d91cc225b64row4_col12\" class=\"data row4 col12\" >2021-05-12 00:01:12</td>\n",
       "                        <td id=\"T_77fba300_b316_11eb_81d7_0d91cc225b64row4_col13\" class=\"data row4 col13\" >2021-05-12 00:01:02</td>\n",
       "                        <td id=\"T_77fba300_b316_11eb_81d7_0d91cc225b64row4_col14\" class=\"data row4 col14\" >2021-05-12 00:00:52</td>\n",
       "            </tr>\n",
       "            <tr>\n",
       "                        <th id=\"T_77fba300_b316_11eb_81d7_0d91cc225b64level0_row5\" class=\"row_heading level0 row5\" >6</th>\n",
       "                        <td id=\"T_77fba300_b316_11eb_81d7_0d91cc225b64row5_col0\" class=\"data row5 col0\" >2021-05-12 00:07:52</td>\n",
       "                        <td id=\"T_77fba300_b316_11eb_81d7_0d91cc225b64row5_col1\" class=\"data row5 col1\" >2021-05-12 00:07:24</td>\n",
       "                        <td id=\"T_77fba300_b316_11eb_81d7_0d91cc225b64row5_col2\" class=\"data row5 col2\" >2021-05-12 00:06:19</td>\n",
       "                        <td id=\"T_77fba300_b316_11eb_81d7_0d91cc225b64row5_col3\" class=\"data row5 col3\" >2021-05-12 00:06:03</td>\n",
       "                        <td id=\"T_77fba300_b316_11eb_81d7_0d91cc225b64row5_col4\" class=\"data row5 col4\" >2021-05-12 00:05:45</td>\n",
       "                        <td id=\"T_77fba300_b316_11eb_81d7_0d91cc225b64row5_col5\" class=\"data row5 col5\" >2021-05-12 00:04:47</td>\n",
       "                        <td id=\"T_77fba300_b316_11eb_81d7_0d91cc225b64row5_col6\" class=\"data row5 col6\" >2021-05-12 00:04:43</td>\n",
       "                        <td id=\"T_77fba300_b316_11eb_81d7_0d91cc225b64row5_col7\" class=\"data row5 col7\" >2021-05-12 00:04:28</td>\n",
       "                        <td id=\"T_77fba300_b316_11eb_81d7_0d91cc225b64row5_col8\" class=\"data row5 col8\" >2021-05-12 00:03:57</td>\n",
       "                        <td id=\"T_77fba300_b316_11eb_81d7_0d91cc225b64row5_col9\" class=\"data row5 col9\" >2021-05-12 00:03:35</td>\n",
       "                        <td id=\"T_77fba300_b316_11eb_81d7_0d91cc225b64row5_col10\" class=\"data row5 col10\" >2021-05-12 00:02:42</td>\n",
       "                        <td id=\"T_77fba300_b316_11eb_81d7_0d91cc225b64row5_col11\" class=\"data row5 col11\" >2021-05-12 00:02:40</td>\n",
       "                        <td id=\"T_77fba300_b316_11eb_81d7_0d91cc225b64row5_col12\" class=\"data row5 col12\" >2021-05-12 00:02:05</td>\n",
       "                        <td id=\"T_77fba300_b316_11eb_81d7_0d91cc225b64row5_col13\" class=\"data row5 col13\" >2021-05-12 00:01:44</td>\n",
       "                        <td id=\"T_77fba300_b316_11eb_81d7_0d91cc225b64row5_col14\" class=\"data row5 col14\" >2021-05-12 00:01:19</td>\n",
       "            </tr>\n",
       "            <tr>\n",
       "                        <th id=\"T_77fba300_b316_11eb_81d7_0d91cc225b64level0_row6\" class=\"row_heading level0 row6\" >7</th>\n",
       "                        <td id=\"T_77fba300_b316_11eb_81d7_0d91cc225b64row6_col0\" class=\"data row6 col0\" >2021-05-12 00:24:28</td>\n",
       "                        <td id=\"T_77fba300_b316_11eb_81d7_0d91cc225b64row6_col1\" class=\"data row6 col1\" >2021-05-12 00:24:02</td>\n",
       "                        <td id=\"T_77fba300_b316_11eb_81d7_0d91cc225b64row6_col2\" class=\"data row6 col2\" >2021-05-12 00:21:43</td>\n",
       "                        <td id=\"T_77fba300_b316_11eb_81d7_0d91cc225b64row6_col3\" class=\"data row6 col3\" >2021-05-12 00:21:01</td>\n",
       "                        <td id=\"T_77fba300_b316_11eb_81d7_0d91cc225b64row6_col4\" class=\"data row6 col4\" >2021-05-12 00:20:33</td>\n",
       "                        <td id=\"T_77fba300_b316_11eb_81d7_0d91cc225b64row6_col5\" class=\"data row6 col5\" >2021-05-12 00:18:57</td>\n",
       "                        <td id=\"T_77fba300_b316_11eb_81d7_0d91cc225b64row6_col6\" class=\"data row6 col6\" >2021-05-12 00:18:50</td>\n",
       "                        <td id=\"T_77fba300_b316_11eb_81d7_0d91cc225b64row6_col7\" class=\"data row6 col7\" >2021-05-12 00:17:37</td>\n",
       "                        <td id=\"T_77fba300_b316_11eb_81d7_0d91cc225b64row6_col8\" class=\"data row6 col8\" >2021-05-12 00:16:09</td>\n",
       "                        <td id=\"T_77fba300_b316_11eb_81d7_0d91cc225b64row6_col9\" class=\"data row6 col9\" >2021-05-12 00:14:07</td>\n",
       "                        <td id=\"T_77fba300_b316_11eb_81d7_0d91cc225b64row6_col10\" class=\"data row6 col10\" >2021-05-12 00:07:14</td>\n",
       "                        <td id=\"T_77fba300_b316_11eb_81d7_0d91cc225b64row6_col11\" class=\"data row6 col11\" >2021-05-12 00:07:11</td>\n",
       "                        <td id=\"T_77fba300_b316_11eb_81d7_0d91cc225b64row6_col12\" class=\"data row6 col12\" >2021-05-12 00:05:46</td>\n",
       "                        <td id=\"T_77fba300_b316_11eb_81d7_0d91cc225b64row6_col13\" class=\"data row6 col13\" >2021-05-12 00:03:32</td>\n",
       "                        <td id=\"T_77fba300_b316_11eb_81d7_0d91cc225b64row6_col14\" class=\"data row6 col14\" >2021-05-12 00:02:02</td>\n",
       "            </tr>\n",
       "            <tr>\n",
       "                        <th id=\"T_77fba300_b316_11eb_81d7_0d91cc225b64level0_row7\" class=\"row_heading level0 row7\" >8</th>\n",
       "                        <td id=\"T_77fba300_b316_11eb_81d7_0d91cc225b64row7_col0\" class=\"data row7 col0\" >2021-05-12 00:10:24</td>\n",
       "                        <td id=\"T_77fba300_b316_11eb_81d7_0d91cc225b64row7_col1\" class=\"data row7 col1\" >2021-05-12 00:09:56</td>\n",
       "                        <td id=\"T_77fba300_b316_11eb_81d7_0d91cc225b64row7_col2\" class=\"data row7 col2\" >2021-05-12 00:09:13</td>\n",
       "                        <td id=\"T_77fba300_b316_11eb_81d7_0d91cc225b64row7_col3\" class=\"data row7 col3\" >2021-05-12 00:08:57</td>\n",
       "                        <td id=\"T_77fba300_b316_11eb_81d7_0d91cc225b64row7_col4\" class=\"data row7 col4\" >2021-05-12 00:08:49</td>\n",
       "                        <td id=\"T_77fba300_b316_11eb_81d7_0d91cc225b64row7_col5\" class=\"data row7 col5\" >2021-05-12 00:08:07</td>\n",
       "                        <td id=\"T_77fba300_b316_11eb_81d7_0d91cc225b64row7_col6\" class=\"data row7 col6\" >2021-05-12 00:07:47</td>\n",
       "                        <td id=\"T_77fba300_b316_11eb_81d7_0d91cc225b64row7_col7\" class=\"data row7 col7\" >2021-05-12 00:07:21</td>\n",
       "                        <td id=\"T_77fba300_b316_11eb_81d7_0d91cc225b64row7_col8\" class=\"data row7 col8\" >2021-05-12 00:06:04</td>\n",
       "                        <td id=\"T_77fba300_b316_11eb_81d7_0d91cc225b64row7_col9\" class=\"data row7 col9\" >2021-05-12 00:05:32</td>\n",
       "                        <td id=\"T_77fba300_b316_11eb_81d7_0d91cc225b64row7_col10\" class=\"data row7 col10\" >2021-05-12 00:04:09</td>\n",
       "                        <td id=\"T_77fba300_b316_11eb_81d7_0d91cc225b64row7_col11\" class=\"data row7 col11\" >2021-05-12 00:04:05</td>\n",
       "                        <td id=\"T_77fba300_b316_11eb_81d7_0d91cc225b64row7_col12\" class=\"data row7 col12\" >2021-05-12 00:03:33</td>\n",
       "                        <td id=\"T_77fba300_b316_11eb_81d7_0d91cc225b64row7_col13\" class=\"data row7 col13\" >2021-05-12 00:02:37</td>\n",
       "                        <td id=\"T_77fba300_b316_11eb_81d7_0d91cc225b64row7_col14\" class=\"data row7 col14\" >2021-05-12 00:02:07</td>\n",
       "            </tr>\n",
       "            <tr>\n",
       "                        <th id=\"T_77fba300_b316_11eb_81d7_0d91cc225b64level0_row8\" class=\"row_heading level0 row8\" >9</th>\n",
       "                        <td id=\"T_77fba300_b316_11eb_81d7_0d91cc225b64row8_col0\" class=\"data row8 col0\" >2021-05-12 00:16:18</td>\n",
       "                        <td id=\"T_77fba300_b316_11eb_81d7_0d91cc225b64row8_col1\" class=\"data row8 col1\" >2021-05-12 00:15:58</td>\n",
       "                        <td id=\"T_77fba300_b316_11eb_81d7_0d91cc225b64row8_col2\" class=\"data row8 col2\" >2021-05-12 00:13:20</td>\n",
       "                        <td id=\"T_77fba300_b316_11eb_81d7_0d91cc225b64row8_col3\" class=\"data row8 col3\" >2021-05-12 00:12:57</td>\n",
       "                        <td id=\"T_77fba300_b316_11eb_81d7_0d91cc225b64row8_col4\" class=\"data row8 col4\" >2021-05-12 00:12:25</td>\n",
       "                        <td id=\"T_77fba300_b316_11eb_81d7_0d91cc225b64row8_col5\" class=\"data row8 col5\" >2021-05-12 00:11:20</td>\n",
       "                        <td id=\"T_77fba300_b316_11eb_81d7_0d91cc225b64row8_col6\" class=\"data row8 col6\" >2021-05-12 00:11:17</td>\n",
       "                        <td id=\"T_77fba300_b316_11eb_81d7_0d91cc225b64row8_col7\" class=\"data row8 col7\" >2021-05-12 00:10:55</td>\n",
       "                        <td id=\"T_77fba300_b316_11eb_81d7_0d91cc225b64row8_col8\" class=\"data row8 col8\" >2021-05-12 00:09:57</td>\n",
       "                        <td id=\"T_77fba300_b316_11eb_81d7_0d91cc225b64row8_col9\" class=\"data row8 col9\" >2021-05-12 00:09:10</td>\n",
       "                        <td id=\"T_77fba300_b316_11eb_81d7_0d91cc225b64row8_col10\" class=\"data row8 col10\" >2021-05-12 00:07:20</td>\n",
       "                        <td id=\"T_77fba300_b316_11eb_81d7_0d91cc225b64row8_col11\" class=\"data row8 col11\" >2021-05-12 00:07:18</td>\n",
       "                        <td id=\"T_77fba300_b316_11eb_81d7_0d91cc225b64row8_col12\" class=\"data row8 col12\" >2021-05-12 00:06:46</td>\n",
       "                        <td id=\"T_77fba300_b316_11eb_81d7_0d91cc225b64row8_col13\" class=\"data row8 col13\" >2021-05-12 00:03:50</td>\n",
       "                        <td id=\"T_77fba300_b316_11eb_81d7_0d91cc225b64row8_col14\" class=\"data row8 col14\" >2021-05-12 00:02:34</td>\n",
       "            </tr>\n",
       "            <tr>\n",
       "                        <th id=\"T_77fba300_b316_11eb_81d7_0d91cc225b64level0_row9\" class=\"row_heading level0 row9\" >10</th>\n",
       "                        <td id=\"T_77fba300_b316_11eb_81d7_0d91cc225b64row9_col0\" class=\"data row9 col0\" >2021-05-12 00:19:52</td>\n",
       "                        <td id=\"T_77fba300_b316_11eb_81d7_0d91cc225b64row9_col1\" class=\"data row9 col1\" >2021-05-12 00:19:34</td>\n",
       "                        <td id=\"T_77fba300_b316_11eb_81d7_0d91cc225b64row9_col2\" class=\"data row9 col2\" >2021-05-12 00:17:51</td>\n",
       "                        <td id=\"T_77fba300_b316_11eb_81d7_0d91cc225b64row9_col3\" class=\"data row9 col3\" >2021-05-12 00:17:22</td>\n",
       "                        <td id=\"T_77fba300_b316_11eb_81d7_0d91cc225b64row9_col4\" class=\"data row9 col4\" >2021-05-12 00:17:08</td>\n",
       "                        <td id=\"T_77fba300_b316_11eb_81d7_0d91cc225b64row9_col5\" class=\"data row9 col5\" >2021-05-12 00:15:51</td>\n",
       "                        <td id=\"T_77fba300_b316_11eb_81d7_0d91cc225b64row9_col6\" class=\"data row9 col6\" >2021-05-12 00:15:48</td>\n",
       "                        <td id=\"T_77fba300_b316_11eb_81d7_0d91cc225b64row9_col7\" class=\"data row9 col7\" >2021-05-12 00:15:22</td>\n",
       "                        <td id=\"T_77fba300_b316_11eb_81d7_0d91cc225b64row9_col8\" class=\"data row9 col8\" >2021-05-12 00:14:15</td>\n",
       "                        <td id=\"T_77fba300_b316_11eb_81d7_0d91cc225b64row9_col9\" class=\"data row9 col9\" >2021-05-12 00:12:58</td>\n",
       "                        <td id=\"T_77fba300_b316_11eb_81d7_0d91cc225b64row9_col10\" class=\"data row9 col10\" >2021-05-12 00:08:50</td>\n",
       "                        <td id=\"T_77fba300_b316_11eb_81d7_0d91cc225b64row9_col11\" class=\"data row9 col11\" >2021-05-12 00:08:47</td>\n",
       "                        <td id=\"T_77fba300_b316_11eb_81d7_0d91cc225b64row9_col12\" class=\"data row9 col12\" >2021-05-12 00:07:36</td>\n",
       "                        <td id=\"T_77fba300_b316_11eb_81d7_0d91cc225b64row9_col13\" class=\"data row9 col13\" >2021-05-12 00:04:52</td>\n",
       "                        <td id=\"T_77fba300_b316_11eb_81d7_0d91cc225b64row9_col14\" class=\"data row9 col14\" >2021-05-12 00:03:17</td>\n",
       "            </tr>\n",
       "    </tbody></table>"
      ],
      "text/plain": [
       "<pandas.io.formats.style.Styler at 0x7fb4b07b4d60>"
      ]
     },
     "execution_count": 178,
     "metadata": {},
     "output_type": "execute_result"
    }
   ],
   "source": [
    "pdatimes.style.highlight_max(subset='t_a_before')"
   ]
  },
  {
   "cell_type": "code",
   "execution_count": 177,
   "metadata": {},
   "outputs": [
    {
     "data": {
      "text/html": [
       "<style  type=\"text/css\" >\n",
       "#T_763ecc18_b316_11eb_81d7_0d91cc225b64row2_col0{\n",
       "            background-color:  yellow;\n",
       "        }</style><table id=\"T_763ecc18_b316_11eb_81d7_0d91cc225b64\" ><thead>    <tr>        <th class=\"blank level0\" ></th>        <th class=\"col_heading level0 col0\" >t_a_before</th>        <th class=\"col_heading level0 col1\" >t_a_1</th>        <th class=\"col_heading level0 col2\" >t_a_2</th>        <th class=\"col_heading level0 col3\" >t_a_3</th>        <th class=\"col_heading level0 col4\" >t_a_4</th>        <th class=\"col_heading level0 col5\" >t_b_before</th>        <th class=\"col_heading level0 col6\" >t_b_1</th>        <th class=\"col_heading level0 col7\" >t_b_2</th>        <th class=\"col_heading level0 col8\" >t_b_3</th>        <th class=\"col_heading level0 col9\" >t_b_4</th>        <th class=\"col_heading level0 col10\" >t_c_before</th>        <th class=\"col_heading level0 col11\" >t_c_1</th>        <th class=\"col_heading level0 col12\" >t_c_2</th>        <th class=\"col_heading level0 col13\" >t_c_3</th>        <th class=\"col_heading level0 col14\" >t_c_4</th>    </tr></thead><tbody>\n",
       "                <tr>\n",
       "                        <th id=\"T_763ecc18_b316_11eb_81d7_0d91cc225b64level0_row0\" class=\"row_heading level0 row0\" >0</th>\n",
       "                        <td id=\"T_763ecc18_b316_11eb_81d7_0d91cc225b64row0_col0\" class=\"data row0 col0\" >2021-05-12 00:06:37</td>\n",
       "                        <td id=\"T_763ecc18_b316_11eb_81d7_0d91cc225b64row0_col1\" class=\"data row0 col1\" >2021-05-12 00:06:13</td>\n",
       "                        <td id=\"T_763ecc18_b316_11eb_81d7_0d91cc225b64row0_col2\" class=\"data row0 col2\" >2021-05-12 00:05:31</td>\n",
       "                        <td id=\"T_763ecc18_b316_11eb_81d7_0d91cc225b64row0_col3\" class=\"data row0 col3\" >2021-05-12 00:05:14</td>\n",
       "                        <td id=\"T_763ecc18_b316_11eb_81d7_0d91cc225b64row0_col4\" class=\"data row0 col4\" >2021-05-12 00:04:51</td>\n",
       "                        <td id=\"T_763ecc18_b316_11eb_81d7_0d91cc225b64row0_col5\" class=\"data row0 col5\" >2021-05-12 00:03:59</td>\n",
       "                        <td id=\"T_763ecc18_b316_11eb_81d7_0d91cc225b64row0_col6\" class=\"data row0 col6\" >2021-05-12 00:03:56</td>\n",
       "                        <td id=\"T_763ecc18_b316_11eb_81d7_0d91cc225b64row0_col7\" class=\"data row0 col7\" >2021-05-12 00:03:44</td>\n",
       "                        <td id=\"T_763ecc18_b316_11eb_81d7_0d91cc225b64row0_col8\" class=\"data row0 col8\" >2021-05-12 00:03:33</td>\n",
       "                        <td id=\"T_763ecc18_b316_11eb_81d7_0d91cc225b64row0_col9\" class=\"data row0 col9\" >2021-05-12 00:03:26</td>\n",
       "                        <td id=\"T_763ecc18_b316_11eb_81d7_0d91cc225b64row0_col10\" class=\"data row0 col10\" >2021-05-12 00:02:50</td>\n",
       "                        <td id=\"T_763ecc18_b316_11eb_81d7_0d91cc225b64row0_col11\" class=\"data row0 col11\" >2021-05-12 00:02:47</td>\n",
       "                        <td id=\"T_763ecc18_b316_11eb_81d7_0d91cc225b64row0_col12\" class=\"data row0 col12\" >2021-05-12 00:02:24</td>\n",
       "                        <td id=\"T_763ecc18_b316_11eb_81d7_0d91cc225b64row0_col13\" class=\"data row0 col13\" >2021-05-12 00:01:52</td>\n",
       "                        <td id=\"T_763ecc18_b316_11eb_81d7_0d91cc225b64row0_col14\" class=\"data row0 col14\" >2021-05-12 00:01:32</td>\n",
       "            </tr>\n",
       "            <tr>\n",
       "                        <th id=\"T_763ecc18_b316_11eb_81d7_0d91cc225b64level0_row1\" class=\"row_heading level0 row1\" >1</th>\n",
       "                        <td id=\"T_763ecc18_b316_11eb_81d7_0d91cc225b64row1_col0\" class=\"data row1 col0\" >2021-05-12 00:04:44</td>\n",
       "                        <td id=\"T_763ecc18_b316_11eb_81d7_0d91cc225b64row1_col1\" class=\"data row1 col1\" >2021-05-12 00:04:32</td>\n",
       "                        <td id=\"T_763ecc18_b316_11eb_81d7_0d91cc225b64row1_col2\" class=\"data row1 col2\" >2021-05-12 00:03:53</td>\n",
       "                        <td id=\"T_763ecc18_b316_11eb_81d7_0d91cc225b64row1_col3\" class=\"data row1 col3\" >2021-05-12 00:03:45</td>\n",
       "                        <td id=\"T_763ecc18_b316_11eb_81d7_0d91cc225b64row1_col4\" class=\"data row1 col4\" >2021-05-12 00:03:41</td>\n",
       "                        <td id=\"T_763ecc18_b316_11eb_81d7_0d91cc225b64row1_col5\" class=\"data row1 col5\" >2021-05-12 00:03:08</td>\n",
       "                        <td id=\"T_763ecc18_b316_11eb_81d7_0d91cc225b64row1_col6\" class=\"data row1 col6\" >2021-05-12 00:03:06</td>\n",
       "                        <td id=\"T_763ecc18_b316_11eb_81d7_0d91cc225b64row1_col7\" class=\"data row1 col7\" >2021-05-12 00:02:57</td>\n",
       "                        <td id=\"T_763ecc18_b316_11eb_81d7_0d91cc225b64row1_col8\" class=\"data row1 col8\" >2021-05-12 00:02:50</td>\n",
       "                        <td id=\"T_763ecc18_b316_11eb_81d7_0d91cc225b64row1_col9\" class=\"data row1 col9\" >2021-05-12 00:02:33</td>\n",
       "                        <td id=\"T_763ecc18_b316_11eb_81d7_0d91cc225b64row1_col10\" class=\"data row1 col10\" >2021-05-12 00:01:57</td>\n",
       "                        <td id=\"T_763ecc18_b316_11eb_81d7_0d91cc225b64row1_col11\" class=\"data row1 col11\" >2021-05-12 00:01:53</td>\n",
       "                        <td id=\"T_763ecc18_b316_11eb_81d7_0d91cc225b64row1_col12\" class=\"data row1 col12\" >2021-05-12 00:01:42</td>\n",
       "                        <td id=\"T_763ecc18_b316_11eb_81d7_0d91cc225b64row1_col13\" class=\"data row1 col13\" >2021-05-12 00:01:32</td>\n",
       "                        <td id=\"T_763ecc18_b316_11eb_81d7_0d91cc225b64row1_col14\" class=\"data row1 col14\" >2021-05-12 00:01:14</td>\n",
       "            </tr>\n",
       "            <tr>\n",
       "                        <th id=\"T_763ecc18_b316_11eb_81d7_0d91cc225b64level0_row2\" class=\"row_heading level0 row2\" >2</th>\n",
       "                        <td id=\"T_763ecc18_b316_11eb_81d7_0d91cc225b64row2_col0\" class=\"data row2 col0\" >2021-05-12 00:18:34</td>\n",
       "                        <td id=\"T_763ecc18_b316_11eb_81d7_0d91cc225b64row2_col1\" class=\"data row2 col1\" >2021-05-12 00:18:11</td>\n",
       "                        <td id=\"T_763ecc18_b316_11eb_81d7_0d91cc225b64row2_col2\" class=\"data row2 col2\" >2021-05-12 00:16:44</td>\n",
       "                        <td id=\"T_763ecc18_b316_11eb_81d7_0d91cc225b64row2_col3\" class=\"data row2 col3\" >2021-05-12 00:16:20</td>\n",
       "                        <td id=\"T_763ecc18_b316_11eb_81d7_0d91cc225b64row2_col4\" class=\"data row2 col4\" >2021-05-12 00:16:03</td>\n",
       "                        <td id=\"T_763ecc18_b316_11eb_81d7_0d91cc225b64row2_col5\" class=\"data row2 col5\" >2021-05-12 00:14:47</td>\n",
       "                        <td id=\"T_763ecc18_b316_11eb_81d7_0d91cc225b64row2_col6\" class=\"data row2 col6\" >2021-05-12 00:14:44</td>\n",
       "                        <td id=\"T_763ecc18_b316_11eb_81d7_0d91cc225b64row2_col7\" class=\"data row2 col7\" >2021-05-12 00:13:38</td>\n",
       "                        <td id=\"T_763ecc18_b316_11eb_81d7_0d91cc225b64row2_col8\" class=\"data row2 col8\" >2021-05-12 00:11:50</td>\n",
       "                        <td id=\"T_763ecc18_b316_11eb_81d7_0d91cc225b64row2_col9\" class=\"data row2 col9\" >2021-05-12 00:09:46</td>\n",
       "                        <td id=\"T_763ecc18_b316_11eb_81d7_0d91cc225b64row2_col10\" class=\"data row2 col10\" >2021-05-12 00:07:54</td>\n",
       "                        <td id=\"T_763ecc18_b316_11eb_81d7_0d91cc225b64row2_col11\" class=\"data row2 col11\" >2021-05-12 00:07:52</td>\n",
       "                        <td id=\"T_763ecc18_b316_11eb_81d7_0d91cc225b64row2_col12\" class=\"data row2 col12\" >2021-05-12 00:05:57</td>\n",
       "                        <td id=\"T_763ecc18_b316_11eb_81d7_0d91cc225b64row2_col13\" class=\"data row2 col13\" >2021-05-12 00:03:47</td>\n",
       "                        <td id=\"T_763ecc18_b316_11eb_81d7_0d91cc225b64row2_col14\" class=\"data row2 col14\" >2021-05-12 00:03:18</td>\n",
       "            </tr>\n",
       "            <tr>\n",
       "                        <th id=\"T_763ecc18_b316_11eb_81d7_0d91cc225b64level0_row3\" class=\"row_heading level0 row3\" >3</th>\n",
       "                        <td id=\"T_763ecc18_b316_11eb_81d7_0d91cc225b64row3_col0\" class=\"data row3 col0\" >2021-05-12 00:15:19</td>\n",
       "                        <td id=\"T_763ecc18_b316_11eb_81d7_0d91cc225b64row3_col1\" class=\"data row3 col1\" >2021-05-12 00:14:52</td>\n",
       "                        <td id=\"T_763ecc18_b316_11eb_81d7_0d91cc225b64row3_col2\" class=\"data row3 col2\" >2021-05-12 00:13:06</td>\n",
       "                        <td id=\"T_763ecc18_b316_11eb_81d7_0d91cc225b64row3_col3\" class=\"data row3 col3\" >2021-05-12 00:12:52</td>\n",
       "                        <td id=\"T_763ecc18_b316_11eb_81d7_0d91cc225b64row3_col4\" class=\"data row3 col4\" >2021-05-12 00:12:38</td>\n",
       "                        <td id=\"T_763ecc18_b316_11eb_81d7_0d91cc225b64row3_col5\" class=\"data row3 col5\" >2021-05-12 00:11:29</td>\n",
       "                        <td id=\"T_763ecc18_b316_11eb_81d7_0d91cc225b64row3_col6\" class=\"data row3 col6\" >2021-05-12 00:11:24</td>\n",
       "                        <td id=\"T_763ecc18_b316_11eb_81d7_0d91cc225b64row3_col7\" class=\"data row3 col7\" >2021-05-12 00:11:00</td>\n",
       "                        <td id=\"T_763ecc18_b316_11eb_81d7_0d91cc225b64row3_col8\" class=\"data row3 col8\" >2021-05-12 00:10:19</td>\n",
       "                        <td id=\"T_763ecc18_b316_11eb_81d7_0d91cc225b64row3_col9\" class=\"data row3 col9\" >2021-05-12 00:09:39</td>\n",
       "                        <td id=\"T_763ecc18_b316_11eb_81d7_0d91cc225b64row3_col10\" class=\"data row3 col10\" >2021-05-12 00:08:03</td>\n",
       "                        <td id=\"T_763ecc18_b316_11eb_81d7_0d91cc225b64row3_col11\" class=\"data row3 col11\" >2021-05-12 00:08:01</td>\n",
       "                        <td id=\"T_763ecc18_b316_11eb_81d7_0d91cc225b64row3_col12\" class=\"data row3 col12\" >2021-05-12 00:07:29</td>\n",
       "                        <td id=\"T_763ecc18_b316_11eb_81d7_0d91cc225b64row3_col13\" class=\"data row3 col13\" >2021-05-12 00:06:27</td>\n",
       "                        <td id=\"T_763ecc18_b316_11eb_81d7_0d91cc225b64row3_col14\" class=\"data row3 col14\" >2021-05-12 00:05:46</td>\n",
       "            </tr>\n",
       "            <tr>\n",
       "                        <th id=\"T_763ecc18_b316_11eb_81d7_0d91cc225b64level0_row4\" class=\"row_heading level0 row4\" >4</th>\n",
       "                        <td id=\"T_763ecc18_b316_11eb_81d7_0d91cc225b64row4_col0\" class=\"data row4 col0\" >2021-05-12 00:13:57</td>\n",
       "                        <td id=\"T_763ecc18_b316_11eb_81d7_0d91cc225b64row4_col1\" class=\"data row4 col1\" >2021-05-12 00:13:44</td>\n",
       "                        <td id=\"T_763ecc18_b316_11eb_81d7_0d91cc225b64row4_col2\" class=\"data row4 col2\" >2021-05-12 00:12:41</td>\n",
       "                        <td id=\"T_763ecc18_b316_11eb_81d7_0d91cc225b64row4_col3\" class=\"data row4 col3\" >2021-05-12 00:12:26</td>\n",
       "                        <td id=\"T_763ecc18_b316_11eb_81d7_0d91cc225b64row4_col4\" class=\"data row4 col4\" >2021-05-12 00:12:14</td>\n",
       "                        <td id=\"T_763ecc18_b316_11eb_81d7_0d91cc225b64row4_col5\" class=\"data row4 col5\" >2021-05-12 00:11:19</td>\n",
       "                        <td id=\"T_763ecc18_b316_11eb_81d7_0d91cc225b64row4_col6\" class=\"data row4 col6\" >2021-05-12 00:11:15</td>\n",
       "                        <td id=\"T_763ecc18_b316_11eb_81d7_0d91cc225b64row4_col7\" class=\"data row4 col7\" >2021-05-12 00:10:50</td>\n",
       "                        <td id=\"T_763ecc18_b316_11eb_81d7_0d91cc225b64row4_col8\" class=\"data row4 col8\" >2021-05-12 00:10:07</td>\n",
       "                        <td id=\"T_763ecc18_b316_11eb_81d7_0d91cc225b64row4_col9\" class=\"data row4 col9\" >2021-05-12 00:09:20</td>\n",
       "                        <td id=\"T_763ecc18_b316_11eb_81d7_0d91cc225b64row4_col10\" class=\"data row4 col10\" >2021-05-12 00:07:19</td>\n",
       "                        <td id=\"T_763ecc18_b316_11eb_81d7_0d91cc225b64row4_col11\" class=\"data row4 col11\" >2021-05-12 00:07:17</td>\n",
       "                        <td id=\"T_763ecc18_b316_11eb_81d7_0d91cc225b64row4_col12\" class=\"data row4 col12\" >2021-05-12 00:06:30</td>\n",
       "                        <td id=\"T_763ecc18_b316_11eb_81d7_0d91cc225b64row4_col13\" class=\"data row4 col13\" >2021-05-12 00:05:44</td>\n",
       "                        <td id=\"T_763ecc18_b316_11eb_81d7_0d91cc225b64row4_col14\" class=\"data row4 col14\" >2021-05-12 00:05:03</td>\n",
       "            </tr>\n",
       "            <tr>\n",
       "                        <th id=\"T_763ecc18_b316_11eb_81d7_0d91cc225b64level0_row5\" class=\"row_heading level0 row5\" >5</th>\n",
       "                        <td id=\"T_763ecc18_b316_11eb_81d7_0d91cc225b64row5_col0\" class=\"data row5 col0\" >2021-05-12 00:08:16</td>\n",
       "                        <td id=\"T_763ecc18_b316_11eb_81d7_0d91cc225b64row5_col1\" class=\"data row5 col1\" >2021-05-12 00:07:51</td>\n",
       "                        <td id=\"T_763ecc18_b316_11eb_81d7_0d91cc225b64row5_col2\" class=\"data row5 col2\" >2021-05-12 00:07:04</td>\n",
       "                        <td id=\"T_763ecc18_b316_11eb_81d7_0d91cc225b64row5_col3\" class=\"data row5 col3\" >2021-05-12 00:06:48</td>\n",
       "                        <td id=\"T_763ecc18_b316_11eb_81d7_0d91cc225b64row5_col4\" class=\"data row5 col4\" >2021-05-12 00:06:34</td>\n",
       "                        <td id=\"T_763ecc18_b316_11eb_81d7_0d91cc225b64row5_col5\" class=\"data row5 col5\" >2021-05-12 00:05:34</td>\n",
       "                        <td id=\"T_763ecc18_b316_11eb_81d7_0d91cc225b64row5_col6\" class=\"data row5 col6\" >2021-05-12 00:05:31</td>\n",
       "                        <td id=\"T_763ecc18_b316_11eb_81d7_0d91cc225b64row5_col7\" class=\"data row5 col7\" >2021-05-12 00:05:17</td>\n",
       "                        <td id=\"T_763ecc18_b316_11eb_81d7_0d91cc225b64row5_col8\" class=\"data row5 col8\" >2021-05-12 00:05:00</td>\n",
       "                        <td id=\"T_763ecc18_b316_11eb_81d7_0d91cc225b64row5_col9\" class=\"data row5 col9\" >2021-05-12 00:04:46</td>\n",
       "                        <td id=\"T_763ecc18_b316_11eb_81d7_0d91cc225b64row5_col10\" class=\"data row5 col10\" >2021-05-12 00:03:25</td>\n",
       "                        <td id=\"T_763ecc18_b316_11eb_81d7_0d91cc225b64row5_col11\" class=\"data row5 col11\" >2021-05-12 00:03:24</td>\n",
       "                        <td id=\"T_763ecc18_b316_11eb_81d7_0d91cc225b64row5_col12\" class=\"data row5 col12\" >2021-05-12 00:02:48</td>\n",
       "                        <td id=\"T_763ecc18_b316_11eb_81d7_0d91cc225b64row5_col13\" class=\"data row5 col13\" >2021-05-12 00:02:01</td>\n",
       "                        <td id=\"T_763ecc18_b316_11eb_81d7_0d91cc225b64row5_col14\" class=\"data row5 col14\" >2021-05-12 00:01:39</td>\n",
       "            </tr>\n",
       "            <tr>\n",
       "                        <th id=\"T_763ecc18_b316_11eb_81d7_0d91cc225b64level0_row6\" class=\"row_heading level0 row6\" >6</th>\n",
       "                        <td id=\"T_763ecc18_b316_11eb_81d7_0d91cc225b64row6_col0\" class=\"data row6 col0\" >2021-05-12 00:08:14</td>\n",
       "                        <td id=\"T_763ecc18_b316_11eb_81d7_0d91cc225b64row6_col1\" class=\"data row6 col1\" >2021-05-12 00:07:55</td>\n",
       "                        <td id=\"T_763ecc18_b316_11eb_81d7_0d91cc225b64row6_col2\" class=\"data row6 col2\" >2021-05-12 00:06:50</td>\n",
       "                        <td id=\"T_763ecc18_b316_11eb_81d7_0d91cc225b64row6_col3\" class=\"data row6 col3\" >2021-05-12 00:06:40</td>\n",
       "                        <td id=\"T_763ecc18_b316_11eb_81d7_0d91cc225b64row6_col4\" class=\"data row6 col4\" >2021-05-12 00:06:32</td>\n",
       "                        <td id=\"T_763ecc18_b316_11eb_81d7_0d91cc225b64row6_col5\" class=\"data row6 col5\" >2021-05-12 00:05:44</td>\n",
       "                        <td id=\"T_763ecc18_b316_11eb_81d7_0d91cc225b64row6_col6\" class=\"data row6 col6\" >2021-05-12 00:05:41</td>\n",
       "                        <td id=\"T_763ecc18_b316_11eb_81d7_0d91cc225b64row6_col7\" class=\"data row6 col7\" >2021-05-12 00:05:26</td>\n",
       "                        <td id=\"T_763ecc18_b316_11eb_81d7_0d91cc225b64row6_col8\" class=\"data row6 col8\" >2021-05-12 00:05:09</td>\n",
       "                        <td id=\"T_763ecc18_b316_11eb_81d7_0d91cc225b64row6_col9\" class=\"data row6 col9\" >2021-05-12 00:04:52</td>\n",
       "                        <td id=\"T_763ecc18_b316_11eb_81d7_0d91cc225b64row6_col10\" class=\"data row6 col10\" >2021-05-12 00:03:45</td>\n",
       "                        <td id=\"T_763ecc18_b316_11eb_81d7_0d91cc225b64row6_col11\" class=\"data row6 col11\" >2021-05-12 00:03:44</td>\n",
       "                        <td id=\"T_763ecc18_b316_11eb_81d7_0d91cc225b64row6_col12\" class=\"data row6 col12\" >2021-05-12 00:03:22</td>\n",
       "                        <td id=\"T_763ecc18_b316_11eb_81d7_0d91cc225b64row6_col13\" class=\"data row6 col13\" >2021-05-12 00:02:32</td>\n",
       "                        <td id=\"T_763ecc18_b316_11eb_81d7_0d91cc225b64row6_col14\" class=\"data row6 col14\" >2021-05-12 00:01:54</td>\n",
       "            </tr>\n",
       "            <tr>\n",
       "                        <th id=\"T_763ecc18_b316_11eb_81d7_0d91cc225b64level0_row7\" class=\"row_heading level0 row7\" >7</th>\n",
       "                        <td id=\"T_763ecc18_b316_11eb_81d7_0d91cc225b64row7_col0\" class=\"data row7 col0\" >2021-05-12 00:04:32</td>\n",
       "                        <td id=\"T_763ecc18_b316_11eb_81d7_0d91cc225b64row7_col1\" class=\"data row7 col1\" >2021-05-12 00:04:13</td>\n",
       "                        <td id=\"T_763ecc18_b316_11eb_81d7_0d91cc225b64row7_col2\" class=\"data row7 col2\" >2021-05-12 00:03:44</td>\n",
       "                        <td id=\"T_763ecc18_b316_11eb_81d7_0d91cc225b64row7_col3\" class=\"data row7 col3\" >2021-05-12 00:03:35</td>\n",
       "                        <td id=\"T_763ecc18_b316_11eb_81d7_0d91cc225b64row7_col4\" class=\"data row7 col4\" >2021-05-12 00:03:29</td>\n",
       "                        <td id=\"T_763ecc18_b316_11eb_81d7_0d91cc225b64row7_col5\" class=\"data row7 col5\" >2021-05-12 00:02:31</td>\n",
       "                        <td id=\"T_763ecc18_b316_11eb_81d7_0d91cc225b64row7_col6\" class=\"data row7 col6\" >2021-05-12 00:02:28</td>\n",
       "                        <td id=\"T_763ecc18_b316_11eb_81d7_0d91cc225b64row7_col7\" class=\"data row7 col7\" >2021-05-12 00:02:19</td>\n",
       "                        <td id=\"T_763ecc18_b316_11eb_81d7_0d91cc225b64row7_col8\" class=\"data row7 col8\" >2021-05-12 00:02:02</td>\n",
       "                        <td id=\"T_763ecc18_b316_11eb_81d7_0d91cc225b64row7_col9\" class=\"data row7 col9\" >2021-05-12 00:01:56</td>\n",
       "                        <td id=\"T_763ecc18_b316_11eb_81d7_0d91cc225b64row7_col10\" class=\"data row7 col10\" >2021-05-12 00:01:34</td>\n",
       "                        <td id=\"T_763ecc18_b316_11eb_81d7_0d91cc225b64row7_col11\" class=\"data row7 col11\" >2021-05-12 00:01:32</td>\n",
       "                        <td id=\"T_763ecc18_b316_11eb_81d7_0d91cc225b64row7_col12\" class=\"data row7 col12\" >2021-05-12 00:01:11</td>\n",
       "                        <td id=\"T_763ecc18_b316_11eb_81d7_0d91cc225b64row7_col13\" class=\"data row7 col13\" >2021-05-12 00:00:56</td>\n",
       "                        <td id=\"T_763ecc18_b316_11eb_81d7_0d91cc225b64row7_col14\" class=\"data row7 col14\" >2021-05-12 00:00:41</td>\n",
       "            </tr>\n",
       "            <tr>\n",
       "                        <th id=\"T_763ecc18_b316_11eb_81d7_0d91cc225b64level0_row8\" class=\"row_heading level0 row8\" >8</th>\n",
       "                        <td id=\"T_763ecc18_b316_11eb_81d7_0d91cc225b64row8_col0\" class=\"data row8 col0\" >2021-05-12 00:09:41</td>\n",
       "                        <td id=\"T_763ecc18_b316_11eb_81d7_0d91cc225b64row8_col1\" class=\"data row8 col1\" >2021-05-12 00:09:24</td>\n",
       "                        <td id=\"T_763ecc18_b316_11eb_81d7_0d91cc225b64row8_col2\" class=\"data row8 col2\" >2021-05-12 00:08:10</td>\n",
       "                        <td id=\"T_763ecc18_b316_11eb_81d7_0d91cc225b64row8_col3\" class=\"data row8 col3\" >2021-05-12 00:07:44</td>\n",
       "                        <td id=\"T_763ecc18_b316_11eb_81d7_0d91cc225b64row8_col4\" class=\"data row8 col4\" >2021-05-12 00:07:30</td>\n",
       "                        <td id=\"T_763ecc18_b316_11eb_81d7_0d91cc225b64row8_col5\" class=\"data row8 col5\" >2021-05-12 00:06:40</td>\n",
       "                        <td id=\"T_763ecc18_b316_11eb_81d7_0d91cc225b64row8_col6\" class=\"data row8 col6\" >2021-05-12 00:06:37</td>\n",
       "                        <td id=\"T_763ecc18_b316_11eb_81d7_0d91cc225b64row8_col7\" class=\"data row8 col7\" >2021-05-12 00:06:02</td>\n",
       "                        <td id=\"T_763ecc18_b316_11eb_81d7_0d91cc225b64row8_col8\" class=\"data row8 col8\" >2021-05-12 00:04:59</td>\n",
       "                        <td id=\"T_763ecc18_b316_11eb_81d7_0d91cc225b64row8_col9\" class=\"data row8 col9\" >2021-05-12 00:04:41</td>\n",
       "                        <td id=\"T_763ecc18_b316_11eb_81d7_0d91cc225b64row8_col10\" class=\"data row8 col10\" >2021-05-12 00:03:49</td>\n",
       "                        <td id=\"T_763ecc18_b316_11eb_81d7_0d91cc225b64row8_col11\" class=\"data row8 col11\" >2021-05-12 00:03:46</td>\n",
       "                        <td id=\"T_763ecc18_b316_11eb_81d7_0d91cc225b64row8_col12\" class=\"data row8 col12\" >2021-05-12 00:03:30</td>\n",
       "                        <td id=\"T_763ecc18_b316_11eb_81d7_0d91cc225b64row8_col13\" class=\"data row8 col13\" >2021-05-12 00:02:43</td>\n",
       "                        <td id=\"T_763ecc18_b316_11eb_81d7_0d91cc225b64row8_col14\" class=\"data row8 col14\" >2021-05-12 00:01:54</td>\n",
       "            </tr>\n",
       "            <tr>\n",
       "                        <th id=\"T_763ecc18_b316_11eb_81d7_0d91cc225b64level0_row9\" class=\"row_heading level0 row9\" >9</th>\n",
       "                        <td id=\"T_763ecc18_b316_11eb_81d7_0d91cc225b64row9_col0\" class=\"data row9 col0\" >2021-05-12 00:13:36</td>\n",
       "                        <td id=\"T_763ecc18_b316_11eb_81d7_0d91cc225b64row9_col1\" class=\"data row9 col1\" >2021-05-12 00:13:19</td>\n",
       "                        <td id=\"T_763ecc18_b316_11eb_81d7_0d91cc225b64row9_col2\" class=\"data row9 col2\" >2021-05-12 00:12:00</td>\n",
       "                        <td id=\"T_763ecc18_b316_11eb_81d7_0d91cc225b64row9_col3\" class=\"data row9 col3\" >2021-05-12 00:11:48</td>\n",
       "                        <td id=\"T_763ecc18_b316_11eb_81d7_0d91cc225b64row9_col4\" class=\"data row9 col4\" >2021-05-12 00:11:32</td>\n",
       "                        <td id=\"T_763ecc18_b316_11eb_81d7_0d91cc225b64row9_col5\" class=\"data row9 col5\" >2021-05-12 00:10:06</td>\n",
       "                        <td id=\"T_763ecc18_b316_11eb_81d7_0d91cc225b64row9_col6\" class=\"data row9 col6\" >2021-05-12 00:09:00</td>\n",
       "                        <td id=\"T_763ecc18_b316_11eb_81d7_0d91cc225b64row9_col7\" class=\"data row9 col7\" >2021-05-12 00:08:40</td>\n",
       "                        <td id=\"T_763ecc18_b316_11eb_81d7_0d91cc225b64row9_col8\" class=\"data row9 col8\" >2021-05-12 00:08:13</td>\n",
       "                        <td id=\"T_763ecc18_b316_11eb_81d7_0d91cc225b64row9_col9\" class=\"data row9 col9\" >2021-05-12 00:07:51</td>\n",
       "                        <td id=\"T_763ecc18_b316_11eb_81d7_0d91cc225b64row9_col10\" class=\"data row9 col10\" >2021-05-12 00:05:46</td>\n",
       "                        <td id=\"T_763ecc18_b316_11eb_81d7_0d91cc225b64row9_col11\" class=\"data row9 col11\" >2021-05-12 00:05:42</td>\n",
       "                        <td id=\"T_763ecc18_b316_11eb_81d7_0d91cc225b64row9_col12\" class=\"data row9 col12\" >2021-05-12 00:05:24</td>\n",
       "                        <td id=\"T_763ecc18_b316_11eb_81d7_0d91cc225b64row9_col13\" class=\"data row9 col13\" >2021-05-12 00:04:42</td>\n",
       "                        <td id=\"T_763ecc18_b316_11eb_81d7_0d91cc225b64row9_col14\" class=\"data row9 col14\" >2021-05-12 00:04:17</td>\n",
       "            </tr>\n",
       "            <tr>\n",
       "                        <th id=\"T_763ecc18_b316_11eb_81d7_0d91cc225b64level0_row10\" class=\"row_heading level0 row10\" >10</th>\n",
       "                        <td id=\"T_763ecc18_b316_11eb_81d7_0d91cc225b64row10_col0\" class=\"data row10 col0\" >2021-05-12 00:09:45</td>\n",
       "                        <td id=\"T_763ecc18_b316_11eb_81d7_0d91cc225b64row10_col1\" class=\"data row10 col1\" >2021-05-12 00:09:11</td>\n",
       "                        <td id=\"T_763ecc18_b316_11eb_81d7_0d91cc225b64row10_col2\" class=\"data row10 col2\" >2021-05-12 00:08:30</td>\n",
       "                        <td id=\"T_763ecc18_b316_11eb_81d7_0d91cc225b64row10_col3\" class=\"data row10 col3\" >2021-05-12 00:08:18</td>\n",
       "                        <td id=\"T_763ecc18_b316_11eb_81d7_0d91cc225b64row10_col4\" class=\"data row10 col4\" >2021-05-12 00:08:11</td>\n",
       "                        <td id=\"T_763ecc18_b316_11eb_81d7_0d91cc225b64row10_col5\" class=\"data row10 col5\" >2021-05-12 00:06:49</td>\n",
       "                        <td id=\"T_763ecc18_b316_11eb_81d7_0d91cc225b64row10_col6\" class=\"data row10 col6\" >2021-05-12 00:06:46</td>\n",
       "                        <td id=\"T_763ecc18_b316_11eb_81d7_0d91cc225b64row10_col7\" class=\"data row10 col7\" >2021-05-12 00:06:28</td>\n",
       "                        <td id=\"T_763ecc18_b316_11eb_81d7_0d91cc225b64row10_col8\" class=\"data row10 col8\" >2021-05-12 00:05:42</td>\n",
       "                        <td id=\"T_763ecc18_b316_11eb_81d7_0d91cc225b64row10_col9\" class=\"data row10 col9\" >2021-05-12 00:05:32</td>\n",
       "                        <td id=\"T_763ecc18_b316_11eb_81d7_0d91cc225b64row10_col10\" class=\"data row10 col10\" >2021-05-12 00:04:03</td>\n",
       "                        <td id=\"T_763ecc18_b316_11eb_81d7_0d91cc225b64row10_col11\" class=\"data row10 col11\" >2021-05-12 00:04:00</td>\n",
       "                        <td id=\"T_763ecc18_b316_11eb_81d7_0d91cc225b64row10_col12\" class=\"data row10 col12\" >2021-05-12 00:03:43</td>\n",
       "                        <td id=\"T_763ecc18_b316_11eb_81d7_0d91cc225b64row10_col13\" class=\"data row10 col13\" >2021-05-12 00:03:15</td>\n",
       "                        <td id=\"T_763ecc18_b316_11eb_81d7_0d91cc225b64row10_col14\" class=\"data row10 col14\" >2021-05-12 00:02:24</td>\n",
       "            </tr>\n",
       "            <tr>\n",
       "                        <th id=\"T_763ecc18_b316_11eb_81d7_0d91cc225b64level0_row11\" class=\"row_heading level0 row11\" >11</th>\n",
       "                        <td id=\"T_763ecc18_b316_11eb_81d7_0d91cc225b64row11_col0\" class=\"data row11 col0\" >2021-05-12 00:10:32</td>\n",
       "                        <td id=\"T_763ecc18_b316_11eb_81d7_0d91cc225b64row11_col1\" class=\"data row11 col1\" >2021-05-12 00:10:16</td>\n",
       "                        <td id=\"T_763ecc18_b316_11eb_81d7_0d91cc225b64row11_col2\" class=\"data row11 col2\" >2021-05-12 00:09:41</td>\n",
       "                        <td id=\"T_763ecc18_b316_11eb_81d7_0d91cc225b64row11_col3\" class=\"data row11 col3\" >2021-05-12 00:09:33</td>\n",
       "                        <td id=\"T_763ecc18_b316_11eb_81d7_0d91cc225b64row11_col4\" class=\"data row11 col4\" >2021-05-12 00:09:27</td>\n",
       "                        <td id=\"T_763ecc18_b316_11eb_81d7_0d91cc225b64row11_col5\" class=\"data row11 col5\" >2021-05-12 00:07:17</td>\n",
       "                        <td id=\"T_763ecc18_b316_11eb_81d7_0d91cc225b64row11_col6\" class=\"data row11 col6\" >2021-05-12 00:07:13</td>\n",
       "                        <td id=\"T_763ecc18_b316_11eb_81d7_0d91cc225b64row11_col7\" class=\"data row11 col7\" >2021-05-12 00:06:57</td>\n",
       "                        <td id=\"T_763ecc18_b316_11eb_81d7_0d91cc225b64row11_col8\" class=\"data row11 col8\" >2021-05-12 00:06:27</td>\n",
       "                        <td id=\"T_763ecc18_b316_11eb_81d7_0d91cc225b64row11_col9\" class=\"data row11 col9\" >2021-05-12 00:05:56</td>\n",
       "                        <td id=\"T_763ecc18_b316_11eb_81d7_0d91cc225b64row11_col10\" class=\"data row11 col10\" >2021-05-12 00:04:50</td>\n",
       "                        <td id=\"T_763ecc18_b316_11eb_81d7_0d91cc225b64row11_col11\" class=\"data row11 col11\" >2021-05-12 00:04:48</td>\n",
       "                        <td id=\"T_763ecc18_b316_11eb_81d7_0d91cc225b64row11_col12\" class=\"data row11 col12\" >2021-05-12 00:04:22</td>\n",
       "                        <td id=\"T_763ecc18_b316_11eb_81d7_0d91cc225b64row11_col13\" class=\"data row11 col13\" >2021-05-12 00:03:59</td>\n",
       "                        <td id=\"T_763ecc18_b316_11eb_81d7_0d91cc225b64row11_col14\" class=\"data row11 col14\" >2021-05-12 00:03:33</td>\n",
       "            </tr>\n",
       "    </tbody></table>"
      ],
      "text/plain": [
       "<pandas.io.formats.style.Styler at 0x7fb4b0c48fa0>"
      ]
     },
     "execution_count": 177,
     "metadata": {},
     "output_type": "execute_result"
    }
   ],
   "source": [
    "pdbtimes.style.highlight_max(subset='t_a_before')"
   ]
  },
  {
   "cell_type": "code",
   "execution_count": 28,
   "metadata": {},
   "outputs": [
    {
     "data": {
      "text/html": [
       "<style  type=\"text/css\" >\n",
       "#T_1a0f9272_b306_11eb_81d7_0d91cc225b64row2_col0{\n",
       "            background-color:  yellow;\n",
       "        }</style><table id=\"T_1a0f9272_b306_11eb_81d7_0d91cc225b64\" ><thead>    <tr>        <th class=\"blank level0\" ></th>        <th class=\"col_heading level0 col0\" >t_a_before</th>        <th class=\"col_heading level0 col1\" >t_a_1</th>        <th class=\"col_heading level0 col2\" >t_a_2</th>        <th class=\"col_heading level0 col3\" >t_a_3</th>        <th class=\"col_heading level0 col4\" >t_a_4</th>        <th class=\"col_heading level0 col5\" >t_b_before</th>        <th class=\"col_heading level0 col6\" >t_b_1</th>        <th class=\"col_heading level0 col7\" >t_b_2</th>        <th class=\"col_heading level0 col8\" >t_b_3</th>        <th class=\"col_heading level0 col9\" >t_b_4</th>        <th class=\"col_heading level0 col10\" >t_c_before</th>        <th class=\"col_heading level0 col11\" >t_c_1</th>        <th class=\"col_heading level0 col12\" >t_c_2</th>        <th class=\"col_heading level0 col13\" >t_c_3</th>        <th class=\"col_heading level0 col14\" >t_c_4</th>    </tr></thead><tbody>\n",
       "                <tr>\n",
       "                        <th id=\"T_1a0f9272_b306_11eb_81d7_0d91cc225b64level0_row0\" class=\"row_heading level0 row0\" >0</th>\n",
       "                        <td id=\"T_1a0f9272_b306_11eb_81d7_0d91cc225b64row0_col0\" class=\"data row0 col0\" >2021-05-12 00:23:07</td>\n",
       "                        <td id=\"T_1a0f9272_b306_11eb_81d7_0d91cc225b64row0_col1\" class=\"data row0 col1\" >2021-05-12 00:22:36</td>\n",
       "                        <td id=\"T_1a0f9272_b306_11eb_81d7_0d91cc225b64row0_col2\" class=\"data row0 col2\" >2021-05-12 00:21:06</td>\n",
       "                        <td id=\"T_1a0f9272_b306_11eb_81d7_0d91cc225b64row0_col3\" class=\"data row0 col3\" >2021-05-12 00:20:54</td>\n",
       "                        <td id=\"T_1a0f9272_b306_11eb_81d7_0d91cc225b64row0_col4\" class=\"data row0 col4\" >2021-05-12 00:20:42</td>\n",
       "                        <td id=\"T_1a0f9272_b306_11eb_81d7_0d91cc225b64row0_col5\" class=\"data row0 col5\" >2021-05-12 00:18:44</td>\n",
       "                        <td id=\"T_1a0f9272_b306_11eb_81d7_0d91cc225b64row0_col6\" class=\"data row0 col6\" >2021-05-12 00:18:15</td>\n",
       "                        <td id=\"T_1a0f9272_b306_11eb_81d7_0d91cc225b64row0_col7\" class=\"data row0 col7\" >2021-05-12 00:17:59</td>\n",
       "                        <td id=\"T_1a0f9272_b306_11eb_81d7_0d91cc225b64row0_col8\" class=\"data row0 col8\" >2021-05-12 00:17:07</td>\n",
       "                        <td id=\"T_1a0f9272_b306_11eb_81d7_0d91cc225b64row0_col9\" class=\"data row0 col9\" >2021-05-12 00:16:56</td>\n",
       "                        <td id=\"T_1a0f9272_b306_11eb_81d7_0d91cc225b64row0_col10\" class=\"data row0 col10\" >2021-05-12 00:12:40</td>\n",
       "                        <td id=\"T_1a0f9272_b306_11eb_81d7_0d91cc225b64row0_col11\" class=\"data row0 col11\" >2021-05-12 00:12:38</td>\n",
       "                        <td id=\"T_1a0f9272_b306_11eb_81d7_0d91cc225b64row0_col12\" class=\"data row0 col12\" >2021-05-12 00:12:21</td>\n",
       "                        <td id=\"T_1a0f9272_b306_11eb_81d7_0d91cc225b64row0_col13\" class=\"data row0 col13\" >2021-05-12 00:08:45</td>\n",
       "                        <td id=\"T_1a0f9272_b306_11eb_81d7_0d91cc225b64row0_col14\" class=\"data row0 col14\" >2021-05-12 00:08:08</td>\n",
       "            </tr>\n",
       "            <tr>\n",
       "                        <th id=\"T_1a0f9272_b306_11eb_81d7_0d91cc225b64level0_row1\" class=\"row_heading level0 row1\" >1</th>\n",
       "                        <td id=\"T_1a0f9272_b306_11eb_81d7_0d91cc225b64row1_col0\" class=\"data row1 col0\" >2021-05-12 00:06:41</td>\n",
       "                        <td id=\"T_1a0f9272_b306_11eb_81d7_0d91cc225b64row1_col1\" class=\"data row1 col1\" >2021-05-12 00:06:19</td>\n",
       "                        <td id=\"T_1a0f9272_b306_11eb_81d7_0d91cc225b64row1_col2\" class=\"data row1 col2\" >2021-05-12 00:06:02</td>\n",
       "                        <td id=\"T_1a0f9272_b306_11eb_81d7_0d91cc225b64row1_col3\" class=\"data row1 col3\" >2021-05-12 00:05:54</td>\n",
       "                        <td id=\"T_1a0f9272_b306_11eb_81d7_0d91cc225b64row1_col4\" class=\"data row1 col4\" >2021-05-12 00:05:32</td>\n",
       "                        <td id=\"T_1a0f9272_b306_11eb_81d7_0d91cc225b64row1_col5\" class=\"data row1 col5\" >2021-05-12 00:04:43</td>\n",
       "                        <td id=\"T_1a0f9272_b306_11eb_81d7_0d91cc225b64row1_col6\" class=\"data row1 col6\" >2021-05-12 00:04:41</td>\n",
       "                        <td id=\"T_1a0f9272_b306_11eb_81d7_0d91cc225b64row1_col7\" class=\"data row1 col7\" >2021-05-12 00:04:28</td>\n",
       "                        <td id=\"T_1a0f9272_b306_11eb_81d7_0d91cc225b64row1_col8\" class=\"data row1 col8\" >2021-05-12 00:04:08</td>\n",
       "                        <td id=\"T_1a0f9272_b306_11eb_81d7_0d91cc225b64row1_col9\" class=\"data row1 col9\" >2021-05-12 00:03:51</td>\n",
       "                        <td id=\"T_1a0f9272_b306_11eb_81d7_0d91cc225b64row1_col10\" class=\"data row1 col10\" >2021-05-12 00:02:16</td>\n",
       "                        <td id=\"T_1a0f9272_b306_11eb_81d7_0d91cc225b64row1_col11\" class=\"data row1 col11\" >2021-05-12 00:02:12</td>\n",
       "                        <td id=\"T_1a0f9272_b306_11eb_81d7_0d91cc225b64row1_col12\" class=\"data row1 col12\" >2021-05-12 00:01:54</td>\n",
       "                        <td id=\"T_1a0f9272_b306_11eb_81d7_0d91cc225b64row1_col13\" class=\"data row1 col13\" >2021-05-12 00:01:46</td>\n",
       "                        <td id=\"T_1a0f9272_b306_11eb_81d7_0d91cc225b64row1_col14\" class=\"data row1 col14\" >2021-05-12 00:01:32</td>\n",
       "            </tr>\n",
       "            <tr>\n",
       "                        <th id=\"T_1a0f9272_b306_11eb_81d7_0d91cc225b64level0_row2\" class=\"row_heading level0 row2\" >2</th>\n",
       "                        <td id=\"T_1a0f9272_b306_11eb_81d7_0d91cc225b64row2_col0\" class=\"data row2 col0\" >2021-05-12 01:35:18</td>\n",
       "                        <td id=\"T_1a0f9272_b306_11eb_81d7_0d91cc225b64row2_col1\" class=\"data row2 col1\" >2021-05-12 01:35:09</td>\n",
       "                        <td id=\"T_1a0f9272_b306_11eb_81d7_0d91cc225b64row2_col2\" class=\"data row2 col2\" >2021-05-12 01:34:50</td>\n",
       "                        <td id=\"T_1a0f9272_b306_11eb_81d7_0d91cc225b64row2_col3\" class=\"data row2 col3\" >2021-05-12 01:34:43</td>\n",
       "                        <td id=\"T_1a0f9272_b306_11eb_81d7_0d91cc225b64row2_col4\" class=\"data row2 col4\" >2021-05-12 01:34:33</td>\n",
       "                        <td id=\"T_1a0f9272_b306_11eb_81d7_0d91cc225b64row2_col5\" class=\"data row2 col5\" >2021-05-12 01:34:09</td>\n",
       "                        <td id=\"T_1a0f9272_b306_11eb_81d7_0d91cc225b64row2_col6\" class=\"data row2 col6\" >2021-05-12 01:34:07</td>\n",
       "                        <td id=\"T_1a0f9272_b306_11eb_81d7_0d91cc225b64row2_col7\" class=\"data row2 col7\" >2021-05-12 01:33:56</td>\n",
       "                        <td id=\"T_1a0f9272_b306_11eb_81d7_0d91cc225b64row2_col8\" class=\"data row2 col8\" >2021-05-12 01:33:27</td>\n",
       "                        <td id=\"T_1a0f9272_b306_11eb_81d7_0d91cc225b64row2_col9\" class=\"data row2 col9\" >2021-05-12 01:33:14</td>\n",
       "                        <td id=\"T_1a0f9272_b306_11eb_81d7_0d91cc225b64row2_col10\" class=\"data row2 col10\" >2021-05-12 01:32:41</td>\n",
       "                        <td id=\"T_1a0f9272_b306_11eb_81d7_0d91cc225b64row2_col11\" class=\"data row2 col11\" >2021-05-12 01:32:39</td>\n",
       "                        <td id=\"T_1a0f9272_b306_11eb_81d7_0d91cc225b64row2_col12\" class=\"data row2 col12\" >2021-05-12 01:32:28</td>\n",
       "                        <td id=\"T_1a0f9272_b306_11eb_81d7_0d91cc225b64row2_col13\" class=\"data row2 col13\" >2021-05-12 01:31:47</td>\n",
       "                        <td id=\"T_1a0f9272_b306_11eb_81d7_0d91cc225b64row2_col14\" class=\"data row2 col14\" >2021-05-12 01:31:07</td>\n",
       "            </tr>\n",
       "            <tr>\n",
       "                        <th id=\"T_1a0f9272_b306_11eb_81d7_0d91cc225b64level0_row3\" class=\"row_heading level0 row3\" >3</th>\n",
       "                        <td id=\"T_1a0f9272_b306_11eb_81d7_0d91cc225b64row3_col0\" class=\"data row3 col0\" >2021-05-12 00:12:43</td>\n",
       "                        <td id=\"T_1a0f9272_b306_11eb_81d7_0d91cc225b64row3_col1\" class=\"data row3 col1\" >2021-05-12 00:12:23</td>\n",
       "                        <td id=\"T_1a0f9272_b306_11eb_81d7_0d91cc225b64row3_col2\" class=\"data row3 col2\" >2021-05-12 00:11:03</td>\n",
       "                        <td id=\"T_1a0f9272_b306_11eb_81d7_0d91cc225b64row3_col3\" class=\"data row3 col3\" >2021-05-12 00:07:31</td>\n",
       "                        <td id=\"T_1a0f9272_b306_11eb_81d7_0d91cc225b64row3_col4\" class=\"data row3 col4\" >2021-05-12 00:07:05</td>\n",
       "                        <td id=\"T_1a0f9272_b306_11eb_81d7_0d91cc225b64row3_col5\" class=\"data row3 col5\" >2021-05-12 00:05:31</td>\n",
       "                        <td id=\"T_1a0f9272_b306_11eb_81d7_0d91cc225b64row3_col6\" class=\"data row3 col6\" >2021-05-12 00:05:30</td>\n",
       "                        <td id=\"T_1a0f9272_b306_11eb_81d7_0d91cc225b64row3_col7\" class=\"data row3 col7\" >2021-05-12 00:05:16</td>\n",
       "                        <td id=\"T_1a0f9272_b306_11eb_81d7_0d91cc225b64row3_col8\" class=\"data row3 col8\" >2021-05-12 00:04:57</td>\n",
       "                        <td id=\"T_1a0f9272_b306_11eb_81d7_0d91cc225b64row3_col9\" class=\"data row3 col9\" >2021-05-12 00:04:03</td>\n",
       "                        <td id=\"T_1a0f9272_b306_11eb_81d7_0d91cc225b64row3_col10\" class=\"data row3 col10\" >2021-05-12 00:02:44</td>\n",
       "                        <td id=\"T_1a0f9272_b306_11eb_81d7_0d91cc225b64row3_col11\" class=\"data row3 col11\" >2021-05-12 00:02:40</td>\n",
       "                        <td id=\"T_1a0f9272_b306_11eb_81d7_0d91cc225b64row3_col12\" class=\"data row3 col12\" >2021-05-12 00:02:15</td>\n",
       "                        <td id=\"T_1a0f9272_b306_11eb_81d7_0d91cc225b64row3_col13\" class=\"data row3 col13\" >2021-05-12 00:01:39</td>\n",
       "                        <td id=\"T_1a0f9272_b306_11eb_81d7_0d91cc225b64row3_col14\" class=\"data row3 col14\" >2021-05-12 00:01:22</td>\n",
       "            </tr>\n",
       "            <tr>\n",
       "                        <th id=\"T_1a0f9272_b306_11eb_81d7_0d91cc225b64level0_row4\" class=\"row_heading level0 row4\" >4</th>\n",
       "                        <td id=\"T_1a0f9272_b306_11eb_81d7_0d91cc225b64row4_col0\" class=\"data row4 col0\" >2021-05-12 00:19:14</td>\n",
       "                        <td id=\"T_1a0f9272_b306_11eb_81d7_0d91cc225b64row4_col1\" class=\"data row4 col1\" >2021-05-12 00:18:45</td>\n",
       "                        <td id=\"T_1a0f9272_b306_11eb_81d7_0d91cc225b64row4_col2\" class=\"data row4 col2\" >2021-05-12 00:16:37</td>\n",
       "                        <td id=\"T_1a0f9272_b306_11eb_81d7_0d91cc225b64row4_col3\" class=\"data row4 col3\" >2021-05-12 00:16:14</td>\n",
       "                        <td id=\"T_1a0f9272_b306_11eb_81d7_0d91cc225b64row4_col4\" class=\"data row4 col4\" >2021-05-12 00:15:36</td>\n",
       "                        <td id=\"T_1a0f9272_b306_11eb_81d7_0d91cc225b64row4_col5\" class=\"data row4 col5\" >2021-05-12 00:13:35</td>\n",
       "                        <td id=\"T_1a0f9272_b306_11eb_81d7_0d91cc225b64row4_col6\" class=\"data row4 col6\" >2021-05-12 00:12:55</td>\n",
       "                        <td id=\"T_1a0f9272_b306_11eb_81d7_0d91cc225b64row4_col7\" class=\"data row4 col7\" >2021-05-12 00:11:58</td>\n",
       "                        <td id=\"T_1a0f9272_b306_11eb_81d7_0d91cc225b64row4_col8\" class=\"data row4 col8\" >2021-05-12 00:10:28</td>\n",
       "                        <td id=\"T_1a0f9272_b306_11eb_81d7_0d91cc225b64row4_col9\" class=\"data row4 col9\" >2021-05-12 00:08:48</td>\n",
       "                        <td id=\"T_1a0f9272_b306_11eb_81d7_0d91cc225b64row4_col10\" class=\"data row4 col10\" >2021-05-12 00:04:50</td>\n",
       "                        <td id=\"T_1a0f9272_b306_11eb_81d7_0d91cc225b64row4_col11\" class=\"data row4 col11\" >2021-05-12 00:04:46</td>\n",
       "                        <td id=\"T_1a0f9272_b306_11eb_81d7_0d91cc225b64row4_col12\" class=\"data row4 col12\" >2021-05-12 00:04:10</td>\n",
       "                        <td id=\"T_1a0f9272_b306_11eb_81d7_0d91cc225b64row4_col13\" class=\"data row4 col13\" >2021-05-12 00:03:04</td>\n",
       "                        <td id=\"T_1a0f9272_b306_11eb_81d7_0d91cc225b64row4_col14\" class=\"data row4 col14\" >2021-05-12 00:02:20</td>\n",
       "            </tr>\n",
       "            <tr>\n",
       "                        <th id=\"T_1a0f9272_b306_11eb_81d7_0d91cc225b64level0_row5\" class=\"row_heading level0 row5\" >5</th>\n",
       "                        <td id=\"T_1a0f9272_b306_11eb_81d7_0d91cc225b64row5_col0\" class=\"data row5 col0\" >2021-05-12 00:12:45</td>\n",
       "                        <td id=\"T_1a0f9272_b306_11eb_81d7_0d91cc225b64row5_col1\" class=\"data row5 col1\" >2021-05-12 00:12:23</td>\n",
       "                        <td id=\"T_1a0f9272_b306_11eb_81d7_0d91cc225b64row5_col2\" class=\"data row5 col2\" >2021-05-12 00:11:56</td>\n",
       "                        <td id=\"T_1a0f9272_b306_11eb_81d7_0d91cc225b64row5_col3\" class=\"data row5 col3\" >2021-05-12 00:11:16</td>\n",
       "                        <td id=\"T_1a0f9272_b306_11eb_81d7_0d91cc225b64row5_col4\" class=\"data row5 col4\" >2021-05-12 00:11:02</td>\n",
       "                        <td id=\"T_1a0f9272_b306_11eb_81d7_0d91cc225b64row5_col5\" class=\"data row5 col5\" >2021-05-12 00:09:24</td>\n",
       "                        <td id=\"T_1a0f9272_b306_11eb_81d7_0d91cc225b64row5_col6\" class=\"data row5 col6\" >2021-05-12 00:09:20</td>\n",
       "                        <td id=\"T_1a0f9272_b306_11eb_81d7_0d91cc225b64row5_col7\" class=\"data row5 col7\" >2021-05-12 00:09:00</td>\n",
       "                        <td id=\"T_1a0f9272_b306_11eb_81d7_0d91cc225b64row5_col8\" class=\"data row5 col8\" >2021-05-12 00:08:26</td>\n",
       "                        <td id=\"T_1a0f9272_b306_11eb_81d7_0d91cc225b64row5_col9\" class=\"data row5 col9\" >2021-05-12 00:07:58</td>\n",
       "                        <td id=\"T_1a0f9272_b306_11eb_81d7_0d91cc225b64row5_col10\" class=\"data row5 col10\" >2021-05-12 00:04:55</td>\n",
       "                        <td id=\"T_1a0f9272_b306_11eb_81d7_0d91cc225b64row5_col11\" class=\"data row5 col11\" >2021-05-12 00:04:53</td>\n",
       "                        <td id=\"T_1a0f9272_b306_11eb_81d7_0d91cc225b64row5_col12\" class=\"data row5 col12\" >2021-05-12 00:04:27</td>\n",
       "                        <td id=\"T_1a0f9272_b306_11eb_81d7_0d91cc225b64row5_col13\" class=\"data row5 col13\" >2021-05-12 00:03:21</td>\n",
       "                        <td id=\"T_1a0f9272_b306_11eb_81d7_0d91cc225b64row5_col14\" class=\"data row5 col14\" >2021-05-12 00:02:13</td>\n",
       "            </tr>\n",
       "            <tr>\n",
       "                        <th id=\"T_1a0f9272_b306_11eb_81d7_0d91cc225b64level0_row6\" class=\"row_heading level0 row6\" >6</th>\n",
       "                        <td id=\"T_1a0f9272_b306_11eb_81d7_0d91cc225b64row6_col0\" class=\"data row6 col0\" >2021-05-12 00:14:30</td>\n",
       "                        <td id=\"T_1a0f9272_b306_11eb_81d7_0d91cc225b64row6_col1\" class=\"data row6 col1\" >2021-05-12 00:13:57</td>\n",
       "                        <td id=\"T_1a0f9272_b306_11eb_81d7_0d91cc225b64row6_col2\" class=\"data row6 col2\" >2021-05-12 00:12:31</td>\n",
       "                        <td id=\"T_1a0f9272_b306_11eb_81d7_0d91cc225b64row6_col3\" class=\"data row6 col3\" >2021-05-12 00:11:54</td>\n",
       "                        <td id=\"T_1a0f9272_b306_11eb_81d7_0d91cc225b64row6_col4\" class=\"data row6 col4\" >2021-05-12 00:11:27</td>\n",
       "                        <td id=\"T_1a0f9272_b306_11eb_81d7_0d91cc225b64row6_col5\" class=\"data row6 col5\" >2021-05-12 00:09:49</td>\n",
       "                        <td id=\"T_1a0f9272_b306_11eb_81d7_0d91cc225b64row6_col6\" class=\"data row6 col6\" >2021-05-12 00:09:44</td>\n",
       "                        <td id=\"T_1a0f9272_b306_11eb_81d7_0d91cc225b64row6_col7\" class=\"data row6 col7\" >2021-05-12 00:09:21</td>\n",
       "                        <td id=\"T_1a0f9272_b306_11eb_81d7_0d91cc225b64row6_col8\" class=\"data row6 col8\" >2021-05-12 00:08:26</td>\n",
       "                        <td id=\"T_1a0f9272_b306_11eb_81d7_0d91cc225b64row6_col9\" class=\"data row6 col9\" >2021-05-12 00:07:30</td>\n",
       "                        <td id=\"T_1a0f9272_b306_11eb_81d7_0d91cc225b64row6_col10\" class=\"data row6 col10\" >2021-05-12 00:04:25</td>\n",
       "                        <td id=\"T_1a0f9272_b306_11eb_81d7_0d91cc225b64row6_col11\" class=\"data row6 col11\" >2021-05-12 00:04:22</td>\n",
       "                        <td id=\"T_1a0f9272_b306_11eb_81d7_0d91cc225b64row6_col12\" class=\"data row6 col12\" >2021-05-12 00:03:59</td>\n",
       "                        <td id=\"T_1a0f9272_b306_11eb_81d7_0d91cc225b64row6_col13\" class=\"data row6 col13\" >2021-05-12 00:03:01</td>\n",
       "                        <td id=\"T_1a0f9272_b306_11eb_81d7_0d91cc225b64row6_col14\" class=\"data row6 col14\" >2021-05-12 00:02:29</td>\n",
       "            </tr>\n",
       "            <tr>\n",
       "                        <th id=\"T_1a0f9272_b306_11eb_81d7_0d91cc225b64level0_row7\" class=\"row_heading level0 row7\" >7</th>\n",
       "                        <td id=\"T_1a0f9272_b306_11eb_81d7_0d91cc225b64row7_col0\" class=\"data row7 col0\" >2021-05-12 00:04:42</td>\n",
       "                        <td id=\"T_1a0f9272_b306_11eb_81d7_0d91cc225b64row7_col1\" class=\"data row7 col1\" >2021-05-12 00:04:40</td>\n",
       "                        <td id=\"T_1a0f9272_b306_11eb_81d7_0d91cc225b64row7_col2\" class=\"data row7 col2\" >2021-05-12 00:04:37</td>\n",
       "                        <td id=\"T_1a0f9272_b306_11eb_81d7_0d91cc225b64row7_col3\" class=\"data row7 col3\" >2021-05-12 00:04:35</td>\n",
       "                        <td id=\"T_1a0f9272_b306_11eb_81d7_0d91cc225b64row7_col4\" class=\"data row7 col4\" >2021-05-12 00:04:13</td>\n",
       "                        <td id=\"T_1a0f9272_b306_11eb_81d7_0d91cc225b64row7_col5\" class=\"data row7 col5\" >2021-05-12 00:03:34</td>\n",
       "                        <td id=\"T_1a0f9272_b306_11eb_81d7_0d91cc225b64row7_col6\" class=\"data row7 col6\" >2021-05-12 00:03:32</td>\n",
       "                        <td id=\"T_1a0f9272_b306_11eb_81d7_0d91cc225b64row7_col7\" class=\"data row7 col7\" >2021-05-12 00:03:13</td>\n",
       "                        <td id=\"T_1a0f9272_b306_11eb_81d7_0d91cc225b64row7_col8\" class=\"data row7 col8\" >2021-05-12 00:02:45</td>\n",
       "                        <td id=\"T_1a0f9272_b306_11eb_81d7_0d91cc225b64row7_col9\" class=\"data row7 col9\" >2021-05-12 00:02:28</td>\n",
       "                        <td id=\"T_1a0f9272_b306_11eb_81d7_0d91cc225b64row7_col10\" class=\"data row7 col10\" >2021-05-12 00:02:03</td>\n",
       "                        <td id=\"T_1a0f9272_b306_11eb_81d7_0d91cc225b64row7_col11\" class=\"data row7 col11\" >2021-05-12 00:02:02</td>\n",
       "                        <td id=\"T_1a0f9272_b306_11eb_81d7_0d91cc225b64row7_col12\" class=\"data row7 col12\" >2021-05-12 00:01:51</td>\n",
       "                        <td id=\"T_1a0f9272_b306_11eb_81d7_0d91cc225b64row7_col13\" class=\"data row7 col13\" >2021-05-12 00:01:29</td>\n",
       "                        <td id=\"T_1a0f9272_b306_11eb_81d7_0d91cc225b64row7_col14\" class=\"data row7 col14\" >2021-05-12 00:01:12</td>\n",
       "            </tr>\n",
       "            <tr>\n",
       "                        <th id=\"T_1a0f9272_b306_11eb_81d7_0d91cc225b64level0_row8\" class=\"row_heading level0 row8\" >8</th>\n",
       "                        <td id=\"T_1a0f9272_b306_11eb_81d7_0d91cc225b64row8_col0\" class=\"data row8 col0\" >2021-05-12 00:12:18</td>\n",
       "                        <td id=\"T_1a0f9272_b306_11eb_81d7_0d91cc225b64row8_col1\" class=\"data row8 col1\" >2021-05-12 00:11:42</td>\n",
       "                        <td id=\"T_1a0f9272_b306_11eb_81d7_0d91cc225b64row8_col2\" class=\"data row8 col2\" >2021-05-12 00:11:02</td>\n",
       "                        <td id=\"T_1a0f9272_b306_11eb_81d7_0d91cc225b64row8_col3\" class=\"data row8 col3\" >2021-05-12 00:10:45</td>\n",
       "                        <td id=\"T_1a0f9272_b306_11eb_81d7_0d91cc225b64row8_col4\" class=\"data row8 col4\" >2021-05-12 00:10:30</td>\n",
       "                        <td id=\"T_1a0f9272_b306_11eb_81d7_0d91cc225b64row8_col5\" class=\"data row8 col5\" >2021-05-12 00:09:05</td>\n",
       "                        <td id=\"T_1a0f9272_b306_11eb_81d7_0d91cc225b64row8_col6\" class=\"data row8 col6\" >2021-05-12 00:09:01</td>\n",
       "                        <td id=\"T_1a0f9272_b306_11eb_81d7_0d91cc225b64row8_col7\" class=\"data row8 col7\" >2021-05-12 00:08:51</td>\n",
       "                        <td id=\"T_1a0f9272_b306_11eb_81d7_0d91cc225b64row8_col8\" class=\"data row8 col8\" >2021-05-12 00:08:42</td>\n",
       "                        <td id=\"T_1a0f9272_b306_11eb_81d7_0d91cc225b64row8_col9\" class=\"data row8 col9\" >2021-05-12 00:08:28</td>\n",
       "                        <td id=\"T_1a0f9272_b306_11eb_81d7_0d91cc225b64row8_col10\" class=\"data row8 col10\" >2021-05-12 00:05:16</td>\n",
       "                        <td id=\"T_1a0f9272_b306_11eb_81d7_0d91cc225b64row8_col11\" class=\"data row8 col11\" >2021-05-12 00:05:15</td>\n",
       "                        <td id=\"T_1a0f9272_b306_11eb_81d7_0d91cc225b64row8_col12\" class=\"data row8 col12\" >2021-05-12 00:04:32</td>\n",
       "                        <td id=\"T_1a0f9272_b306_11eb_81d7_0d91cc225b64row8_col13\" class=\"data row8 col13\" >2021-05-12 00:03:24</td>\n",
       "                        <td id=\"T_1a0f9272_b306_11eb_81d7_0d91cc225b64row8_col14\" class=\"data row8 col14\" >2021-05-12 00:02:51</td>\n",
       "            </tr>\n",
       "            <tr>\n",
       "                        <th id=\"T_1a0f9272_b306_11eb_81d7_0d91cc225b64level0_row9\" class=\"row_heading level0 row9\" >9</th>\n",
       "                        <td id=\"T_1a0f9272_b306_11eb_81d7_0d91cc225b64row9_col0\" class=\"data row9 col0\" >2021-05-12 00:04:20</td>\n",
       "                        <td id=\"T_1a0f9272_b306_11eb_81d7_0d91cc225b64row9_col1\" class=\"data row9 col1\" >2021-05-12 00:04:05</td>\n",
       "                        <td id=\"T_1a0f9272_b306_11eb_81d7_0d91cc225b64row9_col2\" class=\"data row9 col2\" >2021-05-12 00:03:40</td>\n",
       "                        <td id=\"T_1a0f9272_b306_11eb_81d7_0d91cc225b64row9_col3\" class=\"data row9 col3\" >2021-05-12 00:03:33</td>\n",
       "                        <td id=\"T_1a0f9272_b306_11eb_81d7_0d91cc225b64row9_col4\" class=\"data row9 col4\" >2021-05-12 00:03:27</td>\n",
       "                        <td id=\"T_1a0f9272_b306_11eb_81d7_0d91cc225b64row9_col5\" class=\"data row9 col5\" >2021-05-12 00:03:02</td>\n",
       "                        <td id=\"T_1a0f9272_b306_11eb_81d7_0d91cc225b64row9_col6\" class=\"data row9 col6\" >2021-05-12 00:02:59</td>\n",
       "                        <td id=\"T_1a0f9272_b306_11eb_81d7_0d91cc225b64row9_col7\" class=\"data row9 col7\" >2021-05-12 00:02:53</td>\n",
       "                        <td id=\"T_1a0f9272_b306_11eb_81d7_0d91cc225b64row9_col8\" class=\"data row9 col8\" >2021-05-12 00:02:30</td>\n",
       "                        <td id=\"T_1a0f9272_b306_11eb_81d7_0d91cc225b64row9_col9\" class=\"data row9 col9\" >2021-05-12 00:02:17</td>\n",
       "                        <td id=\"T_1a0f9272_b306_11eb_81d7_0d91cc225b64row9_col10\" class=\"data row9 col10\" >2021-05-12 00:01:19</td>\n",
       "                        <td id=\"T_1a0f9272_b306_11eb_81d7_0d91cc225b64row9_col11\" class=\"data row9 col11\" >2021-05-12 00:01:18</td>\n",
       "                        <td id=\"T_1a0f9272_b306_11eb_81d7_0d91cc225b64row9_col12\" class=\"data row9 col12\" >2021-05-12 00:01:09</td>\n",
       "                        <td id=\"T_1a0f9272_b306_11eb_81d7_0d91cc225b64row9_col13\" class=\"data row9 col13\" >2021-05-12 00:00:57</td>\n",
       "                        <td id=\"T_1a0f9272_b306_11eb_81d7_0d91cc225b64row9_col14\" class=\"data row9 col14\" >2021-05-12 00:00:40</td>\n",
       "            </tr>\n",
       "            <tr>\n",
       "                        <th id=\"T_1a0f9272_b306_11eb_81d7_0d91cc225b64level0_row10\" class=\"row_heading level0 row10\" >10</th>\n",
       "                        <td id=\"T_1a0f9272_b306_11eb_81d7_0d91cc225b64row10_col0\" class=\"data row10 col0\" >2021-05-12 00:06:08</td>\n",
       "                        <td id=\"T_1a0f9272_b306_11eb_81d7_0d91cc225b64row10_col1\" class=\"data row10 col1\" >2021-05-12 00:05:50</td>\n",
       "                        <td id=\"T_1a0f9272_b306_11eb_81d7_0d91cc225b64row10_col2\" class=\"data row10 col2\" >2021-05-12 00:05:27</td>\n",
       "                        <td id=\"T_1a0f9272_b306_11eb_81d7_0d91cc225b64row10_col3\" class=\"data row10 col3\" >2021-05-12 00:05:20</td>\n",
       "                        <td id=\"T_1a0f9272_b306_11eb_81d7_0d91cc225b64row10_col4\" class=\"data row10 col4\" >2021-05-12 00:05:10</td>\n",
       "                        <td id=\"T_1a0f9272_b306_11eb_81d7_0d91cc225b64row10_col5\" class=\"data row10 col5\" >2021-05-12 00:04:28</td>\n",
       "                        <td id=\"T_1a0f9272_b306_11eb_81d7_0d91cc225b64row10_col6\" class=\"data row10 col6\" >2021-05-12 00:04:25</td>\n",
       "                        <td id=\"T_1a0f9272_b306_11eb_81d7_0d91cc225b64row10_col7\" class=\"data row10 col7\" >2021-05-12 00:04:15</td>\n",
       "                        <td id=\"T_1a0f9272_b306_11eb_81d7_0d91cc225b64row10_col8\" class=\"data row10 col8\" >2021-05-12 00:03:55</td>\n",
       "                        <td id=\"T_1a0f9272_b306_11eb_81d7_0d91cc225b64row10_col9\" class=\"data row10 col9\" >2021-05-12 00:03:39</td>\n",
       "                        <td id=\"T_1a0f9272_b306_11eb_81d7_0d91cc225b64row10_col10\" class=\"data row10 col10\" >2021-05-12 00:02:41</td>\n",
       "                        <td id=\"T_1a0f9272_b306_11eb_81d7_0d91cc225b64row10_col11\" class=\"data row10 col11\" >2021-05-12 00:02:39</td>\n",
       "                        <td id=\"T_1a0f9272_b306_11eb_81d7_0d91cc225b64row10_col12\" class=\"data row10 col12\" >2021-05-12 00:02:21</td>\n",
       "                        <td id=\"T_1a0f9272_b306_11eb_81d7_0d91cc225b64row10_col13\" class=\"data row10 col13\" >2021-05-12 00:02:03</td>\n",
       "                        <td id=\"T_1a0f9272_b306_11eb_81d7_0d91cc225b64row10_col14\" class=\"data row10 col14\" >2021-05-12 00:01:46</td>\n",
       "            </tr>\n",
       "            <tr>\n",
       "                        <th id=\"T_1a0f9272_b306_11eb_81d7_0d91cc225b64level0_row11\" class=\"row_heading level0 row11\" >11</th>\n",
       "                        <td id=\"T_1a0f9272_b306_11eb_81d7_0d91cc225b64row11_col0\" class=\"data row11 col0\" >2021-05-12 00:15:10</td>\n",
       "                        <td id=\"T_1a0f9272_b306_11eb_81d7_0d91cc225b64row11_col1\" class=\"data row11 col1\" >2021-05-12 00:14:52</td>\n",
       "                        <td id=\"T_1a0f9272_b306_11eb_81d7_0d91cc225b64row11_col2\" class=\"data row11 col2\" >2021-05-12 00:13:03</td>\n",
       "                        <td id=\"T_1a0f9272_b306_11eb_81d7_0d91cc225b64row11_col3\" class=\"data row11 col3\" >2021-05-12 00:12:48</td>\n",
       "                        <td id=\"T_1a0f9272_b306_11eb_81d7_0d91cc225b64row11_col4\" class=\"data row11 col4\" >2021-05-12 00:12:32</td>\n",
       "                        <td id=\"T_1a0f9272_b306_11eb_81d7_0d91cc225b64row11_col5\" class=\"data row11 col5\" >2021-05-12 00:10:19</td>\n",
       "                        <td id=\"T_1a0f9272_b306_11eb_81d7_0d91cc225b64row11_col6\" class=\"data row11 col6\" >2021-05-12 00:10:16</td>\n",
       "                        <td id=\"T_1a0f9272_b306_11eb_81d7_0d91cc225b64row11_col7\" class=\"data row11 col7\" >2021-05-12 00:08:16</td>\n",
       "                        <td id=\"T_1a0f9272_b306_11eb_81d7_0d91cc225b64row11_col8\" class=\"data row11 col8\" >2021-05-12 00:07:31</td>\n",
       "                        <td id=\"T_1a0f9272_b306_11eb_81d7_0d91cc225b64row11_col9\" class=\"data row11 col9\" >2021-05-12 00:07:02</td>\n",
       "                        <td id=\"T_1a0f9272_b306_11eb_81d7_0d91cc225b64row11_col10\" class=\"data row11 col10\" >2021-05-12 00:04:11</td>\n",
       "                        <td id=\"T_1a0f9272_b306_11eb_81d7_0d91cc225b64row11_col11\" class=\"data row11 col11\" >2021-05-12 00:04:08</td>\n",
       "                        <td id=\"T_1a0f9272_b306_11eb_81d7_0d91cc225b64row11_col12\" class=\"data row11 col12\" >2021-05-12 00:03:41</td>\n",
       "                        <td id=\"T_1a0f9272_b306_11eb_81d7_0d91cc225b64row11_col13\" class=\"data row11 col13\" >2021-05-12 00:02:52</td>\n",
       "                        <td id=\"T_1a0f9272_b306_11eb_81d7_0d91cc225b64row11_col14\" class=\"data row11 col14\" >2021-05-12 00:02:31</td>\n",
       "            </tr>\n",
       "            <tr>\n",
       "                        <th id=\"T_1a0f9272_b306_11eb_81d7_0d91cc225b64level0_row12\" class=\"row_heading level0 row12\" >12</th>\n",
       "                        <td id=\"T_1a0f9272_b306_11eb_81d7_0d91cc225b64row12_col0\" class=\"data row12 col0\" >2021-05-12 00:21:31</td>\n",
       "                        <td id=\"T_1a0f9272_b306_11eb_81d7_0d91cc225b64row12_col1\" class=\"data row12 col1\" >2021-05-12 00:21:08</td>\n",
       "                        <td id=\"T_1a0f9272_b306_11eb_81d7_0d91cc225b64row12_col2\" class=\"data row12 col2\" >2021-05-12 00:19:15</td>\n",
       "                        <td id=\"T_1a0f9272_b306_11eb_81d7_0d91cc225b64row12_col3\" class=\"data row12 col3\" >2021-05-12 00:18:54</td>\n",
       "                        <td id=\"T_1a0f9272_b306_11eb_81d7_0d91cc225b64row12_col4\" class=\"data row12 col4\" >2021-05-12 00:18:15</td>\n",
       "                        <td id=\"T_1a0f9272_b306_11eb_81d7_0d91cc225b64row12_col5\" class=\"data row12 col5\" >2021-05-12 00:13:05</td>\n",
       "                        <td id=\"T_1a0f9272_b306_11eb_81d7_0d91cc225b64row12_col6\" class=\"data row12 col6\" >2021-05-12 00:12:59</td>\n",
       "                        <td id=\"T_1a0f9272_b306_11eb_81d7_0d91cc225b64row12_col7\" class=\"data row12 col7\" >2021-05-12 00:12:02</td>\n",
       "                        <td id=\"T_1a0f9272_b306_11eb_81d7_0d91cc225b64row12_col8\" class=\"data row12 col8\" >2021-05-12 00:09:58</td>\n",
       "                        <td id=\"T_1a0f9272_b306_11eb_81d7_0d91cc225b64row12_col9\" class=\"data row12 col9\" >2021-05-12 00:09:41</td>\n",
       "                        <td id=\"T_1a0f9272_b306_11eb_81d7_0d91cc225b64row12_col10\" class=\"data row12 col10\" >2021-05-12 00:05:00</td>\n",
       "                        <td id=\"T_1a0f9272_b306_11eb_81d7_0d91cc225b64row12_col11\" class=\"data row12 col11\" >2021-05-12 00:04:56</td>\n",
       "                        <td id=\"T_1a0f9272_b306_11eb_81d7_0d91cc225b64row12_col12\" class=\"data row12 col12\" >2021-05-12 00:04:30</td>\n",
       "                        <td id=\"T_1a0f9272_b306_11eb_81d7_0d91cc225b64row12_col13\" class=\"data row12 col13\" >2021-05-12 00:03:15</td>\n",
       "                        <td id=\"T_1a0f9272_b306_11eb_81d7_0d91cc225b64row12_col14\" class=\"data row12 col14\" >2021-05-12 00:02:26</td>\n",
       "            </tr>\n",
       "            <tr>\n",
       "                        <th id=\"T_1a0f9272_b306_11eb_81d7_0d91cc225b64level0_row13\" class=\"row_heading level0 row13\" >13</th>\n",
       "                        <td id=\"T_1a0f9272_b306_11eb_81d7_0d91cc225b64row13_col0\" class=\"data row13 col0\" >2021-05-12 00:27:31</td>\n",
       "                        <td id=\"T_1a0f9272_b306_11eb_81d7_0d91cc225b64row13_col1\" class=\"data row13 col1\" >2021-05-12 00:27:15</td>\n",
       "                        <td id=\"T_1a0f9272_b306_11eb_81d7_0d91cc225b64row13_col2\" class=\"data row13 col2\" >2021-05-12 00:26:16</td>\n",
       "                        <td id=\"T_1a0f9272_b306_11eb_81d7_0d91cc225b64row13_col3\" class=\"data row13 col3\" >2021-05-12 00:25:52</td>\n",
       "                        <td id=\"T_1a0f9272_b306_11eb_81d7_0d91cc225b64row13_col4\" class=\"data row13 col4\" >2021-05-12 00:25:26</td>\n",
       "                        <td id=\"T_1a0f9272_b306_11eb_81d7_0d91cc225b64row13_col5\" class=\"data row13 col5\" >2021-05-12 00:23:50</td>\n",
       "                        <td id=\"T_1a0f9272_b306_11eb_81d7_0d91cc225b64row13_col6\" class=\"data row13 col6\" >2021-05-12 00:23:48</td>\n",
       "                        <td id=\"T_1a0f9272_b306_11eb_81d7_0d91cc225b64row13_col7\" class=\"data row13 col7\" >2021-05-12 00:23:26</td>\n",
       "                        <td id=\"T_1a0f9272_b306_11eb_81d7_0d91cc225b64row13_col8\" class=\"data row13 col8\" >2021-05-12 00:23:09</td>\n",
       "                        <td id=\"T_1a0f9272_b306_11eb_81d7_0d91cc225b64row13_col9\" class=\"data row13 col9\" >2021-05-12 00:22:51</td>\n",
       "                        <td id=\"T_1a0f9272_b306_11eb_81d7_0d91cc225b64row13_col10\" class=\"data row13 col10\" >2021-05-12 00:21:46</td>\n",
       "                        <td id=\"T_1a0f9272_b306_11eb_81d7_0d91cc225b64row13_col11\" class=\"data row13 col11\" >2021-05-12 00:21:43</td>\n",
       "                        <td id=\"T_1a0f9272_b306_11eb_81d7_0d91cc225b64row13_col12\" class=\"data row13 col12\" >2021-05-12 00:21:28</td>\n",
       "                        <td id=\"T_1a0f9272_b306_11eb_81d7_0d91cc225b64row13_col13\" class=\"data row13 col13\" >2021-05-12 00:21:17</td>\n",
       "                        <td id=\"T_1a0f9272_b306_11eb_81d7_0d91cc225b64row13_col14\" class=\"data row13 col14\" >2021-05-12 00:01:22</td>\n",
       "            </tr>\n",
       "    </tbody></table>"
      ],
      "text/plain": [
       "<pandas.io.formats.style.Styler at 0x7fb4bae7fdf0>"
      ]
     },
     "execution_count": 28,
     "metadata": {},
     "output_type": "execute_result"
    }
   ],
   "source": [
    "pdctimes.style.highlight_max(subset='t_a_before')"
   ]
  },
  {
   "cell_type": "markdown",
   "metadata": {},
   "source": [
    "Remove **invalid** submissions with regard to time. There was one respondent that accidentaly closed the questionnaire before submission, then filled up the questionnaire again. His submission time will not be computed. It was first submission in group A.\n",
    "\n",
    "In group C there is a submission that took approx. 1:35 hours. However, majority of time spent (1:31) was after last section on final questions, so we can keep this time."
   ]
  },
  {
   "cell_type": "code",
   "execution_count": 29,
   "metadata": {},
   "outputs": [],
   "source": [
    "def avg_time_spent(df):\n",
    "    return time_spent(df).mean()\n",
    "\n",
    "def time_spent(df):\n",
    "    return df.t_a_before - df.t_c_4"
   ]
  },
  {
   "cell_type": "code",
   "execution_count": 30,
   "metadata": {},
   "outputs": [
    {
     "data": {
      "text/plain": [
       "Timedelta('0 days 00:02:52')"
      ]
     },
     "execution_count": 30,
     "metadata": {},
     "output_type": "execute_result"
    }
   ],
   "source": [
    "too_fast = time_spent(pdatimes.iloc[11])\n",
    "too_fast"
   ]
  },
  {
   "cell_type": "code",
   "execution_count": 176,
   "metadata": {},
   "outputs": [],
   "source": [
    "pdatimes = pdatimes.drop(index=11)"
   ]
  },
  {
   "cell_type": "markdown",
   "metadata": {},
   "source": [
    "---"
   ]
  },
  {
   "cell_type": "markdown",
   "metadata": {},
   "source": [
    "#### Time spent distribution"
   ]
  },
  {
   "cell_type": "markdown",
   "metadata": {},
   "source": [
    "**Group A**"
   ]
  },
  {
   "cell_type": "code",
   "execution_count": 32,
   "metadata": {},
   "outputs": [
    {
     "data": {
      "image/png": "[encoded data removed]",
      "text/plain": [
       "<Figure size 432x288 with 1 Axes>"
      ]
     },
     "metadata": {
      "needs_background": "light"
     },
     "output_type": "display_data"
    }
   ],
   "source": [
    "grp_a_times = time_spent(pdatimes)\n",
    "grp_a_times.astype('timedelta64[m]').plot.hist();"
   ]
  },
  {
   "cell_type": "markdown",
   "metadata": {},
   "source": [
    "**Group B**"
   ]
  },
  {
   "cell_type": "code",
   "execution_count": 33,
   "metadata": {},
   "outputs": [
    {
     "data": {
      "text/plain": [
       "<AxesSubplot:ylabel='Frequency'>"
      ]
     },
     "execution_count": 33,
     "metadata": {},
     "output_type": "execute_result"
    },
    {
     "data": {
      "image/png": "[encoded data removed]",
      "text/plain": [
       "<Figure size 432x288 with 1 Axes>"
      ]
     },
     "metadata": {
      "needs_background": "light"
     },
     "output_type": "display_data"
    }
   ],
   "source": [
    "grp_b_times = time_spent(pdbtimes)\n",
    "grp_b_times.astype('timedelta64[m]').plot.hist()"
   ]
  },
  {
   "cell_type": "markdown",
   "metadata": {},
   "source": [
    "**Group C**"
   ]
  },
  {
   "cell_type": "code",
   "execution_count": 34,
   "metadata": {},
   "outputs": [
    {
     "data": {
      "text/plain": [
       "<AxesSubplot:ylabel='Frequency'>"
      ]
     },
     "execution_count": 34,
     "metadata": {},
     "output_type": "execute_result"
    },
    {
     "data": {
      "image/png": "[encoded data removed]",
      "text/plain": [
       "<Figure size 432x288 with 1 Axes>"
      ]
     },
     "metadata": {
      "needs_background": "light"
     },
     "output_type": "display_data"
    }
   ],
   "source": [
    "grp_c_times = time_spent(pdctimes)\n",
    "grp_c_times.astype('timedelta64[m]').plot.hist()"
   ]
  },
  {
   "cell_type": "code",
   "execution_count": 35,
   "metadata": {},
   "outputs": [],
   "source": [
    "times = pd.concat([\n",
    "    pd.DataFrame({\"time\": grp_a_times, \"group\": ['a' for _ in range(len(grp_a_times))]}),\n",
    "    pd.DataFrame({\"time\": grp_b_times, \"group\": ['b' for _ in range(len(grp_b_times))]}),\n",
    "    pd.DataFrame({\"time\": grp_c_times, \"group\": ['c' for _ in range(len(grp_c_times))]})],\n",
    "    ignore_index=True\n",
    ")"
   ]
  },
  {
   "cell_type": "code",
   "execution_count": 77,
   "metadata": {},
   "outputs": [],
   "source": [
    "times['minutes'] = times.time.astype('timedelta64[m]')\n",
    "times['seconds'] = times.time.astype('timedelta64[s]')"
   ]
  },
  {
   "cell_type": "code",
   "execution_count": 37,
   "metadata": {},
   "outputs": [
    {
     "data": {
      "image/png": "[encoded data removed]",
      "text/plain": [
       "<Figure size 432x288 with 1 Axes>"
      ]
     },
     "metadata": {
      "needs_background": "light"
     },
     "output_type": "display_data"
    }
   ],
   "source": [
    "sns.violinplot(x=\"group\", y=\"minutes\", data=times, inner=\"quartile\");"
   ]
  },
  {
   "cell_type": "code",
   "execution_count": 38,
   "metadata": {},
   "outputs": [
    {
     "data": {
      "image/png": "[encoded data removed]",
      "text/plain": [
       "<Figure size 432x288 with 1 Axes>"
      ]
     },
     "metadata": {
      "needs_background": "light"
     },
     "output_type": "display_data"
    }
   ],
   "source": [
    "sns.boxplot(x=\"group\", y=\"minutes\", data=times);"
   ]
  },
  {
   "cell_type": "markdown",
   "metadata": {},
   "source": [
    "The same, but with seconds"
   ]
  },
  {
   "cell_type": "code",
   "execution_count": 78,
   "metadata": {},
   "outputs": [
    {
     "data": {
      "image/png": "[encoded data removed]",
      "text/plain": [
       "<Figure size 432x288 with 1 Axes>"
      ]
     },
     "metadata": {
      "needs_background": "light"
     },
     "output_type": "display_data"
    }
   ],
   "source": [
    "sns.violinplot(x=\"group\", y=\"seconds\", data=times, inner=\"quartile\");"
   ]
  },
  {
   "cell_type": "markdown",
   "metadata": {},
   "source": [
    "Outlier from group b"
   ]
  },
  {
   "cell_type": "code",
   "execution_count": 39,
   "metadata": {},
   "outputs": [
    {
     "data": {
      "text/html": [
       "<style  type=\"text/css\" >\n",
       "#T_1a0f9273_b306_11eb_81d7_0d91cc225b64row2_col0,#T_1a0f9273_b306_11eb_81d7_0d91cc225b64row2_col2{\n",
       "            background-color:  yellow;\n",
       "        }</style><table id=\"T_1a0f9273_b306_11eb_81d7_0d91cc225b64\" ><thead>    <tr>        <th class=\"blank level0\" ></th>        <th class=\"col_heading level0 col0\" >time</th>        <th class=\"col_heading level0 col1\" >group</th>        <th class=\"col_heading level0 col2\" >minutes</th>    </tr></thead><tbody>\n",
       "                <tr>\n",
       "                        <th id=\"T_1a0f9273_b306_11eb_81d7_0d91cc225b64level0_row0\" class=\"row_heading level0 row0\" >11</th>\n",
       "                        <td id=\"T_1a0f9273_b306_11eb_81d7_0d91cc225b64row0_col0\" class=\"data row0 col0\" >0 days 00:05:05</td>\n",
       "                        <td id=\"T_1a0f9273_b306_11eb_81d7_0d91cc225b64row0_col1\" class=\"data row0 col1\" >b</td>\n",
       "                        <td id=\"T_1a0f9273_b306_11eb_81d7_0d91cc225b64row0_col2\" class=\"data row0 col2\" >5.000000</td>\n",
       "            </tr>\n",
       "            <tr>\n",
       "                        <th id=\"T_1a0f9273_b306_11eb_81d7_0d91cc225b64level0_row1\" class=\"row_heading level0 row1\" >12</th>\n",
       "                        <td id=\"T_1a0f9273_b306_11eb_81d7_0d91cc225b64row1_col0\" class=\"data row1 col0\" >0 days 00:03:30</td>\n",
       "                        <td id=\"T_1a0f9273_b306_11eb_81d7_0d91cc225b64row1_col1\" class=\"data row1 col1\" >b</td>\n",
       "                        <td id=\"T_1a0f9273_b306_11eb_81d7_0d91cc225b64row1_col2\" class=\"data row1 col2\" >3.000000</td>\n",
       "            </tr>\n",
       "            <tr>\n",
       "                        <th id=\"T_1a0f9273_b306_11eb_81d7_0d91cc225b64level0_row2\" class=\"row_heading level0 row2\" >13</th>\n",
       "                        <td id=\"T_1a0f9273_b306_11eb_81d7_0d91cc225b64row2_col0\" class=\"data row2 col0\" >0 days 00:15:16</td>\n",
       "                        <td id=\"T_1a0f9273_b306_11eb_81d7_0d91cc225b64row2_col1\" class=\"data row2 col1\" >b</td>\n",
       "                        <td id=\"T_1a0f9273_b306_11eb_81d7_0d91cc225b64row2_col2\" class=\"data row2 col2\" >15.000000</td>\n",
       "            </tr>\n",
       "            <tr>\n",
       "                        <th id=\"T_1a0f9273_b306_11eb_81d7_0d91cc225b64level0_row3\" class=\"row_heading level0 row3\" >14</th>\n",
       "                        <td id=\"T_1a0f9273_b306_11eb_81d7_0d91cc225b64row3_col0\" class=\"data row3 col0\" >0 days 00:09:33</td>\n",
       "                        <td id=\"T_1a0f9273_b306_11eb_81d7_0d91cc225b64row3_col1\" class=\"data row3 col1\" >b</td>\n",
       "                        <td id=\"T_1a0f9273_b306_11eb_81d7_0d91cc225b64row3_col2\" class=\"data row3 col2\" >9.000000</td>\n",
       "            </tr>\n",
       "            <tr>\n",
       "                        <th id=\"T_1a0f9273_b306_11eb_81d7_0d91cc225b64level0_row4\" class=\"row_heading level0 row4\" >15</th>\n",
       "                        <td id=\"T_1a0f9273_b306_11eb_81d7_0d91cc225b64row4_col0\" class=\"data row4 col0\" >0 days 00:08:54</td>\n",
       "                        <td id=\"T_1a0f9273_b306_11eb_81d7_0d91cc225b64row4_col1\" class=\"data row4 col1\" >b</td>\n",
       "                        <td id=\"T_1a0f9273_b306_11eb_81d7_0d91cc225b64row4_col2\" class=\"data row4 col2\" >8.000000</td>\n",
       "            </tr>\n",
       "            <tr>\n",
       "                        <th id=\"T_1a0f9273_b306_11eb_81d7_0d91cc225b64level0_row5\" class=\"row_heading level0 row5\" >16</th>\n",
       "                        <td id=\"T_1a0f9273_b306_11eb_81d7_0d91cc225b64row5_col0\" class=\"data row5 col0\" >0 days 00:06:37</td>\n",
       "                        <td id=\"T_1a0f9273_b306_11eb_81d7_0d91cc225b64row5_col1\" class=\"data row5 col1\" >b</td>\n",
       "                        <td id=\"T_1a0f9273_b306_11eb_81d7_0d91cc225b64row5_col2\" class=\"data row5 col2\" >6.000000</td>\n",
       "            </tr>\n",
       "            <tr>\n",
       "                        <th id=\"T_1a0f9273_b306_11eb_81d7_0d91cc225b64level0_row6\" class=\"row_heading level0 row6\" >17</th>\n",
       "                        <td id=\"T_1a0f9273_b306_11eb_81d7_0d91cc225b64row6_col0\" class=\"data row6 col0\" >0 days 00:06:20</td>\n",
       "                        <td id=\"T_1a0f9273_b306_11eb_81d7_0d91cc225b64row6_col1\" class=\"data row6 col1\" >b</td>\n",
       "                        <td id=\"T_1a0f9273_b306_11eb_81d7_0d91cc225b64row6_col2\" class=\"data row6 col2\" >6.000000</td>\n",
       "            </tr>\n",
       "            <tr>\n",
       "                        <th id=\"T_1a0f9273_b306_11eb_81d7_0d91cc225b64level0_row7\" class=\"row_heading level0 row7\" >18</th>\n",
       "                        <td id=\"T_1a0f9273_b306_11eb_81d7_0d91cc225b64row7_col0\" class=\"data row7 col0\" >0 days 00:03:51</td>\n",
       "                        <td id=\"T_1a0f9273_b306_11eb_81d7_0d91cc225b64row7_col1\" class=\"data row7 col1\" >b</td>\n",
       "                        <td id=\"T_1a0f9273_b306_11eb_81d7_0d91cc225b64row7_col2\" class=\"data row7 col2\" >3.000000</td>\n",
       "            </tr>\n",
       "            <tr>\n",
       "                        <th id=\"T_1a0f9273_b306_11eb_81d7_0d91cc225b64level0_row8\" class=\"row_heading level0 row8\" >19</th>\n",
       "                        <td id=\"T_1a0f9273_b306_11eb_81d7_0d91cc225b64row8_col0\" class=\"data row8 col0\" >0 days 00:07:47</td>\n",
       "                        <td id=\"T_1a0f9273_b306_11eb_81d7_0d91cc225b64row8_col1\" class=\"data row8 col1\" >b</td>\n",
       "                        <td id=\"T_1a0f9273_b306_11eb_81d7_0d91cc225b64row8_col2\" class=\"data row8 col2\" >7.000000</td>\n",
       "            </tr>\n",
       "            <tr>\n",
       "                        <th id=\"T_1a0f9273_b306_11eb_81d7_0d91cc225b64level0_row9\" class=\"row_heading level0 row9\" >20</th>\n",
       "                        <td id=\"T_1a0f9273_b306_11eb_81d7_0d91cc225b64row9_col0\" class=\"data row9 col0\" >0 days 00:09:19</td>\n",
       "                        <td id=\"T_1a0f9273_b306_11eb_81d7_0d91cc225b64row9_col1\" class=\"data row9 col1\" >b</td>\n",
       "                        <td id=\"T_1a0f9273_b306_11eb_81d7_0d91cc225b64row9_col2\" class=\"data row9 col2\" >9.000000</td>\n",
       "            </tr>\n",
       "            <tr>\n",
       "                        <th id=\"T_1a0f9273_b306_11eb_81d7_0d91cc225b64level0_row10\" class=\"row_heading level0 row10\" >21</th>\n",
       "                        <td id=\"T_1a0f9273_b306_11eb_81d7_0d91cc225b64row10_col0\" class=\"data row10 col0\" >0 days 00:07:21</td>\n",
       "                        <td id=\"T_1a0f9273_b306_11eb_81d7_0d91cc225b64row10_col1\" class=\"data row10 col1\" >b</td>\n",
       "                        <td id=\"T_1a0f9273_b306_11eb_81d7_0d91cc225b64row10_col2\" class=\"data row10 col2\" >7.000000</td>\n",
       "            </tr>\n",
       "            <tr>\n",
       "                        <th id=\"T_1a0f9273_b306_11eb_81d7_0d91cc225b64level0_row11\" class=\"row_heading level0 row11\" >22</th>\n",
       "                        <td id=\"T_1a0f9273_b306_11eb_81d7_0d91cc225b64row11_col0\" class=\"data row11 col0\" >0 days 00:06:59</td>\n",
       "                        <td id=\"T_1a0f9273_b306_11eb_81d7_0d91cc225b64row11_col1\" class=\"data row11 col1\" >b</td>\n",
       "                        <td id=\"T_1a0f9273_b306_11eb_81d7_0d91cc225b64row11_col2\" class=\"data row11 col2\" >6.000000</td>\n",
       "            </tr>\n",
       "    </tbody></table>"
      ],
      "text/plain": [
       "<pandas.io.formats.style.Styler at 0x7fb4b6b45b20>"
      ]
     },
     "execution_count": 39,
     "metadata": {},
     "output_type": "execute_result"
    }
   ],
   "source": [
    "times[times.group == 'b'].style.highlight_max()"
   ]
  },
  {
   "cell_type": "code",
   "execution_count": 40,
   "metadata": {},
   "outputs": [
    {
     "data": {
      "text/plain": [
       "t_a_before   2021-05-12 00:18:34\n",
       "t_a_1        2021-05-12 00:18:11\n",
       "t_a_2        2021-05-12 00:16:44\n",
       "t_a_3        2021-05-12 00:16:20\n",
       "t_a_4        2021-05-12 00:16:03\n",
       "t_b_before   2021-05-12 00:14:47\n",
       "t_b_1        2021-05-12 00:14:44\n",
       "t_b_2        2021-05-12 00:13:38\n",
       "t_b_3        2021-05-12 00:11:50\n",
       "t_b_4        2021-05-12 00:09:46\n",
       "t_c_before   2021-05-12 00:07:54\n",
       "t_c_1        2021-05-12 00:07:52\n",
       "t_c_2        2021-05-12 00:05:57\n",
       "t_c_3        2021-05-12 00:03:47\n",
       "t_c_4        2021-05-12 00:03:18\n",
       "Name: 2, dtype: datetime64[ns]"
      ]
     },
     "execution_count": 40,
     "metadata": {},
     "output_type": "execute_result"
    }
   ],
   "source": [
    "pdbtimes.iloc[2]"
   ]
  },
  {
   "cell_type": "markdown",
   "metadata": {},
   "source": [
    "His answer times are evenly distributed, he just took more time to answer."
   ]
  },
  {
   "cell_type": "markdown",
   "metadata": {},
   "source": [
    "**Let's compute on average how long it took respondents in each group to fill up the questionnaire**"
   ]
  },
  {
   "cell_type": "code",
   "execution_count": 41,
   "metadata": {},
   "outputs": [
    {
     "data": {
      "text/plain": [
       "Timedelta('0 days 00:12:02')"
      ]
     },
     "execution_count": 41,
     "metadata": {},
     "output_type": "execute_result"
    }
   ],
   "source": [
    "avg_time_spent(pdatimes)"
   ]
  },
  {
   "cell_type": "code",
   "execution_count": 42,
   "metadata": {},
   "outputs": [
    {
     "data": {
      "text/plain": [
       "Timedelta('0 days 00:07:32.666666666')"
      ]
     },
     "execution_count": 42,
     "metadata": {},
     "output_type": "execute_result"
    }
   ],
   "source": [
    "avg_time_spent(pdbtimes)"
   ]
  },
  {
   "cell_type": "code",
   "execution_count": 43,
   "metadata": {},
   "outputs": [
    {
     "data": {
      "text/plain": [
       "Timedelta('0 days 00:10:59.928571428')"
      ]
     },
     "execution_count": 43,
     "metadata": {},
     "output_type": "execute_result"
    }
   ],
   "source": [
    "avg_time_spent(pdctimes)"
   ]
  },
  {
   "cell_type": "markdown",
   "metadata": {},
   "source": [
    "On graphs it seems that group B has significantly lower times that group A and C, even though group C has approximately the same length of summaries as group B"
   ]
  },
  {
   "cell_type": "markdown",
   "metadata": {},
   "source": [
    "---\n",
    "\n",
    "Let's look at differences in each sector of each group. *Unfortunatelly, there was an error in the design and we can not count times for first answer in each sector, so will count only 2-4*"
   ]
  },
  {
   "cell_type": "code",
   "execution_count": 44,
   "metadata": {},
   "outputs": [
    {
     "data": {
      "text/html": [
       "<div>\n",
       "<style scoped>\n",
       "    .dataframe tbody tr th:only-of-type {\n",
       "        vertical-align: middle;\n",
       "    }\n",
       "\n",
       "    .dataframe tbody tr th {\n",
       "        vertical-align: top;\n",
       "    }\n",
       "\n",
       "    .dataframe thead th {\n",
       "        text-align: right;\n",
       "    }\n",
       "</style>\n",
       "<table border=\"1\" class=\"dataframe\">\n",
       "  <thead>\n",
       "    <tr style=\"text-align: right;\">\n",
       "      <th></th>\n",
       "      <th>t_a_before</th>\n",
       "      <th>t_a_1</th>\n",
       "      <th>t_a_2</th>\n",
       "      <th>t_a_3</th>\n",
       "      <th>t_a_4</th>\n",
       "      <th>t_b_before</th>\n",
       "      <th>t_b_1</th>\n",
       "      <th>t_b_2</th>\n",
       "      <th>t_b_3</th>\n",
       "      <th>t_b_4</th>\n",
       "      <th>t_c_before</th>\n",
       "      <th>t_c_1</th>\n",
       "      <th>t_c_2</th>\n",
       "      <th>t_c_3</th>\n",
       "      <th>t_c_4</th>\n",
       "    </tr>\n",
       "  </thead>\n",
       "  <tbody>\n",
       "    <tr>\n",
       "      <th>0</th>\n",
       "      <td>2021-05-12 00:32:19</td>\n",
       "      <td>2021-05-12 00:32:16</td>\n",
       "      <td>2021-05-12 00:31:29</td>\n",
       "      <td>2021-05-12 00:31:21</td>\n",
       "      <td>2021-05-12 00:31:09</td>\n",
       "      <td>2021-05-12 00:30:18</td>\n",
       "      <td>2021-05-12 00:30:15</td>\n",
       "      <td>2021-05-12 00:28:56</td>\n",
       "      <td>2021-05-12 00:28:45</td>\n",
       "      <td>2021-05-12 00:28:01</td>\n",
       "      <td>2021-05-12 00:25:28</td>\n",
       "      <td>2021-05-12 00:25:26</td>\n",
       "      <td>2021-05-12 00:24:07</td>\n",
       "      <td>2021-05-12 00:22:34</td>\n",
       "      <td>2021-05-12 00:21:31</td>\n",
       "    </tr>\n",
       "  </tbody>\n",
       "</table>\n",
       "</div>"
      ],
      "text/plain": [
       "           t_a_before               t_a_1               t_a_2  \\\n",
       "0 2021-05-12 00:32:19 2021-05-12 00:32:16 2021-05-12 00:31:29   \n",
       "\n",
       "                t_a_3               t_a_4          t_b_before  \\\n",
       "0 2021-05-12 00:31:21 2021-05-12 00:31:09 2021-05-12 00:30:18   \n",
       "\n",
       "                t_b_1               t_b_2               t_b_3  \\\n",
       "0 2021-05-12 00:30:15 2021-05-12 00:28:56 2021-05-12 00:28:45   \n",
       "\n",
       "                t_b_4          t_c_before               t_c_1  \\\n",
       "0 2021-05-12 00:28:01 2021-05-12 00:25:28 2021-05-12 00:25:26   \n",
       "\n",
       "                t_c_2               t_c_3               t_c_4  \n",
       "0 2021-05-12 00:24:07 2021-05-12 00:22:34 2021-05-12 00:21:31  "
      ]
     },
     "execution_count": 44,
     "metadata": {},
     "output_type": "execute_result"
    }
   ],
   "source": [
    "pdatimes.head(1)"
   ]
  },
  {
   "cell_type": "code",
   "execution_count": 45,
   "metadata": {},
   "outputs": [],
   "source": [
    "def sector_times_avg(df):\n",
    "    s1 = (df.t_a_1 - df.t_a_4).mean()\n",
    "    s2 = (df.t_b_1 - df.t_b_4).mean()\n",
    "    s3 = (df.t_c_1 - df.t_c_4).mean()\n",
    "    \n",
    "    return s1, s2, s3\n",
    "\n",
    "def sector_times(df):\n",
    "    s1 = df.t_a_1 - df.t_a_4\n",
    "    s2 = df.t_b_1 - df.t_b_4\n",
    "    s3 = df.t_c_1 - df.t_c_4\n",
    "    \n",
    "    return s1, s2, s3"
   ]
  },
  {
   "cell_type": "code",
   "execution_count": 46,
   "metadata": {},
   "outputs": [
    {
     "data": {
      "text/plain": [
       "(Timedelta('0 days 00:02:30.818181818'),\n",
       " Timedelta('0 days 00:02:10'),\n",
       " Timedelta('0 days 00:03:12.363636363'))"
      ]
     },
     "execution_count": 46,
     "metadata": {},
     "output_type": "execute_result"
    }
   ],
   "source": [
    "sector_times_avg(pdatimes)"
   ]
  },
  {
   "cell_type": "code",
   "execution_count": 47,
   "metadata": {},
   "outputs": [
    {
     "data": {
      "text/plain": [
       "(Timedelta('0 days 00:01:24.916666666'),\n",
       " Timedelta('0 days 00:01:26.916666666'),\n",
       " Timedelta('0 days 00:01:47.583333333'))"
      ]
     },
     "execution_count": 47,
     "metadata": {},
     "output_type": "execute_result"
    }
   ],
   "source": [
    "sector_times_avg(pdbtimes)"
   ]
  },
  {
   "cell_type": "code",
   "execution_count": 48,
   "metadata": {},
   "outputs": [
    {
     "data": {
      "text/plain": [
       "(Timedelta('0 days 00:01:49.571428571'),\n",
       " Timedelta('0 days 00:01:37.571428571'),\n",
       " Timedelta('0 days 00:03:09.428571428'))"
      ]
     },
     "execution_count": 48,
     "metadata": {},
     "output_type": "execute_result"
    }
   ],
   "source": [
    "sector_times_avg(pdctimes)"
   ]
  },
  {
   "cell_type": "code",
   "execution_count": 49,
   "metadata": {},
   "outputs": [],
   "source": [
    "def sector_times_frame(df, grp_letter):\n",
    "    s1, s2, s3 = sector_times(df)\n",
    "    \n",
    "    s = list(s1)\n",
    "    s.extend(list(s2))\n",
    "    s.extend(list(s3))\n",
    "    \n",
    "    s1n = [1 for _ in range(len(s1))]\n",
    "    s2n = [2 for _ in range(len(s2))]\n",
    "    s3n = [3 for _ in range(len(s3))]\n",
    "    \n",
    "    return pd.DataFrame({\n",
    "        \"time\": s,\n",
    "        \"sector\": s1n + s2n + s3n,\n",
    "        \"group\": [grp_letter for _ in range(len(s))]\n",
    "    })"
   ]
  },
  {
   "cell_type": "code",
   "execution_count": 50,
   "metadata": {},
   "outputs": [
    {
     "data": {
      "text/html": [
       "<div>\n",
       "<style scoped>\n",
       "    .dataframe tbody tr th:only-of-type {\n",
       "        vertical-align: middle;\n",
       "    }\n",
       "\n",
       "    .dataframe tbody tr th {\n",
       "        vertical-align: top;\n",
       "    }\n",
       "\n",
       "    .dataframe thead th {\n",
       "        text-align: right;\n",
       "    }\n",
       "</style>\n",
       "<table border=\"1\" class=\"dataframe\">\n",
       "  <thead>\n",
       "    <tr style=\"text-align: right;\">\n",
       "      <th></th>\n",
       "      <th>time</th>\n",
       "      <th>sector</th>\n",
       "      <th>group</th>\n",
       "    </tr>\n",
       "  </thead>\n",
       "  <tbody>\n",
       "    <tr>\n",
       "      <th>43</th>\n",
       "      <td>0 days 00:01:00</td>\n",
       "      <td>1</td>\n",
       "      <td>b</td>\n",
       "    </tr>\n",
       "    <tr>\n",
       "      <th>71</th>\n",
       "      <td>0 days 00:00:36</td>\n",
       "      <td>1</td>\n",
       "      <td>c</td>\n",
       "    </tr>\n",
       "  </tbody>\n",
       "</table>\n",
       "</div>"
      ],
      "text/plain": [
       "              time  sector group\n",
       "43 0 days 00:01:00       1     b\n",
       "71 0 days 00:00:36       1     c"
      ]
     },
     "execution_count": 50,
     "metadata": {},
     "output_type": "execute_result"
    }
   ],
   "source": [
    "times_per_sector = pd.concat([\n",
    "    sector_times_frame(pdatimes, 'a'),\n",
    "    sector_times_frame(pdbtimes, 'b'),\n",
    "    sector_times_frame(pdctimes, 'c')],\n",
    "    ignore_index=True\n",
    ")\n",
    "times_per_sector.sample(2)"
   ]
  },
  {
   "cell_type": "code",
   "execution_count": 51,
   "metadata": {},
   "outputs": [],
   "source": [
    "times_per_sector[\"time_s\"] = times_per_sector[\"time\"].astype('timedelta64[s]')"
   ]
  },
  {
   "cell_type": "code",
   "execution_count": 52,
   "metadata": {},
   "outputs": [
    {
     "data": {
      "text/html": [
       "<div>\n",
       "<style scoped>\n",
       "    .dataframe tbody tr th:only-of-type {\n",
       "        vertical-align: middle;\n",
       "    }\n",
       "\n",
       "    .dataframe tbody tr th {\n",
       "        vertical-align: top;\n",
       "    }\n",
       "\n",
       "    .dataframe thead th {\n",
       "        text-align: right;\n",
       "    }\n",
       "</style>\n",
       "<table border=\"1\" class=\"dataframe\">\n",
       "  <thead>\n",
       "    <tr style=\"text-align: right;\">\n",
       "      <th></th>\n",
       "      <th>time</th>\n",
       "      <th>sector</th>\n",
       "      <th>group</th>\n",
       "      <th>time_s</th>\n",
       "    </tr>\n",
       "  </thead>\n",
       "  <tbody>\n",
       "    <tr>\n",
       "      <th>100</th>\n",
       "      <td>0 days 00:01:18</td>\n",
       "      <td>3</td>\n",
       "      <td>c</td>\n",
       "      <td>78.0</td>\n",
       "    </tr>\n",
       "  </tbody>\n",
       "</table>\n",
       "</div>"
      ],
      "text/plain": [
       "               time  sector group  time_s\n",
       "100 0 days 00:01:18       3     c    78.0"
      ]
     },
     "execution_count": 52,
     "metadata": {},
     "output_type": "execute_result"
    }
   ],
   "source": [
    "times_per_sector.sample(1)"
   ]
  },
  {
   "cell_type": "code",
   "execution_count": 53,
   "metadata": {},
   "outputs": [
    {
     "data": {
      "text/plain": [
       "<AxesSubplot:xlabel='sector', ylabel='time_s'>"
      ]
     },
     "execution_count": 53,
     "metadata": {},
     "output_type": "execute_result"
    },
    {
     "data": {
      "image/png": "[encoded data removed]",
      "text/plain": [
       "<Figure size 1152x432 with 1 Axes>"
      ]
     },
     "metadata": {
      "needs_background": "light"
     },
     "output_type": "display_data"
    }
   ],
   "source": [
    "plt.figure(figsize=(16, 6))\n",
    "sns.violinplot(x='sector', y='time_s', data=times_per_sector, hue='group')"
   ]
  },
  {
   "cell_type": "code",
   "execution_count": 54,
   "metadata": {},
   "outputs": [
    {
     "data": {
      "text/html": [
       "<style  type=\"text/css\" >\n",
       "#T_1a0f9274_b306_11eb_81d7_0d91cc225b64row9_col3{\n",
       "            background-color:  yellow;\n",
       "        }</style><table id=\"T_1a0f9274_b306_11eb_81d7_0d91cc225b64\" ><thead>    <tr>        <th class=\"blank level0\" ></th>        <th class=\"col_heading level0 col0\" >time</th>        <th class=\"col_heading level0 col1\" >sector</th>        <th class=\"col_heading level0 col2\" >group</th>        <th class=\"col_heading level0 col3\" >time_s</th>    </tr></thead><tbody>\n",
       "                <tr>\n",
       "                        <th id=\"T_1a0f9274_b306_11eb_81d7_0d91cc225b64level0_row0\" class=\"row_heading level0 row0\" >97</th>\n",
       "                        <td id=\"T_1a0f9274_b306_11eb_81d7_0d91cc225b64row0_col0\" class=\"data row0 col0\" >0 days 00:04:30</td>\n",
       "                        <td id=\"T_1a0f9274_b306_11eb_81d7_0d91cc225b64row0_col1\" class=\"data row0 col1\" >3</td>\n",
       "                        <td id=\"T_1a0f9274_b306_11eb_81d7_0d91cc225b64row0_col2\" class=\"data row0 col2\" >c</td>\n",
       "                        <td id=\"T_1a0f9274_b306_11eb_81d7_0d91cc225b64row0_col3\" class=\"data row0 col3\" >270.000000</td>\n",
       "            </tr>\n",
       "            <tr>\n",
       "                        <th id=\"T_1a0f9274_b306_11eb_81d7_0d91cc225b64level0_row1\" class=\"row_heading level0 row1\" >98</th>\n",
       "                        <td id=\"T_1a0f9274_b306_11eb_81d7_0d91cc225b64row1_col0\" class=\"data row1 col0\" >0 days 00:00:40</td>\n",
       "                        <td id=\"T_1a0f9274_b306_11eb_81d7_0d91cc225b64row1_col1\" class=\"data row1 col1\" >3</td>\n",
       "                        <td id=\"T_1a0f9274_b306_11eb_81d7_0d91cc225b64row1_col2\" class=\"data row1 col2\" >c</td>\n",
       "                        <td id=\"T_1a0f9274_b306_11eb_81d7_0d91cc225b64row1_col3\" class=\"data row1 col3\" >40.000000</td>\n",
       "            </tr>\n",
       "            <tr>\n",
       "                        <th id=\"T_1a0f9274_b306_11eb_81d7_0d91cc225b64level0_row2\" class=\"row_heading level0 row2\" >99</th>\n",
       "                        <td id=\"T_1a0f9274_b306_11eb_81d7_0d91cc225b64row2_col0\" class=\"data row2 col0\" >0 days 00:01:32</td>\n",
       "                        <td id=\"T_1a0f9274_b306_11eb_81d7_0d91cc225b64row2_col1\" class=\"data row2 col1\" >3</td>\n",
       "                        <td id=\"T_1a0f9274_b306_11eb_81d7_0d91cc225b64row2_col2\" class=\"data row2 col2\" >c</td>\n",
       "                        <td id=\"T_1a0f9274_b306_11eb_81d7_0d91cc225b64row2_col3\" class=\"data row2 col3\" >92.000000</td>\n",
       "            </tr>\n",
       "            <tr>\n",
       "                        <th id=\"T_1a0f9274_b306_11eb_81d7_0d91cc225b64level0_row3\" class=\"row_heading level0 row3\" >100</th>\n",
       "                        <td id=\"T_1a0f9274_b306_11eb_81d7_0d91cc225b64row3_col0\" class=\"data row3 col0\" >0 days 00:01:18</td>\n",
       "                        <td id=\"T_1a0f9274_b306_11eb_81d7_0d91cc225b64row3_col1\" class=\"data row3 col1\" >3</td>\n",
       "                        <td id=\"T_1a0f9274_b306_11eb_81d7_0d91cc225b64row3_col2\" class=\"data row3 col2\" >c</td>\n",
       "                        <td id=\"T_1a0f9274_b306_11eb_81d7_0d91cc225b64row3_col3\" class=\"data row3 col3\" >78.000000</td>\n",
       "            </tr>\n",
       "            <tr>\n",
       "                        <th id=\"T_1a0f9274_b306_11eb_81d7_0d91cc225b64level0_row4\" class=\"row_heading level0 row4\" >101</th>\n",
       "                        <td id=\"T_1a0f9274_b306_11eb_81d7_0d91cc225b64row4_col0\" class=\"data row4 col0\" >0 days 00:02:26</td>\n",
       "                        <td id=\"T_1a0f9274_b306_11eb_81d7_0d91cc225b64row4_col1\" class=\"data row4 col1\" >3</td>\n",
       "                        <td id=\"T_1a0f9274_b306_11eb_81d7_0d91cc225b64row4_col2\" class=\"data row4 col2\" >c</td>\n",
       "                        <td id=\"T_1a0f9274_b306_11eb_81d7_0d91cc225b64row4_col3\" class=\"data row4 col3\" >146.000000</td>\n",
       "            </tr>\n",
       "            <tr>\n",
       "                        <th id=\"T_1a0f9274_b306_11eb_81d7_0d91cc225b64level0_row5\" class=\"row_heading level0 row5\" >102</th>\n",
       "                        <td id=\"T_1a0f9274_b306_11eb_81d7_0d91cc225b64row5_col0\" class=\"data row5 col0\" >0 days 00:02:40</td>\n",
       "                        <td id=\"T_1a0f9274_b306_11eb_81d7_0d91cc225b64row5_col1\" class=\"data row5 col1\" >3</td>\n",
       "                        <td id=\"T_1a0f9274_b306_11eb_81d7_0d91cc225b64row5_col2\" class=\"data row5 col2\" >c</td>\n",
       "                        <td id=\"T_1a0f9274_b306_11eb_81d7_0d91cc225b64row5_col3\" class=\"data row5 col3\" >160.000000</td>\n",
       "            </tr>\n",
       "            <tr>\n",
       "                        <th id=\"T_1a0f9274_b306_11eb_81d7_0d91cc225b64level0_row6\" class=\"row_heading level0 row6\" >103</th>\n",
       "                        <td id=\"T_1a0f9274_b306_11eb_81d7_0d91cc225b64row6_col0\" class=\"data row6 col0\" >0 days 00:01:53</td>\n",
       "                        <td id=\"T_1a0f9274_b306_11eb_81d7_0d91cc225b64row6_col1\" class=\"data row6 col1\" >3</td>\n",
       "                        <td id=\"T_1a0f9274_b306_11eb_81d7_0d91cc225b64row6_col2\" class=\"data row6 col2\" >c</td>\n",
       "                        <td id=\"T_1a0f9274_b306_11eb_81d7_0d91cc225b64row6_col3\" class=\"data row6 col3\" >113.000000</td>\n",
       "            </tr>\n",
       "            <tr>\n",
       "                        <th id=\"T_1a0f9274_b306_11eb_81d7_0d91cc225b64level0_row7\" class=\"row_heading level0 row7\" >104</th>\n",
       "                        <td id=\"T_1a0f9274_b306_11eb_81d7_0d91cc225b64row7_col0\" class=\"data row7 col0\" >0 days 00:00:50</td>\n",
       "                        <td id=\"T_1a0f9274_b306_11eb_81d7_0d91cc225b64row7_col1\" class=\"data row7 col1\" >3</td>\n",
       "                        <td id=\"T_1a0f9274_b306_11eb_81d7_0d91cc225b64row7_col2\" class=\"data row7 col2\" >c</td>\n",
       "                        <td id=\"T_1a0f9274_b306_11eb_81d7_0d91cc225b64row7_col3\" class=\"data row7 col3\" >50.000000</td>\n",
       "            </tr>\n",
       "            <tr>\n",
       "                        <th id=\"T_1a0f9274_b306_11eb_81d7_0d91cc225b64level0_row8\" class=\"row_heading level0 row8\" >105</th>\n",
       "                        <td id=\"T_1a0f9274_b306_11eb_81d7_0d91cc225b64row8_col0\" class=\"data row8 col0\" >0 days 00:02:24</td>\n",
       "                        <td id=\"T_1a0f9274_b306_11eb_81d7_0d91cc225b64row8_col1\" class=\"data row8 col1\" >3</td>\n",
       "                        <td id=\"T_1a0f9274_b306_11eb_81d7_0d91cc225b64row8_col2\" class=\"data row8 col2\" >c</td>\n",
       "                        <td id=\"T_1a0f9274_b306_11eb_81d7_0d91cc225b64row8_col3\" class=\"data row8 col3\" >144.000000</td>\n",
       "            </tr>\n",
       "            <tr>\n",
       "                        <th id=\"T_1a0f9274_b306_11eb_81d7_0d91cc225b64level0_row9\" class=\"row_heading level0 row9\" >106</th>\n",
       "                        <td id=\"T_1a0f9274_b306_11eb_81d7_0d91cc225b64row9_col0\" class=\"data row9 col0\" >0 days 00:00:38</td>\n",
       "                        <td id=\"T_1a0f9274_b306_11eb_81d7_0d91cc225b64row9_col1\" class=\"data row9 col1\" >3</td>\n",
       "                        <td id=\"T_1a0f9274_b306_11eb_81d7_0d91cc225b64row9_col2\" class=\"data row9 col2\" >c</td>\n",
       "                        <td id=\"T_1a0f9274_b306_11eb_81d7_0d91cc225b64row9_col3\" class=\"data row9 col3\" >38.000000</td>\n",
       "            </tr>\n",
       "            <tr>\n",
       "                        <th id=\"T_1a0f9274_b306_11eb_81d7_0d91cc225b64level0_row10\" class=\"row_heading level0 row10\" >107</th>\n",
       "                        <td id=\"T_1a0f9274_b306_11eb_81d7_0d91cc225b64row10_col0\" class=\"data row10 col0\" >0 days 00:00:53</td>\n",
       "                        <td id=\"T_1a0f9274_b306_11eb_81d7_0d91cc225b64row10_col1\" class=\"data row10 col1\" >3</td>\n",
       "                        <td id=\"T_1a0f9274_b306_11eb_81d7_0d91cc225b64row10_col2\" class=\"data row10 col2\" >c</td>\n",
       "                        <td id=\"T_1a0f9274_b306_11eb_81d7_0d91cc225b64row10_col3\" class=\"data row10 col3\" >53.000000</td>\n",
       "            </tr>\n",
       "            <tr>\n",
       "                        <th id=\"T_1a0f9274_b306_11eb_81d7_0d91cc225b64level0_row11\" class=\"row_heading level0 row11\" >108</th>\n",
       "                        <td id=\"T_1a0f9274_b306_11eb_81d7_0d91cc225b64row11_col0\" class=\"data row11 col0\" >0 days 00:01:37</td>\n",
       "                        <td id=\"T_1a0f9274_b306_11eb_81d7_0d91cc225b64row11_col1\" class=\"data row11 col1\" >3</td>\n",
       "                        <td id=\"T_1a0f9274_b306_11eb_81d7_0d91cc225b64row11_col2\" class=\"data row11 col2\" >c</td>\n",
       "                        <td id=\"T_1a0f9274_b306_11eb_81d7_0d91cc225b64row11_col3\" class=\"data row11 col3\" >97.000000</td>\n",
       "            </tr>\n",
       "            <tr>\n",
       "                        <th id=\"T_1a0f9274_b306_11eb_81d7_0d91cc225b64level0_row12\" class=\"row_heading level0 row12\" >109</th>\n",
       "                        <td id=\"T_1a0f9274_b306_11eb_81d7_0d91cc225b64row12_col0\" class=\"data row12 col0\" >0 days 00:02:30</td>\n",
       "                        <td id=\"T_1a0f9274_b306_11eb_81d7_0d91cc225b64row12_col1\" class=\"data row12 col1\" >3</td>\n",
       "                        <td id=\"T_1a0f9274_b306_11eb_81d7_0d91cc225b64row12_col2\" class=\"data row12 col2\" >c</td>\n",
       "                        <td id=\"T_1a0f9274_b306_11eb_81d7_0d91cc225b64row12_col3\" class=\"data row12 col3\" >150.000000</td>\n",
       "            </tr>\n",
       "            <tr>\n",
       "                        <th id=\"T_1a0f9274_b306_11eb_81d7_0d91cc225b64level0_row13\" class=\"row_heading level0 row13\" >110</th>\n",
       "                        <td id=\"T_1a0f9274_b306_11eb_81d7_0d91cc225b64row13_col0\" class=\"data row13 col0\" >0 days 00:20:21</td>\n",
       "                        <td id=\"T_1a0f9274_b306_11eb_81d7_0d91cc225b64row13_col1\" class=\"data row13 col1\" >3</td>\n",
       "                        <td id=\"T_1a0f9274_b306_11eb_81d7_0d91cc225b64row13_col2\" class=\"data row13 col2\" >c</td>\n",
       "                        <td id=\"T_1a0f9274_b306_11eb_81d7_0d91cc225b64row13_col3\" class=\"data row13 col3\" >1221.000000</td>\n",
       "            </tr>\n",
       "    </tbody></table>"
      ],
      "text/plain": [
       "<pandas.io.formats.style.Styler at 0x7fb4b6b456d0>"
      ]
     },
     "execution_count": 54,
     "metadata": {},
     "output_type": "execute_result"
    }
   ],
   "source": [
    "times_per_sector.loc[times_per_sector.group=='c'].loc[times_per_sector.sector==3].style.highlight_min(subset=\"time_s\")"
   ]
  },
  {
   "cell_type": "code",
   "execution_count": 55,
   "metadata": {},
   "outputs": [
    {
     "data": {
      "text/plain": [
       "<AxesSubplot:xlabel='sector', ylabel='time_s'>"
      ]
     },
     "execution_count": 55,
     "metadata": {},
     "output_type": "execute_result"
    },
    {
     "data": {
      "image/png": "[encoded data removed]",
      "text/plain": [
       "<Figure size 1152x432 with 1 Axes>"
      ]
     },
     "metadata": {
      "needs_background": "light"
     },
     "output_type": "display_data"
    }
   ],
   "source": [
    "plt.figure(figsize=(16, 6))\n",
    "sns.violinplot(x='sector', y='time_s', data=times_per_sector, hue='group', cut=0)"
   ]
  },
  {
   "cell_type": "code",
   "execution_count": 56,
   "metadata": {},
   "outputs": [
    {
     "data": {
      "text/plain": [
       "<AxesSubplot:xlabel='group', ylabel='time_s'>"
      ]
     },
     "execution_count": 56,
     "metadata": {},
     "output_type": "execute_result"
    },
    {
     "data": {
      "image/png": "[encoded data removed]",
      "text/plain": [
       "<Figure size 1152x432 with 1 Axes>"
      ]
     },
     "metadata": {
      "needs_background": "light"
     },
     "output_type": "display_data"
    }
   ],
   "source": [
    "plt.figure(figsize=(16, 6))\n",
    "sns.violinplot(x='group', y='time_s', data=times_per_sector, hue='sector', palette='viridis')"
   ]
  },
  {
   "cell_type": "markdown",
   "metadata": {},
   "source": [
    "It seems that seeing an explanation made participants think more before continuing. Let's see diference between sector 2 and 3"
   ]
  },
  {
   "cell_type": "code",
   "execution_count": 70,
   "metadata": {},
   "outputs": [
    {
     "data": {
      "text/plain": [
       "<AxesSubplot:xlabel='group', ylabel='time_s'>"
      ]
     },
     "execution_count": 70,
     "metadata": {},
     "output_type": "execute_result"
    },
    {
     "data": {
      "image/png": "[encoded data removed]",
      "text/plain": [
       "<Figure size 1152x432 with 1 Axes>"
      ]
     },
     "metadata": {
      "needs_background": "light"
     },
     "output_type": "display_data"
    }
   ],
   "source": [
    "plt.figure(figsize=(16, 6))\n",
    "sns.boxplot(x=\"group\", y=\"time_s\", data=times_per_sector, hue=\"sector\")"
   ]
  },
  {
   "cell_type": "code",
   "execution_count": 76,
   "metadata": {},
   "outputs": [
    {
     "data": {
      "text/plain": [
       "<AxesSubplot:xlabel='sector', ylabel='time_s'>"
      ]
     },
     "execution_count": 76,
     "metadata": {},
     "output_type": "execute_result"
    },
    {
     "data": {
      "image/png": "[encoded data removed]",
      "text/plain": [
       "<Figure size 1152x432 with 1 Axes>"
      ]
     },
     "metadata": {
      "needs_background": "light"
     },
     "output_type": "display_data"
    }
   ],
   "source": [
    "plt.figure(figsize=(16, 6))\n",
    "sns.boxplot(x=\"sector\", y=\"time_s\", data=times_per_sector, hue=\"group\", palette='viridis')"
   ]
  },
  {
   "cell_type": "code",
   "execution_count": 71,
   "metadata": {},
   "outputs": [
    {
     "data": {
      "text/plain": [
       "(Timedelta('0 days 00:02:30.818181818'),\n",
       " Timedelta('0 days 00:02:10'),\n",
       " Timedelta('0 days 00:03:12.363636363'))"
      ]
     },
     "execution_count": 71,
     "metadata": {},
     "output_type": "execute_result"
    }
   ],
   "source": [
    "sector_times_avg(pdatimes)"
   ]
  },
  {
   "cell_type": "code",
   "execution_count": 72,
   "metadata": {},
   "outputs": [
    {
     "data": {
      "text/plain": [
       "(Timedelta('0 days 00:01:24.916666666'),\n",
       " Timedelta('0 days 00:01:26.916666666'),\n",
       " Timedelta('0 days 00:01:47.583333333'))"
      ]
     },
     "execution_count": 72,
     "metadata": {},
     "output_type": "execute_result"
    }
   ],
   "source": [
    "sector_times_avg(pdbtimes)"
   ]
  },
  {
   "cell_type": "code",
   "execution_count": 74,
   "metadata": {},
   "outputs": [
    {
     "data": {
      "text/plain": [
       "(Timedelta('0 days 00:01:49.571428571'),\n",
       " Timedelta('0 days 00:01:37.571428571'),\n",
       " Timedelta('0 days 00:03:09.428571428'))"
      ]
     },
     "execution_count": 74,
     "metadata": {},
     "output_type": "execute_result"
    }
   ],
   "source": [
    "sector_times_avg(pdctimes)"
   ]
  },
  {
   "cell_type": "markdown",
   "metadata": {},
   "source": [
    "Sector 3 in group c outlier"
   ]
  },
  {
   "cell_type": "code",
   "execution_count": 80,
   "metadata": {},
   "outputs": [
    {
     "data": {
      "text/html": [
       "<style  type=\"text/css\" >\n",
       "#T_6b1ff9e6_b308_11eb_81d7_0d91cc225b64row13_col3{\n",
       "            background-color:  yellow;\n",
       "        }</style><table id=\"T_6b1ff9e6_b308_11eb_81d7_0d91cc225b64\" ><thead>    <tr>        <th class=\"blank level0\" ></th>        <th class=\"col_heading level0 col0\" >time</th>        <th class=\"col_heading level0 col1\" >sector</th>        <th class=\"col_heading level0 col2\" >group</th>        <th class=\"col_heading level0 col3\" >time_s</th>    </tr></thead><tbody>\n",
       "                <tr>\n",
       "                        <th id=\"T_6b1ff9e6_b308_11eb_81d7_0d91cc225b64level0_row0\" class=\"row_heading level0 row0\" >97</th>\n",
       "                        <td id=\"T_6b1ff9e6_b308_11eb_81d7_0d91cc225b64row0_col0\" class=\"data row0 col0\" >0 days 00:04:30</td>\n",
       "                        <td id=\"T_6b1ff9e6_b308_11eb_81d7_0d91cc225b64row0_col1\" class=\"data row0 col1\" >3</td>\n",
       "                        <td id=\"T_6b1ff9e6_b308_11eb_81d7_0d91cc225b64row0_col2\" class=\"data row0 col2\" >c</td>\n",
       "                        <td id=\"T_6b1ff9e6_b308_11eb_81d7_0d91cc225b64row0_col3\" class=\"data row0 col3\" >270.000000</td>\n",
       "            </tr>\n",
       "            <tr>\n",
       "                        <th id=\"T_6b1ff9e6_b308_11eb_81d7_0d91cc225b64level0_row1\" class=\"row_heading level0 row1\" >98</th>\n",
       "                        <td id=\"T_6b1ff9e6_b308_11eb_81d7_0d91cc225b64row1_col0\" class=\"data row1 col0\" >0 days 00:00:40</td>\n",
       "                        <td id=\"T_6b1ff9e6_b308_11eb_81d7_0d91cc225b64row1_col1\" class=\"data row1 col1\" >3</td>\n",
       "                        <td id=\"T_6b1ff9e6_b308_11eb_81d7_0d91cc225b64row1_col2\" class=\"data row1 col2\" >c</td>\n",
       "                        <td id=\"T_6b1ff9e6_b308_11eb_81d7_0d91cc225b64row1_col3\" class=\"data row1 col3\" >40.000000</td>\n",
       "            </tr>\n",
       "            <tr>\n",
       "                        <th id=\"T_6b1ff9e6_b308_11eb_81d7_0d91cc225b64level0_row2\" class=\"row_heading level0 row2\" >99</th>\n",
       "                        <td id=\"T_6b1ff9e6_b308_11eb_81d7_0d91cc225b64row2_col0\" class=\"data row2 col0\" >0 days 00:01:32</td>\n",
       "                        <td id=\"T_6b1ff9e6_b308_11eb_81d7_0d91cc225b64row2_col1\" class=\"data row2 col1\" >3</td>\n",
       "                        <td id=\"T_6b1ff9e6_b308_11eb_81d7_0d91cc225b64row2_col2\" class=\"data row2 col2\" >c</td>\n",
       "                        <td id=\"T_6b1ff9e6_b308_11eb_81d7_0d91cc225b64row2_col3\" class=\"data row2 col3\" >92.000000</td>\n",
       "            </tr>\n",
       "            <tr>\n",
       "                        <th id=\"T_6b1ff9e6_b308_11eb_81d7_0d91cc225b64level0_row3\" class=\"row_heading level0 row3\" >100</th>\n",
       "                        <td id=\"T_6b1ff9e6_b308_11eb_81d7_0d91cc225b64row3_col0\" class=\"data row3 col0\" >0 days 00:01:18</td>\n",
       "                        <td id=\"T_6b1ff9e6_b308_11eb_81d7_0d91cc225b64row3_col1\" class=\"data row3 col1\" >3</td>\n",
       "                        <td id=\"T_6b1ff9e6_b308_11eb_81d7_0d91cc225b64row3_col2\" class=\"data row3 col2\" >c</td>\n",
       "                        <td id=\"T_6b1ff9e6_b308_11eb_81d7_0d91cc225b64row3_col3\" class=\"data row3 col3\" >78.000000</td>\n",
       "            </tr>\n",
       "            <tr>\n",
       "                        <th id=\"T_6b1ff9e6_b308_11eb_81d7_0d91cc225b64level0_row4\" class=\"row_heading level0 row4\" >101</th>\n",
       "                        <td id=\"T_6b1ff9e6_b308_11eb_81d7_0d91cc225b64row4_col0\" class=\"data row4 col0\" >0 days 00:02:26</td>\n",
       "                        <td id=\"T_6b1ff9e6_b308_11eb_81d7_0d91cc225b64row4_col1\" class=\"data row4 col1\" >3</td>\n",
       "                        <td id=\"T_6b1ff9e6_b308_11eb_81d7_0d91cc225b64row4_col2\" class=\"data row4 col2\" >c</td>\n",
       "                        <td id=\"T_6b1ff9e6_b308_11eb_81d7_0d91cc225b64row4_col3\" class=\"data row4 col3\" >146.000000</td>\n",
       "            </tr>\n",
       "            <tr>\n",
       "                        <th id=\"T_6b1ff9e6_b308_11eb_81d7_0d91cc225b64level0_row5\" class=\"row_heading level0 row5\" >102</th>\n",
       "                        <td id=\"T_6b1ff9e6_b308_11eb_81d7_0d91cc225b64row5_col0\" class=\"data row5 col0\" >0 days 00:02:40</td>\n",
       "                        <td id=\"T_6b1ff9e6_b308_11eb_81d7_0d91cc225b64row5_col1\" class=\"data row5 col1\" >3</td>\n",
       "                        <td id=\"T_6b1ff9e6_b308_11eb_81d7_0d91cc225b64row5_col2\" class=\"data row5 col2\" >c</td>\n",
       "                        <td id=\"T_6b1ff9e6_b308_11eb_81d7_0d91cc225b64row5_col3\" class=\"data row5 col3\" >160.000000</td>\n",
       "            </tr>\n",
       "            <tr>\n",
       "                        <th id=\"T_6b1ff9e6_b308_11eb_81d7_0d91cc225b64level0_row6\" class=\"row_heading level0 row6\" >103</th>\n",
       "                        <td id=\"T_6b1ff9e6_b308_11eb_81d7_0d91cc225b64row6_col0\" class=\"data row6 col0\" >0 days 00:01:53</td>\n",
       "                        <td id=\"T_6b1ff9e6_b308_11eb_81d7_0d91cc225b64row6_col1\" class=\"data row6 col1\" >3</td>\n",
       "                        <td id=\"T_6b1ff9e6_b308_11eb_81d7_0d91cc225b64row6_col2\" class=\"data row6 col2\" >c</td>\n",
       "                        <td id=\"T_6b1ff9e6_b308_11eb_81d7_0d91cc225b64row6_col3\" class=\"data row6 col3\" >113.000000</td>\n",
       "            </tr>\n",
       "            <tr>\n",
       "                        <th id=\"T_6b1ff9e6_b308_11eb_81d7_0d91cc225b64level0_row7\" class=\"row_heading level0 row7\" >104</th>\n",
       "                        <td id=\"T_6b1ff9e6_b308_11eb_81d7_0d91cc225b64row7_col0\" class=\"data row7 col0\" >0 days 00:00:50</td>\n",
       "                        <td id=\"T_6b1ff9e6_b308_11eb_81d7_0d91cc225b64row7_col1\" class=\"data row7 col1\" >3</td>\n",
       "                        <td id=\"T_6b1ff9e6_b308_11eb_81d7_0d91cc225b64row7_col2\" class=\"data row7 col2\" >c</td>\n",
       "                        <td id=\"T_6b1ff9e6_b308_11eb_81d7_0d91cc225b64row7_col3\" class=\"data row7 col3\" >50.000000</td>\n",
       "            </tr>\n",
       "            <tr>\n",
       "                        <th id=\"T_6b1ff9e6_b308_11eb_81d7_0d91cc225b64level0_row8\" class=\"row_heading level0 row8\" >105</th>\n",
       "                        <td id=\"T_6b1ff9e6_b308_11eb_81d7_0d91cc225b64row8_col0\" class=\"data row8 col0\" >0 days 00:02:24</td>\n",
       "                        <td id=\"T_6b1ff9e6_b308_11eb_81d7_0d91cc225b64row8_col1\" class=\"data row8 col1\" >3</td>\n",
       "                        <td id=\"T_6b1ff9e6_b308_11eb_81d7_0d91cc225b64row8_col2\" class=\"data row8 col2\" >c</td>\n",
       "                        <td id=\"T_6b1ff9e6_b308_11eb_81d7_0d91cc225b64row8_col3\" class=\"data row8 col3\" >144.000000</td>\n",
       "            </tr>\n",
       "            <tr>\n",
       "                        <th id=\"T_6b1ff9e6_b308_11eb_81d7_0d91cc225b64level0_row9\" class=\"row_heading level0 row9\" >106</th>\n",
       "                        <td id=\"T_6b1ff9e6_b308_11eb_81d7_0d91cc225b64row9_col0\" class=\"data row9 col0\" >0 days 00:00:38</td>\n",
       "                        <td id=\"T_6b1ff9e6_b308_11eb_81d7_0d91cc225b64row9_col1\" class=\"data row9 col1\" >3</td>\n",
       "                        <td id=\"T_6b1ff9e6_b308_11eb_81d7_0d91cc225b64row9_col2\" class=\"data row9 col2\" >c</td>\n",
       "                        <td id=\"T_6b1ff9e6_b308_11eb_81d7_0d91cc225b64row9_col3\" class=\"data row9 col3\" >38.000000</td>\n",
       "            </tr>\n",
       "            <tr>\n",
       "                        <th id=\"T_6b1ff9e6_b308_11eb_81d7_0d91cc225b64level0_row10\" class=\"row_heading level0 row10\" >107</th>\n",
       "                        <td id=\"T_6b1ff9e6_b308_11eb_81d7_0d91cc225b64row10_col0\" class=\"data row10 col0\" >0 days 00:00:53</td>\n",
       "                        <td id=\"T_6b1ff9e6_b308_11eb_81d7_0d91cc225b64row10_col1\" class=\"data row10 col1\" >3</td>\n",
       "                        <td id=\"T_6b1ff9e6_b308_11eb_81d7_0d91cc225b64row10_col2\" class=\"data row10 col2\" >c</td>\n",
       "                        <td id=\"T_6b1ff9e6_b308_11eb_81d7_0d91cc225b64row10_col3\" class=\"data row10 col3\" >53.000000</td>\n",
       "            </tr>\n",
       "            <tr>\n",
       "                        <th id=\"T_6b1ff9e6_b308_11eb_81d7_0d91cc225b64level0_row11\" class=\"row_heading level0 row11\" >108</th>\n",
       "                        <td id=\"T_6b1ff9e6_b308_11eb_81d7_0d91cc225b64row11_col0\" class=\"data row11 col0\" >0 days 00:01:37</td>\n",
       "                        <td id=\"T_6b1ff9e6_b308_11eb_81d7_0d91cc225b64row11_col1\" class=\"data row11 col1\" >3</td>\n",
       "                        <td id=\"T_6b1ff9e6_b308_11eb_81d7_0d91cc225b64row11_col2\" class=\"data row11 col2\" >c</td>\n",
       "                        <td id=\"T_6b1ff9e6_b308_11eb_81d7_0d91cc225b64row11_col3\" class=\"data row11 col3\" >97.000000</td>\n",
       "            </tr>\n",
       "            <tr>\n",
       "                        <th id=\"T_6b1ff9e6_b308_11eb_81d7_0d91cc225b64level0_row12\" class=\"row_heading level0 row12\" >109</th>\n",
       "                        <td id=\"T_6b1ff9e6_b308_11eb_81d7_0d91cc225b64row12_col0\" class=\"data row12 col0\" >0 days 00:02:30</td>\n",
       "                        <td id=\"T_6b1ff9e6_b308_11eb_81d7_0d91cc225b64row12_col1\" class=\"data row12 col1\" >3</td>\n",
       "                        <td id=\"T_6b1ff9e6_b308_11eb_81d7_0d91cc225b64row12_col2\" class=\"data row12 col2\" >c</td>\n",
       "                        <td id=\"T_6b1ff9e6_b308_11eb_81d7_0d91cc225b64row12_col3\" class=\"data row12 col3\" >150.000000</td>\n",
       "            </tr>\n",
       "            <tr>\n",
       "                        <th id=\"T_6b1ff9e6_b308_11eb_81d7_0d91cc225b64level0_row13\" class=\"row_heading level0 row13\" >110</th>\n",
       "                        <td id=\"T_6b1ff9e6_b308_11eb_81d7_0d91cc225b64row13_col0\" class=\"data row13 col0\" >0 days 00:20:21</td>\n",
       "                        <td id=\"T_6b1ff9e6_b308_11eb_81d7_0d91cc225b64row13_col1\" class=\"data row13 col1\" >3</td>\n",
       "                        <td id=\"T_6b1ff9e6_b308_11eb_81d7_0d91cc225b64row13_col2\" class=\"data row13 col2\" >c</td>\n",
       "                        <td id=\"T_6b1ff9e6_b308_11eb_81d7_0d91cc225b64row13_col3\" class=\"data row13 col3\" >1221.000000</td>\n",
       "            </tr>\n",
       "    </tbody></table>"
      ],
      "text/plain": [
       "<pandas.io.formats.style.Styler at 0x7fb4b46a8430>"
      ]
     },
     "execution_count": 80,
     "metadata": {},
     "output_type": "execute_result"
    }
   ],
   "source": [
    "times_per_sector.loc[times_per_sector.group=='c'].loc[times_per_sector.sector==3].style.highlight_max(subset=\"time_s\")"
   ]
  },
  {
   "cell_type": "code",
   "execution_count": 860,
   "metadata": {},
   "outputs": [
    {
     "data": {
      "text/plain": [
       "t_a_before   2021-05-12 00:21:31\n",
       "t_a_1        2021-05-12 00:21:08\n",
       "t_a_2        2021-05-12 00:19:15\n",
       "t_a_3        2021-05-12 00:18:54\n",
       "t_a_4        2021-05-12 00:18:15\n",
       "t_b_before   2021-05-12 00:13:05\n",
       "t_b_1        2021-05-12 00:12:59\n",
       "t_b_2        2021-05-12 00:12:02\n",
       "t_b_3        2021-05-12 00:09:58\n",
       "t_b_4        2021-05-12 00:09:41\n",
       "t_c_before   2021-05-12 00:05:00\n",
       "t_c_1        2021-05-12 00:04:56\n",
       "t_c_2        2021-05-12 00:04:30\n",
       "t_c_3        2021-05-12 00:03:15\n",
       "t_c_4        2021-05-12 00:02:26\n",
       "Name: 12, dtype: datetime64[ns]"
      ]
     },
     "execution_count": 860,
     "metadata": {},
     "output_type": "execute_result"
    }
   ],
   "source": [
    "pdctimes.iloc[-1]"
   ]
  },
  {
   "cell_type": "markdown",
   "metadata": {},
   "source": [
    "Participant stopped at last instance prediction *t_c_4* for about 20 minutes! Let's get rid of his last sector."
   ]
  },
  {
   "cell_type": "code",
   "execution_count": 859,
   "metadata": {},
   "outputs": [],
   "source": [
    "pdctimes = pdctimes.drop(index=13)"
   ]
  },
  {
   "cell_type": "code",
   "execution_count": 87,
   "metadata": {},
   "outputs": [],
   "source": [
    "times_per_sector = times_per_sector.drop(index=110)"
   ]
  },
  {
   "cell_type": "code",
   "execution_count": 88,
   "metadata": {},
   "outputs": [
    {
     "data": {
      "text/plain": [
       "(Timedelta('0 days 00:01:24.916666666'),\n",
       " Timedelta('0 days 00:01:26.916666666'),\n",
       " Timedelta('0 days 00:01:47.583333333'))"
      ]
     },
     "execution_count": 88,
     "metadata": {},
     "output_type": "execute_result"
    }
   ],
   "source": [
    "sector_times_avg(pdbtimes)"
   ]
  },
  {
   "cell_type": "code",
   "execution_count": 92,
   "metadata": {},
   "outputs": [
    {
     "data": {
      "text/plain": [
       "Timedelta('0 days 00:01:50.076923076')"
      ]
     },
     "execution_count": 92,
     "metadata": {},
     "output_type": "execute_result"
    }
   ],
   "source": [
    "times_per_sector.loc[(times_per_sector.group == 'c') & (times_per_sector.sector == 3)].time.mean()"
   ]
  },
  {
   "cell_type": "code",
   "execution_count": 108,
   "metadata": {},
   "outputs": [
    {
     "data": {
      "image/png": "[encoded data removed]",
      "text/plain": [
       "<Figure size 1152x432 with 1 Axes>"
      ]
     },
     "metadata": {
      "needs_background": "light"
     },
     "output_type": "display_data"
    }
   ],
   "source": [
    "plt.figure(figsize=(16, 6))\n",
    "sns.boxplot(x=\"sector\", y=\"time_s\", data=times_per_sector, hue=\"group\", palette='viridis');"
   ]
  },
  {
   "cell_type": "code",
   "execution_count": 109,
   "metadata": {},
   "outputs": [
    {
     "data": {
      "image/png": "[encoded data removed]",
      "text/plain": [
       "<Figure size 1152x432 with 1 Axes>"
      ]
     },
     "metadata": {
      "needs_background": "light"
     },
     "output_type": "display_data"
    }
   ],
   "source": [
    "plt.figure(figsize=(16, 6))\n",
    "sns.violinplot(x='sector', y='time_s', data=times_per_sector, hue='group', palette='flare');"
   ]
  },
  {
   "cell_type": "markdown",
   "metadata": {},
   "source": [
    "Plot trends"
   ]
  },
  {
   "cell_type": "code",
   "execution_count": 145,
   "metadata": {},
   "outputs": [
    {
     "data": {
      "image/png": "[encoded data removed]",
      "text/plain": [
       "<Figure size 1152x432 with 1 Axes>"
      ]
     },
     "metadata": {
      "needs_background": "light"
     },
     "output_type": "display_data"
    }
   ],
   "source": [
    "plt.figure(figsize=(16, 6))\n",
    "sns.lineplot(x=\"sector\", y=\"time_s\", data=times_per_sector, style=\"group\", hue=\"group\");\n",
    "plt.xticks([1,2,3]);"
   ]
  },
  {
   "cell_type": "code",
   "execution_count": 144,
   "metadata": {},
   "outputs": [
    {
     "data": {
      "text/plain": [
       "<Figure size 1584x504 with 0 Axes>"
      ]
     },
     "metadata": {},
     "output_type": "display_data"
    },
    {
     "data": {
      "image/png": "[encoded data removed]",
      "text/plain": [
       "<Figure size 1122.25x360 with 3 Axes>"
      ]
     },
     "metadata": {
      "needs_background": "light"
     },
     "output_type": "display_data"
    }
   ],
   "source": [
    "plt.figure(figsize=(22, 7))\n",
    "p = sns.relplot(\n",
    "    data=times_per_sector, x=\"sector\", y=\"time_s\",\n",
    "    col=\"group\", hue=\"group\", style=\"group\",\n",
    "    kind=\"line\"\n",
    ");\n",
    "\n",
    "plt.xticks([1,2,3]);"
   ]
  },
  {
   "cell_type": "markdown",
   "metadata": {},
   "source": [
    "---"
   ]
  },
  {
   "cell_type": "markdown",
   "metadata": {},
   "source": [
    "Let's use statistics!\n",
    " - compare times to fill in each category, check if there is significant difference between A and B, B and C\n",
    " - compare times to fill each sector, check if there is significant difference between baseline (no explanation) and when shown explanation"
   ]
  },
  {
   "cell_type": "markdown",
   "metadata": {},
   "source": [
    "---\n",
    "---"
   ]
  },
  {
   "cell_type": "markdown",
   "metadata": {},
   "source": [
    "## Compare answers in sectors"
   ]
  },
  {
   "cell_type": "markdown",
   "metadata": {},
   "source": [
    "Users had to predict behavior of the model in 3 sectors, in each they were asked to predict 4 instances. **0 is Atheism, 1 is Christianity**"
   ]
  },
  {
   "cell_type": "code",
   "execution_count": 151,
   "metadata": {},
   "outputs": [
    {
     "data": {
      "text/html": [
       "<div>\n",
       "<style scoped>\n",
       "    .dataframe tbody tr th:only-of-type {\n",
       "        vertical-align: middle;\n",
       "    }\n",
       "\n",
       "    .dataframe tbody tr th {\n",
       "        vertical-align: top;\n",
       "    }\n",
       "\n",
       "    .dataframe thead th {\n",
       "        text-align: right;\n",
       "    }\n",
       "</style>\n",
       "<table border=\"1\" class=\"dataframe\">\n",
       "  <thead>\n",
       "    <tr style=\"text-align: right;\">\n",
       "      <th></th>\n",
       "      <th>technical_background</th>\n",
       "      <th>first_time</th>\n",
       "      <th>t_a_before</th>\n",
       "      <th>q1</th>\n",
       "      <th>t_a_1</th>\n",
       "      <th>q2</th>\n",
       "      <th>t_a_2</th>\n",
       "      <th>q3</th>\n",
       "      <th>t_a_3</th>\n",
       "      <th>q4</th>\n",
       "      <th>...</th>\n",
       "      <th>t_c_3</th>\n",
       "      <th>q12</th>\n",
       "      <th>t_c_4</th>\n",
       "      <th>Have you looked differently at  texts after seeing explanations?</th>\n",
       "      <th>How much did the explanations affect your later predictions?</th>\n",
       "      <th>Do you think that you understand the model more after seeing explanations than before seeing them?</th>\n",
       "      <th>After seeing explanations, do you trust the model's decisions more or less?</th>\n",
       "      <th>To better understand the model, would you prefer shorter or longer texts than those provided?</th>\n",
       "      <th>Have you spot some mistakes  of the model (places where it makes bad decisions)? If you did, try to describe them</th>\n",
       "      <th>Place for your feedback</th>\n",
       "    </tr>\n",
       "  </thead>\n",
       "  <tbody>\n",
       "    <tr>\n",
       "      <th>7</th>\n",
       "      <td>No, I am not familiar</td>\n",
       "      <td>Yes, this is my first time filling up this que...</td>\n",
       "      <td>Time taken to fill form: 00:24:28</td>\n",
       "      <td>Atheism</td>\n",
       "      <td>Time taken to fill form: 00:24:02</td>\n",
       "      <td>Christianity</td>\n",
       "      <td>Time taken to fill form: 00:21:43</td>\n",
       "      <td>Christianity</td>\n",
       "      <td>Time taken to fill form: 00:21:01</td>\n",
       "      <td>Christianity</td>\n",
       "      <td>...</td>\n",
       "      <td>Time taken to fill form: 00:03:32</td>\n",
       "      <td>Atheism</td>\n",
       "      <td>Time taken to fill form: 00:02:02</td>\n",
       "      <td>7</td>\n",
       "      <td>5</td>\n",
       "      <td>7</td>\n",
       "      <td>2</td>\n",
       "      <td>6</td>\n",
       "      <td>NaN</td>\n",
       "      <td>NaN</td>\n",
       "    </tr>\n",
       "  </tbody>\n",
       "</table>\n",
       "<p>1 rows × 36 columns</p>\n",
       "</div>"
      ],
      "text/plain": [
       "    technical_background                                         first_time  \\\n",
       "7  No, I am not familiar  Yes, this is my first time filling up this que...   \n",
       "\n",
       "                          t_a_before       q1  \\\n",
       "7  Time taken to fill form: 00:24:28  Atheism   \n",
       "\n",
       "                               t_a_1            q2  \\\n",
       "7  Time taken to fill form: 00:24:02  Christianity   \n",
       "\n",
       "                               t_a_2            q3  \\\n",
       "7  Time taken to fill form: 00:21:43  Christianity   \n",
       "\n",
       "                               t_a_3            q4  ...  \\\n",
       "7  Time taken to fill form: 00:21:01  Christianity  ...   \n",
       "\n",
       "                               t_c_3      q12  \\\n",
       "7  Time taken to fill form: 00:03:32  Atheism   \n",
       "\n",
       "                               t_c_4  \\\n",
       "7  Time taken to fill form: 00:02:02   \n",
       "\n",
       "  Have you looked differently at  texts after seeing explanations?    \\\n",
       "7                                                  7                   \n",
       "\n",
       "  How much did the explanations affect your later predictions?  \\\n",
       "7                                                  5             \n",
       "\n",
       "  Do you think that you understand the model more after seeing explanations than before seeing them?  \\\n",
       "7                                                  7                                                   \n",
       "\n",
       "  After seeing explanations, do you trust the model's decisions more or less?  \\\n",
       "7                                                  2                            \n",
       "\n",
       "  To better understand the model, would you prefer shorter or longer texts than those provided?  \\\n",
       "7                                                  6                                              \n",
       "\n",
       "  Have you spot some mistakes  of the model (places where it makes bad decisions)? If you did, try to describe them   \\\n",
       "7                                                NaN                                                                   \n",
       "\n",
       "  Place for your feedback  \n",
       "7                     NaN  \n",
       "\n",
       "[1 rows x 36 columns]"
      ]
     },
     "execution_count": 151,
     "metadata": {},
     "output_type": "execute_result"
    }
   ],
   "source": [
    "pda.sample(1)"
   ]
  },
  {
   "cell_type": "code",
   "execution_count": 254,
   "metadata": {},
   "outputs": [],
   "source": [
    "anscols = [f'q{i}' for i in range(1, 13)]"
   ]
  },
  {
   "cell_type": "code",
   "execution_count": 366,
   "metadata": {},
   "outputs": [],
   "source": [
    "pdaans = pda[anscols].reset_index(drop=True)\n",
    "pdbans = pdb[anscols]\n",
    "pdcans = pdc[anscols]"
   ]
  },
  {
   "cell_type": "code",
   "execution_count": 367,
   "metadata": {},
   "outputs": [
    {
     "data": {
      "text/html": [
       "<div>\n",
       "<style scoped>\n",
       "    .dataframe tbody tr th:only-of-type {\n",
       "        vertical-align: middle;\n",
       "    }\n",
       "\n",
       "    .dataframe tbody tr th {\n",
       "        vertical-align: top;\n",
       "    }\n",
       "\n",
       "    .dataframe thead th {\n",
       "        text-align: right;\n",
       "    }\n",
       "</style>\n",
       "<table border=\"1\" class=\"dataframe\">\n",
       "  <thead>\n",
       "    <tr style=\"text-align: right;\">\n",
       "      <th></th>\n",
       "      <th>q1</th>\n",
       "      <th>q2</th>\n",
       "      <th>q3</th>\n",
       "      <th>q4</th>\n",
       "      <th>q5</th>\n",
       "      <th>q6</th>\n",
       "      <th>q7</th>\n",
       "      <th>q8</th>\n",
       "      <th>q9</th>\n",
       "      <th>q10</th>\n",
       "      <th>q11</th>\n",
       "      <th>q12</th>\n",
       "    </tr>\n",
       "  </thead>\n",
       "  <tbody>\n",
       "    <tr>\n",
       "      <th>0</th>\n",
       "      <td>Christianity</td>\n",
       "      <td>Christianity</td>\n",
       "      <td>Christianity</td>\n",
       "      <td>Christianity</td>\n",
       "      <td>Christianity</td>\n",
       "      <td>Christianity</td>\n",
       "      <td>Atheism</td>\n",
       "      <td>I do not know</td>\n",
       "      <td>Atheism</td>\n",
       "      <td>Christianity</td>\n",
       "      <td>I do not know</td>\n",
       "      <td>Christianity</td>\n",
       "    </tr>\n",
       "    <tr>\n",
       "      <th>1</th>\n",
       "      <td>Christianity</td>\n",
       "      <td>Christianity</td>\n",
       "      <td>Christianity</td>\n",
       "      <td>Christianity</td>\n",
       "      <td>Christianity</td>\n",
       "      <td>Atheism</td>\n",
       "      <td>Atheism</td>\n",
       "      <td>Christianity</td>\n",
       "      <td>Atheism</td>\n",
       "      <td>Atheism</td>\n",
       "      <td>Christianity</td>\n",
       "      <td>Christianity</td>\n",
       "    </tr>\n",
       "    <tr>\n",
       "      <th>2</th>\n",
       "      <td>Atheism</td>\n",
       "      <td>Christianity</td>\n",
       "      <td>Christianity</td>\n",
       "      <td>Christianity</td>\n",
       "      <td>Christianity</td>\n",
       "      <td>Christianity</td>\n",
       "      <td>Atheism</td>\n",
       "      <td>Atheism</td>\n",
       "      <td>Atheism</td>\n",
       "      <td>Atheism</td>\n",
       "      <td>Atheism</td>\n",
       "      <td>Christianity</td>\n",
       "    </tr>\n",
       "    <tr>\n",
       "      <th>3</th>\n",
       "      <td>Atheism</td>\n",
       "      <td>Atheism</td>\n",
       "      <td>Christianity</td>\n",
       "      <td>Christianity</td>\n",
       "      <td>Christianity</td>\n",
       "      <td>Christianity</td>\n",
       "      <td>Atheism</td>\n",
       "      <td>Christianity</td>\n",
       "      <td>Christianity</td>\n",
       "      <td>Christianity</td>\n",
       "      <td>Atheism</td>\n",
       "      <td>Christianity</td>\n",
       "    </tr>\n",
       "    <tr>\n",
       "      <th>4</th>\n",
       "      <td>Atheism</td>\n",
       "      <td>Christianity</td>\n",
       "      <td>I do not know</td>\n",
       "      <td>Christianity</td>\n",
       "      <td>Christianity</td>\n",
       "      <td>Christianity</td>\n",
       "      <td>Atheism</td>\n",
       "      <td>I do not know</td>\n",
       "      <td>Christianity</td>\n",
       "      <td>Atheism</td>\n",
       "      <td>Atheism</td>\n",
       "      <td>I do not know</td>\n",
       "    </tr>\n",
       "    <tr>\n",
       "      <th>5</th>\n",
       "      <td>Atheism</td>\n",
       "      <td>Christianity</td>\n",
       "      <td>Christianity</td>\n",
       "      <td>Christianity</td>\n",
       "      <td>Christianity</td>\n",
       "      <td>Atheism</td>\n",
       "      <td>Atheism</td>\n",
       "      <td>Christianity</td>\n",
       "      <td>Atheism</td>\n",
       "      <td>Christianity</td>\n",
       "      <td>Atheism</td>\n",
       "      <td>Christianity</td>\n",
       "    </tr>\n",
       "    <tr>\n",
       "      <th>6</th>\n",
       "      <td>Atheism</td>\n",
       "      <td>Christianity</td>\n",
       "      <td>Christianity</td>\n",
       "      <td>Christianity</td>\n",
       "      <td>Christianity</td>\n",
       "      <td>Atheism</td>\n",
       "      <td>Atheism</td>\n",
       "      <td>Christianity</td>\n",
       "      <td>Christianity</td>\n",
       "      <td>Atheism</td>\n",
       "      <td>Atheism</td>\n",
       "      <td>Atheism</td>\n",
       "    </tr>\n",
       "    <tr>\n",
       "      <th>7</th>\n",
       "      <td>Atheism</td>\n",
       "      <td>Christianity</td>\n",
       "      <td>Christianity</td>\n",
       "      <td>Christianity</td>\n",
       "      <td>Christianity</td>\n",
       "      <td>Christianity</td>\n",
       "      <td>Atheism</td>\n",
       "      <td>Christianity</td>\n",
       "      <td>Atheism</td>\n",
       "      <td>Christianity</td>\n",
       "      <td>Atheism</td>\n",
       "      <td>Christianity</td>\n",
       "    </tr>\n",
       "    <tr>\n",
       "      <th>8</th>\n",
       "      <td>Christianity</td>\n",
       "      <td>Christianity</td>\n",
       "      <td>Christianity</td>\n",
       "      <td>Christianity</td>\n",
       "      <td>Christianity</td>\n",
       "      <td>Christianity</td>\n",
       "      <td>Atheism</td>\n",
       "      <td>Christianity</td>\n",
       "      <td>Atheism</td>\n",
       "      <td>Christianity</td>\n",
       "      <td>Atheism</td>\n",
       "      <td>Christianity</td>\n",
       "    </tr>\n",
       "    <tr>\n",
       "      <th>9</th>\n",
       "      <td>I do not know</td>\n",
       "      <td>Christianity</td>\n",
       "      <td>Christianity</td>\n",
       "      <td>Christianity</td>\n",
       "      <td>Christianity</td>\n",
       "      <td>Christianity</td>\n",
       "      <td>Atheism</td>\n",
       "      <td>I do not know</td>\n",
       "      <td>Atheism</td>\n",
       "      <td>Atheism</td>\n",
       "      <td>Atheism</td>\n",
       "      <td>Atheism</td>\n",
       "    </tr>\n",
       "    <tr>\n",
       "      <th>10</th>\n",
       "      <td>Atheism</td>\n",
       "      <td>Christianity</td>\n",
       "      <td>Christianity</td>\n",
       "      <td>Christianity</td>\n",
       "      <td>Christianity</td>\n",
       "      <td>Christianity</td>\n",
       "      <td>Atheism</td>\n",
       "      <td>Christianity</td>\n",
       "      <td>Atheism</td>\n",
       "      <td>Atheism</td>\n",
       "      <td>Atheism</td>\n",
       "      <td>Christianity</td>\n",
       "    </tr>\n",
       "  </tbody>\n",
       "</table>\n",
       "</div>"
      ],
      "text/plain": [
       "               q1            q2             q3            q4            q5  \\\n",
       "0    Christianity  Christianity   Christianity  Christianity  Christianity   \n",
       "1    Christianity  Christianity   Christianity  Christianity  Christianity   \n",
       "2         Atheism  Christianity   Christianity  Christianity  Christianity   \n",
       "3         Atheism       Atheism   Christianity  Christianity  Christianity   \n",
       "4         Atheism  Christianity  I do not know  Christianity  Christianity   \n",
       "5         Atheism  Christianity   Christianity  Christianity  Christianity   \n",
       "6         Atheism  Christianity   Christianity  Christianity  Christianity   \n",
       "7         Atheism  Christianity   Christianity  Christianity  Christianity   \n",
       "8    Christianity  Christianity   Christianity  Christianity  Christianity   \n",
       "9   I do not know  Christianity   Christianity  Christianity  Christianity   \n",
       "10        Atheism  Christianity   Christianity  Christianity  Christianity   \n",
       "\n",
       "              q6       q7             q8            q9           q10  \\\n",
       "0   Christianity  Atheism  I do not know       Atheism  Christianity   \n",
       "1        Atheism  Atheism   Christianity       Atheism       Atheism   \n",
       "2   Christianity  Atheism        Atheism       Atheism       Atheism   \n",
       "3   Christianity  Atheism   Christianity  Christianity  Christianity   \n",
       "4   Christianity  Atheism  I do not know  Christianity       Atheism   \n",
       "5        Atheism  Atheism   Christianity       Atheism  Christianity   \n",
       "6        Atheism  Atheism   Christianity  Christianity       Atheism   \n",
       "7   Christianity  Atheism   Christianity       Atheism  Christianity   \n",
       "8   Christianity  Atheism   Christianity       Atheism  Christianity   \n",
       "9   Christianity  Atheism  I do not know       Atheism       Atheism   \n",
       "10  Christianity  Atheism   Christianity       Atheism       Atheism   \n",
       "\n",
       "              q11            q12  \n",
       "0   I do not know   Christianity  \n",
       "1    Christianity   Christianity  \n",
       "2         Atheism   Christianity  \n",
       "3         Atheism   Christianity  \n",
       "4         Atheism  I do not know  \n",
       "5         Atheism   Christianity  \n",
       "6         Atheism        Atheism  \n",
       "7         Atheism   Christianity  \n",
       "8         Atheism   Christianity  \n",
       "9         Atheism        Atheism  \n",
       "10        Atheism   Christianity  "
      ]
     },
     "execution_count": 367,
     "metadata": {},
     "output_type": "execute_result"
    }
   ],
   "source": [
    "pdaans"
   ]
  },
  {
   "cell_type": "code",
   "execution_count": 368,
   "metadata": {},
   "outputs": [
    {
     "data": {
      "text/html": [
       "<div>\n",
       "<style scoped>\n",
       "    .dataframe tbody tr th:only-of-type {\n",
       "        vertical-align: middle;\n",
       "    }\n",
       "\n",
       "    .dataframe tbody tr th {\n",
       "        vertical-align: top;\n",
       "    }\n",
       "\n",
       "    .dataframe thead th {\n",
       "        text-align: right;\n",
       "    }\n",
       "</style>\n",
       "<table border=\"1\" class=\"dataframe\">\n",
       "  <thead>\n",
       "    <tr style=\"text-align: right;\">\n",
       "      <th></th>\n",
       "      <th>q1</th>\n",
       "      <th>q2</th>\n",
       "      <th>q3</th>\n",
       "      <th>q4</th>\n",
       "      <th>q5</th>\n",
       "      <th>q6</th>\n",
       "      <th>q7</th>\n",
       "      <th>q8</th>\n",
       "      <th>q9</th>\n",
       "      <th>q10</th>\n",
       "      <th>q11</th>\n",
       "      <th>q12</th>\n",
       "    </tr>\n",
       "  </thead>\n",
       "  <tbody>\n",
       "    <tr>\n",
       "      <th>0</th>\n",
       "      <td>Christianity</td>\n",
       "      <td>Christianity</td>\n",
       "      <td>Christianity</td>\n",
       "      <td>Christianity</td>\n",
       "      <td>Christianity</td>\n",
       "      <td>Christianity</td>\n",
       "      <td>Atheism</td>\n",
       "      <td>Christianity</td>\n",
       "      <td>Atheism</td>\n",
       "      <td>Christianity</td>\n",
       "      <td>Atheism</td>\n",
       "      <td>Christianity</td>\n",
       "    </tr>\n",
       "    <tr>\n",
       "      <th>1</th>\n",
       "      <td>Christianity</td>\n",
       "      <td>Christianity</td>\n",
       "      <td>Christianity</td>\n",
       "      <td>Christianity</td>\n",
       "      <td>Christianity</td>\n",
       "      <td>Christianity</td>\n",
       "      <td>Atheism</td>\n",
       "      <td>I do not know</td>\n",
       "      <td>I do not know</td>\n",
       "      <td>Christianity</td>\n",
       "      <td>Christianity</td>\n",
       "      <td>Christianity</td>\n",
       "    </tr>\n",
       "    <tr>\n",
       "      <th>2</th>\n",
       "      <td>Atheism</td>\n",
       "      <td>Christianity</td>\n",
       "      <td>Christianity</td>\n",
       "      <td>Christianity</td>\n",
       "      <td>Christianity</td>\n",
       "      <td>Atheism</td>\n",
       "      <td>Atheism</td>\n",
       "      <td>Atheism</td>\n",
       "      <td>Atheism</td>\n",
       "      <td>Atheism</td>\n",
       "      <td>Atheism</td>\n",
       "      <td>Christianity</td>\n",
       "    </tr>\n",
       "    <tr>\n",
       "      <th>3</th>\n",
       "      <td>Christianity</td>\n",
       "      <td>Christianity</td>\n",
       "      <td>Christianity</td>\n",
       "      <td>Christianity</td>\n",
       "      <td>Christianity</td>\n",
       "      <td>Christianity</td>\n",
       "      <td>Atheism</td>\n",
       "      <td>Christianity</td>\n",
       "      <td>Atheism</td>\n",
       "      <td>Atheism</td>\n",
       "      <td>Atheism</td>\n",
       "      <td>Christianity</td>\n",
       "    </tr>\n",
       "    <tr>\n",
       "      <th>4</th>\n",
       "      <td>Christianity</td>\n",
       "      <td>Christianity</td>\n",
       "      <td>Christianity</td>\n",
       "      <td>Christianity</td>\n",
       "      <td>Christianity</td>\n",
       "      <td>Christianity</td>\n",
       "      <td>Atheism</td>\n",
       "      <td>I do not know</td>\n",
       "      <td>Atheism</td>\n",
       "      <td>I do not know</td>\n",
       "      <td>I do not know</td>\n",
       "      <td>Christianity</td>\n",
       "    </tr>\n",
       "    <tr>\n",
       "      <th>5</th>\n",
       "      <td>Atheism</td>\n",
       "      <td>Christianity</td>\n",
       "      <td>Christianity</td>\n",
       "      <td>Christianity</td>\n",
       "      <td>Christianity</td>\n",
       "      <td>Christianity</td>\n",
       "      <td>Atheism</td>\n",
       "      <td>Christianity</td>\n",
       "      <td>Atheism</td>\n",
       "      <td>Atheism</td>\n",
       "      <td>Atheism</td>\n",
       "      <td>Christianity</td>\n",
       "    </tr>\n",
       "    <tr>\n",
       "      <th>6</th>\n",
       "      <td>Atheism</td>\n",
       "      <td>Christianity</td>\n",
       "      <td>Christianity</td>\n",
       "      <td>Christianity</td>\n",
       "      <td>Christianity</td>\n",
       "      <td>Christianity</td>\n",
       "      <td>Atheism</td>\n",
       "      <td>Christianity</td>\n",
       "      <td>Christianity</td>\n",
       "      <td>Christianity</td>\n",
       "      <td>Atheism</td>\n",
       "      <td>Christianity</td>\n",
       "    </tr>\n",
       "    <tr>\n",
       "      <th>7</th>\n",
       "      <td>Atheism</td>\n",
       "      <td>Christianity</td>\n",
       "      <td>Christianity</td>\n",
       "      <td>Atheism</td>\n",
       "      <td>Christianity</td>\n",
       "      <td>Christianity</td>\n",
       "      <td>Atheism</td>\n",
       "      <td>Atheism</td>\n",
       "      <td>Atheism</td>\n",
       "      <td>Christianity</td>\n",
       "      <td>Atheism</td>\n",
       "      <td>Christianity</td>\n",
       "    </tr>\n",
       "    <tr>\n",
       "      <th>8</th>\n",
       "      <td>I do not know</td>\n",
       "      <td>Christianity</td>\n",
       "      <td>Christianity</td>\n",
       "      <td>Christianity</td>\n",
       "      <td>Christianity</td>\n",
       "      <td>Atheism</td>\n",
       "      <td>Atheism</td>\n",
       "      <td>Atheism</td>\n",
       "      <td>Atheism</td>\n",
       "      <td>Christianity</td>\n",
       "      <td>Atheism</td>\n",
       "      <td>Christianity</td>\n",
       "    </tr>\n",
       "    <tr>\n",
       "      <th>9</th>\n",
       "      <td>Atheism</td>\n",
       "      <td>Christianity</td>\n",
       "      <td>Christianity</td>\n",
       "      <td>Christianity</td>\n",
       "      <td>Christianity</td>\n",
       "      <td>Christianity</td>\n",
       "      <td>Atheism</td>\n",
       "      <td>Atheism</td>\n",
       "      <td>Atheism</td>\n",
       "      <td>Atheism</td>\n",
       "      <td>Atheism</td>\n",
       "      <td>Christianity</td>\n",
       "    </tr>\n",
       "    <tr>\n",
       "      <th>10</th>\n",
       "      <td>Christianity</td>\n",
       "      <td>Christianity</td>\n",
       "      <td>Christianity</td>\n",
       "      <td>Christianity</td>\n",
       "      <td>Christianity</td>\n",
       "      <td>Christianity</td>\n",
       "      <td>Atheism</td>\n",
       "      <td>Christianity</td>\n",
       "      <td>Atheism</td>\n",
       "      <td>Christianity</td>\n",
       "      <td>Christianity</td>\n",
       "      <td>Christianity</td>\n",
       "    </tr>\n",
       "    <tr>\n",
       "      <th>11</th>\n",
       "      <td>Christianity</td>\n",
       "      <td>Christianity</td>\n",
       "      <td>Christianity</td>\n",
       "      <td>Christianity</td>\n",
       "      <td>Christianity</td>\n",
       "      <td>Christianity</td>\n",
       "      <td>Atheism</td>\n",
       "      <td>Atheism</td>\n",
       "      <td>I do not know</td>\n",
       "      <td>Christianity</td>\n",
       "      <td>Atheism</td>\n",
       "      <td>Christianity</td>\n",
       "    </tr>\n",
       "  </tbody>\n",
       "</table>\n",
       "</div>"
      ],
      "text/plain": [
       "               q1            q2            q3            q4            q5  \\\n",
       "0    Christianity  Christianity  Christianity  Christianity  Christianity   \n",
       "1    Christianity  Christianity  Christianity  Christianity  Christianity   \n",
       "2         Atheism  Christianity  Christianity  Christianity  Christianity   \n",
       "3    Christianity  Christianity  Christianity  Christianity  Christianity   \n",
       "4    Christianity  Christianity  Christianity  Christianity  Christianity   \n",
       "5         Atheism  Christianity  Christianity  Christianity  Christianity   \n",
       "6         Atheism  Christianity  Christianity  Christianity  Christianity   \n",
       "7         Atheism  Christianity  Christianity       Atheism  Christianity   \n",
       "8   I do not know  Christianity  Christianity  Christianity  Christianity   \n",
       "9         Atheism  Christianity  Christianity  Christianity  Christianity   \n",
       "10   Christianity  Christianity  Christianity  Christianity  Christianity   \n",
       "11   Christianity  Christianity  Christianity  Christianity  Christianity   \n",
       "\n",
       "              q6       q7             q8             q9            q10  \\\n",
       "0   Christianity  Atheism   Christianity        Atheism   Christianity   \n",
       "1   Christianity  Atheism  I do not know  I do not know   Christianity   \n",
       "2        Atheism  Atheism        Atheism        Atheism        Atheism   \n",
       "3   Christianity  Atheism   Christianity        Atheism        Atheism   \n",
       "4   Christianity  Atheism  I do not know        Atheism  I do not know   \n",
       "5   Christianity  Atheism   Christianity        Atheism        Atheism   \n",
       "6   Christianity  Atheism   Christianity   Christianity   Christianity   \n",
       "7   Christianity  Atheism        Atheism        Atheism   Christianity   \n",
       "8        Atheism  Atheism        Atheism        Atheism   Christianity   \n",
       "9   Christianity  Atheism        Atheism        Atheism        Atheism   \n",
       "10  Christianity  Atheism   Christianity        Atheism   Christianity   \n",
       "11  Christianity  Atheism        Atheism  I do not know   Christianity   \n",
       "\n",
       "              q11           q12  \n",
       "0         Atheism  Christianity  \n",
       "1    Christianity  Christianity  \n",
       "2         Atheism  Christianity  \n",
       "3         Atheism  Christianity  \n",
       "4   I do not know  Christianity  \n",
       "5         Atheism  Christianity  \n",
       "6         Atheism  Christianity  \n",
       "7         Atheism  Christianity  \n",
       "8         Atheism  Christianity  \n",
       "9         Atheism  Christianity  \n",
       "10   Christianity  Christianity  \n",
       "11        Atheism  Christianity  "
      ]
     },
     "execution_count": 368,
     "metadata": {},
     "output_type": "execute_result"
    }
   ],
   "source": [
    "pdbans"
   ]
  },
  {
   "cell_type": "code",
   "execution_count": 369,
   "metadata": {},
   "outputs": [
    {
     "data": {
      "text/html": [
       "<div>\n",
       "<style scoped>\n",
       "    .dataframe tbody tr th:only-of-type {\n",
       "        vertical-align: middle;\n",
       "    }\n",
       "\n",
       "    .dataframe tbody tr th {\n",
       "        vertical-align: top;\n",
       "    }\n",
       "\n",
       "    .dataframe thead th {\n",
       "        text-align: right;\n",
       "    }\n",
       "</style>\n",
       "<table border=\"1\" class=\"dataframe\">\n",
       "  <thead>\n",
       "    <tr style=\"text-align: right;\">\n",
       "      <th></th>\n",
       "      <th>q1</th>\n",
       "      <th>q2</th>\n",
       "      <th>q3</th>\n",
       "      <th>q4</th>\n",
       "      <th>q5</th>\n",
       "      <th>q6</th>\n",
       "      <th>q7</th>\n",
       "      <th>q8</th>\n",
       "      <th>q9</th>\n",
       "      <th>q10</th>\n",
       "      <th>q11</th>\n",
       "      <th>q12</th>\n",
       "    </tr>\n",
       "  </thead>\n",
       "  <tbody>\n",
       "    <tr>\n",
       "      <th>0</th>\n",
       "      <td>Atheism</td>\n",
       "      <td>Christianity</td>\n",
       "      <td>Christianity</td>\n",
       "      <td>Christianity</td>\n",
       "      <td>Christianity</td>\n",
       "      <td>Christianity</td>\n",
       "      <td>Atheism</td>\n",
       "      <td>Christianity</td>\n",
       "      <td>Atheism</td>\n",
       "      <td>Christianity</td>\n",
       "      <td>Atheism</td>\n",
       "      <td>Christianity</td>\n",
       "    </tr>\n",
       "    <tr>\n",
       "      <th>1</th>\n",
       "      <td>Atheism</td>\n",
       "      <td>Christianity</td>\n",
       "      <td>Christianity</td>\n",
       "      <td>Christianity</td>\n",
       "      <td>Christianity</td>\n",
       "      <td>Atheism</td>\n",
       "      <td>Atheism</td>\n",
       "      <td>Atheism</td>\n",
       "      <td>Atheism</td>\n",
       "      <td>Atheism</td>\n",
       "      <td>Atheism</td>\n",
       "      <td>Christianity</td>\n",
       "    </tr>\n",
       "    <tr>\n",
       "      <th>2</th>\n",
       "      <td>Atheism</td>\n",
       "      <td>Christianity</td>\n",
       "      <td>Christianity</td>\n",
       "      <td>Christianity</td>\n",
       "      <td>Christianity</td>\n",
       "      <td>Christianity</td>\n",
       "      <td>Atheism</td>\n",
       "      <td>Atheism</td>\n",
       "      <td>Atheism</td>\n",
       "      <td>Christianity</td>\n",
       "      <td>Atheism</td>\n",
       "      <td>Atheism</td>\n",
       "    </tr>\n",
       "    <tr>\n",
       "      <th>3</th>\n",
       "      <td>Christianity</td>\n",
       "      <td>Christianity</td>\n",
       "      <td>Christianity</td>\n",
       "      <td>Christianity</td>\n",
       "      <td>Christianity</td>\n",
       "      <td>Christianity</td>\n",
       "      <td>Atheism</td>\n",
       "      <td>Atheism</td>\n",
       "      <td>Atheism</td>\n",
       "      <td>Christianity</td>\n",
       "      <td>Atheism</td>\n",
       "      <td>Christianity</td>\n",
       "    </tr>\n",
       "    <tr>\n",
       "      <th>4</th>\n",
       "      <td>I do not know</td>\n",
       "      <td>Christianity</td>\n",
       "      <td>Christianity</td>\n",
       "      <td>Christianity</td>\n",
       "      <td>Christianity</td>\n",
       "      <td>Christianity</td>\n",
       "      <td>Atheism</td>\n",
       "      <td>Christianity</td>\n",
       "      <td>Atheism</td>\n",
       "      <td>Christianity</td>\n",
       "      <td>I do not know</td>\n",
       "      <td>Christianity</td>\n",
       "    </tr>\n",
       "    <tr>\n",
       "      <th>5</th>\n",
       "      <td>I do not know</td>\n",
       "      <td>Christianity</td>\n",
       "      <td>Christianity</td>\n",
       "      <td>Christianity</td>\n",
       "      <td>Christianity</td>\n",
       "      <td>Christianity</td>\n",
       "      <td>Atheism</td>\n",
       "      <td>I do not know</td>\n",
       "      <td>Atheism</td>\n",
       "      <td>Christianity</td>\n",
       "      <td>I do not know</td>\n",
       "      <td>Christianity</td>\n",
       "    </tr>\n",
       "    <tr>\n",
       "      <th>6</th>\n",
       "      <td>Atheism</td>\n",
       "      <td>Christianity</td>\n",
       "      <td>Christianity</td>\n",
       "      <td>Christianity</td>\n",
       "      <td>Christianity</td>\n",
       "      <td>I do not know</td>\n",
       "      <td>Atheism</td>\n",
       "      <td>Christianity</td>\n",
       "      <td>Atheism</td>\n",
       "      <td>Atheism</td>\n",
       "      <td>Atheism</td>\n",
       "      <td>Christianity</td>\n",
       "    </tr>\n",
       "    <tr>\n",
       "      <th>7</th>\n",
       "      <td>Christianity</td>\n",
       "      <td>Christianity</td>\n",
       "      <td>Christianity</td>\n",
       "      <td>Christianity</td>\n",
       "      <td>Christianity</td>\n",
       "      <td>Christianity</td>\n",
       "      <td>Atheism</td>\n",
       "      <td>Atheism</td>\n",
       "      <td>Atheism</td>\n",
       "      <td>Atheism</td>\n",
       "      <td>Atheism</td>\n",
       "      <td>Atheism</td>\n",
       "    </tr>\n",
       "    <tr>\n",
       "      <th>8</th>\n",
       "      <td>Atheism</td>\n",
       "      <td>Christianity</td>\n",
       "      <td>Christianity</td>\n",
       "      <td>Christianity</td>\n",
       "      <td>Christianity</td>\n",
       "      <td>Christianity</td>\n",
       "      <td>Atheism</td>\n",
       "      <td>I do not know</td>\n",
       "      <td>Atheism</td>\n",
       "      <td>Christianity</td>\n",
       "      <td>I do not know</td>\n",
       "      <td>I do not know</td>\n",
       "    </tr>\n",
       "    <tr>\n",
       "      <th>9</th>\n",
       "      <td>I do not know</td>\n",
       "      <td>Christianity</td>\n",
       "      <td>Christianity</td>\n",
       "      <td>Christianity</td>\n",
       "      <td>Christianity</td>\n",
       "      <td>Christianity</td>\n",
       "      <td>Atheism</td>\n",
       "      <td>Christianity</td>\n",
       "      <td>Atheism</td>\n",
       "      <td>Christianity</td>\n",
       "      <td>I do not know</td>\n",
       "      <td>Christianity</td>\n",
       "    </tr>\n",
       "    <tr>\n",
       "      <th>10</th>\n",
       "      <td>Atheism</td>\n",
       "      <td>Christianity</td>\n",
       "      <td>Christianity</td>\n",
       "      <td>Christianity</td>\n",
       "      <td>Christianity</td>\n",
       "      <td>Christianity</td>\n",
       "      <td>Atheism</td>\n",
       "      <td>I do not know</td>\n",
       "      <td>I do not know</td>\n",
       "      <td>Christianity</td>\n",
       "      <td>Christianity</td>\n",
       "      <td>Christianity</td>\n",
       "    </tr>\n",
       "    <tr>\n",
       "      <th>11</th>\n",
       "      <td>Christianity</td>\n",
       "      <td>Christianity</td>\n",
       "      <td>Christianity</td>\n",
       "      <td>Christianity</td>\n",
       "      <td>Christianity</td>\n",
       "      <td>Christianity</td>\n",
       "      <td>Atheism</td>\n",
       "      <td>Christianity</td>\n",
       "      <td>Atheism</td>\n",
       "      <td>Atheism</td>\n",
       "      <td>Atheism</td>\n",
       "      <td>Christianity</td>\n",
       "    </tr>\n",
       "    <tr>\n",
       "      <th>12</th>\n",
       "      <td>Atheism</td>\n",
       "      <td>Christianity</td>\n",
       "      <td>Christianity</td>\n",
       "      <td>Christianity</td>\n",
       "      <td>Christianity</td>\n",
       "      <td>Christianity</td>\n",
       "      <td>Atheism</td>\n",
       "      <td>Atheism</td>\n",
       "      <td>Atheism</td>\n",
       "      <td>Atheism</td>\n",
       "      <td>Christianity</td>\n",
       "      <td>Atheism</td>\n",
       "    </tr>\n",
       "    <tr>\n",
       "      <th>13</th>\n",
       "      <td>I do not know</td>\n",
       "      <td>Christianity</td>\n",
       "      <td>Christianity</td>\n",
       "      <td>Christianity</td>\n",
       "      <td>Christianity</td>\n",
       "      <td>Christianity</td>\n",
       "      <td>Atheism</td>\n",
       "      <td>Christianity</td>\n",
       "      <td>Atheism</td>\n",
       "      <td>Christianity</td>\n",
       "      <td>Atheism</td>\n",
       "      <td>Christianity</td>\n",
       "    </tr>\n",
       "  </tbody>\n",
       "</table>\n",
       "</div>"
      ],
      "text/plain": [
       "               q1            q2            q3            q4            q5  \\\n",
       "0         Atheism  Christianity  Christianity  Christianity  Christianity   \n",
       "1         Atheism  Christianity  Christianity  Christianity  Christianity   \n",
       "2         Atheism  Christianity  Christianity  Christianity  Christianity   \n",
       "3    Christianity  Christianity  Christianity  Christianity  Christianity   \n",
       "4   I do not know  Christianity  Christianity  Christianity  Christianity   \n",
       "5   I do not know  Christianity  Christianity  Christianity  Christianity   \n",
       "6         Atheism  Christianity  Christianity  Christianity  Christianity   \n",
       "7    Christianity  Christianity  Christianity  Christianity  Christianity   \n",
       "8         Atheism  Christianity  Christianity  Christianity  Christianity   \n",
       "9   I do not know  Christianity  Christianity  Christianity  Christianity   \n",
       "10        Atheism  Christianity  Christianity  Christianity  Christianity   \n",
       "11   Christianity  Christianity  Christianity  Christianity  Christianity   \n",
       "12        Atheism  Christianity  Christianity  Christianity  Christianity   \n",
       "13  I do not know  Christianity  Christianity  Christianity  Christianity   \n",
       "\n",
       "               q6       q7             q8             q9           q10  \\\n",
       "0    Christianity  Atheism   Christianity        Atheism  Christianity   \n",
       "1         Atheism  Atheism        Atheism        Atheism       Atheism   \n",
       "2    Christianity  Atheism        Atheism        Atheism  Christianity   \n",
       "3    Christianity  Atheism        Atheism        Atheism  Christianity   \n",
       "4    Christianity  Atheism   Christianity        Atheism  Christianity   \n",
       "5    Christianity  Atheism  I do not know        Atheism  Christianity   \n",
       "6   I do not know  Atheism   Christianity        Atheism       Atheism   \n",
       "7    Christianity  Atheism        Atheism        Atheism       Atheism   \n",
       "8    Christianity  Atheism  I do not know        Atheism  Christianity   \n",
       "9    Christianity  Atheism   Christianity        Atheism  Christianity   \n",
       "10   Christianity  Atheism  I do not know  I do not know  Christianity   \n",
       "11   Christianity  Atheism   Christianity        Atheism       Atheism   \n",
       "12   Christianity  Atheism        Atheism        Atheism       Atheism   \n",
       "13   Christianity  Atheism   Christianity        Atheism  Christianity   \n",
       "\n",
       "              q11            q12  \n",
       "0         Atheism   Christianity  \n",
       "1         Atheism   Christianity  \n",
       "2         Atheism        Atheism  \n",
       "3         Atheism   Christianity  \n",
       "4   I do not know   Christianity  \n",
       "5   I do not know   Christianity  \n",
       "6         Atheism   Christianity  \n",
       "7         Atheism        Atheism  \n",
       "8   I do not know  I do not know  \n",
       "9   I do not know   Christianity  \n",
       "10   Christianity   Christianity  \n",
       "11        Atheism   Christianity  \n",
       "12   Christianity        Atheism  \n",
       "13        Atheism   Christianity  "
      ]
     },
     "execution_count": 369,
     "metadata": {},
     "output_type": "execute_result"
    }
   ],
   "source": [
    "pdcans"
   ]
  },
  {
   "cell_type": "markdown",
   "metadata": {},
   "source": [
    "**Value counts**"
   ]
  },
  {
   "cell_type": "code",
   "execution_count": 370,
   "metadata": {},
   "outputs": [],
   "source": [
    "def melt_classes(df, group_letter):\n",
    "    df = df.melt(ignore_index=True, value_name=\"class\")\n",
    "    return pd.DataFrame({\n",
    "        \"class\": df['class'],\n",
    "        \"group\": [group_letter for _ in range(df.shape[0])]\n",
    "    })"
   ]
  },
  {
   "cell_type": "code",
   "execution_count": 371,
   "metadata": {},
   "outputs": [
    {
     "data": {
      "text/plain": [
       "Christianity     77\n",
       "Atheism          48\n",
       "I do not know     7\n",
       "Name: class, dtype: int64"
      ]
     },
     "execution_count": 371,
     "metadata": {},
     "output_type": "execute_result"
    }
   ],
   "source": [
    "ansda = melt_classes(pdaans, 'a')\n",
    "ansda['class'].value_counts()"
   ]
  },
  {
   "cell_type": "markdown",
   "metadata": {},
   "source": [
    "7 times in group A someone selected I do not know"
   ]
  },
  {
   "cell_type": "code",
   "execution_count": 372,
   "metadata": {},
   "outputs": [
    {
     "data": {
      "text/plain": [
       "Christianity     90\n",
       "Atheism          47\n",
       "I do not know     7\n",
       "Name: class, dtype: int64"
      ]
     },
     "execution_count": 372,
     "metadata": {},
     "output_type": "execute_result"
    }
   ],
   "source": [
    "ansdb = melt_classes(pdbans, 'b')\n",
    "ansdb['class'].value_counts()"
   ]
  },
  {
   "cell_type": "markdown",
   "metadata": {},
   "source": [
    "The same in group B"
   ]
  },
  {
   "cell_type": "code",
   "execution_count": 376,
   "metadata": {},
   "outputs": [
    {
     "data": {
      "text/plain": [
       "Christianity     98\n",
       "Atheism          56\n",
       "I do not know    14\n",
       "Name: class, dtype: int64"
      ]
     },
     "execution_count": 376,
     "metadata": {},
     "output_type": "execute_result"
    }
   ],
   "source": [
    "ansdc = melt_classes(pdcans, 'c')\n",
    "ansdc['class'].value_counts()"
   ]
  },
  {
   "cell_type": "markdown",
   "metadata": {},
   "source": [
    "In group C it was 14 times"
   ]
  },
  {
   "cell_type": "code",
   "execution_count": 377,
   "metadata": {},
   "outputs": [],
   "source": [
    "ans = pd.concat([ansda, ansdb, ansdc])"
   ]
  },
  {
   "cell_type": "code",
   "execution_count": 486,
   "metadata": {},
   "outputs": [
    {
     "data": {
      "text/plain": [
       "<Figure size 1152x720 with 0 Axes>"
      ]
     },
     "metadata": {},
     "output_type": "display_data"
    },
    {
     "data": {
      "image/png": "[encoded data removed]",
      "text/plain": [
       "<Figure size 463.125x360 with 1 Axes>"
      ]
     },
     "metadata": {
      "needs_background": "light"
     },
     "output_type": "display_data"
    }
   ],
   "source": [
    "plt.figure(figsize=(16, 10))\n",
    "sns.displot(x=\"group\", data=ans, hue=\"class\", multiple=\"stack\");"
   ]
  },
  {
   "cell_type": "code",
   "execution_count": 379,
   "metadata": {},
   "outputs": [
    {
     "data": {
      "text/plain": [
       "<Figure size 1152x720 with 0 Axes>"
      ]
     },
     "metadata": {},
     "output_type": "display_data"
    },
    {
     "data": {
      "image/png": "[encoded data removed]",
      "text/plain": [
       "<Figure size 1183.12x360 with 3 Axes>"
      ]
     },
     "metadata": {
      "needs_background": "light"
     },
     "output_type": "display_data"
    }
   ],
   "source": [
    "plt.figure(figsize=(16, 10))\n",
    "sns.displot(x=\"class\", data=ans, hue=\"class\", col=\"group\");"
   ]
  },
  {
   "cell_type": "markdown",
   "metadata": {},
   "source": [
    "In group C there were double the amount of *I do not know*s"
   ]
  },
  {
   "cell_type": "markdown",
   "metadata": {},
   "source": [
    "**Correct answers**"
   ]
  },
  {
   "cell_type": "markdown",
   "metadata": {},
   "source": [
    "Convert labels, 0 - Atheism, 1 - Christianity, -1 - I do not know"
   ]
  },
  {
   "cell_type": "code",
   "execution_count": 380,
   "metadata": {},
   "outputs": [],
   "source": [
    "true_mask = [ # true ~ what model predicted\n",
    "    1,1,1,1,  # sector 1\n",
    "    1,0,0,0,  # sector 2\n",
    "    0,1,1,1,  # sector 3\n",
    "]"
   ]
  },
  {
   "cell_type": "code",
   "execution_count": 381,
   "metadata": {},
   "outputs": [],
   "source": [
    "def replace_labels(df):\n",
    "    return df.replace(to_replace={\n",
    "        \"Christianity\": 1,\n",
    "        \"Atheism\": 0,\n",
    "        \"I do not know\": -1\n",
    "    })"
   ]
  },
  {
   "cell_type": "code",
   "execution_count": 382,
   "metadata": {},
   "outputs": [
    {
     "data": {
      "text/html": [
       "<div>\n",
       "<style scoped>\n",
       "    .dataframe tbody tr th:only-of-type {\n",
       "        vertical-align: middle;\n",
       "    }\n",
       "\n",
       "    .dataframe tbody tr th {\n",
       "        vertical-align: top;\n",
       "    }\n",
       "\n",
       "    .dataframe thead th {\n",
       "        text-align: right;\n",
       "    }\n",
       "</style>\n",
       "<table border=\"1\" class=\"dataframe\">\n",
       "  <thead>\n",
       "    <tr style=\"text-align: right;\">\n",
       "      <th></th>\n",
       "      <th>q1</th>\n",
       "      <th>q2</th>\n",
       "      <th>q3</th>\n",
       "      <th>q4</th>\n",
       "      <th>q5</th>\n",
       "      <th>q6</th>\n",
       "      <th>q7</th>\n",
       "      <th>q8</th>\n",
       "      <th>q9</th>\n",
       "      <th>q10</th>\n",
       "      <th>q11</th>\n",
       "      <th>q12</th>\n",
       "    </tr>\n",
       "  </thead>\n",
       "  <tbody>\n",
       "    <tr>\n",
       "      <th>3</th>\n",
       "      <td>0</td>\n",
       "      <td>0</td>\n",
       "      <td>1</td>\n",
       "      <td>1</td>\n",
       "      <td>1</td>\n",
       "      <td>1</td>\n",
       "      <td>0</td>\n",
       "      <td>1</td>\n",
       "      <td>1</td>\n",
       "      <td>1</td>\n",
       "      <td>0</td>\n",
       "      <td>1</td>\n",
       "    </tr>\n",
       "  </tbody>\n",
       "</table>\n",
       "</div>"
      ],
      "text/plain": [
       "   q1  q2  q3  q4  q5  q6  q7  q8  q9  q10  q11  q12\n",
       "3   0   0   1   1   1   1   0   1   1    1    0    1"
      ]
     },
     "execution_count": 382,
     "metadata": {},
     "output_type": "execute_result"
    }
   ],
   "source": [
    "pdaans = replace_labels(pdaans)\n",
    "pdbans = replace_labels(pdbans)\n",
    "pdcans = replace_labels(pdcans)\n",
    "pdaans.sample(1)"
   ]
  },
  {
   "cell_type": "code",
   "execution_count": 818,
   "metadata": {},
   "outputs": [],
   "source": [
    "def correct_per_sector(df, group_letter):\n",
    "    results = df == true_mask\n",
    "\n",
    "    s1 = results.iloc[:, 0:4].sum().sum() / results.iloc[:, 0:4].size\n",
    "    s2 = results.iloc[:, 4:8].sum().sum() / results.iloc[:, 4:8].size\n",
    "    s3 = results.iloc[:, 8:12].sum().sum() / results.iloc[:, 8:12].size\n",
    "    \n",
    "    return pd.DataFrame({\n",
    "        \"accuracy\": [s1, s2, s3],\n",
    "        \"sector\": [1, 2, 3],\n",
    "        \"group\": [group_letter for _ in range(3)]\n",
    "    })"
   ]
  },
  {
   "cell_type": "code",
   "execution_count": 819,
   "metadata": {},
   "outputs": [],
   "source": [
    "results_per_sector = pd.concat([\n",
    "    correct_per_sector(pdaans, 'a'),\n",
    "    correct_per_sector(pdbans, 'b'),\n",
    "    correct_per_sector(pdcans, 'c')],\n",
    "    ignore_index=True\n",
    ")"
   ]
  },
  {
   "cell_type": "code",
   "execution_count": 820,
   "metadata": {},
   "outputs": [
    {
     "data": {
      "text/html": [
       "<div>\n",
       "<style scoped>\n",
       "    .dataframe tbody tr th:only-of-type {\n",
       "        vertical-align: middle;\n",
       "    }\n",
       "\n",
       "    .dataframe tbody tr th {\n",
       "        vertical-align: top;\n",
       "    }\n",
       "\n",
       "    .dataframe thead th {\n",
       "        text-align: right;\n",
       "    }\n",
       "</style>\n",
       "<table border=\"1\" class=\"dataframe\">\n",
       "  <thead>\n",
       "    <tr style=\"text-align: right;\">\n",
       "      <th></th>\n",
       "      <th>accuracy</th>\n",
       "      <th>sector</th>\n",
       "      <th>group</th>\n",
       "    </tr>\n",
       "  </thead>\n",
       "  <tbody>\n",
       "    <tr>\n",
       "      <th>5</th>\n",
       "      <td>0.625</td>\n",
       "      <td>3</td>\n",
       "      <td>b</td>\n",
       "    </tr>\n",
       "  </tbody>\n",
       "</table>\n",
       "</div>"
      ],
      "text/plain": [
       "   accuracy  sector group\n",
       "5     0.625       3     b"
      ]
     },
     "execution_count": 820,
     "metadata": {},
     "output_type": "execute_result"
    }
   ],
   "source": [
    "results_per_sector.sample(1)"
   ]
  },
  {
   "cell_type": "code",
   "execution_count": 858,
   "metadata": {},
   "outputs": [
    {
     "data": {
      "image/png": "[encoded data removed]",
      "text/plain": [
       "<Figure size 504x432 with 1 Axes>"
      ]
     },
     "metadata": {
      "needs_background": "light"
     },
     "output_type": "display_data"
    }
   ],
   "source": [
    "plt.figure(figsize=(7, 6));\n",
    "sns.barplot(x=\"sector\", y=\"accuracy\", data=results_per_sector, hue=\"group\", palette='viridis');\n"
   ]
  },
  {
   "cell_type": "code",
   "execution_count": 836,
   "metadata": {},
   "outputs": [
    {
     "data": {
      "text/plain": [
       "<Figure size 504x432 with 0 Axes>"
      ]
     },
     "metadata": {},
     "output_type": "display_data"
    },
    {
     "data": {
      "image/png": "[encoded data removed]",
      "text/plain": [
       "<Figure size 1122.25x360 with 3 Axes>"
      ]
     },
     "metadata": {
      "needs_background": "light"
     },
     "output_type": "display_data"
    }
   ],
   "source": [
    "plt.figure(figsize=(7, 6));\n",
    "g=sns.catplot(x=\"sector\", y=\"accuracy\", data=results_per_sector, hue=\"group\", palette='viridis', kind=\"bar\", col=\"group\");\n",
    "g.add_legend();"
   ]
  },
  {
   "cell_type": "code",
   "execution_count": 838,
   "metadata": {},
   "outputs": [
    {
     "data": {
      "text/plain": [
       "<Figure size 504x432 with 0 Axes>"
      ]
     },
     "metadata": {},
     "output_type": "display_data"
    },
    {
     "data": {
      "image/png": "[encoded data removed]",
      "text/plain": [
       "<Figure size 1122.38x360 with 3 Axes>"
      ]
     },
     "metadata": {
      "needs_background": "light"
     },
     "output_type": "display_data"
    }
   ],
   "source": [
    "plt.figure(figsize=(7, 6));\n",
    "g = sns.catplot(x=\"group\", y=\"accuracy\", data=results_per_sector, col=\"sector\", kind=\"bar\", palette='flare', hue=\"sector\");\n",
    "g.add_legend();"
   ]
  },
  {
   "cell_type": "markdown",
   "metadata": {},
   "source": [
    "**Same statistics, but now *I do not know* is not counted as wrong answer**"
   ]
  },
  {
   "cell_type": "code",
   "execution_count": 852,
   "metadata": {},
   "outputs": [],
   "source": [
    "def acc_per_sector_without_idk(df, group_letter):\n",
    "    correct = df == true_mask\n",
    "    idk_mask = df == -1\n",
    "\n",
    "    s1 = correct.iloc[:, 0:4].sum().sum()\n",
    "    s1idk = correct.iloc[:, 0:4].size - idk_mask.sum()[0:4].sum()\n",
    "    idks1 = idk_mask.sum()[0:4].sum()\n",
    "    \n",
    "    s2 = correct.iloc[:, 4:8].sum().sum()\n",
    "    s2idk = correct.iloc[:, 4:8].size - idk_mask.sum()[4:8].sum()\n",
    "    idks2 = idk_mask.sum()[4:8].sum()\n",
    "    \n",
    "    s3 = correct.iloc[:, 8:12].sum().sum()\n",
    "    s3idk = correct.iloc[:, 8:12].size - idk_mask.sum()[8:12].sum()\n",
    "    idks3 = idk_mask.sum()[8:12].sum()\n",
    "    \n",
    "    return pd.DataFrame({\n",
    "        \"accuracy\": [s1 / s1idk, s2 / s2idk, s3 / s3idk],\n",
    "        \"sector\": [x for x in range(1,4)],\n",
    "        \"group\": [group_letter for _ in range(3)],\n",
    "        \"idks_count\": [idks1, idks2, idks3]\n",
    "    })"
   ]
  },
  {
   "cell_type": "code",
   "execution_count": 853,
   "metadata": {},
   "outputs": [],
   "source": [
    "results_sector_acc = pd.concat([\n",
    "    acc_per_sector_without_idk(pdaans, 'a'),\n",
    "    acc_per_sector_without_idk(pdbans, 'b'),\n",
    "    acc_per_sector_without_idk(pdcans, 'c')\n",
    "])"
   ]
  },
  {
   "cell_type": "code",
   "execution_count": 854,
   "metadata": {},
   "outputs": [
    {
     "data": {
      "text/plain": [
       "<AxesSubplot:xlabel='group', ylabel='accuracy'>"
      ]
     },
     "execution_count": 854,
     "metadata": {},
     "output_type": "execute_result"
    },
    {
     "data": {
      "image/png": "[encoded data removed]",
      "text/plain": [
       "<Figure size 504x432 with 1 Axes>"
      ]
     },
     "metadata": {
      "needs_background": "light"
     },
     "output_type": "display_data"
    }
   ],
   "source": [
    "plt.figure(figsize=(7, 6));\n",
    "sns.barplot(x=\"group\", y=\"accuracy\", data=results_sector_acc, hue=\"sector\", palette=\"rocket\")"
   ]
  },
  {
   "cell_type": "code",
   "execution_count": 855,
   "metadata": {},
   "outputs": [
    {
     "data": {
      "text/plain": [
       "<AxesSubplot:xlabel='group', ylabel='accuracy'>"
      ]
     },
     "execution_count": 855,
     "metadata": {},
     "output_type": "execute_result"
    },
    {
     "data": {
      "image/png": "[encoded data removed]",
      "text/plain": [
       "<Figure size 504x432 with 1 Axes>"
      ]
     },
     "metadata": {
      "needs_background": "light"
     },
     "output_type": "display_data"
    }
   ],
   "source": [
    "plt.figure(figsize=(7, 6));\n",
    "sns.pointplot(x=\"group\", y=\"accuracy\", data=results_sector_acc, hue=\"sector\", palette=\"rocket\")"
   ]
  },
  {
   "cell_type": "code",
   "execution_count": 856,
   "metadata": {},
   "outputs": [
    {
     "data": {
      "text/plain": [
       "<AxesSubplot:xlabel='sector', ylabel='accuracy'>"
      ]
     },
     "execution_count": 856,
     "metadata": {},
     "output_type": "execute_result"
    },
    {
     "data": {
      "image/png": "[encoded data removed]",
      "text/plain": [
       "<Figure size 504x432 with 1 Axes>"
      ]
     },
     "metadata": {
      "needs_background": "light"
     },
     "output_type": "display_data"
    }
   ],
   "source": [
    "plt.figure(figsize=(7, 6));\n",
    "sns.pointplot(x=\"sector\", y=\"accuracy\", data=results_sector_acc, hue=\"group\", palette='viridis')"
   ]
  },
  {
   "cell_type": "markdown",
   "metadata": {},
   "source": [
    "Amount of I do not know's"
   ]
  },
  {
   "cell_type": "code",
   "execution_count": 857,
   "metadata": {},
   "outputs": [
    {
     "data": {
      "text/plain": [
       "<AxesSubplot:xlabel='sector', ylabel='idks_count'>"
      ]
     },
     "execution_count": 857,
     "metadata": {},
     "output_type": "execute_result"
    },
    {
     "data": {
      "image/png": "[encoded data removed]",
      "text/plain": [
       "<Figure size 504x432 with 1 Axes>"
      ]
     },
     "metadata": {
      "needs_background": "light"
     },
     "output_type": "display_data"
    }
   ],
   "source": [
    "plt.figure(figsize=(7, 6));\n",
    "sns.pointplot(x=\"sector\", y=\"idks_count\", data=results_sector_acc, hue=\"group\", palette=\"flare\")"
   ]
  },
  {
   "cell_type": "markdown",
   "metadata": {},
   "source": [
    "---"
   ]
  },
  {
   "cell_type": "markdown",
   "metadata": {},
   "source": [
    "**Statistical tests**"
   ]
  },
  {
   "cell_type": "code",
   "execution_count": null,
   "metadata": {},
   "outputs": [],
   "source": []
  },
  {
   "cell_type": "markdown",
   "metadata": {},
   "source": [
    "---\n",
    "---"
   ]
  },
  {
   "cell_type": "markdown",
   "metadata": {},
   "source": [
    "## Closing questions analysis"
   ]
  },
  {
   "cell_type": "code",
   "execution_count": 489,
   "metadata": {},
   "outputs": [
    {
     "data": {
      "text/plain": [
       "Index(['technical_background', 'first_time', 't_a_before', 'q1', 't_a_1', 'q2',\n",
       "       't_a_2', 'q3', 't_a_3', 'q4', 't_a_4', 't_b_before', 'q5', 't_b_1',\n",
       "       'q6', 't_b_2', 'q7', 't_b_3', 'q8', 't_b_4', 't_c_before', 'q9',\n",
       "       't_c_1', 'q10', 't_c_2', 'q11', 't_c_3', 'q12', 't_c_4',\n",
       "       'Have you looked differently at  texts after seeing explanations?  ',\n",
       "       'How much did the explanations affect your later predictions?',\n",
       "       'Do you think that you understand the model more after seeing explanations than before seeing them?',\n",
       "       'After seeing explanations, do you trust the model's decisions more or less?',\n",
       "       'To better understand the model, would you prefer shorter or longer texts than those provided?',\n",
       "       'Have you spot some mistakes  of the model (places where it makes bad decisions)? If you did, try to describe them ',\n",
       "       'Place for your feedback'],\n",
       "      dtype='object')"
      ]
     },
     "execution_count": 489,
     "metadata": {},
     "output_type": "execute_result"
    }
   ],
   "source": [
    "pda.columns"
   ]
  },
  {
   "cell_type": "code",
   "execution_count": 508,
   "metadata": {},
   "outputs": [],
   "source": [
    "questioncols = {\n",
    "    'Have you looked differently at  texts after seeing explanations?  ': \"cq1\",\n",
    "    'How much did the explanations affect your later predictions?': \"cq2\",\n",
    "    'Do you think that you understand the model more after seeing explanations than before seeing them?': \"cq3\",\n",
    "    \"After seeing explanations, do you trust the model's decisions more or less?\": \"cq4\",\n",
    "    \"To better understand the model, would you prefer shorter or longer texts than those provided?\": \"cq5\"\n",
    "}\n",
    "q_codes = {v: k for k, v in questioncols.items()}"
   ]
  },
  {
   "cell_type": "code",
   "execution_count": 514,
   "metadata": {},
   "outputs": [],
   "source": [
    "pdaq = pda[questioncols].rename(columns=questioncols)\n",
    "pdbq = pdb[questioncols].rename(columns=questioncols)\n",
    "pdcq = pdc[questioncols].rename(columns=questioncols)"
   ]
  },
  {
   "cell_type": "markdown",
   "metadata": {},
   "source": [
    "**1st question: Have you looked differently at  texts after seeing explanations?**"
   ]
  },
  {
   "cell_type": "code",
   "execution_count": 543,
   "metadata": {},
   "outputs": [],
   "source": [
    "def combine_dfs(dfs, colname):\n",
    "    vals = ['a', 'b', 'c']\n",
    "    \n",
    "    for i in range(len(dfs)):\n",
    "        dfs[i] = pd.DataFrame(dfs[i][colname])\n",
    "        dfs[i]['group'] = [vals[i] for _ in range(len(dfs[i]))]\n",
    "    \n",
    "    dfs = pd.concat(dfs, ignore_index=True)\n",
    "    \n",
    "    return dfs"
   ]
  },
  {
   "cell_type": "code",
   "execution_count": 544,
   "metadata": {},
   "outputs": [],
   "source": [
    "cq1 = combine_dfs([pdaq, pdbq, pdcq], 'cq1')"
   ]
  },
  {
   "cell_type": "code",
   "execution_count": 550,
   "metadata": {},
   "outputs": [
    {
     "data": {
      "text/html": [
       "<div>\n",
       "<style scoped>\n",
       "    .dataframe tbody tr th:only-of-type {\n",
       "        vertical-align: middle;\n",
       "    }\n",
       "\n",
       "    .dataframe tbody tr th {\n",
       "        vertical-align: top;\n",
       "    }\n",
       "\n",
       "    .dataframe thead th {\n",
       "        text-align: right;\n",
       "    }\n",
       "</style>\n",
       "<table border=\"1\" class=\"dataframe\">\n",
       "  <thead>\n",
       "    <tr style=\"text-align: right;\">\n",
       "      <th></th>\n",
       "      <th>cq1</th>\n",
       "      <th>group</th>\n",
       "    </tr>\n",
       "  </thead>\n",
       "  <tbody>\n",
       "    <tr>\n",
       "      <th>0</th>\n",
       "      <td>3</td>\n",
       "      <td>a</td>\n",
       "    </tr>\n",
       "    <tr>\n",
       "      <th>1</th>\n",
       "      <td>7</td>\n",
       "      <td>a</td>\n",
       "    </tr>\n",
       "    <tr>\n",
       "      <th>2</th>\n",
       "      <td>2</td>\n",
       "      <td>a</td>\n",
       "    </tr>\n",
       "  </tbody>\n",
       "</table>\n",
       "</div>"
      ],
      "text/plain": [
       "   cq1 group\n",
       "0    3     a\n",
       "1    7     a\n",
       "2    2     a"
      ]
     },
     "execution_count": 550,
     "metadata": {},
     "output_type": "execute_result"
    }
   ],
   "source": [
    "cq1.head(3)"
   ]
  },
  {
   "cell_type": "code",
   "execution_count": 564,
   "metadata": {},
   "outputs": [
    {
     "data": {
      "text/plain": [
       "<Figure size 504x432 with 0 Axes>"
      ]
     },
     "metadata": {},
     "output_type": "display_data"
    },
    {
     "data": {
      "image/png": "[encoded data removed]",
      "text/plain": [
       "<Figure size 1122.25x360 with 3 Axes>"
      ]
     },
     "metadata": {
      "needs_background": "light"
     },
     "output_type": "display_data"
    }
   ],
   "source": [
    "plt.figure(figsize=(7, 6));\n",
    "sns.displot(x=\"cq1\", data=cq1, hue=\"group\", kind=\"hist\", col=\"group\", kde=True);"
   ]
  },
  {
   "cell_type": "code",
   "execution_count": 638,
   "metadata": {},
   "outputs": [],
   "source": [
    "def plot_faced(*, data, col, hue, x, width=12, height=6):\n",
    "    g = sns.FacetGrid(data, col=col, hue=hue)\n",
    "    g.map(sns.histplot, x, bins=10, kde=True)\n",
    "    g.add_legend()\n",
    "    g.fig.subplots_adjust(top=0.9);\n",
    "    g.fig.suptitle(q_codes[x]);\n",
    "    g.fig.set_figwidth(width)\n",
    "    g.fig.set_figheight(height)\n",
    "    g.set_axis_labels(\"score\")\n",
    "    plt.xticks([x for x in range(0,11)]);\n",
    "    plt.show()"
   ]
  },
  {
   "cell_type": "code",
   "execution_count": 639,
   "metadata": {},
   "outputs": [
    {
     "data": {
      "image/png": "[encoded data removed]",
      "text/plain": [
       "<Figure size 1008x432 with 3 Axes>"
      ]
     },
     "metadata": {
      "needs_background": "light"
     },
     "output_type": "display_data"
    }
   ],
   "source": [
    "plot_faced(data=cq1, col=\"group\", hue=\"group\", x=\"cq1\", width=14)"
   ]
  },
  {
   "cell_type": "code",
   "execution_count": 625,
   "metadata": {},
   "outputs": [
    {
     "data": {
      "text/html": [
       "<div>\n",
       "<style scoped>\n",
       "    .dataframe tbody tr th:only-of-type {\n",
       "        vertical-align: middle;\n",
       "    }\n",
       "\n",
       "    .dataframe tbody tr th {\n",
       "        vertical-align: top;\n",
       "    }\n",
       "\n",
       "    .dataframe thead th {\n",
       "        text-align: right;\n",
       "    }\n",
       "</style>\n",
       "<table border=\"1\" class=\"dataframe\">\n",
       "  <thead>\n",
       "    <tr style=\"text-align: right;\">\n",
       "      <th></th>\n",
       "      <th>cq1</th>\n",
       "    </tr>\n",
       "    <tr>\n",
       "      <th>group</th>\n",
       "      <th></th>\n",
       "    </tr>\n",
       "  </thead>\n",
       "  <tbody>\n",
       "    <tr>\n",
       "      <th>a</th>\n",
       "      <td>5.818182</td>\n",
       "    </tr>\n",
       "    <tr>\n",
       "      <th>b</th>\n",
       "      <td>6.083333</td>\n",
       "    </tr>\n",
       "    <tr>\n",
       "      <th>c</th>\n",
       "      <td>5.928571</td>\n",
       "    </tr>\n",
       "  </tbody>\n",
       "</table>\n",
       "</div>"
      ],
      "text/plain": [
       "            cq1\n",
       "group          \n",
       "a      5.818182\n",
       "b      6.083333\n",
       "c      5.928571"
      ]
     },
     "execution_count": 625,
     "metadata": {},
     "output_type": "execute_result"
    }
   ],
   "source": [
    "cq1.groupby(by=\"group\").mean()"
   ]
  },
  {
   "cell_type": "markdown",
   "metadata": {},
   "source": [
    "**2nd question: How much did the explanations affect your later predictions?**"
   ]
  },
  {
   "cell_type": "code",
   "execution_count": 608,
   "metadata": {},
   "outputs": [],
   "source": [
    "cq2 = combine_dfs([pdaq, pdbq, pdcq], 'cq2')"
   ]
  },
  {
   "cell_type": "code",
   "execution_count": 640,
   "metadata": {},
   "outputs": [
    {
     "data": {
      "image/png": "[encoded data removed]",
      "text/plain": [
       "<Figure size 1008x432 with 3 Axes>"
      ]
     },
     "metadata": {
      "needs_background": "light"
     },
     "output_type": "display_data"
    }
   ],
   "source": [
    "plot_faced(data=cq2, col=\"group\", hue=\"group\", x=\"cq2\", width=14)"
   ]
  },
  {
   "cell_type": "code",
   "execution_count": 629,
   "metadata": {},
   "outputs": [
    {
     "data": {
      "text/html": [
       "<div>\n",
       "<style scoped>\n",
       "    .dataframe tbody tr th:only-of-type {\n",
       "        vertical-align: middle;\n",
       "    }\n",
       "\n",
       "    .dataframe tbody tr th {\n",
       "        vertical-align: top;\n",
       "    }\n",
       "\n",
       "    .dataframe thead th {\n",
       "        text-align: right;\n",
       "    }\n",
       "</style>\n",
       "<table border=\"1\" class=\"dataframe\">\n",
       "  <thead>\n",
       "    <tr style=\"text-align: right;\">\n",
       "      <th></th>\n",
       "      <th>cq2</th>\n",
       "    </tr>\n",
       "    <tr>\n",
       "      <th>group</th>\n",
       "      <th></th>\n",
       "    </tr>\n",
       "  </thead>\n",
       "  <tbody>\n",
       "    <tr>\n",
       "      <th>a</th>\n",
       "      <td>6.272727</td>\n",
       "    </tr>\n",
       "    <tr>\n",
       "      <th>b</th>\n",
       "      <td>6.250000</td>\n",
       "    </tr>\n",
       "    <tr>\n",
       "      <th>c</th>\n",
       "      <td>5.357143</td>\n",
       "    </tr>\n",
       "  </tbody>\n",
       "</table>\n",
       "</div>"
      ],
      "text/plain": [
       "            cq2\n",
       "group          \n",
       "a      6.272727\n",
       "b      6.250000\n",
       "c      5.357143"
      ]
     },
     "execution_count": 629,
     "metadata": {},
     "output_type": "execute_result"
    }
   ],
   "source": [
    "cq2.groupby(by=\"group\").mean()"
   ]
  },
  {
   "cell_type": "markdown",
   "metadata": {},
   "source": [
    "**3rd question: Do you think that you understand the model more after seeing explanations than before seeing them?**"
   ]
  },
  {
   "cell_type": "code",
   "execution_count": 614,
   "metadata": {},
   "outputs": [],
   "source": [
    "cq3 = combine_dfs([pdaq, pdbq, pdcq], 'cq3')"
   ]
  },
  {
   "cell_type": "code",
   "execution_count": 642,
   "metadata": {},
   "outputs": [
    {
     "data": {
      "image/png": "[encoded data removed]",
      "text/plain": [
       "<Figure size 1008x432 with 3 Axes>"
      ]
     },
     "metadata": {
      "needs_background": "light"
     },
     "output_type": "display_data"
    }
   ],
   "source": [
    "plot_faced(data=cq3, col=\"group\", hue=\"group\", x=\"cq3\", width=14)"
   ]
  },
  {
   "cell_type": "code",
   "execution_count": 628,
   "metadata": {},
   "outputs": [
    {
     "data": {
      "text/html": [
       "<div>\n",
       "<style scoped>\n",
       "    .dataframe tbody tr th:only-of-type {\n",
       "        vertical-align: middle;\n",
       "    }\n",
       "\n",
       "    .dataframe tbody tr th {\n",
       "        vertical-align: top;\n",
       "    }\n",
       "\n",
       "    .dataframe thead th {\n",
       "        text-align: right;\n",
       "    }\n",
       "</style>\n",
       "<table border=\"1\" class=\"dataframe\">\n",
       "  <thead>\n",
       "    <tr style=\"text-align: right;\">\n",
       "      <th></th>\n",
       "      <th>cq3</th>\n",
       "    </tr>\n",
       "    <tr>\n",
       "      <th>group</th>\n",
       "      <th></th>\n",
       "    </tr>\n",
       "  </thead>\n",
       "  <tbody>\n",
       "    <tr>\n",
       "      <th>a</th>\n",
       "      <td>6.000000</td>\n",
       "    </tr>\n",
       "    <tr>\n",
       "      <th>b</th>\n",
       "      <td>7.166667</td>\n",
       "    </tr>\n",
       "    <tr>\n",
       "      <th>c</th>\n",
       "      <td>6.214286</td>\n",
       "    </tr>\n",
       "  </tbody>\n",
       "</table>\n",
       "</div>"
      ],
      "text/plain": [
       "            cq3\n",
       "group          \n",
       "a      6.000000\n",
       "b      7.166667\n",
       "c      6.214286"
      ]
     },
     "execution_count": 628,
     "metadata": {},
     "output_type": "execute_result"
    }
   ],
   "source": [
    "cq3.groupby(by=\"group\").mean()"
   ]
  },
  {
   "cell_type": "markdown",
   "metadata": {},
   "source": [
    "**4th question: After seeing explanations, do you trust the model's decisions more or less?**"
   ]
  },
  {
   "cell_type": "code",
   "execution_count": 617,
   "metadata": {},
   "outputs": [],
   "source": [
    "cq4 = combine_dfs([pdaq, pdbq, pdcq], 'cq4')"
   ]
  },
  {
   "cell_type": "code",
   "execution_count": 643,
   "metadata": {},
   "outputs": [
    {
     "data": {
      "image/png": "[encoded data removed]",
      "text/plain": [
       "<Figure size 1008x432 with 3 Axes>"
      ]
     },
     "metadata": {
      "needs_background": "light"
     },
     "output_type": "display_data"
    }
   ],
   "source": [
    "plot_faced(data=cq4, col=\"group\", hue=\"group\", x=\"cq4\", width=14)"
   ]
  },
  {
   "cell_type": "code",
   "execution_count": 627,
   "metadata": {},
   "outputs": [
    {
     "data": {
      "text/html": [
       "<div>\n",
       "<style scoped>\n",
       "    .dataframe tbody tr th:only-of-type {\n",
       "        vertical-align: middle;\n",
       "    }\n",
       "\n",
       "    .dataframe tbody tr th {\n",
       "        vertical-align: top;\n",
       "    }\n",
       "\n",
       "    .dataframe thead th {\n",
       "        text-align: right;\n",
       "    }\n",
       "</style>\n",
       "<table border=\"1\" class=\"dataframe\">\n",
       "  <thead>\n",
       "    <tr style=\"text-align: right;\">\n",
       "      <th></th>\n",
       "      <th>cq4</th>\n",
       "    </tr>\n",
       "    <tr>\n",
       "      <th>group</th>\n",
       "      <th></th>\n",
       "    </tr>\n",
       "  </thead>\n",
       "  <tbody>\n",
       "    <tr>\n",
       "      <th>a</th>\n",
       "      <td>3.818182</td>\n",
       "    </tr>\n",
       "    <tr>\n",
       "      <th>b</th>\n",
       "      <td>5.250000</td>\n",
       "    </tr>\n",
       "    <tr>\n",
       "      <th>c</th>\n",
       "      <td>3.642857</td>\n",
       "    </tr>\n",
       "  </tbody>\n",
       "</table>\n",
       "</div>"
      ],
      "text/plain": [
       "            cq4\n",
       "group          \n",
       "a      3.818182\n",
       "b      5.250000\n",
       "c      3.642857"
      ]
     },
     "execution_count": 627,
     "metadata": {},
     "output_type": "execute_result"
    }
   ],
   "source": [
    "cq4.groupby(by=\"group\").mean()"
   ]
  },
  {
   "cell_type": "markdown",
   "metadata": {},
   "source": [
    "**5th question: To better understand the model, would you prefer shorter or longer texts than those provided**"
   ]
  },
  {
   "cell_type": "code",
   "execution_count": 620,
   "metadata": {},
   "outputs": [],
   "source": [
    "cq5 = combine_dfs([pdaq, pdbq, pdcq], 'cq5')"
   ]
  },
  {
   "cell_type": "code",
   "execution_count": 644,
   "metadata": {},
   "outputs": [
    {
     "data": {
      "image/png": "[encoded data removed]",
      "text/plain": [
       "<Figure size 1008x432 with 3 Axes>"
      ]
     },
     "metadata": {
      "needs_background": "light"
     },
     "output_type": "display_data"
    }
   ],
   "source": [
    "plot_faced(data=cq5, col=\"group\", hue=\"group\", x=\"cq5\", width=14)"
   ]
  },
  {
   "cell_type": "code",
   "execution_count": 626,
   "metadata": {},
   "outputs": [
    {
     "data": {
      "text/html": [
       "<div>\n",
       "<style scoped>\n",
       "    .dataframe tbody tr th:only-of-type {\n",
       "        vertical-align: middle;\n",
       "    }\n",
       "\n",
       "    .dataframe tbody tr th {\n",
       "        vertical-align: top;\n",
       "    }\n",
       "\n",
       "    .dataframe thead th {\n",
       "        text-align: right;\n",
       "    }\n",
       "</style>\n",
       "<table border=\"1\" class=\"dataframe\">\n",
       "  <thead>\n",
       "    <tr style=\"text-align: right;\">\n",
       "      <th></th>\n",
       "      <th>cq5</th>\n",
       "    </tr>\n",
       "    <tr>\n",
       "      <th>group</th>\n",
       "      <th></th>\n",
       "    </tr>\n",
       "  </thead>\n",
       "  <tbody>\n",
       "    <tr>\n",
       "      <th>a</th>\n",
       "      <td>4.818182</td>\n",
       "    </tr>\n",
       "    <tr>\n",
       "      <th>b</th>\n",
       "      <td>5.833333</td>\n",
       "    </tr>\n",
       "    <tr>\n",
       "      <th>c</th>\n",
       "      <td>4.357143</td>\n",
       "    </tr>\n",
       "  </tbody>\n",
       "</table>\n",
       "</div>"
      ],
      "text/plain": [
       "            cq5\n",
       "group          \n",
       "a      4.818182\n",
       "b      5.833333\n",
       "c      4.357143"
      ]
     },
     "execution_count": 626,
     "metadata": {},
     "output_type": "execute_result"
    }
   ],
   "source": [
    "cq5.groupby(by=\"group\").mean()"
   ]
  },
  {
   "cell_type": "markdown",
   "metadata": {},
   "source": [
    "**Model mistakes question**"
   ]
  },
  {
   "cell_type": "markdown",
   "metadata": {},
   "source": [
    "*Have you spot some mistakes  of the model (places where it makes bad decisions)? If you did, try to describe them*"
   ]
  },
  {
   "cell_type": "code",
   "execution_count": 652,
   "metadata": {},
   "outputs": [],
   "source": [
    "feedbackcols = {\n",
    "    'Have you spot some mistakes  of the model (places where it makes bad decisions)? If you did, try to describe them ': 'model_behavior',\n",
    "    'Place for your feedback': 'feedback'\n",
    "}"
   ]
  },
  {
   "cell_type": "code",
   "execution_count": 659,
   "metadata": {},
   "outputs": [],
   "source": [
    "pdaf = pda[feedbackcols].rename(columns=feedbackcols)\n",
    "pdbf = pdb[feedbackcols].rename(columns=feedbackcols)\n",
    "pdcf = pdc[feedbackcols].rename(columns=feedbackcols)"
   ]
  },
  {
   "cell_type": "markdown",
   "metadata": {},
   "source": [
    "**Group A spotted model mistakes and feedback**"
   ]
  },
  {
   "cell_type": "code",
   "execution_count": 681,
   "metadata": {},
   "outputs": [
    {
     "name": "stdout",
     "output_type": "stream",
     "text": [
      "I don't quite understand why some words, such as ''community, American, to, this, other, public, is,\" etc. are classified as more \"atheist\" than ''christian''. For example, I think the word community is very often used referring to religion. \n",
      "\n",
      "Also, I don't understand why the word ''online'' is considered more christian than atheist.\n",
      "\n",
      "There are words in the model that I would consider as typical for christian texts, for example ''kingdom, Messiah, testament, babylonian'' whereas the model sees them as neutral.\n",
      "\n",
      "---\n",
      "From the explanations, it does not seem logical to use words such as \"the\", \"from\", \"by\", \"and\", \"other\", etc. to try and understand if a text is talking about a topic or another.\n",
      "---\n",
      "I would like to know if model works from beginnig, or collected some texts before. For example word \"Google\" was strongly atheistic, so model cathegorize this word during first four texts, or it has some previous search with occurrence of this word?\n",
      "\n",
      "---\n",
      "None\n",
      "---\n",
      "For example, I think testament don't have any value, but should be strong for christianity.\n",
      "'The', 'is' was strong for atheism but it have no value at all for the decision\n",
      "Also 'online' was strong for christianty, but have no value \n",
      "\n",
      "The problem is, then christian text is written in more secular way and the algorithm can't find the clear references.\n",
      "Also the model doesn't see irony :). The church of atheism for example\n",
      "---\n"
     ]
    }
   ],
   "source": [
    "indexes = pdaf[pdaf.model_behavior.notna()].model_behavior.index\n",
    "for i in indexes:\n",
    "    with pd.option_context('display.max_colwidth', 800):\n",
    "        print(pdaf.loc[i, \"model_behavior\"])\n",
    "        print('---')"
   ]
  },
  {
   "cell_type": "code",
   "execution_count": 684,
   "metadata": {},
   "outputs": [
    {
     "name": "stdout",
     "output_type": "stream",
     "text": [
      "I am not sure if the model tries to simulate human decisions or not. If yes, I'd say it's not very accurate. However, I don't know the statistics that's behind the model. \n",
      "\n",
      "I tried to answer all the questions, diagonally reading the examples, imagining I am some kind of AI.\n",
      "The times I answered ''I do not know'' equals times when I saw both words ''christian'' and ''atheist'' in the article and was not sure which is more prevalent.\n",
      "---\n",
      "- It would be nice to have a list of words which are used to determine a topic or another (since the IA has it present all along).\n",
      "- Even though the colour is represented to know how strong or weak a word is for a topic, it would be nice to have some other scale (for example numbers, so it can be more understandable if 4 \"and\" are stronger than 1 \"Church\".\n",
      "- It would be also nive if it was explained why some words are chosen for one topic or another (for example, the ones mentioned in the above question).\n",
      "---\n",
      "Interesting!\n",
      "---\n"
     ]
    }
   ],
   "source": [
    "indexes = pdaf[pdaf.feedback.notna()].feedback.index\n",
    "for i in indexes:\n",
    "    with pd.option_context('display.max_colwidth', 800):\n",
    "        print(pdaf.loc[i, \"feedback\"])\n",
    "        print('---')"
   ]
  },
  {
   "cell_type": "markdown",
   "metadata": {},
   "source": [
    "**Group B spotted model mistakes and feedback**"
   ]
  },
  {
   "cell_type": "code",
   "execution_count": 686,
   "metadata": {},
   "outputs": [
    {
     "name": "stdout",
     "output_type": "stream",
     "text": [
      "Sometimes the words used in the text would fall under the category of Christianity, however, the meaning was different and vice versa.\n",
      "---\n",
      "it considered words like \"and\" atheist, and did not put any value to words like \"Exodus\", or \"Flood\" in a religious context.\n",
      "---\n",
      "\"and\" is a very neutral word (I'd say) but it is attributed to be \"atheist\" for example\n",
      "---\n",
      "Religious = atheist => I think it should be under Christianity or at least neutral \n",
      "Dividing North Carolina as North = Christianity and Carolina = atheist \n",
      "and couple \"small\" words like \"and, as, much, ...\" they should probably be neutral I think \n",
      "---\n",
      "I haven't \n",
      "---\n",
      "No\n",
      "---\n"
     ]
    }
   ],
   "source": [
    "indexes = pdbf[pdbf.model_behavior.notna()].model_behavior.index\n",
    "for i in indexes:\n",
    "    with pd.option_context('display.max_colwidth', 800):\n",
    "        print(pdbf.loc[i, \"model_behavior\"])\n",
    "        print('---')"
   ]
  },
  {
   "cell_type": "code",
   "execution_count": 687,
   "metadata": {},
   "outputs": [
    {
     "name": "stdout",
     "output_type": "stream",
     "text": [
      "In order to better predict the decision, I need to know if there is a \"base\" value for the AI decision-making process, like \"all texts are atheist unless there are words like Bible, Christian, etc\" OR if the AI really chooses between two options and it is possible for it to not choose if it does not have enough data or both sides have scored similarly.\n",
      "---\n",
      "It would be great if a 'back' icon would be available in some of the pages, not to change the answers but to look back at the explanations. \n",
      "---\n",
      "Interesting keywords the model used that I have never thought would be relevant to detect a text bias towards atheism or Christianity. It will be interesting to compose a text manually based on neutral words from atheism related to Christianity and see the outcome!  \n",
      "---\n"
     ]
    }
   ],
   "source": [
    "indexes = pdbf[pdbf.feedback.notna()].feedback.index\n",
    "for i in indexes:\n",
    "    with pd.option_context('display.max_colwidth', 800):\n",
    "        print(pdbf.loc[i, \"feedback\"])\n",
    "        print('---')"
   ]
  },
  {
   "cell_type": "markdown",
   "metadata": {},
   "source": [
    "**Group C spotted model mistakes and feedback**"
   ]
  },
  {
   "cell_type": "code",
   "execution_count": 688,
   "metadata": {},
   "outputs": [],
   "source": [
    "indexes = pdcf[pdcf.model_behavior.notna()].model_behavior.index\n",
    "for i in indexes:\n",
    "    with pd.option_context('display.max_colwidth', 800):\n",
    "        print(pdcf.loc[i, \"model_behavior\"])\n",
    "        print('---')"
   ]
  },
  {
   "cell_type": "code",
   "execution_count": 689,
   "metadata": {},
   "outputs": [
    {
     "name": "stdout",
     "output_type": "stream",
     "text": [
      "I have seen, that the model is just computer algorithm, which was trained on some texts. It was visible mainly on some words, which are neutral - e.g. \"the\" was \"christian\" word, whereas \"of\", \"to\" were \"atheist\" words. Surprise for me was that words \"belief\" and \"believe\" were \"atheist\" words.\n",
      "---\n",
      "the website sometime scrolled up by itself without my effect in it.\n",
      "---\n"
     ]
    }
   ],
   "source": [
    "indexes = pdcf[pdcf.feedback.notna()].feedback.index\n",
    "for i in indexes:\n",
    "    with pd.option_context('display.max_colwidth', 800):\n",
    "        print(pdcf.loc[i, \"feedback\"])\n",
    "        print('---')"
   ]
  },
  {
   "cell_type": "markdown",
   "metadata": {},
   "source": [
    "---\n",
    "---"
   ]
  },
  {
   "cell_type": "markdown",
   "metadata": {},
   "source": [
    "## TODO: Technical background, does it have some effect on predictions or time?"
   ]
  }
 ],
 "metadata": {
  "kernelspec": {
   "display_name": "Python 3",
   "language": "python",
   "name": "python3"
  },
  "language_info": {
   "codemirror_mode": {
    "name": "ipython",
    "version": 3
   },
   "file_extension": ".py",
   "mimetype": "text/x-python",
   "name": "python",
   "nbconvert_exporter": "python",
   "pygments_lexer": "ipython3",
   "version": "3.8.5"
  }
 },
 "nbformat": 4,
 "nbformat_minor": 4
}
