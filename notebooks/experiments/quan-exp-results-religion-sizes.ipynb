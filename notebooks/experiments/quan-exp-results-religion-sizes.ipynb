{
 "cells": [
  {
   "cell_type": "markdown",
   "metadata": {},
   "source": [
    "# Quantitaive Experiment Evaluation of Religion Dataset with different summary sizes"
   ]
  },
  {
   "cell_type": "markdown",
   "metadata": {},
   "source": [
    "To get some inspiration, e.g. seaborn, plotly and brokeh looks great https://mode.com/blog/python-data-visualization-libraries/"
   ]
  },
  {
   "cell_type": "markdown",
   "metadata": {},
   "source": [
    "---"
   ]
  },
  {
   "cell_type": "code",
   "execution_count": 1,
   "metadata": {},
   "outputs": [],
   "source": [
    "import numpy as np\n",
    "import pandas as pd\n",
    "import seaborn as sns\n",
    "import matplotlib.pyplot as plt\n",
    "\n",
    "import os\n",
    "import sys\n",
    "import pickle\n",
    "\n",
    "%matplotlib inline"
   ]
  },
  {
   "cell_type": "markdown",
   "metadata": {},
   "source": [
    "---\n",
    "\n",
    "#### Load data from experiment"
   ]
  },
  {
   "cell_type": "code",
   "execution_count": 4,
   "metadata": {},
   "outputs": [],
   "source": [
    "DATA_PATH = \"../../data/experiments/quantitative-v2-religios-longer/latest/csv/\"\n",
    "FACTOR = 962  # constant"
   ]
  },
  {
   "cell_type": "code",
   "execution_count": 13,
   "metadata": {},
   "outputs": [],
   "source": [
    "def load_files(path_to_files):\n",
    "    files_it = os.scandir(path_to_files)\n",
    "    frames = {}\n",
    "    \n",
    "    for file in files_it:\n",
    "        if file.is_file() and file.name.startswith('fm-') and file.name.endswith('.csv'):\n",
    "            frame = pd.read_csv(file.path)\n",
    "            \n",
    "            version = file.name.replace('fm-', '')\n",
    "            version = version.replace('.csv', '')\n",
    "            _, _, senlen = version.split('-')\n",
    "            \n",
    "            senlen = int(senlen)\n",
    "            \n",
    "            if senlen in frames:\n",
    "                frames[senlen] = pd.concat([frames[senlen], frame])\n",
    "            else:\n",
    "                frames[senlen] = frame\n",
    "        \n",
    "    return dict(sorted(frames.items()))"
   ]
  },
  {
   "cell_type": "code",
   "execution_count": 14,
   "metadata": {},
   "outputs": [],
   "source": [
    "dfs = load_files(DATA_PATH)"
   ]
  },
  {
   "cell_type": "code",
   "execution_count": 18,
   "metadata": {},
   "outputs": [
    {
     "data": {
      "text/plain": [
       "6"
      ]
     },
     "execution_count": 18,
     "metadata": {},
     "output_type": "execute_result"
    }
   ],
   "source": [
    "len(dfs)"
   ]
  },
  {
   "cell_type": "code",
   "execution_count": 19,
   "metadata": {},
   "outputs": [
    {
     "data": {
      "text/plain": [
       "dict_keys([4, 6, 8, 10, 12, 14])"
      ]
     },
     "execution_count": 19,
     "metadata": {},
     "output_type": "execute_result"
    }
   ],
   "source": [
    "dfs.keys()"
   ]
  },
  {
   "cell_type": "markdown",
   "metadata": {},
   "source": [
    "---\n",
    "\n",
    "#### Describe"
   ]
  },
  {
   "cell_type": "code",
   "execution_count": 5,
   "metadata": {},
   "outputs": [],
   "source": [
    "dfs = dfs.reset_index(drop=True)"
   ]
  },
  {
   "cell_type": "code",
   "execution_count": 44,
   "metadata": {},
   "outputs": [
    {
     "data": {
      "text/plain": [
       "Index(['originalP', 'customSP', 'simpleSP', 'trueClass'], dtype='object')"
      ]
     },
     "execution_count": 44,
     "metadata": {},
     "output_type": "execute_result"
    }
   ],
   "source": [
    "dfs[4].columns"
   ]
  },
  {
   "cell_type": "markdown",
   "metadata": {},
   "source": [
    "Columns:\n",
    " - **originalP**: prediction of the examined model on the entire instance\n",
    " - **customSP**: prediction of the examined model on the custom (explanation) summaries\n",
    " - **simpleSP**: prediction of the examined model on the simple (TextRank) summaries without altering weights\n",
    " - **trueClass**: true class of the original instance, **(0 = atheism, 1 = christianity)**"
   ]
  },
  {
   "cell_type": "markdown",
   "metadata": {},
   "source": [
    "---\n",
    "\n",
    "#### Predictions"
   ]
  },
  {
   "cell_type": "code",
   "execution_count": 21,
   "metadata": {},
   "outputs": [],
   "source": [
    "# Normalize values to custom bounds https://stackoverflow.com/a/48109733/7875594\n",
    "def normalize(values, bounds):\n",
    "    if bounds['actual']['upper'] == bounds['actual']['lower']:\n",
    "        return values\n",
    "    return [bounds['desired']['lower'] + (abs(x) - bounds['actual']['lower']) * (bounds['desired']['upper'] - bounds['desired']['lower']) / \n",
    "            (bounds['actual']['upper'] - bounds['actual']['lower']) for x in values]\n",
    "\n",
    "\n",
    "def process_mean(df):\n",
    "    df = df.reset_index(drop=True)\n",
    "    \n",
    "    df['difSimple'] = df.originalP - df.simpleSP\n",
    "    df['difCustom'] = df.originalP - df.customSP\n",
    "    return df.difCustom.mean(), df.difSimple.mean()\n",
    "\n",
    "\n",
    "def process_mse(df):\n",
    "    \"\"\"\n",
    "    From input dataframe returns 2 MSE errors: (1) error from custom summaries, (2) error from simple summaries\n",
    "    \"\"\"\n",
    "    \n",
    "    df = df.reset_index(drop=True)\n",
    "    \n",
    "    # 1. normalize to (-1, 1)\n",
    "    bounds = {'actual': {'lower':0.0, 'upper':1.0}, 'desired':{'lower':-1, 'upper':1}}\n",
    "    df['normOriginal'] = normalize(df.originalP, bounds)\n",
    "    df['normCustom'] = normalize(df.customSP, bounds)\n",
    "    df['normTextRank'] = normalize(df.simpleSP, bounds)\n",
    "    \n",
    "    # 2. subtract textrank and custom predictions from model prediction on entire instance to get errors\n",
    "    df['errorTextRank'] = df.normOriginal - df.normTextRank\n",
    "    df['errorCustom'] = df.normOriginal - df.normCustom\n",
    "    \n",
    "    # 3. square errors\n",
    "    df['errorTextRank'] = df.errorTextRank ** 2\n",
    "    df['errorCustom'] = df.errorCustom ** 2\n",
    "    \n",
    "    # 4. find mean\n",
    "    arr = np.array([df.errorCustom.mean(), df.errorTextRank.mean()])\n",
    "    \n",
    "    # 5. square root errors\n",
    "    arr = np.sqrt(arr)\n",
    "    \n",
    "    return arr[0], arr[1]\n",
    "    \n",
    "    # squareroot\n",
    "    # mean of that\n",
    "    return df.difCustom.mean(), df.difSimple.mean()\n",
    "\n",
    "def process_arr(dfs, error_func):\n",
    "    data = {}\n",
    "    \n",
    "    for d in dfs.items():\n",
    "        ix = d[0]\n",
    "        if error_func == 'mse':\n",
    "            data[int(ix)] = process_mse(d[1])\n",
    "        elif error_func == 'mean':\n",
    "            data[int(ix)] = process_mean(d[1])\n",
    "    return data"
   ]
  },
  {
   "cell_type": "code",
   "execution_count": 22,
   "metadata": {},
   "outputs": [
    {
     "data": {
      "text/plain": [
       "{4: (0.6090496919571073, 0.5919774476770174),\n",
       " 6: (0.571760307846971, 0.5595643488513099),\n",
       " 8: (0.5495720095225056, 0.5484767412134677),\n",
       " 10: (0.5313449705286112, 0.531335237946862),\n",
       " 12: (0.5179546142591483, 0.5125810401104864),\n",
       " 14: (0.5059011896272103, 0.5022583061727023)}"
      ]
     },
     "execution_count": 22,
     "metadata": {},
     "output_type": "execute_result"
    }
   ],
   "source": [
    "process_arr(dfs, 'mse')"
   ]
  },
  {
   "cell_type": "code",
   "execution_count": 39,
   "metadata": {},
   "outputs": [
    {
     "data": {
      "text/html": [
       "<div>\n",
       "<style scoped>\n",
       "    .dataframe tbody tr th:only-of-type {\n",
       "        vertical-align: middle;\n",
       "    }\n",
       "\n",
       "    .dataframe tbody tr th {\n",
       "        vertical-align: top;\n",
       "    }\n",
       "\n",
       "    .dataframe thead th {\n",
       "        text-align: right;\n",
       "    }\n",
       "</style>\n",
       "<table border=\"1\" class=\"dataframe\">\n",
       "  <thead>\n",
       "    <tr style=\"text-align: right;\">\n",
       "      <th></th>\n",
       "      <th>senlen</th>\n",
       "      <th>custom</th>\n",
       "      <th>simple</th>\n",
       "    </tr>\n",
       "  </thead>\n",
       "  <tbody>\n",
       "    <tr>\n",
       "      <th>0</th>\n",
       "      <td>4</td>\n",
       "      <td>0.609050</td>\n",
       "      <td>0.591977</td>\n",
       "    </tr>\n",
       "    <tr>\n",
       "      <th>1</th>\n",
       "      <td>6</td>\n",
       "      <td>0.571760</td>\n",
       "      <td>0.559564</td>\n",
       "    </tr>\n",
       "    <tr>\n",
       "      <th>2</th>\n",
       "      <td>8</td>\n",
       "      <td>0.549572</td>\n",
       "      <td>0.548477</td>\n",
       "    </tr>\n",
       "    <tr>\n",
       "      <th>3</th>\n",
       "      <td>10</td>\n",
       "      <td>0.531345</td>\n",
       "      <td>0.531335</td>\n",
       "    </tr>\n",
       "    <tr>\n",
       "      <th>4</th>\n",
       "      <td>12</td>\n",
       "      <td>0.517955</td>\n",
       "      <td>0.512581</td>\n",
       "    </tr>\n",
       "    <tr>\n",
       "      <th>5</th>\n",
       "      <td>14</td>\n",
       "      <td>0.505901</td>\n",
       "      <td>0.502258</td>\n",
       "    </tr>\n",
       "  </tbody>\n",
       "</table>\n",
       "</div>"
      ],
      "text/plain": [
       "   senlen    custom    simple\n",
       "0       4  0.609050  0.591977\n",
       "1       6  0.571760  0.559564\n",
       "2       8  0.549572  0.548477\n",
       "3      10  0.531345  0.531335\n",
       "4      12  0.517955  0.512581\n",
       "5      14  0.505901  0.502258"
      ]
     },
     "execution_count": 39,
     "metadata": {},
     "output_type": "execute_result"
    }
   ],
   "source": [
    "df = pd.DataFrame(process_arr(dfs, 'mse')).T\n",
    "df = df.rename(columns={0:'custom', 1:'simple'})\n",
    "df = df.reset_index().rename(columns={'index':'senlen'})\n",
    "df"
   ]
  }
 ],
 "metadata": {
  "kernelspec": {
   "display_name": "Python 3",
   "language": "python",
   "name": "python3"
  },
  "language_info": {
   "codemirror_mode": {
    "name": "ipython",
    "version": 3
   },
   "file_extension": ".py",
   "mimetype": "text/x-python",
   "name": "python",
   "nbconvert_exporter": "python",
   "pygments_lexer": "ipython3",
   "version": "3.8.5"
  }
 },
 "nbformat": 4,
 "nbformat_minor": 4
}
